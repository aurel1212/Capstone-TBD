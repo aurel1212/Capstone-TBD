{
 "cells": [
  {
   "cell_type": "code",
   "execution_count": 1,
   "metadata": {
    "collapsed": true
   },
   "outputs": [],
   "source": [
    "import pandas as pd\n",
    "import datetime"
   ]
  },
  {
   "cell_type": "code",
   "execution_count": 2,
   "metadata": {
    "collapsed": false
   },
   "outputs": [
    {
     "data": {
      "text/plain": [
       "u'/Users/aurelperianu/Documents/Medicare_payments_classifier'"
      ]
     },
     "execution_count": 2,
     "metadata": {},
     "output_type": "execute_result"
    }
   ],
   "source": [
    "pwd"
   ]
  },
  {
   "cell_type": "code",
   "execution_count": 3,
   "metadata": {
    "collapsed": false
   },
   "outputs": [
    {
     "name": "stderr",
     "output_type": "stream",
     "text": [
      "/Users/aurelperianu/anaconda/lib/python2.7/site-packages/IPython/core/interactiveshell.py:2717: DtypeWarning: Columns (15,25,26,28,29,30,31,32,33,34,36,41) have mixed types. Specify dtype option on import or set low_memory=False.\n",
      "  interactivity=interactivity, compiler=compiler, result=result)\n"
     ]
    }
   ],
   "source": [
    "#data_all=pd.read_csv('Medicare_Data/2012MedicareProviderPayment.txt', delimiter='\\t')\n",
    "provider_all=pd.read_csv('Medicare_Data/Physician_Compare_2014/National_Downloadable_File.csv')"
   ]
  },
  {
   "cell_type": "code",
   "execution_count": 4,
   "metadata": {
    "collapsed": true
   },
   "outputs": [],
   "source": [
    "#fct rename columns lower letters; remove spaces\n",
    "def lower_columns(pdx):\n",
    "    cols = pdx.columns.tolist()\n",
    "    cols = [col.lower() for col in cols]\n",
    "    pdx.columns = cols\n",
    "    pdx.rename(columns=lambda x: x.strip().replace(\" \", \"_\"), inplace=True)\n",
    "    return pdx\n",
    "provider_all=lower_columns(provider_all)"
   ]
  },
  {
   "cell_type": "code",
   "execution_count": 5,
   "metadata": {
    "collapsed": true
   },
   "outputs": [],
   "source": [
    "#add zip code\n",
    "provider_all['zip_code']=provider_all['zip_code'].astype(str)\n",
    "provider_all['zip_base']=provider_all['zip_code'].str.slice(0,5)\n",
    "\n",
    "#data_all['nppes_provider_zip_base'].unique()"
   ]
  },
  {
   "cell_type": "code",
   "execution_count": 6,
   "metadata": {
    "collapsed": true
   },
   "outputs": [],
   "source": [
    "#provider_all['professional_accepts_medicare_assignment']=provider_all['professional_accepts_medicare_assignment'].astype(str)\n",
    "#provider_all['state']=provider_all['state'].astype(str)"
   ]
  },
  {
   "cell_type": "code",
   "execution_count": 7,
   "metadata": {
    "collapsed": false,
    "scrolled": true
   },
   "outputs": [],
   "source": [
    "#select WA state providers\n",
    "#provider_wa['professional_accepts_medicare_assignment'=='M']\n",
    "#provider_wa=provider_all[provider_all['state']=='WA']\n",
    "#provider_wa.info()"
   ]
  },
  {
   "cell_type": "code",
   "execution_count": 8,
   "metadata": {
    "collapsed": false
   },
   "outputs": [],
   "source": [
    "#provider_all['professional_accepts_medicare_assignment'].unique()"
   ]
  },
  {
   "cell_type": "code",
   "execution_count": 9,
   "metadata": {
    "collapsed": false,
    "scrolled": true
   },
   "outputs": [],
   "source": [
    "#provider_all.head().T"
   ]
  },
  {
   "cell_type": "code",
   "execution_count": 10,
   "metadata": {
    "collapsed": false
   },
   "outputs": [],
   "source": [
    "#drop columns\n",
    "drop_col=['professional_accepts_medicare_assignment','marker_of_address_line_2_suppression',\\\n",
    "         'participated_in_the_medicare_maintenance_of_certification_program.']\n",
    "def drop_columns(col_remove,pdx):\n",
    "    columns=list(pdx.columns.values)\n",
    "    for col in col_remove:\n",
    "        if col in columns:\n",
    "            pdx.drop(col, axis=1, inplace=True)\n",
    "    return pdx"
   ]
  },
  {
   "cell_type": "code",
   "execution_count": 11,
   "metadata": {
    "collapsed": true
   },
   "outputs": [],
   "source": [
    "provider_all=drop_columns(drop_col, provider_all)"
   ]
  },
  {
   "cell_type": "code",
   "execution_count": 12,
   "metadata": {
    "collapsed": false,
    "scrolled": true
   },
   "outputs": [
    {
     "name": "stdout",
     "output_type": "stream",
     "text": [
      "<class 'pandas.core.frame.DataFrame'>\n",
      "RangeIndex: 2247118 entries, 0 to 2247117\n",
      "Data columns (total 40 columns):\n",
      "npi                                                                  int64\n",
      "pac_id                                                               int64\n",
      "professional_enrollment_id                                           object\n",
      "last_name                                                            object\n",
      "first_name                                                           object\n",
      "middle_name                                                          object\n",
      "suffix                                                               object\n",
      "gender                                                               object\n",
      "credential                                                           object\n",
      "medical_school_name                                                  object\n",
      "graduation_year                                                      float64\n",
      "primary_specialty                                                    object\n",
      "secondary_specialty_1                                                object\n",
      "secondary_specialty_2                                                object\n",
      "secondary_specialty_3                                                object\n",
      "secondary_specialty_4                                                object\n",
      "all_secondary_specialties                                            object\n",
      "organization_legal_name                                              object\n",
      "group_practice_pac_id                                                float64\n",
      "number_of_group_practice_members                                     float64\n",
      "line_1_street_address                                                object\n",
      "line_2_street_address                                                object\n",
      "city                                                                 object\n",
      "state                                                                object\n",
      "zip_code                                                             object\n",
      "phone_number                                                         object\n",
      "hospital_affiliation_ccn_1                                           float64\n",
      "hospital_affiliation_lbn_1                                           object\n",
      "hospital_affiliation_ccn_2                                           object\n",
      "hospital_affiliation_lbn_2                                           object\n",
      "hospital_affiliation_ccn_3                                           object\n",
      "hospital_affiliation_lbn_3                                           object\n",
      "hospital_affiliation_ccn_4                                           object\n",
      "hospital_affiliation_lbn_4                                           object\n",
      "hospital_affiliation_ccn_5                                           float64\n",
      "hospital_affiliation_lbn_5                                           object\n",
      "reported_quality_measures                                            object\n",
      "used_electronic_health_records                                       object\n",
      "committed_to_heart_health_through_the_million_hearts®_initiative.    object\n",
      "zip_base                                                             object\n",
      "dtypes: float64(5), int64(2), object(33)\n",
      "memory usage: 685.8+ MB\n"
     ]
    }
   ],
   "source": [
    "provider_all.info()"
   ]
  },
  {
   "cell_type": "code",
   "execution_count": 13,
   "metadata": {
    "collapsed": false
   },
   "outputs": [],
   "source": [
    "#change column names\n",
    "#col_to_rename={'participated_in_the_medicare_maintenance_of_certification_program.':'medicare_certified'\\\n",
    "#               ,'committed_to_heart_health_through_the_million_hearts®_initiative.':'hearth_initiative'}\n",
    "#provider_all.rename(columns=col_to_rename, inplace=True)"
   ]
  },
  {
   "cell_type": "code",
   "execution_count": 14,
   "metadata": {
    "collapsed": true
   },
   "outputs": [],
   "source": [
    "#rename columns\n",
    "#fct remane columns\n",
    "def name_columns(value_old,value_new,pdx):\n",
    "    cols = pdx.columns.tolist()\n",
    "    cols = [col.replace(value_old,value_new) for col in cols]\n",
    "    pdx.columns = cols\n",
    "    return pdx\n",
    "provider_all=name_columns('professional_enrollment_id', 'prof_id', provider_all)\n",
    "provider_all=name_columns('hospital_affiliation', 'related_org', provider_all)\n",
    "provider_all=name_columns('secondary_specialty', 'specialty', provider_all)\n",
    "#provider_all=name_columns('participated_in_the_medicare_maintenance_of_certification_program.', 'medicare_certified', provider_all)\n",
    "provider_all=name_columns('committed_to_heart_health_through_the_million_hearts®_initiative.', 'hearth_initiative', provider_all)\n"
   ]
  },
  {
   "cell_type": "code",
   "execution_count": 15,
   "metadata": {
    "collapsed": true
   },
   "outputs": [],
   "source": [
    "provider_all=name_columns('number_of_group_practice_members', 'practice_size', provider_all)\n",
    "provider_all=name_columns('all_secondary_specialties', 'secondary_spec', provider_all)\n",
    "provider_all=name_columns('reported_quality_measures', 'quality_measures', provider_all)\n",
    "provider_all=name_columns('used_electronic_health_records', 'electronic_measures', provider_all)\n",
    "provider_all=name_columns('organization_legal_name', 'org_name', provider_all)\n",
    "provider_all=name_columns('line_1_street_address', 'address', provider_all)\n",
    "provider_all=name_columns('line_2_street_address', 'address_extra', provider_all)\n",
    "provider_all=name_columns('group_practice_pac_id', 'group_pac_id', provider_all)\n",
    "provider_all=name_columns('medical_school_name', 'medical_school', provider_all)\n"
   ]
  },
  {
   "cell_type": "code",
   "execution_count": 16,
   "metadata": {
    "collapsed": true
   },
   "outputs": [],
   "source": [
    "#str_cols = provider_all.columns[provider_all.dtypes==object]\n",
    "#provider_all[str_cols] = provider_all[str_cols].fillna('.')\n",
    "\n",
    "\n",
    "#provider_all.fillna(0,inplace=True)"
   ]
  },
  {
   "cell_type": "code",
   "execution_count": 17,
   "metadata": {
    "collapsed": false
   },
   "outputs": [],
   "source": [
    "#convert columns to numeric\n",
    "#provider_all=provider_all.apply(lambda x: pd.to_numeric(x, errors='ignore'))\n",
    "\n",
    "numeric=['npi','pac_id','graduation_year','group_pac_id','practice_size','related_org_ccn_1','related_org_ccn_2','related_org_ccn_3',\\\n",
    "        'related_org_ccn_4','related_org_ccn_5','zip_base']\n",
    "\n",
    "provider_all[numeric] = provider_all[numeric].apply(pd.to_numeric, errors='coerce')\n",
    "\n",
    "#pd.to_numeric(s, errors='coerce')"
   ]
  },
  {
   "cell_type": "code",
   "execution_count": 18,
   "metadata": {
    "collapsed": false
   },
   "outputs": [],
   "source": [
    "#fill all NAN\n",
    "provider_all=provider_all.replace(['nan','NaN'], ['.','0'])\n",
    "provider_all.fillna(0,inplace=True)\n",
    "\n",
    "#convert columns to string\n",
    "# non_numeric=['prof_id','last_name','first_name','middle_name','suffix','gender','credential','medical_school','primary_specialty',\\\n",
    "#              'specialty_1','specialty_2','specialty_3','specialty_4','secondary_spec','org_name','address','address_extra','city',\\\n",
    "#              'state','zip_code','phone_number','related_org_lbn_1','related_org_lbn_2','related_org_lbn_3','related_org_lbn_4',\\\n",
    "#              'related_org_lbn_5','quality_measures','electronic_measures','hearth_initiative']\n",
    "non_numeric= provider_all.columns[provider_all.dtypes==object]\n",
    "provider_all[non_numeric] = provider_all[non_numeric].astype(str)\n",
    "provider_all['group_pac_id'] = provider_all['group_pac_id'].astype(int)\n",
    "#provider_all=provider_all.replace('nan', '.')"
   ]
  },
  {
   "cell_type": "code",
   "execution_count": 19,
   "metadata": {
    "collapsed": false
   },
   "outputs": [],
   "source": [
    "#provider_all.info()"
   ]
  },
  {
   "cell_type": "code",
   "execution_count": 20,
   "metadata": {
    "collapsed": false,
    "scrolled": false
   },
   "outputs": [],
   "source": [
    "#provider_all.head(200).T"
   ]
  },
  {
   "cell_type": "code",
   "execution_count": 21,
   "metadata": {
    "collapsed": false
   },
   "outputs": [],
   "source": [
    "#set an index\n",
    "provider_all=provider_all.set_index(provider_all.npi)"
   ]
  },
  {
   "cell_type": "code",
   "execution_count": 22,
   "metadata": {
    "collapsed": false
   },
   "outputs": [],
   "source": [
    "#graduation year-convert to years of experience\n",
    "\n",
    "def f(row):\n",
    "    now = datetime.datetime.now()\n",
    "    curr_year=now.year\n",
    "    if row == 0:\n",
    "        val = 0\n",
    "    else: \n",
    "        val=curr_year-row\n",
    "    return val\n",
    "provider_all['years_experience'] = provider_all['graduation_year'].apply(f)\n"
   ]
  },
  {
   "cell_type": "code",
   "execution_count": 23,
   "metadata": {
    "collapsed": false
   },
   "outputs": [],
   "source": [
    "org_cols=['prof_id',\n",
    " 'org_name',\n",
    " 'group_pac_id',\n",
    " 'practice_size',\n",
    " 'address',\n",
    " 'address_extra',\n",
    " 'city',\n",
    " 'state',\n",
    " 'zip_code',\n",
    " 'phone_number',\n",
    " #'related_org_ccn_1',\n",
    " 'related_org_lbn_1',\n",
    " #'related_org_ccn_2',\n",
    " 'related_org_lbn_2',\n",
    " #'related_org_ccn_3',\n",
    " 'related_org_lbn_3',\n",
    " #'related_org_ccn_4',\n",
    " 'related_org_lbn_4',\n",
    " #'related_org_ccn_5',\n",
    " 'related_org_lbn_5',\n",
    " 'zip_base']\n",
    "#drop group columns\n",
    "org_all=provider_all[org_cols]\n",
    "\n",
    "#provider_all.info()\n",
    "\n",
    "# second columns drop for group\n",
    "# org_cols2=[\n",
    "#  'prof_id',\n",
    "#  'address',\n",
    "#  'address_extra',\n",
    "#  'city',\n",
    "#  'zip_code',\n",
    "#  'phone_number',\n",
    "#  #'related_org_ccn_1',\n",
    "#  'related_org_lbn_1',\n",
    "# #'related_org_ccn_2',\n",
    "#  'related_org_lbn_2',\n",
    "#  #'related_org_ccn_3',\n",
    "#  'related_org_lbn_3',\n",
    "#  #'related_org_ccn_4',\n",
    "#  'related_org_lbn_4',\n",
    "#  #'related_org_ccn_5',\n",
    "#  'related_org_lbn_5',\n",
    "#  'zip_base']\n",
    "\n",
    "#org_all=drop_columns(org_cols2, org_all)\n",
    "\n"
   ]
  },
  {
   "cell_type": "code",
   "execution_count": 24,
   "metadata": {
    "collapsed": false
   },
   "outputs": [
    {
     "name": "stdout",
     "output_type": "stream",
     "text": [
      "['prof_id', 'org_name', 'group_pac_id', 'practice_size', 'address', 'address_extra', 'city', 'state', 'zip_code', 'phone_number', 'related_org_lbn_1', 'related_org_lbn_2', 'related_org_lbn_3', 'related_org_lbn_4', 'related_org_lbn_5', 'zip_base']\n"
     ]
    }
   ],
   "source": [
    "print org_cols"
   ]
  },
  {
   "cell_type": "code",
   "execution_count": 25,
   "metadata": {
    "collapsed": false
   },
   "outputs": [],
   "source": [
    "provider_drop = [x for x in org_cols if x != 'state']\n",
    "# provider_drop=org_cols.remove('state')\n",
    "#print provider_drop\n",
    "provider_all=drop_columns(provider_drop, provider_all)\n",
    "specialty_cols=[\n",
    "    'specialty_1',\n",
    "    'specialty_2',\n",
    "    'specialty_3',\n",
    "    'specialty_4']\n",
    "provider_all=drop_columns(specialty_cols, provider_all)"
   ]
  },
  {
   "cell_type": "code",
   "execution_count": 26,
   "metadata": {
    "collapsed": false
   },
   "outputs": [
    {
     "data": {
      "text/plain": [
       "(2247118, 16)"
      ]
     },
     "execution_count": 26,
     "metadata": {},
     "output_type": "execute_result"
    }
   ],
   "source": [
    "org_all.shape"
   ]
  },
  {
   "cell_type": "code",
   "execution_count": 27,
   "metadata": {
    "collapsed": false
   },
   "outputs": [
    {
     "data": {
      "text/plain": [
       "(2247118, 22)"
      ]
     },
     "execution_count": 27,
     "metadata": {},
     "output_type": "execute_result"
    }
   ],
   "source": [
    "provider_all.shape"
   ]
  },
  {
   "cell_type": "code",
   "execution_count": 28,
   "metadata": {
    "collapsed": false
   },
   "outputs": [
    {
     "name": "stdout",
     "output_type": "stream",
     "text": [
      "<class 'pandas.core.frame.DataFrame'>\n",
      "Int64Index: 2247118 entries, 1821199704 to 1023405859\n",
      "Data columns (total 22 columns):\n",
      "npi                    int64\n",
      "pac_id                 int64\n",
      "last_name              object\n",
      "first_name             object\n",
      "middle_name            object\n",
      "suffix                 object\n",
      "gender                 object\n",
      "credential             object\n",
      "medical_school         object\n",
      "graduation_year        float64\n",
      "primary_specialty      object\n",
      "secondary_spec         object\n",
      "state                  object\n",
      "related_org_ccn_1      float64\n",
      "related_org_ccn_2      float64\n",
      "related_org_ccn_3      float64\n",
      "related_org_ccn_4      float64\n",
      "related_org_ccn_5      float64\n",
      "quality_measures       object\n",
      "electronic_measures    object\n",
      "hearth_initiative      object\n",
      "years_experience       float64\n",
      "dtypes: float64(7), int64(2), object(13)\n",
      "memory usage: 394.3+ MB\n"
     ]
    }
   ],
   "source": [
    "provider_all.info()"
   ]
  },
  {
   "cell_type": "code",
   "execution_count": 29,
   "metadata": {
    "collapsed": false
   },
   "outputs": [],
   "source": [
    "#remove duplicates for provider and group files\n",
    "org_all=org_all.drop_duplicates(subset='group_pac_id', keep='last')\n",
    "\n",
    "#provider_all=provider_all.drop_duplicates(keep='last')\n",
    "provider_all=provider_all.drop_duplicates(subset=['npi','last_name'],keep='last')\n",
    "#org_all['org_name'].value_counts()"
   ]
  },
  {
   "cell_type": "code",
   "execution_count": 30,
   "metadata": {
    "collapsed": false
   },
   "outputs": [
    {
     "data": {
      "text/html": [
       "<div>\n",
       "<table border=\"1\" class=\"dataframe\">\n",
       "  <thead>\n",
       "    <tr style=\"text-align: right;\">\n",
       "      <th></th>\n",
       "      <th>prof_id</th>\n",
       "      <th>org_name</th>\n",
       "      <th>group_pac_id</th>\n",
       "      <th>practice_size</th>\n",
       "      <th>address</th>\n",
       "      <th>address_extra</th>\n",
       "      <th>city</th>\n",
       "      <th>state</th>\n",
       "      <th>zip_code</th>\n",
       "      <th>phone_number</th>\n",
       "      <th>related_org_lbn_1</th>\n",
       "      <th>related_org_lbn_2</th>\n",
       "      <th>related_org_lbn_3</th>\n",
       "      <th>related_org_lbn_4</th>\n",
       "      <th>related_org_lbn_5</th>\n",
       "      <th>zip_base</th>\n",
       "    </tr>\n",
       "    <tr>\n",
       "      <th>npi</th>\n",
       "      <th></th>\n",
       "      <th></th>\n",
       "      <th></th>\n",
       "      <th></th>\n",
       "      <th></th>\n",
       "      <th></th>\n",
       "      <th></th>\n",
       "      <th></th>\n",
       "      <th></th>\n",
       "      <th></th>\n",
       "      <th></th>\n",
       "      <th></th>\n",
       "      <th></th>\n",
       "      <th></th>\n",
       "      <th></th>\n",
       "      <th></th>\n",
       "    </tr>\n",
       "  </thead>\n",
       "  <tbody>\n",
       "    <tr>\n",
       "      <th>1992864284</th>\n",
       "      <td>I20100625000079</td>\n",
       "      <td>SARACENO CHIROPRACTIC PLLC</td>\n",
       "      <td>8325366313</td>\n",
       "      <td>1.0</td>\n",
       "      <td>83 ROUNDTREE DR</td>\n",
       "      <td>0</td>\n",
       "      <td>PLAINVIEW</td>\n",
       "      <td>NY</td>\n",
       "      <td>118034011</td>\n",
       "      <td>5166221113.0</td>\n",
       "      <td>0</td>\n",
       "      <td>0</td>\n",
       "      <td>0</td>\n",
       "      <td>0</td>\n",
       "      <td>0</td>\n",
       "      <td>11803</td>\n",
       "    </tr>\n",
       "    <tr>\n",
       "      <th>1245235357</th>\n",
       "      <td>I20101214000030</td>\n",
       "      <td>BRIGGSY, P.C.</td>\n",
       "      <td>3173515152</td>\n",
       "      <td>1.0</td>\n",
       "      <td>264 HOGAN BLVD</td>\n",
       "      <td>0</td>\n",
       "      <td>MILL HALL</td>\n",
       "      <td>PA</td>\n",
       "      <td>177511907</td>\n",
       "      <td>5707485099.0</td>\n",
       "      <td>0</td>\n",
       "      <td>0</td>\n",
       "      <td>0</td>\n",
       "      <td>0</td>\n",
       "      <td>0</td>\n",
       "      <td>17751</td>\n",
       "    </tr>\n",
       "    <tr>\n",
       "      <th>1942385307</th>\n",
       "      <td>I20120522000836</td>\n",
       "      <td>DAVID K. TAYLOR, CHIROPRACTOR, INC</td>\n",
       "      <td>3476716176</td>\n",
       "      <td>1.0</td>\n",
       "      <td>16450 -2 S TAMIAMI TRAIL</td>\n",
       "      <td>0</td>\n",
       "      <td>FORT MYERS</td>\n",
       "      <td>FL</td>\n",
       "      <td>339085307</td>\n",
       "      <td>2394333898.0</td>\n",
       "      <td>0</td>\n",
       "      <td>0</td>\n",
       "      <td>0</td>\n",
       "      <td>0</td>\n",
       "      <td>0</td>\n",
       "      <td>33908</td>\n",
       "    </tr>\n",
       "    <tr>\n",
       "      <th>1073628392</th>\n",
       "      <td>I20101111001312</td>\n",
       "      <td>MICHAEL KIMMELMAN OD PA</td>\n",
       "      <td>8729271598</td>\n",
       "      <td>1.0</td>\n",
       "      <td>2279 S UNIVERSITY DR</td>\n",
       "      <td>0</td>\n",
       "      <td>DAVIE</td>\n",
       "      <td>FL</td>\n",
       "      <td>333245828</td>\n",
       "      <td>9544730100.0</td>\n",
       "      <td>0</td>\n",
       "      <td>0</td>\n",
       "      <td>0</td>\n",
       "      <td>0</td>\n",
       "      <td>0</td>\n",
       "      <td>33324</td>\n",
       "    </tr>\n",
       "    <tr>\n",
       "      <th>1235290263</th>\n",
       "      <td>I20070319000362</td>\n",
       "      <td>HINRICHS CHIROPRACTIC INC.</td>\n",
       "      <td>9638272339</td>\n",
       "      <td>1.0</td>\n",
       "      <td>11304 DAVENPORT ST</td>\n",
       "      <td>0</td>\n",
       "      <td>OMAHA</td>\n",
       "      <td>NE</td>\n",
       "      <td>681542630</td>\n",
       "      <td>4029345830.0</td>\n",
       "      <td>0</td>\n",
       "      <td>0</td>\n",
       "      <td>0</td>\n",
       "      <td>0</td>\n",
       "      <td>0</td>\n",
       "      <td>68154</td>\n",
       "    </tr>\n",
       "  </tbody>\n",
       "</table>\n",
       "</div>"
      ],
      "text/plain": [
       "                    prof_id                            org_name  group_pac_id  \\\n",
       "npi                                                                             \n",
       "1992864284  I20100625000079          SARACENO CHIROPRACTIC PLLC    8325366313   \n",
       "1245235357  I20101214000030                       BRIGGSY, P.C.    3173515152   \n",
       "1942385307  I20120522000836  DAVID K. TAYLOR, CHIROPRACTOR, INC    3476716176   \n",
       "1073628392  I20101111001312             MICHAEL KIMMELMAN OD PA    8729271598   \n",
       "1235290263  I20070319000362          HINRICHS CHIROPRACTIC INC.    9638272339   \n",
       "\n",
       "            practice_size                   address address_extra        city  \\\n",
       "npi                                                                             \n",
       "1992864284            1.0           83 ROUNDTREE DR             0   PLAINVIEW   \n",
       "1245235357            1.0            264 HOGAN BLVD             0   MILL HALL   \n",
       "1942385307            1.0  16450 -2 S TAMIAMI TRAIL             0  FORT MYERS   \n",
       "1073628392            1.0      2279 S UNIVERSITY DR             0       DAVIE   \n",
       "1235290263            1.0        11304 DAVENPORT ST             0       OMAHA   \n",
       "\n",
       "           state   zip_code  phone_number related_org_lbn_1 related_org_lbn_2  \\\n",
       "npi                                                                             \n",
       "1992864284    NY  118034011  5166221113.0                 0                 0   \n",
       "1245235357    PA  177511907  5707485099.0                 0                 0   \n",
       "1942385307    FL  339085307  2394333898.0                 0                 0   \n",
       "1073628392    FL  333245828  9544730100.0                 0                 0   \n",
       "1235290263    NE  681542630  4029345830.0                 0                 0   \n",
       "\n",
       "           related_org_lbn_3 related_org_lbn_4 related_org_lbn_5  zip_base  \n",
       "npi                                                                         \n",
       "1992864284                 0                 0                 0     11803  \n",
       "1245235357                 0                 0                 0     17751  \n",
       "1942385307                 0                 0                 0     33908  \n",
       "1073628392                 0                 0                 0     33324  \n",
       "1235290263                 0                 0                 0     68154  "
      ]
     },
     "execution_count": 30,
     "metadata": {},
     "output_type": "execute_result"
    }
   ],
   "source": [
    "org_all.head()"
   ]
  },
  {
   "cell_type": "code",
   "execution_count": 31,
   "metadata": {
    "collapsed": false
   },
   "outputs": [
    {
     "data": {
      "text/plain": [
       "(178871, 16)"
      ]
     },
     "execution_count": 31,
     "metadata": {},
     "output_type": "execute_result"
    }
   ],
   "source": [
    "org_all.shape"
   ]
  },
  {
   "cell_type": "code",
   "execution_count": 32,
   "metadata": {
    "collapsed": false
   },
   "outputs": [
    {
     "data": {
      "text/plain": [
       "(1023054, 22)"
      ]
     },
     "execution_count": 32,
     "metadata": {},
     "output_type": "execute_result"
    }
   ],
   "source": [
    "provider_all.shape"
   ]
  },
  {
   "cell_type": "code",
   "execution_count": 54,
   "metadata": {
    "collapsed": false
   },
   "outputs": [
    {
     "data": {
      "text/html": [
       "<div>\n",
       "<table border=\"1\" class=\"dataframe\">\n",
       "  <thead>\n",
       "    <tr style=\"text-align: right;\">\n",
       "      <th>npi</th>\n",
       "      <th>1003062076</th>\n",
       "    </tr>\n",
       "  </thead>\n",
       "  <tbody>\n",
       "    <tr>\n",
       "      <th>npi</th>\n",
       "      <td>1003062076</td>\n",
       "    </tr>\n",
       "    <tr>\n",
       "      <th>pac_id</th>\n",
       "      <td>4183898281</td>\n",
       "    </tr>\n",
       "    <tr>\n",
       "      <th>last_name</th>\n",
       "      <td>SPOJA</td>\n",
       "    </tr>\n",
       "    <tr>\n",
       "      <th>first_name</th>\n",
       "      <td>CHRISTOFFER</td>\n",
       "    </tr>\n",
       "    <tr>\n",
       "      <th>middle_name</th>\n",
       "      <td>AARON</td>\n",
       "    </tr>\n",
       "    <tr>\n",
       "      <th>suffix</th>\n",
       "      <td>0</td>\n",
       "    </tr>\n",
       "    <tr>\n",
       "      <th>gender</th>\n",
       "      <td>M</td>\n",
       "    </tr>\n",
       "    <tr>\n",
       "      <th>credential</th>\n",
       "      <td>0</td>\n",
       "    </tr>\n",
       "    <tr>\n",
       "      <th>medical_school</th>\n",
       "      <td>OTHER</td>\n",
       "    </tr>\n",
       "    <tr>\n",
       "      <th>graduation_year</th>\n",
       "      <td>2006</td>\n",
       "    </tr>\n",
       "    <tr>\n",
       "      <th>primary_specialty</th>\n",
       "      <td>INTERNAL MEDICINE</td>\n",
       "    </tr>\n",
       "    <tr>\n",
       "      <th>secondary_spec</th>\n",
       "      <td>0</td>\n",
       "    </tr>\n",
       "    <tr>\n",
       "      <th>state</th>\n",
       "      <td>MT</td>\n",
       "    </tr>\n",
       "    <tr>\n",
       "      <th>related_org_ccn_1</th>\n",
       "      <td>130013</td>\n",
       "    </tr>\n",
       "    <tr>\n",
       "      <th>related_org_ccn_2</th>\n",
       "      <td>271347</td>\n",
       "    </tr>\n",
       "    <tr>\n",
       "      <th>related_org_ccn_3</th>\n",
       "      <td>270017</td>\n",
       "    </tr>\n",
       "    <tr>\n",
       "      <th>related_org_ccn_4</th>\n",
       "      <td>270049</td>\n",
       "    </tr>\n",
       "    <tr>\n",
       "      <th>related_org_ccn_5</th>\n",
       "      <td>530012</td>\n",
       "    </tr>\n",
       "    <tr>\n",
       "      <th>quality_measures</th>\n",
       "      <td>Y</td>\n",
       "    </tr>\n",
       "    <tr>\n",
       "      <th>electronic_measures</th>\n",
       "      <td>0</td>\n",
       "    </tr>\n",
       "    <tr>\n",
       "      <th>hearth_initiative</th>\n",
       "      <td>0</td>\n",
       "    </tr>\n",
       "    <tr>\n",
       "      <th>years_experience</th>\n",
       "      <td>11</td>\n",
       "    </tr>\n",
       "  </tbody>\n",
       "</table>\n",
       "</div>"
      ],
      "text/plain": [
       "npi                         1003062076\n",
       "npi                         1003062076\n",
       "pac_id                      4183898281\n",
       "last_name                        SPOJA\n",
       "first_name                 CHRISTOFFER\n",
       "middle_name                      AARON\n",
       "suffix                               0\n",
       "gender                               M\n",
       "credential                           0\n",
       "medical_school                   OTHER\n",
       "graduation_year                   2006\n",
       "primary_specialty    INTERNAL MEDICINE\n",
       "secondary_spec                       0\n",
       "state                               MT\n",
       "related_org_ccn_1               130013\n",
       "related_org_ccn_2               271347\n",
       "related_org_ccn_3               270017\n",
       "related_org_ccn_4               270049\n",
       "related_org_ccn_5               530012\n",
       "quality_measures                     Y\n",
       "electronic_measures                  0\n",
       "hearth_initiative                    0\n",
       "years_experience                    11"
      ]
     },
     "execution_count": 54,
     "metadata": {},
     "output_type": "execute_result"
    }
   ],
   "source": [
    "provider_all[provider_all['npi']==1003062076].head().T"
   ]
  },
  {
   "cell_type": "code",
   "execution_count": 34,
   "metadata": {
    "collapsed": false
   },
   "outputs": [],
   "source": [
    "#DO NOT DELETE - REFERENCE DUPLICATES SPECIALITIES\n",
    "#provider_all[provider_all['npi']==1073536074].head().T"
   ]
  },
  {
   "cell_type": "code",
   "execution_count": 35,
   "metadata": {
    "collapsed": false,
    "scrolled": true
   },
   "outputs": [],
   "source": [
    "#select WA data\n",
    "wa_provider=provider_all[provider_all['state']=='WA']\n",
    "wa_org=org_all[org_all['state']=='WA']"
   ]
  },
  {
   "cell_type": "code",
   "execution_count": 36,
   "metadata": {
    "collapsed": false,
    "scrolled": true
   },
   "outputs": [],
   "source": [
    "#save WA data\n",
    "wa_provider.to_pickle('wa_provider_pickle.pkl') \n",
    "wa_org.to_pickle('wa_org_pickle.pkl') "
   ]
  },
  {
   "cell_type": "code",
   "execution_count": 37,
   "metadata": {
    "collapsed": true
   },
   "outputs": [],
   "source": [
    "#load from pickle\n",
    "wa_provider= pd.read_pickle('wa_provider_pickle.pkl')\n",
    "wa_org= pd.read_pickle('wa_org_pickle.pkl')"
   ]
  },
  {
   "cell_type": "code",
   "execution_count": 38,
   "metadata": {
    "collapsed": false
   },
   "outputs": [
    {
     "data": {
      "text/html": [
       "<div>\n",
       "<table border=\"1\" class=\"dataframe\">\n",
       "  <thead>\n",
       "    <tr style=\"text-align: right;\">\n",
       "      <th></th>\n",
       "      <th>npi</th>\n",
       "      <th>pac_id</th>\n",
       "      <th>last_name</th>\n",
       "      <th>first_name</th>\n",
       "      <th>middle_name</th>\n",
       "      <th>suffix</th>\n",
       "      <th>gender</th>\n",
       "      <th>credential</th>\n",
       "      <th>medical_school</th>\n",
       "      <th>graduation_year</th>\n",
       "      <th>...</th>\n",
       "      <th>state</th>\n",
       "      <th>related_org_ccn_1</th>\n",
       "      <th>related_org_ccn_2</th>\n",
       "      <th>related_org_ccn_3</th>\n",
       "      <th>related_org_ccn_4</th>\n",
       "      <th>related_org_ccn_5</th>\n",
       "      <th>quality_measures</th>\n",
       "      <th>electronic_measures</th>\n",
       "      <th>hearth_initiative</th>\n",
       "      <th>years_experience</th>\n",
       "    </tr>\n",
       "    <tr>\n",
       "      <th>npi</th>\n",
       "      <th></th>\n",
       "      <th></th>\n",
       "      <th></th>\n",
       "      <th></th>\n",
       "      <th></th>\n",
       "      <th></th>\n",
       "      <th></th>\n",
       "      <th></th>\n",
       "      <th></th>\n",
       "      <th></th>\n",
       "      <th></th>\n",
       "      <th></th>\n",
       "      <th></th>\n",
       "      <th></th>\n",
       "      <th></th>\n",
       "      <th></th>\n",
       "      <th></th>\n",
       "      <th></th>\n",
       "      <th></th>\n",
       "      <th></th>\n",
       "      <th></th>\n",
       "    </tr>\n",
       "  </thead>\n",
       "  <tbody>\n",
       "    <tr>\n",
       "      <th>1922016203</th>\n",
       "      <td>1922016203</td>\n",
       "      <td>648178822</td>\n",
       "      <td>ULLMAN</td>\n",
       "      <td>RONALD</td>\n",
       "      <td>H</td>\n",
       "      <td>0</td>\n",
       "      <td>M</td>\n",
       "      <td>MD</td>\n",
       "      <td>WASHINGTON UNIVERSITY SCHOOL OF MEDICINE</td>\n",
       "      <td>1967.0</td>\n",
       "      <td>...</td>\n",
       "      <td>WA</td>\n",
       "      <td>0.0</td>\n",
       "      <td>0.0</td>\n",
       "      <td>0.0</td>\n",
       "      <td>0.0</td>\n",
       "      <td>0.0</td>\n",
       "      <td>0</td>\n",
       "      <td>0</td>\n",
       "      <td>0</td>\n",
       "      <td>50.0</td>\n",
       "    </tr>\n",
       "    <tr>\n",
       "      <th>1376722587</th>\n",
       "      <td>1376722587</td>\n",
       "      <td>42391252</td>\n",
       "      <td>REARDON</td>\n",
       "      <td>THOMAS</td>\n",
       "      <td>G</td>\n",
       "      <td>0</td>\n",
       "      <td>M</td>\n",
       "      <td>0</td>\n",
       "      <td>OTHER</td>\n",
       "      <td>1989.0</td>\n",
       "      <td>...</td>\n",
       "      <td>WA</td>\n",
       "      <td>0.0</td>\n",
       "      <td>0.0</td>\n",
       "      <td>0.0</td>\n",
       "      <td>0.0</td>\n",
       "      <td>0.0</td>\n",
       "      <td>0</td>\n",
       "      <td>0</td>\n",
       "      <td>0</td>\n",
       "      <td>28.0</td>\n",
       "    </tr>\n",
       "    <tr>\n",
       "      <th>1942253190</th>\n",
       "      <td>1942253190</td>\n",
       "      <td>4688610686</td>\n",
       "      <td>WEAVER</td>\n",
       "      <td>MARGUERITE</td>\n",
       "      <td>0</td>\n",
       "      <td>0</td>\n",
       "      <td>F</td>\n",
       "      <td>CSW</td>\n",
       "      <td>OTHER</td>\n",
       "      <td>1994.0</td>\n",
       "      <td>...</td>\n",
       "      <td>WA</td>\n",
       "      <td>0.0</td>\n",
       "      <td>0.0</td>\n",
       "      <td>0.0</td>\n",
       "      <td>0.0</td>\n",
       "      <td>0.0</td>\n",
       "      <td>0</td>\n",
       "      <td>0</td>\n",
       "      <td>0</td>\n",
       "      <td>23.0</td>\n",
       "    </tr>\n",
       "    <tr>\n",
       "      <th>1285631317</th>\n",
       "      <td>1285631317</td>\n",
       "      <td>2365348307</td>\n",
       "      <td>GRAY</td>\n",
       "      <td>DOUGLAS</td>\n",
       "      <td>0</td>\n",
       "      <td>0</td>\n",
       "      <td>M</td>\n",
       "      <td>0</td>\n",
       "      <td>OTHER</td>\n",
       "      <td>1976.0</td>\n",
       "      <td>...</td>\n",
       "      <td>WA</td>\n",
       "      <td>0.0</td>\n",
       "      <td>0.0</td>\n",
       "      <td>0.0</td>\n",
       "      <td>0.0</td>\n",
       "      <td>0.0</td>\n",
       "      <td>0</td>\n",
       "      <td>0</td>\n",
       "      <td>0</td>\n",
       "      <td>41.0</td>\n",
       "    </tr>\n",
       "    <tr>\n",
       "      <th>1619126281</th>\n",
       "      <td>1619126281</td>\n",
       "      <td>2264593904</td>\n",
       "      <td>PARK</td>\n",
       "      <td>YOUNG</td>\n",
       "      <td>A</td>\n",
       "      <td>0</td>\n",
       "      <td>F</td>\n",
       "      <td>0</td>\n",
       "      <td>OTHER</td>\n",
       "      <td>2006.0</td>\n",
       "      <td>...</td>\n",
       "      <td>WA</td>\n",
       "      <td>0.0</td>\n",
       "      <td>0.0</td>\n",
       "      <td>0.0</td>\n",
       "      <td>0.0</td>\n",
       "      <td>0.0</td>\n",
       "      <td>0</td>\n",
       "      <td>0</td>\n",
       "      <td>0</td>\n",
       "      <td>11.0</td>\n",
       "    </tr>\n",
       "  </tbody>\n",
       "</table>\n",
       "<p>5 rows × 22 columns</p>\n",
       "</div>"
      ],
      "text/plain": [
       "                   npi      pac_id last_name  first_name middle_name suffix  \\\n",
       "npi                                                                           \n",
       "1922016203  1922016203   648178822    ULLMAN      RONALD           H      0   \n",
       "1376722587  1376722587    42391252   REARDON      THOMAS           G      0   \n",
       "1942253190  1942253190  4688610686    WEAVER  MARGUERITE           0      0   \n",
       "1285631317  1285631317  2365348307      GRAY     DOUGLAS           0      0   \n",
       "1619126281  1619126281  2264593904      PARK       YOUNG           A      0   \n",
       "\n",
       "           gender credential                            medical_school  \\\n",
       "npi                                                                      \n",
       "1922016203      M         MD  WASHINGTON UNIVERSITY SCHOOL OF MEDICINE   \n",
       "1376722587      M          0                                     OTHER   \n",
       "1942253190      F        CSW                                     OTHER   \n",
       "1285631317      M          0                                     OTHER   \n",
       "1619126281      F          0                                     OTHER   \n",
       "\n",
       "            graduation_year       ...        state related_org_ccn_1  \\\n",
       "npi                               ...                                  \n",
       "1922016203           1967.0       ...           WA               0.0   \n",
       "1376722587           1989.0       ...           WA               0.0   \n",
       "1942253190           1994.0       ...           WA               0.0   \n",
       "1285631317           1976.0       ...           WA               0.0   \n",
       "1619126281           2006.0       ...           WA               0.0   \n",
       "\n",
       "           related_org_ccn_2  related_org_ccn_3  related_org_ccn_4  \\\n",
       "npi                                                                  \n",
       "1922016203               0.0                0.0                0.0   \n",
       "1376722587               0.0                0.0                0.0   \n",
       "1942253190               0.0                0.0                0.0   \n",
       "1285631317               0.0                0.0                0.0   \n",
       "1619126281               0.0                0.0                0.0   \n",
       "\n",
       "            related_org_ccn_5  quality_measures  electronic_measures  \\\n",
       "npi                                                                    \n",
       "1922016203                0.0                 0                    0   \n",
       "1376722587                0.0                 0                    0   \n",
       "1942253190                0.0                 0                    0   \n",
       "1285631317                0.0                 0                    0   \n",
       "1619126281                0.0                 0                    0   \n",
       "\n",
       "           hearth_initiative years_experience  \n",
       "npi                                            \n",
       "1922016203                 0             50.0  \n",
       "1376722587                 0             28.0  \n",
       "1942253190                 0             23.0  \n",
       "1285631317                 0             41.0  \n",
       "1619126281                 0             11.0  \n",
       "\n",
       "[5 rows x 22 columns]"
      ]
     },
     "execution_count": 38,
     "metadata": {},
     "output_type": "execute_result"
    }
   ],
   "source": [
    "wa_provider.head()"
   ]
  },
  {
   "cell_type": "code",
   "execution_count": 39,
   "metadata": {
    "collapsed": false
   },
   "outputs": [],
   "source": [
    "#provider_all[provider_all['npi']==1790741924].head().T\n",
    "#wa_provider[wa_provider.npi==1447262910]\n",
    "#wa_provider[wa_provider.npi==1790741924]"
   ]
  },
  {
   "cell_type": "code",
   "execution_count": 40,
   "metadata": {
    "collapsed": false
   },
   "outputs": [],
   "source": [
    "#org_all = org_all.sort(org_all.columns[1],ascending=False)\n",
    "#org_all.head(10)"
   ]
  },
  {
   "cell_type": "code",
   "execution_count": 41,
   "metadata": {
    "collapsed": false
   },
   "outputs": [
    {
     "name": "stdout",
     "output_type": "stream",
     "text": [
      "<class 'pandas.core.frame.DataFrame'>\n",
      "Int64Index: 3260 entries, 1376722587 to 1497702062\n",
      "Data columns (total 16 columns):\n",
      "prof_id              3260 non-null object\n",
      "org_name             3260 non-null object\n",
      "group_pac_id         3260 non-null int64\n",
      "practice_size        3260 non-null float64\n",
      "address              3260 non-null object\n",
      "address_extra        3260 non-null object\n",
      "city                 3260 non-null object\n",
      "state                3260 non-null object\n",
      "zip_code             3260 non-null object\n",
      "phone_number         3260 non-null object\n",
      "related_org_lbn_1    3260 non-null object\n",
      "related_org_lbn_2    3260 non-null object\n",
      "related_org_lbn_3    3260 non-null object\n",
      "related_org_lbn_4    3260 non-null object\n",
      "related_org_lbn_5    3260 non-null object\n",
      "zip_base             3260 non-null int64\n",
      "dtypes: float64(1), int64(2), object(13)\n",
      "memory usage: 433.0+ KB\n"
     ]
    }
   ],
   "source": [
    "wa_org.info()"
   ]
  },
  {
   "cell_type": "code",
   "execution_count": 42,
   "metadata": {
    "collapsed": false
   },
   "outputs": [],
   "source": [
    "#wa_provider_x=wa_provider[wa_provider.duplicated('npi')==True]"
   ]
  },
  {
   "cell_type": "code",
   "execution_count": 43,
   "metadata": {
    "collapsed": false
   },
   "outputs": [],
   "source": [
    "#wa_provider_x.info()"
   ]
  },
  {
   "cell_type": "code",
   "execution_count": null,
   "metadata": {
    "collapsed": true
   },
   "outputs": [],
   "source": []
  },
  {
   "cell_type": "code",
   "execution_count": null,
   "metadata": {
    "collapsed": true
   },
   "outputs": [],
   "source": []
  },
  {
   "cell_type": "code",
   "execution_count": 44,
   "metadata": {
    "collapsed": true
   },
   "outputs": [],
   "source": [
    "#Build summary variables - in-work\n",
    "\n",
    "# secondary_spec\n",
    "# import pandas as pd\n",
    "\n",
    "# def alert(c):\n",
    "#   if c['used'] == 1.0:\n",
    "#     return 'Full'\n",
    "#   elif c['used'] == 0.0:\n",
    "#     return 'Empty'\n",
    "#   elif 0.0 < c['used'] < 1.0:\n",
    "#     return 'Partial'\n",
    "#   else:\n",
    "#     return 'Undefined'\n",
    "\n",
    "# df = pd.DataFrame(data={'portion':[1, 2, 3, 4], 'used':[1.0, 0.3, 0.0, 0.8]})\n",
    "\n",
    "# df['alert'] = df.apply(alert, axis=1)\n",
    "\n",
    "######combine specialities\n",
    "# def split_spec(df):\n",
    "#     var=set()\n",
    "#     words=df['secondary_spec'].split(',')\n",
    "#     var.update(words)\n",
    "#     var.add(df['primary_specialty'])\n",
    "#     var.add(df['specialty_1'])\n",
    "#     var.add(df['specialty_2'])\n",
    "#     var.add(df['specialty_3'])\n",
    "#     #var.add(df['specialty_4'])\n",
    "#     return var\n",
    "# provider_all['years_experience'] = provider_all.apply(f, axis=1)\n",
    "\n"
   ]
  },
  {
   "cell_type": "code",
   "execution_count": 45,
   "metadata": {
    "collapsed": false
   },
   "outputs": [],
   "source": [
    "#provider_all.duplicated().value_counts()\n",
    "#provider_all=provider_all.drop_duplicates()\n",
    "#provider_all.drop_duplicates(*args, **kwargs)\n",
    "#provider_all['npi'].value_counts()"
   ]
  },
  {
   "cell_type": "code",
   "execution_count": null,
   "metadata": {
    "collapsed": false
   },
   "outputs": [],
   "source": []
  },
  {
   "cell_type": "code",
   "execution_count": null,
   "metadata": {
    "collapsed": true
   },
   "outputs": [],
   "source": []
  },
  {
   "cell_type": "code",
   "execution_count": 46,
   "metadata": {
    "collapsed": false
   },
   "outputs": [],
   "source": [
    "#provider_wa=provider_all[provider_all['state']=='WA']\n",
    "#provider_wa.info()"
   ]
  },
  {
   "cell_type": "code",
   "execution_count": null,
   "metadata": {
    "collapsed": true
   },
   "outputs": [],
   "source": []
  },
  {
   "cell_type": "code",
   "execution_count": null,
   "metadata": {
    "collapsed": true
   },
   "outputs": [],
   "source": []
  },
  {
   "cell_type": "code",
   "execution_count": 47,
   "metadata": {
    "collapsed": false
   },
   "outputs": [],
   "source": [
    "#fill all NaN with 0\n",
    "#provider_wa.update(provider_wa.fillna(0))"
   ]
  },
  {
   "cell_type": "code",
   "execution_count": null,
   "metadata": {
    "collapsed": true
   },
   "outputs": [],
   "source": []
  },
  {
   "cell_type": "code",
   "execution_count": 48,
   "metadata": {
    "collapsed": true
   },
   "outputs": [],
   "source": [
    "#transform secondary speciality in counts\n",
    "#transform hospital_affiliation in counts\n",
    "#change col names"
   ]
  },
  {
   "cell_type": "code",
   "execution_count": null,
   "metadata": {
    "collapsed": true
   },
   "outputs": [],
   "source": []
  },
  {
   "cell_type": "code",
   "execution_count": 49,
   "metadata": {
    "collapsed": false
   },
   "outputs": [],
   "source": [
    "#provider_wa=provider_all[provider_all['state']=='WA']\n",
    "#provider_wa.info()"
   ]
  },
  {
   "cell_type": "code",
   "execution_count": 50,
   "metadata": {
    "collapsed": false
   },
   "outputs": [],
   "source": [
    "#provider_wa['professional_accepts_medicare_assignment'=='M']\n",
    "#x=provider_wa[provider_wa['professional_accepts_medicare_assignment']=='M']"
   ]
  },
  {
   "cell_type": "code",
   "execution_count": 51,
   "metadata": {
    "collapsed": false
   },
   "outputs": [],
   "source": [
    "#provider_wa['hospital_affiliation_lbn_5'].value_counts()"
   ]
  },
  {
   "cell_type": "code",
   "execution_count": null,
   "metadata": {
    "collapsed": true
   },
   "outputs": [],
   "source": []
  }
 ],
 "metadata": {
  "anaconda-cloud": {},
  "kernelspec": {
   "display_name": "Python [conda root]",
   "language": "python",
   "name": "conda-root-py"
  },
  "language_info": {
   "codemirror_mode": {
    "name": "ipython",
    "version": 2
   },
   "file_extension": ".py",
   "mimetype": "text/x-python",
   "name": "python",
   "nbconvert_exporter": "python",
   "pygments_lexer": "ipython2",
   "version": "2.7.13"
  }
 },
 "nbformat": 4,
 "nbformat_minor": 1
}
