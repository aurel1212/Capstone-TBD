{
 "cells": [
  {
   "cell_type": "code",
   "execution_count": 7,
   "metadata": {
    "collapsed": true
   },
   "outputs": [],
   "source": [
    "import pandas as pd\n",
    "import numpy as np"
   ]
  },
  {
   "cell_type": "code",
   "execution_count": 102,
   "metadata": {
    "collapsed": false
   },
   "outputs": [],
   "source": [
    "#1\n",
    "data_all=pd.read_csv('Medicare_Data/2012MedicareProviderPayment.txt', delimiter='\\t')"
   ]
  },
  {
   "cell_type": "code",
   "execution_count": 103,
   "metadata": {
    "collapsed": true
   },
   "outputs": [],
   "source": [
    "#fct rename columns lower letters; remove spaces\n",
    "def lower_columns(pdx):\n",
    "    cols = pdx.columns.tolist()\n",
    "    cols = [col.lower() for col in cols]\n",
    "    pdx.columns = cols\n",
    "    pdx.rename(columns=lambda x: x.strip().replace(\" \", \"_\"), inplace=True)\n",
    "    return pdx\n",
    "data_all=lower_columns(data_all)"
   ]
  },
  {
   "cell_type": "code",
   "execution_count": 104,
   "metadata": {
    "collapsed": false
   },
   "outputs": [],
   "source": [
    "\n",
    "#cleaup first row\n",
    "data_all= data_all[data_all.npi != 1]\n",
    "#add report year\n",
    "data_all['report_year']='2012'\n",
    "\n",
    "#add zip code\n",
    "data_all['nppes_provider_zip']=data_all['nppes_provider_zip'].astype(str)\n",
    "data_all['nppes_provider_zip_base']=data_all['nppes_provider_zip'].str.slice(0,5)\n",
    "#data_all['nppes_provider_zip_base'].unique()"
   ]
  },
  {
   "cell_type": "code",
   "execution_count": 105,
   "metadata": {
    "collapsed": false
   },
   "outputs": [
    {
     "data": {
      "text/plain": [
       "Index([u'npi', u'nppes_provider_last_org_name', u'nppes_provider_first_name',\n",
       "       u'nppes_provider_mi', u'nppes_credentials', u'nppes_provider_gender',\n",
       "       u'nppes_entity_code', u'nppes_provider_street1',\n",
       "       u'nppes_provider_street2', u'nppes_provider_city',\n",
       "       u'nppes_provider_zip', u'nppes_provider_state',\n",
       "       u'nppes_provider_country', u'provider_type',\n",
       "       u'medicare_participation_indicator', u'place_of_service', u'hcpcs_code',\n",
       "       u'hcpcs_description', u'hcpcs_drug_indicator', u'line_srvc_cnt',\n",
       "       u'bene_unique_cnt', u'bene_day_srvc_cnt',\n",
       "       u'average_medicare_allowed_amt', u'stdev_medicare_allowed_amt',\n",
       "       u'average_submitted_chrg_amt', u'stdev_submitted_chrg_amt',\n",
       "       u'average_medicare_payment_amt', u'stdev_medicare_payment_amt',\n",
       "       u'report_year', u'nppes_provider_zip_base'],\n",
       "      dtype='object')"
      ]
     },
     "execution_count": 105,
     "metadata": {},
     "output_type": "execute_result"
    }
   ],
   "source": [
    "data_all.columns"
   ]
  },
  {
   "cell_type": "code",
   "execution_count": 106,
   "metadata": {
    "collapsed": false
   },
   "outputs": [],
   "source": [
    "#select WA state providers\n",
    "data_all['nppes_provider_state']=data_all['nppes_provider_state'].astype(str)\n",
    "data_provider_wa=data_all[data_all['nppes_provider_state']=='WA']"
   ]
  },
  {
   "cell_type": "code",
   "execution_count": 107,
   "metadata": {
    "collapsed": false
   },
   "outputs": [
    {
     "data": {
      "text/plain": [
       "(174582, 28)"
      ]
     },
     "execution_count": 107,
     "metadata": {},
     "output_type": "execute_result"
    }
   ],
   "source": [
    "#exploratory\n",
    "data_provider_wa.shape\n",
    "#data_provider_wa.info()"
   ]
  },
  {
   "cell_type": "code",
   "execution_count": 109,
   "metadata": {
    "collapsed": false
   },
   "outputs": [],
   "source": [
    "#remove all non-individual provider from data\n",
    "data_provider_wa=data_provider_wa[data_provider_wa.nppes_provider_first_name.notnull()]"
   ]
  },
  {
   "cell_type": "code",
   "execution_count": 110,
   "metadata": {
    "collapsed": true
   },
   "outputs": [],
   "source": [
    "#remove all non-medicare providers\n",
    "data_provider_wa=data_provider_wa[data_provider_wa['medicare_participation_indicator']=='Y']"
   ]
  },
  {
   "cell_type": "code",
   "execution_count": 111,
   "metadata": {
    "collapsed": false,
    "scrolled": true
   },
   "outputs": [],
   "source": [
    "#function to drop columns\n",
    "drop_col=['nppes_entity_code','medicare_participation_indicator']\n",
    "def drop_columns(col_remove,pdx):\n",
    "    columns=list(pdx.columns.values)\n",
    "    for col in col_remove:\n",
    "        if col in columns:\n",
    "            pdx.drop(col, axis=1, inplace=True)\n",
    "    return pdx\n",
    "#drop_columns(drop_col,data_provider_wa)       "
   ]
  },
  {
   "cell_type": "code",
   "execution_count": 112,
   "metadata": {
    "collapsed": true
   },
   "outputs": [],
   "source": [
    "# data_provider_wa_2014['test_x']='100'\n",
    "# data_provider_wa_2014['test_y']='100'\n",
    "# drop_col=['test_x','test_y']"
   ]
  },
  {
   "cell_type": "code",
   "execution_count": 113,
   "metadata": {
    "collapsed": false
   },
   "outputs": [],
   "source": [
    "data_provider_wa=drop_columns(drop_col,data_provider_wa)   "
   ]
  },
  {
   "cell_type": "code",
   "execution_count": 114,
   "metadata": {
    "collapsed": false
   },
   "outputs": [],
   "source": [
    "#data2=data1[data1.nppes_provider_first_name.isnull()]\n",
    "#data_provider_wa_2014['participation_indicator'].unique()\n",
    "#data_provider_wa_2014['bene_day_srvc_cnt'].value_counts()"
   ]
  },
  {
   "cell_type": "code",
   "execution_count": 115,
   "metadata": {
    "collapsed": true
   },
   "outputs": [],
   "source": [
    "#fct remane columns\n",
    "def name_columns(value_old,value_new,pdx):\n",
    "    cols = pdx.columns.tolist()\n",
    "    cols = [col.replace(value_old,value_new) for col in cols]\n",
    "    pdx.columns = cols\n",
    "    return pdx\n",
    "\n"
   ]
  },
  {
   "cell_type": "code",
   "execution_count": 116,
   "metadata": {
    "collapsed": true
   },
   "outputs": [],
   "source": [
    "data_provider_wa=name_columns(\"nppes_\",\"\", data_provider_wa)\n",
    "data_provider_wa=name_columns(\"provider_\",\"\", data_provider_wa)\n",
    "data_provider_wa=name_columns(\"medicare_\",\"\", data_provider_wa)\n",
    "#data_provider_wa_2014=name_columns(\"medicare_\",\"\", data_provider_wa_2014)\n",
    "data_provider_wa=name_columns(\"average_\",\"\", data_provider_wa)\n",
    "\n",
    "#replace NaN with '' for all columns\n",
    "data_provider_wa.fillna('',inplace=True)\n"
   ]
  },
  {
   "cell_type": "code",
   "execution_count": 118,
   "metadata": {
    "collapsed": true
   },
   "outputs": [],
   "source": [
    "#fct remane columns\n",
    "# def nan_replace(value,pdx):\n",
    "#     cols = pdx.columns.tolist()\n",
    "#     cols = [col.replace(value_old,value_new) for col in cols]\n",
    "#     pdx.columns = cols\n",
    "#     return pdx\n",
    "# # str_cols = ['Name','City']\n",
    "# str_cols = df.columns[df.dtypes==object]\n",
    "# df[str_cols] = df[str_cols].fillna('.')"
   ]
  },
  {
   "cell_type": "code",
   "execution_count": 101,
   "metadata": {
    "collapsed": false
   },
   "outputs": [
    {
     "data": {
      "text/plain": [
       "(174582, 28)"
      ]
     },
     "execution_count": 101,
     "metadata": {},
     "output_type": "execute_result"
    }
   ],
   "source": [
    "data_2013=data_provider_wa.copy()\n",
    "data_2013.shape"
   ]
  },
  {
   "cell_type": "code",
   "execution_count": 119,
   "metadata": {
    "collapsed": false
   },
   "outputs": [
    {
     "data": {
      "text/plain": [
       "(172517, 28)"
      ]
     },
     "execution_count": 119,
     "metadata": {},
     "output_type": "execute_result"
    }
   ],
   "source": [
    "data_2012=data_provider_wa.copy()\n",
    "data_2012.shape"
   ]
  },
  {
   "cell_type": "code",
   "execution_count": 83,
   "metadata": {
    "collapsed": false
   },
   "outputs": [
    {
     "data": {
      "text/plain": [
       "(177510, 26)"
      ]
     },
     "execution_count": 83,
     "metadata": {},
     "output_type": "execute_result"
    }
   ],
   "source": [
    "data_2014=data_provider_wa.copy()\n",
    "data_2014.shape"
   ]
  },
  {
   "cell_type": "code",
   "execution_count": 151,
   "metadata": {
    "collapsed": false
   },
   "outputs": [
    {
     "data": {
      "text/plain": [
       "['npi',\n",
       " 'last_org_name',\n",
       " 'first_name',\n",
       " 'mi',\n",
       " 'credentials',\n",
       " 'gender',\n",
       " 'street1',\n",
       " 'street2',\n",
       " 'city',\n",
       " 'zip',\n",
       " 'state',\n",
       " 'country',\n",
       " 'type',\n",
       " 'place_of_service',\n",
       " 'hcpcs_code',\n",
       " 'hcpcs_description',\n",
       " 'hcpcs_drug_indicator',\n",
       " 'line_srvc_cnt',\n",
       " 'bene_unique_cnt',\n",
       " 'bene_day_srvc_cnt',\n",
       " 'allowed_amt',\n",
       " 'stdev_allowed_amt',\n",
       " 'submitted_chrg_amt',\n",
       " 'stdev_submitted_chrg_amt',\n",
       " 'payment_amt',\n",
       " 'stdev_payment_amt',\n",
       " 'report_year',\n",
       " 'zip_base']"
      ]
     },
     "execution_count": 151,
     "metadata": {},
     "output_type": "execute_result"
    }
   ],
   "source": [
    "data_2012.columns.tolist()"
   ]
  },
  {
   "cell_type": "code",
   "execution_count": 183,
   "metadata": {
    "collapsed": false
   },
   "outputs": [],
   "source": [
    "#remove all columns that are not common in all files\n",
    "\n",
    "\n",
    "#set columns as sets to compare them\n",
    "# these can be put in a function\n",
    "set_col_2012=set(data_2012.columns)\n",
    "set_col_2013=set(data_2013.columns)\n",
    "set_col_2014=set(data_2014.columns)\n",
    "#print set_col_2014\n",
    "results_intersection = set.intersection(set_col_2012,set_col_2013,set_col_2014)\n",
    "\n",
    "#print results_intersection\n",
    "diff_2012=set_col_2012-results_intersection\n",
    "diff_2013=set_col_2013-results_intersection\n",
    "diff_2014=set_col_2014-results_intersection\n",
    "\n",
    "#print diff_2014\n",
    "\n",
    "results_union = list(set().union(diff_2012,diff_2013,diff_2014))\n",
    "\n",
    "# #print results_union\n",
    "\n",
    "data_2012=drop_columns(results_union,data_2012)  \n",
    "data_2013=drop_columns(results_union,data_2013)  \n",
    "data_2014=drop_columns(results_union,data_2014) "
   ]
  },
  {
   "cell_type": "code",
   "execution_count": 195,
   "metadata": {
    "collapsed": true
   },
   "outputs": [],
   "source": [
    "#frames = [data_2012, data_2013, data_2014]\n",
    "\n",
    "data_payments_wa = pd.concat([data_2012, data_2013, data_2014])\n"
   ]
  },
  {
   "cell_type": "code",
   "execution_count": 197,
   "metadata": {
    "collapsed": false
   },
   "outputs": [
    {
     "data": {
      "text/plain": [
       "Index([u'npi', u'last_org_name', u'first_name', u'mi', u'credentials',\n",
       "       u'gender', u'street1', u'street2', u'city', u'zip', u'state',\n",
       "       u'country', u'type', u'place_of_service', u'hcpcs_code',\n",
       "       u'hcpcs_description', u'hcpcs_drug_indicator', u'line_srvc_cnt',\n",
       "       u'bene_unique_cnt', u'bene_day_srvc_cnt', u'allowed_amt',\n",
       "       u'submitted_chrg_amt', u'payment_amt', u'report_year', u'zip_base'],\n",
       "      dtype='object')"
      ]
     },
     "execution_count": 197,
     "metadata": {},
     "output_type": "execute_result"
    }
   ],
   "source": [
    "data_payments_wa.columns"
   ]
  },
  {
   "cell_type": "code",
   "execution_count": 194,
   "metadata": {
    "collapsed": false
   },
   "outputs": [
    {
     "data": {
      "text/plain": [
       "(524609, 25)"
      ]
     },
     "execution_count": 194,
     "metadata": {},
     "output_type": "execute_result"
    }
   ],
   "source": [
    ".shape"
   ]
  },
  {
   "cell_type": "code",
   "execution_count": 199,
   "metadata": {
    "collapsed": false
   },
   "outputs": [],
   "source": [
    "#save database\n",
    "import cPickle as pickle\n",
    "data_payments_wa.to_pickle('wa_payments_pickle.pkl')  "
   ]
  },
  {
   "cell_type": "code",
   "execution_count": 200,
   "metadata": {
    "collapsed": true
   },
   "outputs": [],
   "source": [
    "#load database\n",
    "#data_payments_wa= pd.read_pickle('wa_payments_pickle.pkl')"
   ]
  },
  {
   "cell_type": "code",
   "execution_count": 201,
   "metadata": {
    "collapsed": false
   },
   "outputs": [
    {
     "data": {
      "text/plain": [
       "(524609, 25)"
      ]
     },
     "execution_count": 201,
     "metadata": {},
     "output_type": "execute_result"
    }
   ],
   "source": [
    "data_payments_wa_pickle.shape"
   ]
  },
  {
   "cell_type": "code",
   "execution_count": 202,
   "metadata": {
    "collapsed": false
   },
   "outputs": [
    {
     "data": {
      "text/plain": [
       "Index([u'npi', u'last_org_name', u'first_name', u'mi', u'credentials',\n",
       "       u'gender', u'street1', u'street2', u'city', u'zip', u'state',\n",
       "       u'country', u'type', u'place_of_service', u'hcpcs_code',\n",
       "       u'hcpcs_description', u'hcpcs_drug_indicator', u'line_srvc_cnt',\n",
       "       u'bene_unique_cnt', u'bene_day_srvc_cnt', u'allowed_amt',\n",
       "       u'submitted_chrg_amt', u'payment_amt', u'report_year', u'zip_base'],\n",
       "      dtype='object')"
      ]
     },
     "execution_count": 202,
     "metadata": {},
     "output_type": "execute_result"
    }
   ],
   "source": [
    "data_payments_wa_pickle.columns"
   ]
  },
  {
   "cell_type": "code",
   "execution_count": null,
   "metadata": {
    "collapsed": true
   },
   "outputs": [],
   "source": []
  },
  {
   "cell_type": "code",
   "execution_count": null,
   "metadata": {
    "collapsed": true
   },
   "outputs": [],
   "source": [
    "\n"
   ]
  },
  {
   "cell_type": "code",
   "execution_count": null,
   "metadata": {
    "collapsed": true
   },
   "outputs": [],
   "source": []
  },
  {
   "cell_type": "code",
   "execution_count": null,
   "metadata": {
    "collapsed": true
   },
   "outputs": [],
   "source": []
  },
  {
   "cell_type": "code",
   "execution_count": null,
   "metadata": {
    "collapsed": true
   },
   "outputs": [],
   "source": []
  },
  {
   "cell_type": "code",
   "execution_count": null,
   "metadata": {
    "collapsed": true
   },
   "outputs": [],
   "source": []
  },
  {
   "cell_type": "code",
   "execution_count": null,
   "metadata": {
    "collapsed": true
   },
   "outputs": [],
   "source": []
  },
  {
   "cell_type": "code",
   "execution_count": null,
   "metadata": {
    "collapsed": true
   },
   "outputs": [],
   "source": []
  },
  {
   "cell_type": "code",
   "execution_count": null,
   "metadata": {
    "collapsed": true
   },
   "outputs": [],
   "source": []
  },
  {
   "cell_type": "code",
   "execution_count": null,
   "metadata": {
    "collapsed": true
   },
   "outputs": [],
   "source": []
  },
  {
   "cell_type": "code",
   "execution_count": null,
   "metadata": {
    "collapsed": true
   },
   "outputs": [],
   "source": []
  },
  {
   "cell_type": "code",
   "execution_count": null,
   "metadata": {
    "collapsed": true
   },
   "outputs": [],
   "source": []
  },
  {
   "cell_type": "code",
   "execution_count": 1,
   "metadata": {
    "collapsed": false
   },
   "outputs": [],
   "source": [
    "#data_2013.head(20).T"
   ]
  },
  {
   "cell_type": "code",
   "execution_count": 2,
   "metadata": {
    "collapsed": false
   },
   "outputs": [],
   "source": [
    "#data_provider_wa.info()"
   ]
  },
  {
   "cell_type": "code",
   "execution_count": null,
   "metadata": {
    "collapsed": true
   },
   "outputs": [],
   "source": [
    "#keep=['npi','nppes_provider_last_org_name', 'nppes_provider_first_name','nppes_provider_zip']"
   ]
  },
  {
   "cell_type": "code",
   "execution_count": null,
   "metadata": {
    "collapsed": true
   },
   "outputs": [],
   "source": [
    "#data_all=data_all[keep]"
   ]
  },
  {
   "cell_type": "code",
   "execution_count": null,
   "metadata": {
    "collapsed": false
   },
   "outputs": [],
   "source": [
    "#data_all.head(3)"
   ]
  },
  {
   "cell_type": "code",
   "execution_count": null,
   "metadata": {
    "collapsed": false
   },
   "outputs": [],
   "source": [
    "#data_all.info()"
   ]
  },
  {
   "cell_type": "code",
   "execution_count": null,
   "metadata": {
    "collapsed": false
   },
   "outputs": [],
   "source": [
    "#data_all.count()"
   ]
  },
  {
   "cell_type": "code",
   "execution_count": null,
   "metadata": {
    "collapsed": false
   },
   "outputs": [],
   "source": [
    "#data_all.dropna().count()"
   ]
  },
  {
   "cell_type": "code",
   "execution_count": null,
   "metadata": {
    "collapsed": true
   },
   "outputs": [],
   "source": [
    "#data_all=data_all.dropna()"
   ]
  },
  {
   "cell_type": "code",
   "execution_count": null,
   "metadata": {
    "collapsed": false
   },
   "outputs": [],
   "source": [
    "#data_all.head(3)"
   ]
  },
  {
   "cell_type": "code",
   "execution_count": null,
   "metadata": {
    "collapsed": false
   },
   "outputs": [],
   "source": [
    "#data_all.info()"
   ]
  },
  {
   "cell_type": "code",
   "execution_count": null,
   "metadata": {
    "collapsed": false
   },
   "outputs": [],
   "source": [
    "#data_all['nppes_provider_zip']=data_all['nppes_provider_zip'].astype(str)"
   ]
  },
  {
   "cell_type": "code",
   "execution_count": null,
   "metadata": {
    "collapsed": false
   },
   "outputs": [],
   "source": [
    "#data_all.head(3)"
   ]
  },
  {
   "cell_type": "code",
   "execution_count": null,
   "metadata": {
    "collapsed": false
   },
   "outputs": [],
   "source": [
    "#data_all['nppes_provider_zip']=data_all['nppes_provider_zip'].str.slice(0,5)"
   ]
  },
  {
   "cell_type": "code",
   "execution_count": null,
   "metadata": {
    "collapsed": false
   },
   "outputs": [],
   "source": [
    "#data_all.head(15)"
   ]
  },
  {
   "cell_type": "code",
   "execution_count": null,
   "metadata": {
    "collapsed": false
   },
   "outputs": [],
   "source": [
    "#data_all.info()"
   ]
  },
  {
   "cell_type": "code",
   "execution_count": null,
   "metadata": {
    "collapsed": false
   },
   "outputs": [],
   "source": [
    "#data_all['nppes_provider_zip']=data_all['nppes_provider_zip'].astype(int)"
   ]
  },
  {
   "cell_type": "code",
   "execution_count": null,
   "metadata": {
    "collapsed": false
   },
   "outputs": [],
   "source": [
    "#data_all"
   ]
  },
  {
   "cell_type": "code",
   "execution_count": null,
   "metadata": {
    "collapsed": true
   },
   "outputs": [],
   "source": [
    "#def add_names(x, y):\n",
    "#    return x + ' ' + y"
   ]
  },
  {
   "cell_type": "code",
   "execution_count": null,
   "metadata": {
    "collapsed": false
   },
   "outputs": [],
   "source": [
    "#data_all.groupby('nppes_provider_zip').count()"
   ]
  },
  {
   "cell_type": "code",
   "execution_count": null,
   "metadata": {
    "collapsed": true
   },
   "outputs": [],
   "source": [
    "#data_all.to_csv('providers_names_and_zips.csv')"
   ]
  },
  {
   "cell_type": "code",
   "execution_count": null,
   "metadata": {
    "collapsed": true
   },
   "outputs": [],
   "source": [
    "# def find_names(a):\n",
    "#     df = pd.read_csv('7_move_javascript/providers_names_and_zips.csv')\n",
    "#     for zipcode in df['nppes_provider_zip']:\n",
    "#         if zipcode == a:\n",
    "#             firs_nm = df['nppes_provider_first_name'].values()\n",
    "#             last_nm = df['nppes_provider_last_org_name'].values()\n",
    "#             break\n",
    "#     return firs_nm, last_nm\n"
   ]
  },
  {
   "cell_type": "code",
   "execution_count": null,
   "metadata": {
    "collapsed": false
   },
   "outputs": [],
   "source": [
    "#df2=df1[df1['nppes_provider_zip']==98101]"
   ]
  },
  {
   "cell_type": "code",
   "execution_count": null,
   "metadata": {
    "collapsed": false
   },
   "outputs": [],
   "source": [
    "#df2['nppes_provider_last_org_name'].values[0]"
   ]
  },
  {
   "cell_type": "code",
   "execution_count": null,
   "metadata": {
    "collapsed": false
   },
   "outputs": [],
   "source": [
    "#last_nm = df2['nppes_provider_last_org_name'].values[0]\n",
    "#first_nm = df2['nppes_provider_first_name'].values[0]"
   ]
  },
  {
   "cell_type": "code",
   "execution_count": null,
   "metadata": {
    "collapsed": false
   },
   "outputs": [],
   "source": [
    "#print last_nm"
   ]
  },
  {
   "cell_type": "code",
   "execution_count": null,
   "metadata": {
    "collapsed": false
   },
   "outputs": [],
   "source": [
    "#print first_nm"
   ]
  },
  {
   "cell_type": "code",
   "execution_count": null,
   "metadata": {
    "collapsed": true
   },
   "outputs": [],
   "source": []
  }
 ],
 "metadata": {
  "anaconda-cloud": {},
  "kernelspec": {
   "display_name": "Python [conda root]",
   "language": "python",
   "name": "conda-root-py"
  },
  "language_info": {
   "codemirror_mode": {
    "name": "ipython",
    "version": 2
   },
   "file_extension": ".py",
   "mimetype": "text/x-python",
   "name": "python",
   "nbconvert_exporter": "python",
   "pygments_lexer": "ipython2",
   "version": "2.7.13"
  }
 },
 "nbformat": 4,
 "nbformat_minor": 1
}
