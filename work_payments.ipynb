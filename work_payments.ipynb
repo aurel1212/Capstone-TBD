{
 "cells": [
  {
   "cell_type": "code",
   "execution_count": 7,
   "metadata": {
    "collapsed": true
   },
   "outputs": [],
   "source": [
    "import pandas as pd\n",
    "import numpy as np"
   ]
  },
  {
   "cell_type": "code",
   "execution_count": 102,
   "metadata": {
    "collapsed": false
   },
   "outputs": [],
   "source": [
    "#1\n",
    "data_all=pd.read_csv('Medicare_Data/2012MedicareProviderPayment.txt', delimiter='\\t')"
   ]
  },
  {
   "cell_type": "code",
   "execution_count": 103,
   "metadata": {
    "collapsed": true
   },
   "outputs": [],
   "source": [
    "#fct rename columns lower letters\n",
    "def lower_columns(pdx):\n",
    "    cols = pdx.columns.tolist()\n",
    "    cols = [col.lower() for col in cols]\n",
    "    pdx.columns = cols\n",
    "    return pdx\n",
    "data_all=lower_columns(data_all)"
   ]
  },
  {
   "cell_type": "code",
   "execution_count": 104,
   "metadata": {
    "collapsed": false
   },
   "outputs": [],
   "source": [
    "\n",
    "#cleaup first row\n",
    "data_all= data_all[data_all.npi != 1]\n",
    "#add report year\n",
    "data_all['report_year']='2012'\n",
    "\n",
    "#add zip code\n",
    "data_all['nppes_provider_zip']=data_all['nppes_provider_zip'].astype(str)\n",
    "data_all['nppes_provider_zip_base']=data_all['nppes_provider_zip'].str.slice(0,5)\n",
    "#data_all['nppes_provider_zip_base'].unique()"
   ]
  },
  {
   "cell_type": "code",
   "execution_count": 105,
   "metadata": {
    "collapsed": false
   },
   "outputs": [
    {
     "data": {
      "text/plain": [
       "Index([u'npi', u'nppes_provider_last_org_name', u'nppes_provider_first_name',\n",
       "       u'nppes_provider_mi', u'nppes_credentials', u'nppes_provider_gender',\n",
       "       u'nppes_entity_code', u'nppes_provider_street1',\n",
       "       u'nppes_provider_street2', u'nppes_provider_city',\n",
       "       u'nppes_provider_zip', u'nppes_provider_state',\n",
       "       u'nppes_provider_country', u'provider_type',\n",
       "       u'medicare_participation_indicator', u'place_of_service', u'hcpcs_code',\n",
       "       u'hcpcs_description', u'hcpcs_drug_indicator', u'line_srvc_cnt',\n",
       "       u'bene_unique_cnt', u'bene_day_srvc_cnt',\n",
       "       u'average_medicare_allowed_amt', u'stdev_medicare_allowed_amt',\n",
       "       u'average_submitted_chrg_amt', u'stdev_submitted_chrg_amt',\n",
       "       u'average_medicare_payment_amt', u'stdev_medicare_payment_amt',\n",
       "       u'report_year', u'nppes_provider_zip_base'],\n",
       "      dtype='object')"
      ]
     },
     "execution_count": 105,
     "metadata": {},
     "output_type": "execute_result"
    }
   ],
   "source": [
    "data_all.columns"
   ]
  },
  {
   "cell_type": "code",
   "execution_count": 106,
   "metadata": {
    "collapsed": false
   },
   "outputs": [],
   "source": [
    "#select WA state providers\n",
    "data_all['nppes_provider_state']=data_all['nppes_provider_state'].astype(str)\n",
    "data_provider_WA=data_all[data_all['nppes_provider_state']=='WA']"
   ]
  },
  {
   "cell_type": "code",
   "execution_count": 107,
   "metadata": {
    "collapsed": false
   },
   "outputs": [
    {
     "data": {
      "text/plain": [
       "(174582, 28)"
      ]
     },
     "execution_count": 107,
     "metadata": {},
     "output_type": "execute_result"
    }
   ],
   "source": [
    "#exploratory\n",
    "data_provider_wa.shape\n",
    "#data_provider_wa.info()"
   ]
  },
  {
   "cell_type": "code",
   "execution_count": 108,
   "metadata": {
    "collapsed": false
   },
   "outputs": [],
   "source": [
    "data_provider_wa=data_all[data_all['nppes_provider_state']=='WA']"
   ]
  },
  {
   "cell_type": "code",
   "execution_count": 109,
   "metadata": {
    "collapsed": false
   },
   "outputs": [],
   "source": [
    "#remove all non-individual provider from data\n",
    "data_provider_wa=data_provider_wa[data_provider_wa.nppes_provider_first_name.notnull()]"
   ]
  },
  {
   "cell_type": "code",
   "execution_count": 110,
   "metadata": {
    "collapsed": true
   },
   "outputs": [],
   "source": [
    "#remove all non-medicare providers\n",
    "data_provider_wa=data_provider_wa[data_provider_wa['medicare_participation_indicator']=='Y']"
   ]
  },
  {
   "cell_type": "code",
   "execution_count": 111,
   "metadata": {
    "collapsed": false,
    "scrolled": true
   },
   "outputs": [],
   "source": [
    "#function to drop columns\n",
    "drop_col=['nppes_entity_code','medicare_participation_indicator']\n",
    "def drop_columns(col_remove,pdx):\n",
    "    columns=list(pdx.columns.values)\n",
    "    for col in col_remove:\n",
    "        if col in columns:\n",
    "            pdx.drop(col, axis=1, inplace=True)\n",
    "    return pdx\n",
    "#drop_columns(drop_col,data_provider_wa)       "
   ]
  },
  {
   "cell_type": "code",
   "execution_count": 112,
   "metadata": {
    "collapsed": true
   },
   "outputs": [],
   "source": [
    "# data_provider_wa_2014['test_x']='100'\n",
    "# data_provider_wa_2014['test_y']='100'\n",
    "# drop_col=['test_x','test_y']"
   ]
  },
  {
   "cell_type": "code",
   "execution_count": 113,
   "metadata": {
    "collapsed": false
   },
   "outputs": [],
   "source": [
    "data_provider_wa=drop_columns(drop_col,data_provider_wa)   "
   ]
  },
  {
   "cell_type": "code",
   "execution_count": 114,
   "metadata": {
    "collapsed": false
   },
   "outputs": [],
   "source": [
    "#data2=data1[data1.nppes_provider_first_name.isnull()]\n",
    "#data_provider_wa_2014['participation_indicator'].unique()\n",
    "#data_provider_wa_2014['bene_day_srvc_cnt'].value_counts()"
   ]
  },
  {
   "cell_type": "code",
   "execution_count": 115,
   "metadata": {
    "collapsed": true
   },
   "outputs": [],
   "source": [
    "#fct remane columns\n",
    "def name_columns(value_old,value_new,pdx):\n",
    "    cols = pdx.columns.tolist()\n",
    "    cols = [col.replace(value_old,value_new) for col in cols]\n",
    "    pdx.columns = cols\n",
    "    return pdx\n",
    "\n"
   ]
  },
  {
   "cell_type": "code",
   "execution_count": 116,
   "metadata": {
    "collapsed": true
   },
   "outputs": [],
   "source": [
    "data_provider_wa=name_columns(\"nppes_\",\"\", data_provider_wa)\n",
    "data_provider_wa=name_columns(\"provider_\",\"\", data_provider_wa)\n",
    "data_provider_wa=name_columns(\"medicare_\",\"\", data_provider_wa)\n",
    "#data_provider_wa_2014=name_columns(\"medicare_\",\"\", data_provider_wa_2014)\n",
    "data_provider_wa=name_columns(\"average_\",\"\", data_provider_wa)\n",
    "\n",
    "#replace NaN with '' for all columns\n",
    "data_provider_wa.fillna('',inplace=True)\n"
   ]
  },
  {
   "cell_type": "code",
   "execution_count": 118,
   "metadata": {
    "collapsed": true
   },
   "outputs": [],
   "source": [
    "#fct remane columns\n",
    "# def nan_replace(value,pdx):\n",
    "#     cols = pdx.columns.tolist()\n",
    "#     cols = [col.replace(value_old,value_new) for col in cols]\n",
    "#     pdx.columns = cols\n",
    "#     return pdx\n",
    "# # str_cols = ['Name','City']\n",
    "# str_cols = df.columns[df.dtypes==object]\n",
    "# df[str_cols] = df[str_cols].fillna('.')"
   ]
  },
  {
   "cell_type": "code",
   "execution_count": 101,
   "metadata": {
    "collapsed": false
   },
   "outputs": [
    {
     "data": {
      "text/plain": [
       "(174582, 28)"
      ]
     },
     "execution_count": 101,
     "metadata": {},
     "output_type": "execute_result"
    }
   ],
   "source": [
    "data_2013=data_provider_wa.copy()\n",
    "data_2013.shape"
   ]
  },
  {
   "cell_type": "code",
   "execution_count": 119,
   "metadata": {
    "collapsed": false
   },
   "outputs": [
    {
     "data": {
      "text/plain": [
       "(172517, 28)"
      ]
     },
     "execution_count": 119,
     "metadata": {},
     "output_type": "execute_result"
    }
   ],
   "source": [
    "data_2012=data_provider_wa.copy()\n",
    "data_2012.shape"
   ]
  },
  {
   "cell_type": "code",
   "execution_count": 83,
   "metadata": {
    "collapsed": false
   },
   "outputs": [
    {
     "data": {
      "text/plain": [
       "(177510, 26)"
      ]
     },
     "execution_count": 83,
     "metadata": {},
     "output_type": "execute_result"
    }
   ],
   "source": [
    "data_2014=data_provider_wa.copy()\n",
    "data_2014.shape"
   ]
  },
  {
   "cell_type": "code",
   "execution_count": 151,
   "metadata": {
    "collapsed": false
   },
   "outputs": [
    {
     "data": {
      "text/plain": [
       "['npi',\n",
       " 'last_org_name',\n",
       " 'first_name',\n",
       " 'mi',\n",
       " 'credentials',\n",
       " 'gender',\n",
       " 'street1',\n",
       " 'street2',\n",
       " 'city',\n",
       " 'zip',\n",
       " 'state',\n",
       " 'country',\n",
       " 'type',\n",
       " 'place_of_service',\n",
       " 'hcpcs_code',\n",
       " 'hcpcs_description',\n",
       " 'hcpcs_drug_indicator',\n",
       " 'line_srvc_cnt',\n",
       " 'bene_unique_cnt',\n",
       " 'bene_day_srvc_cnt',\n",
       " 'allowed_amt',\n",
       " 'stdev_allowed_amt',\n",
       " 'submitted_chrg_amt',\n",
       " 'stdev_submitted_chrg_amt',\n",
       " 'payment_amt',\n",
       " 'stdev_payment_amt',\n",
       " 'report_year',\n",
       " 'zip_base']"
      ]
     },
     "execution_count": 151,
     "metadata": {},
     "output_type": "execute_result"
    }
   ],
   "source": [
    "data_2012.columns.tolist()"
   ]
  },
  {
   "cell_type": "code",
   "execution_count": 183,
   "metadata": {
    "collapsed": false
   },
   "outputs": [],
   "source": [
    "#remove all columns that are not common in all files\n",
    "\n",
    "\n",
    "#set columns as sets to compare them\n",
    "# these can be put in a function\n",
    "set_col_2012=set(data_2012.columns)\n",
    "set_col_2013=set(data_2013.columns)\n",
    "set_col_2014=set(data_2014.columns)\n",
    "#print set_col_2014\n",
    "results_intersection = set.intersection(set_col_2012,set_col_2013,set_col_2014)\n",
    "\n",
    "#print results_intersection\n",
    "diff_2012=set_col_2012-results_intersection\n",
    "diff_2013=set_col_2013-results_intersection\n",
    "diff_2014=set_col_2014-results_intersection\n",
    "\n",
    "#print diff_2014\n",
    "\n",
    "results_union = list(set().union(diff_2012,diff_2013,diff_2014))\n",
    "\n",
    "# #print results_union\n",
    "\n",
    "data_2012=drop_columns(results_union,data_2012)  \n",
    "data_2013=drop_columns(results_union,data_2013)  \n",
    "data_2014=drop_columns(results_union,data_2014) "
   ]
  },
  {
   "cell_type": "code",
   "execution_count": 195,
   "metadata": {
    "collapsed": true
   },
   "outputs": [],
   "source": [
    "#frames = [data_2012, data_2013, data_2014]\n",
    "\n",
    "data_payments_wa = pd.concat([data_2012, data_2013, data_2014])\n"
   ]
  },
  {
   "cell_type": "code",
   "execution_count": 197,
   "metadata": {
    "collapsed": false
   },
   "outputs": [
    {
     "data": {
      "text/plain": [
       "Index([u'npi', u'last_org_name', u'first_name', u'mi', u'credentials',\n",
       "       u'gender', u'street1', u'street2', u'city', u'zip', u'state',\n",
       "       u'country', u'type', u'place_of_service', u'hcpcs_code',\n",
       "       u'hcpcs_description', u'hcpcs_drug_indicator', u'line_srvc_cnt',\n",
       "       u'bene_unique_cnt', u'bene_day_srvc_cnt', u'allowed_amt',\n",
       "       u'submitted_chrg_amt', u'payment_amt', u'report_year', u'zip_base'],\n",
       "      dtype='object')"
      ]
     },
     "execution_count": 197,
     "metadata": {},
     "output_type": "execute_result"
    }
   ],
   "source": [
    "data_payments_wa.columns"
   ]
  },
  {
   "cell_type": "code",
   "execution_count": 194,
   "metadata": {
    "collapsed": false
   },
   "outputs": [
    {
     "data": {
      "text/plain": [
       "(524609, 25)"
      ]
     },
     "execution_count": 194,
     "metadata": {},
     "output_type": "execute_result"
    }
   ],
   "source": [
    ".shape"
   ]
  },
  {
   "cell_type": "code",
   "execution_count": 199,
   "metadata": {
    "collapsed": false
   },
   "outputs": [],
   "source": [
    "#save database\n",
    "import cPickle as pickle\n",
    "data_payments_wa.to_pickle('wa_payments_pickle.pkl')  "
   ]
  },
  {
   "cell_type": "code",
   "execution_count": 200,
   "metadata": {
    "collapsed": true
   },
   "outputs": [],
   "source": [
    "#load database\n",
    "data_payments_wa_pickle= pd.read_pickle('wa_payments_pickle.pkl')"
   ]
  },
  {
   "cell_type": "code",
   "execution_count": 201,
   "metadata": {
    "collapsed": false
   },
   "outputs": [
    {
     "data": {
      "text/plain": [
       "(524609, 25)"
      ]
     },
     "execution_count": 201,
     "metadata": {},
     "output_type": "execute_result"
    }
   ],
   "source": [
    "data_payments_wa_pickle.shape"
   ]
  },
  {
   "cell_type": "code",
   "execution_count": 202,
   "metadata": {
    "collapsed": false
   },
   "outputs": [
    {
     "data": {
      "text/plain": [
       "Index([u'npi', u'last_org_name', u'first_name', u'mi', u'credentials',\n",
       "       u'gender', u'street1', u'street2', u'city', u'zip', u'state',\n",
       "       u'country', u'type', u'place_of_service', u'hcpcs_code',\n",
       "       u'hcpcs_description', u'hcpcs_drug_indicator', u'line_srvc_cnt',\n",
       "       u'bene_unique_cnt', u'bene_day_srvc_cnt', u'allowed_amt',\n",
       "       u'submitted_chrg_amt', u'payment_amt', u'report_year', u'zip_base'],\n",
       "      dtype='object')"
      ]
     },
     "execution_count": 202,
     "metadata": {},
     "output_type": "execute_result"
    }
   ],
   "source": [
    "data_payments_wa_pickle.columns"
   ]
  },
  {
   "cell_type": "code",
   "execution_count": null,
   "metadata": {
    "collapsed": true
   },
   "outputs": [],
   "source": []
  },
  {
   "cell_type": "code",
   "execution_count": null,
   "metadata": {
    "collapsed": true
   },
   "outputs": [],
   "source": [
    "\n"
   ]
  },
  {
   "cell_type": "code",
   "execution_count": null,
   "metadata": {
    "collapsed": true
   },
   "outputs": [],
   "source": []
  },
  {
   "cell_type": "code",
   "execution_count": null,
   "metadata": {
    "collapsed": true
   },
   "outputs": [],
   "source": []
  },
  {
   "cell_type": "code",
   "execution_count": null,
   "metadata": {
    "collapsed": true
   },
   "outputs": [],
   "source": []
  },
  {
   "cell_type": "code",
   "execution_count": null,
   "metadata": {
    "collapsed": true
   },
   "outputs": [],
   "source": []
  },
  {
   "cell_type": "code",
   "execution_count": null,
   "metadata": {
    "collapsed": true
   },
   "outputs": [],
   "source": []
  },
  {
   "cell_type": "code",
   "execution_count": null,
   "metadata": {
    "collapsed": true
   },
   "outputs": [],
   "source": []
  },
  {
   "cell_type": "code",
   "execution_count": null,
   "metadata": {
    "collapsed": true
   },
   "outputs": [],
   "source": []
  },
  {
   "cell_type": "code",
   "execution_count": null,
   "metadata": {
    "collapsed": true
   },
   "outputs": [],
   "source": []
  },
  {
   "cell_type": "code",
   "execution_count": null,
   "metadata": {
    "collapsed": true
   },
   "outputs": [],
   "source": []
  },
  {
   "cell_type": "code",
   "execution_count": null,
   "metadata": {
    "collapsed": true
   },
   "outputs": [],
   "source": []
  },
  {
   "cell_type": "code",
   "execution_count": 124,
   "metadata": {
    "collapsed": false
   },
   "outputs": [
    {
     "data": {
      "text/html": [
       "<div>\n",
       "<table border=\"1\" class=\"dataframe\">\n",
       "  <thead>\n",
       "    <tr style=\"text-align: right;\">\n",
       "      <th></th>\n",
       "      <th>277</th>\n",
       "      <th>1150</th>\n",
       "      <th>1151</th>\n",
       "      <th>1152</th>\n",
       "      <th>1153</th>\n",
       "      <th>1176</th>\n",
       "      <th>1177</th>\n",
       "      <th>1185</th>\n",
       "      <th>1186</th>\n",
       "      <th>1187</th>\n",
       "      <th>1188</th>\n",
       "      <th>1189</th>\n",
       "      <th>1571</th>\n",
       "      <th>1572</th>\n",
       "      <th>1573</th>\n",
       "      <th>1574</th>\n",
       "      <th>2659</th>\n",
       "      <th>2660</th>\n",
       "      <th>2661</th>\n",
       "      <th>2662</th>\n",
       "    </tr>\n",
       "  </thead>\n",
       "  <tbody>\n",
       "    <tr>\n",
       "      <th>npi</th>\n",
       "      <td>1003002379</td>\n",
       "      <td>1003008913</td>\n",
       "      <td>1003008913</td>\n",
       "      <td>1003008913</td>\n",
       "      <td>1003008913</td>\n",
       "      <td>1003009135</td>\n",
       "      <td>1003009135</td>\n",
       "      <td>1003009283</td>\n",
       "      <td>1003009283</td>\n",
       "      <td>1003009283</td>\n",
       "      <td>1003009283</td>\n",
       "      <td>1003009283</td>\n",
       "      <td>1003011917</td>\n",
       "      <td>1003011917</td>\n",
       "      <td>1003011917</td>\n",
       "      <td>1003011917</td>\n",
       "      <td>1003015553</td>\n",
       "      <td>1003015553</td>\n",
       "      <td>1003015553</td>\n",
       "      <td>1003015553</td>\n",
       "    </tr>\n",
       "    <tr>\n",
       "      <th>last_org_name</th>\n",
       "      <td>SHRESTHA</td>\n",
       "      <td>WALKER</td>\n",
       "      <td>WALKER</td>\n",
       "      <td>WALKER</td>\n",
       "      <td>WALKER</td>\n",
       "      <td>MARINKOVICH</td>\n",
       "      <td>MARINKOVICH</td>\n",
       "      <td>SOLBERG-SHANKLE</td>\n",
       "      <td>SOLBERG-SHANKLE</td>\n",
       "      <td>SOLBERG-SHANKLE</td>\n",
       "      <td>SOLBERG-SHANKLE</td>\n",
       "      <td>SOLBERG-SHANKLE</td>\n",
       "      <td>CHONG</td>\n",
       "      <td>CHONG</td>\n",
       "      <td>CHONG</td>\n",
       "      <td>CHONG</td>\n",
       "      <td>FISHMAN</td>\n",
       "      <td>FISHMAN</td>\n",
       "      <td>FISHMAN</td>\n",
       "      <td>FISHMAN</td>\n",
       "    </tr>\n",
       "    <tr>\n",
       "      <th>first_name</th>\n",
       "      <td>SALONA</td>\n",
       "      <td>SANDRA</td>\n",
       "      <td>SANDRA</td>\n",
       "      <td>SANDRA</td>\n",
       "      <td>SANDRA</td>\n",
       "      <td>RITA</td>\n",
       "      <td>RITA</td>\n",
       "      <td>HEIDI</td>\n",
       "      <td>HEIDI</td>\n",
       "      <td>HEIDI</td>\n",
       "      <td>HEIDI</td>\n",
       "      <td>HEIDI</td>\n",
       "      <td>NYEN</td>\n",
       "      <td>NYEN</td>\n",
       "      <td>NYEN</td>\n",
       "      <td>NYEN</td>\n",
       "      <td>MICHAEL</td>\n",
       "      <td>MICHAEL</td>\n",
       "      <td>MICHAEL</td>\n",
       "      <td>MICHAEL</td>\n",
       "    </tr>\n",
       "    <tr>\n",
       "      <th>mi</th>\n",
       "      <td></td>\n",
       "      <td>K</td>\n",
       "      <td>K</td>\n",
       "      <td>K</td>\n",
       "      <td>K</td>\n",
       "      <td>A</td>\n",
       "      <td>A</td>\n",
       "      <td>M</td>\n",
       "      <td>M</td>\n",
       "      <td>M</td>\n",
       "      <td>M</td>\n",
       "      <td>M</td>\n",
       "      <td>V</td>\n",
       "      <td>V</td>\n",
       "      <td>V</td>\n",
       "      <td>V</td>\n",
       "      <td>S</td>\n",
       "      <td>S</td>\n",
       "      <td>S</td>\n",
       "      <td>S</td>\n",
       "    </tr>\n",
       "    <tr>\n",
       "      <th>credentials</th>\n",
       "      <td>MD</td>\n",
       "      <td>ARNP</td>\n",
       "      <td>ARNP</td>\n",
       "      <td>ARNP</td>\n",
       "      <td>ARNP</td>\n",
       "      <td>ARNP</td>\n",
       "      <td>ARNP</td>\n",
       "      <td>MD</td>\n",
       "      <td>MD</td>\n",
       "      <td>MD</td>\n",
       "      <td>MD</td>\n",
       "      <td>MD</td>\n",
       "      <td>M.D.</td>\n",
       "      <td>M.D.</td>\n",
       "      <td>M.D.</td>\n",
       "      <td>M.D.</td>\n",
       "      <td>M.D.</td>\n",
       "      <td>M.D.</td>\n",
       "      <td>M.D.</td>\n",
       "      <td>M.D.</td>\n",
       "    </tr>\n",
       "    <tr>\n",
       "      <th>gender</th>\n",
       "      <td>F</td>\n",
       "      <td>F</td>\n",
       "      <td>F</td>\n",
       "      <td>F</td>\n",
       "      <td>F</td>\n",
       "      <td>F</td>\n",
       "      <td>F</td>\n",
       "      <td>F</td>\n",
       "      <td>F</td>\n",
       "      <td>F</td>\n",
       "      <td>F</td>\n",
       "      <td>F</td>\n",
       "      <td>M</td>\n",
       "      <td>M</td>\n",
       "      <td>M</td>\n",
       "      <td>M</td>\n",
       "      <td>M</td>\n",
       "      <td>M</td>\n",
       "      <td>M</td>\n",
       "      <td>M</td>\n",
       "    </tr>\n",
       "    <tr>\n",
       "      <th>street1</th>\n",
       "      <td>400 NE MOTHER JOSEPH PL</td>\n",
       "      <td>325 9TH AVE</td>\n",
       "      <td>325 9TH AVE</td>\n",
       "      <td>325 9TH AVE</td>\n",
       "      <td>325 9TH AVE</td>\n",
       "      <td>11821 NE 128TH ST STE D</td>\n",
       "      <td>11821 NE 128TH ST STE D</td>\n",
       "      <td>1615 DELAWARE ST</td>\n",
       "      <td>1615 DELAWARE ST</td>\n",
       "      <td>1615 DELAWARE ST</td>\n",
       "      <td>1615 DELAWARE ST</td>\n",
       "      <td>1615 DELAWARE ST</td>\n",
       "      <td>1802 S YAKIMA</td>\n",
       "      <td>1802 S YAKIMA</td>\n",
       "      <td>1802 S YAKIMA</td>\n",
       "      <td>1802 S YAKIMA</td>\n",
       "      <td>939 CAROLINE ST</td>\n",
       "      <td>939 CAROLINE ST</td>\n",
       "      <td>939 CAROLINE ST</td>\n",
       "      <td>939 CAROLINE ST</td>\n",
       "    </tr>\n",
       "    <tr>\n",
       "      <th>street2</th>\n",
       "      <td></td>\n",
       "      <td></td>\n",
       "      <td></td>\n",
       "      <td></td>\n",
       "      <td></td>\n",
       "      <td></td>\n",
       "      <td></td>\n",
       "      <td>ST. JOHN EMERGENCY DEPARTMENT</td>\n",
       "      <td>ST. JOHN EMERGENCY DEPARTMENT</td>\n",
       "      <td>ST. JOHN EMERGENCY DEPARTMENT</td>\n",
       "      <td>ST. JOHN EMERGENCY DEPARTMENT</td>\n",
       "      <td>ST. JOHN EMERGENCY DEPARTMENT</td>\n",
       "      <td>STE 102</td>\n",
       "      <td>STE 102</td>\n",
       "      <td>STE 102</td>\n",
       "      <td>STE 102</td>\n",
       "      <td></td>\n",
       "      <td></td>\n",
       "      <td></td>\n",
       "      <td></td>\n",
       "    </tr>\n",
       "    <tr>\n",
       "      <th>city</th>\n",
       "      <td>VANCOUVER</td>\n",
       "      <td>SEATTLE</td>\n",
       "      <td>SEATTLE</td>\n",
       "      <td>SEATTLE</td>\n",
       "      <td>SEATTLE</td>\n",
       "      <td>KIRKLAND</td>\n",
       "      <td>KIRKLAND</td>\n",
       "      <td>LONGVIEW</td>\n",
       "      <td>LONGVIEW</td>\n",
       "      <td>LONGVIEW</td>\n",
       "      <td>LONGVIEW</td>\n",
       "      <td>LONGVIEW</td>\n",
       "      <td>TACOMA</td>\n",
       "      <td>TACOMA</td>\n",
       "      <td>TACOMA</td>\n",
       "      <td>TACOMA</td>\n",
       "      <td>PORT ANGELES</td>\n",
       "      <td>PORT ANGELES</td>\n",
       "      <td>PORT ANGELES</td>\n",
       "      <td>PORT ANGELES</td>\n",
       "    </tr>\n",
       "    <tr>\n",
       "      <th>zip</th>\n",
       "      <td>986643200.0</td>\n",
       "      <td>981042420.0</td>\n",
       "      <td>981042420.0</td>\n",
       "      <td>981042420.0</td>\n",
       "      <td>981042420.0</td>\n",
       "      <td>980347210.0</td>\n",
       "      <td>980347210.0</td>\n",
       "      <td>986322367.0</td>\n",
       "      <td>986322367.0</td>\n",
       "      <td>986322367.0</td>\n",
       "      <td>986322367.0</td>\n",
       "      <td>986322367.0</td>\n",
       "      <td>984055303.0</td>\n",
       "      <td>984055303.0</td>\n",
       "      <td>984055303.0</td>\n",
       "      <td>984055303.0</td>\n",
       "      <td>983623909.0</td>\n",
       "      <td>983623909.0</td>\n",
       "      <td>983623909.0</td>\n",
       "      <td>983623909.0</td>\n",
       "    </tr>\n",
       "    <tr>\n",
       "      <th>state</th>\n",
       "      <td>WA</td>\n",
       "      <td>WA</td>\n",
       "      <td>WA</td>\n",
       "      <td>WA</td>\n",
       "      <td>WA</td>\n",
       "      <td>WA</td>\n",
       "      <td>WA</td>\n",
       "      <td>WA</td>\n",
       "      <td>WA</td>\n",
       "      <td>WA</td>\n",
       "      <td>WA</td>\n",
       "      <td>WA</td>\n",
       "      <td>WA</td>\n",
       "      <td>WA</td>\n",
       "      <td>WA</td>\n",
       "      <td>WA</td>\n",
       "      <td>WA</td>\n",
       "      <td>WA</td>\n",
       "      <td>WA</td>\n",
       "      <td>WA</td>\n",
       "    </tr>\n",
       "    <tr>\n",
       "      <th>country</th>\n",
       "      <td>US</td>\n",
       "      <td>US</td>\n",
       "      <td>US</td>\n",
       "      <td>US</td>\n",
       "      <td>US</td>\n",
       "      <td>US</td>\n",
       "      <td>US</td>\n",
       "      <td>US</td>\n",
       "      <td>US</td>\n",
       "      <td>US</td>\n",
       "      <td>US</td>\n",
       "      <td>US</td>\n",
       "      <td>US</td>\n",
       "      <td>US</td>\n",
       "      <td>US</td>\n",
       "      <td>US</td>\n",
       "      <td>US</td>\n",
       "      <td>US</td>\n",
       "      <td>US</td>\n",
       "      <td>US</td>\n",
       "    </tr>\n",
       "    <tr>\n",
       "      <th>type</th>\n",
       "      <td>Internal Medicine</td>\n",
       "      <td>Nurse Practitioner</td>\n",
       "      <td>Nurse Practitioner</td>\n",
       "      <td>Nurse Practitioner</td>\n",
       "      <td>Nurse Practitioner</td>\n",
       "      <td>Nurse Practitioner</td>\n",
       "      <td>Nurse Practitioner</td>\n",
       "      <td>Emergency Medicine</td>\n",
       "      <td>Emergency Medicine</td>\n",
       "      <td>Emergency Medicine</td>\n",
       "      <td>Emergency Medicine</td>\n",
       "      <td>Emergency Medicine</td>\n",
       "      <td>Thoracic Surgery</td>\n",
       "      <td>Thoracic Surgery</td>\n",
       "      <td>Thoracic Surgery</td>\n",
       "      <td>Thoracic Surgery</td>\n",
       "      <td>Diagnostic Radiology</td>\n",
       "      <td>Diagnostic Radiology</td>\n",
       "      <td>Diagnostic Radiology</td>\n",
       "      <td>Diagnostic Radiology</td>\n",
       "    </tr>\n",
       "    <tr>\n",
       "      <th>place_of_service</th>\n",
       "      <td>F</td>\n",
       "      <td>F</td>\n",
       "      <td>F</td>\n",
       "      <td>F</td>\n",
       "      <td>F</td>\n",
       "      <td>O</td>\n",
       "      <td>O</td>\n",
       "      <td>F</td>\n",
       "      <td>F</td>\n",
       "      <td>F</td>\n",
       "      <td>F</td>\n",
       "      <td>F</td>\n",
       "      <td>O</td>\n",
       "      <td>O</td>\n",
       "      <td>O</td>\n",
       "      <td>F</td>\n",
       "      <td>F</td>\n",
       "      <td>F</td>\n",
       "      <td>F</td>\n",
       "      <td>F</td>\n",
       "    </tr>\n",
       "    <tr>\n",
       "      <th>hcpcs_code</th>\n",
       "      <td>99233</td>\n",
       "      <td>99282</td>\n",
       "      <td>99283</td>\n",
       "      <td>99284</td>\n",
       "      <td>99285</td>\n",
       "      <td>99213</td>\n",
       "      <td>99214</td>\n",
       "      <td>93010</td>\n",
       "      <td>99283</td>\n",
       "      <td>99284</td>\n",
       "      <td>99285</td>\n",
       "      <td>99291</td>\n",
       "      <td>99205</td>\n",
       "      <td>99213</td>\n",
       "      <td>99214</td>\n",
       "      <td>99223</td>\n",
       "      <td>10022</td>\n",
       "      <td>20610</td>\n",
       "      <td>32405</td>\n",
       "      <td>32555</td>\n",
       "    </tr>\n",
       "    <tr>\n",
       "      <th>hcpcs_description</th>\n",
       "      <td>Subsequent hospital inpatient care, typically ...</td>\n",
       "      <td>Emergency department visit, low to moderately ...</td>\n",
       "      <td>Emergency department visit, moderately severe ...</td>\n",
       "      <td>Emergency department visit, problem of high se...</td>\n",
       "      <td>Emergency department visit, problem with signi...</td>\n",
       "      <td>Established patient office or other outpatient...</td>\n",
       "      <td>Established patient office or other outpatient...</td>\n",
       "      <td>Routine electrocardiogram (EKG) using at least...</td>\n",
       "      <td>Emergency department visit, moderately severe ...</td>\n",
       "      <td>Emergency department visit, problem of high se...</td>\n",
       "      <td>Emergency department visit, problem with signi...</td>\n",
       "      <td>Critical care delivery critically ill or injur...</td>\n",
       "      <td>New patient office or other outpatient visit, ...</td>\n",
       "      <td>Established patient office or other outpatient...</td>\n",
       "      <td>Established patient office or other outpatient...</td>\n",
       "      <td>Initial hospital inpatient care, typically 70 ...</td>\n",
       "      <td>Fine needle aspiration using imaging guidance</td>\n",
       "      <td>Aspiration or injection of large joint or join...</td>\n",
       "      <td>Needle biopsy of lung or chest tissue</td>\n",
       "      <td>Removal of fluid from chest cavity with imagin...</td>\n",
       "    </tr>\n",
       "    <tr>\n",
       "      <th>hcpcs_drug_indicator</th>\n",
       "      <td>N</td>\n",
       "      <td>N</td>\n",
       "      <td>N</td>\n",
       "      <td>N</td>\n",
       "      <td>N</td>\n",
       "      <td>N</td>\n",
       "      <td>N</td>\n",
       "      <td>N</td>\n",
       "      <td>N</td>\n",
       "      <td>N</td>\n",
       "      <td>N</td>\n",
       "      <td>N</td>\n",
       "      <td>N</td>\n",
       "      <td>N</td>\n",
       "      <td>N</td>\n",
       "      <td>N</td>\n",
       "      <td>N</td>\n",
       "      <td>N</td>\n",
       "      <td>N</td>\n",
       "      <td>N</td>\n",
       "    </tr>\n",
       "    <tr>\n",
       "      <th>line_srvc_cnt</th>\n",
       "      <td>94</td>\n",
       "      <td>11</td>\n",
       "      <td>41</td>\n",
       "      <td>36</td>\n",
       "      <td>15</td>\n",
       "      <td>69</td>\n",
       "      <td>72</td>\n",
       "      <td>307</td>\n",
       "      <td>72</td>\n",
       "      <td>114</td>\n",
       "      <td>343</td>\n",
       "      <td>18</td>\n",
       "      <td>34</td>\n",
       "      <td>32</td>\n",
       "      <td>16</td>\n",
       "      <td>12</td>\n",
       "      <td>15</td>\n",
       "      <td>79</td>\n",
       "      <td>31</td>\n",
       "      <td>58</td>\n",
       "    </tr>\n",
       "    <tr>\n",
       "      <th>bene_unique_cnt</th>\n",
       "      <td>29</td>\n",
       "      <td>11</td>\n",
       "      <td>37</td>\n",
       "      <td>35</td>\n",
       "      <td>15</td>\n",
       "      <td>27</td>\n",
       "      <td>27</td>\n",
       "      <td>265</td>\n",
       "      <td>72</td>\n",
       "      <td>112</td>\n",
       "      <td>319</td>\n",
       "      <td>18</td>\n",
       "      <td>34</td>\n",
       "      <td>27</td>\n",
       "      <td>13</td>\n",
       "      <td>12</td>\n",
       "      <td>14</td>\n",
       "      <td>66</td>\n",
       "      <td>30</td>\n",
       "      <td>39</td>\n",
       "    </tr>\n",
       "    <tr>\n",
       "      <th>bene_day_srvc_cnt</th>\n",
       "      <td>94</td>\n",
       "      <td>11</td>\n",
       "      <td>41</td>\n",
       "      <td>36</td>\n",
       "      <td>15</td>\n",
       "      <td>69</td>\n",
       "      <td>72</td>\n",
       "      <td>280</td>\n",
       "      <td>72</td>\n",
       "      <td>114</td>\n",
       "      <td>343</td>\n",
       "      <td>18</td>\n",
       "      <td>34</td>\n",
       "      <td>32</td>\n",
       "      <td>16</td>\n",
       "      <td>12</td>\n",
       "      <td>14</td>\n",
       "      <td>78</td>\n",
       "      <td>31</td>\n",
       "      <td>58</td>\n",
       "    </tr>\n",
       "    <tr>\n",
       "      <th>allowed_amt</th>\n",
       "      <td>101.13</td>\n",
       "      <td>35.48</td>\n",
       "      <td>52.85</td>\n",
       "      <td>101.01</td>\n",
       "      <td>147.75</td>\n",
       "      <td>66.93</td>\n",
       "      <td>97.96</td>\n",
       "      <td>8.14</td>\n",
       "      <td>59.54</td>\n",
       "      <td>113.86</td>\n",
       "      <td>166.65</td>\n",
       "      <td>216.78</td>\n",
       "      <td>205.114</td>\n",
       "      <td>72.9419</td>\n",
       "      <td>105.987</td>\n",
       "      <td>194.852</td>\n",
       "      <td>64.18</td>\n",
       "      <td>46.4047</td>\n",
       "      <td>102.61</td>\n",
       "      <td>110.549</td>\n",
       "    </tr>\n",
       "    <tr>\n",
       "      <th>stdev_allowed_amt</th>\n",
       "      <td>0</td>\n",
       "      <td>0</td>\n",
       "      <td>0</td>\n",
       "      <td>0</td>\n",
       "      <td>0</td>\n",
       "      <td>0</td>\n",
       "      <td>0</td>\n",
       "      <td>0</td>\n",
       "      <td>0</td>\n",
       "      <td>0</td>\n",
       "      <td>0</td>\n",
       "      <td>0</td>\n",
       "      <td>7.44645</td>\n",
       "      <td>1.41304</td>\n",
       "      <td>2.08817</td>\n",
       "      <td>4.27384</td>\n",
       "      <td>0</td>\n",
       "      <td>5.66278</td>\n",
       "      <td>0</td>\n",
       "      <td>7.25695</td>\n",
       "    </tr>\n",
       "    <tr>\n",
       "      <th>submitted_chrg_amt</th>\n",
       "      <td>244</td>\n",
       "      <td>95.6</td>\n",
       "      <td>199.195</td>\n",
       "      <td>340.247</td>\n",
       "      <td>507.433</td>\n",
       "      <td>125</td>\n",
       "      <td>175</td>\n",
       "      <td>27</td>\n",
       "      <td>193</td>\n",
       "      <td>353</td>\n",
       "      <td>528</td>\n",
       "      <td>803</td>\n",
       "      <td>509</td>\n",
       "      <td>181</td>\n",
       "      <td>266</td>\n",
       "      <td>494</td>\n",
       "      <td>246.19</td>\n",
       "      <td>144.1</td>\n",
       "      <td>336</td>\n",
       "      <td>351.57</td>\n",
       "    </tr>\n",
       "    <tr>\n",
       "      <th>stdev_submitted_chrg_amt</th>\n",
       "      <td>0</td>\n",
       "      <td>16.122</td>\n",
       "      <td>3.17782</td>\n",
       "      <td>28.8054</td>\n",
       "      <td>24.6545</td>\n",
       "      <td>0</td>\n",
       "      <td>0</td>\n",
       "      <td>0</td>\n",
       "      <td>0</td>\n",
       "      <td>0</td>\n",
       "      <td>0</td>\n",
       "      <td>0</td>\n",
       "      <td>0</td>\n",
       "      <td>0</td>\n",
       "      <td>0</td>\n",
       "      <td>0</td>\n",
       "      <td>0</td>\n",
       "      <td>0</td>\n",
       "      <td>0</td>\n",
       "      <td>0</td>\n",
       "    </tr>\n",
       "    <tr>\n",
       "      <th>payment_amt</th>\n",
       "      <td>79.28</td>\n",
       "      <td>25.3245</td>\n",
       "      <td>31.2995</td>\n",
       "      <td>75.3756</td>\n",
       "      <td>116.941</td>\n",
       "      <td>51.3894</td>\n",
       "      <td>75.4804</td>\n",
       "      <td>6.39691</td>\n",
       "      <td>42.6944</td>\n",
       "      <td>88.1812</td>\n",
       "      <td>127.342</td>\n",
       "      <td>170.528</td>\n",
       "      <td>153.921</td>\n",
       "      <td>54.6706</td>\n",
       "      <td>75.4887</td>\n",
       "      <td>153.818</td>\n",
       "      <td>50.5847</td>\n",
       "      <td>36.3046</td>\n",
       "      <td>80.8203</td>\n",
       "      <td>86.9986</td>\n",
       "    </tr>\n",
       "    <tr>\n",
       "      <th>stdev_payment_amt</th>\n",
       "      <td>0</td>\n",
       "      <td>8.02245</td>\n",
       "      <td>17.4331</td>\n",
       "      <td>18.2973</td>\n",
       "      <td>1.17737</td>\n",
       "      <td>7.00424</td>\n",
       "      <td>9.68069</td>\n",
       "      <td>0.371012</td>\n",
       "      <td>12.9872</td>\n",
       "      <td>10.726</td>\n",
       "      <td>19.3714</td>\n",
       "      <td>1.29319</td>\n",
       "      <td>31.3219</td>\n",
       "      <td>11.34</td>\n",
       "      <td>21.3704</td>\n",
       "      <td>4.18666</td>\n",
       "      <td>0.455483</td>\n",
       "      <td>4.72477</td>\n",
       "      <td>0.685704</td>\n",
       "      <td>5.65448</td>\n",
       "    </tr>\n",
       "    <tr>\n",
       "      <th>report_year</th>\n",
       "      <td>2013</td>\n",
       "      <td>2013</td>\n",
       "      <td>2013</td>\n",
       "      <td>2013</td>\n",
       "      <td>2013</td>\n",
       "      <td>2013</td>\n",
       "      <td>2013</td>\n",
       "      <td>2013</td>\n",
       "      <td>2013</td>\n",
       "      <td>2013</td>\n",
       "      <td>2013</td>\n",
       "      <td>2013</td>\n",
       "      <td>2013</td>\n",
       "      <td>2013</td>\n",
       "      <td>2013</td>\n",
       "      <td>2013</td>\n",
       "      <td>2013</td>\n",
       "      <td>2013</td>\n",
       "      <td>2013</td>\n",
       "      <td>2013</td>\n",
       "    </tr>\n",
       "    <tr>\n",
       "      <th>zip_base</th>\n",
       "      <td>98664</td>\n",
       "      <td>98104</td>\n",
       "      <td>98104</td>\n",
       "      <td>98104</td>\n",
       "      <td>98104</td>\n",
       "      <td>98034</td>\n",
       "      <td>98034</td>\n",
       "      <td>98632</td>\n",
       "      <td>98632</td>\n",
       "      <td>98632</td>\n",
       "      <td>98632</td>\n",
       "      <td>98632</td>\n",
       "      <td>98405</td>\n",
       "      <td>98405</td>\n",
       "      <td>98405</td>\n",
       "      <td>98405</td>\n",
       "      <td>98362</td>\n",
       "      <td>98362</td>\n",
       "      <td>98362</td>\n",
       "      <td>98362</td>\n",
       "    </tr>\n",
       "  </tbody>\n",
       "</table>\n",
       "</div>"
      ],
      "text/plain": [
       "                                                                       277   \\\n",
       "npi                                                              1003002379   \n",
       "last_org_name                                                      SHRESTHA   \n",
       "first_name                                                           SALONA   \n",
       "mi                                                                            \n",
       "credentials                                                              MD   \n",
       "gender                                                                    F   \n",
       "street1                                             400 NE MOTHER JOSEPH PL   \n",
       "street2                                                                       \n",
       "city                                                              VANCOUVER   \n",
       "zip                                                             986643200.0   \n",
       "state                                                                    WA   \n",
       "country                                                                  US   \n",
       "type                                                      Internal Medicine   \n",
       "place_of_service                                                          F   \n",
       "hcpcs_code                                                            99233   \n",
       "hcpcs_description         Subsequent hospital inpatient care, typically ...   \n",
       "hcpcs_drug_indicator                                                      N   \n",
       "line_srvc_cnt                                                            94   \n",
       "bene_unique_cnt                                                          29   \n",
       "bene_day_srvc_cnt                                                        94   \n",
       "allowed_amt                                                          101.13   \n",
       "stdev_allowed_amt                                                         0   \n",
       "submitted_chrg_amt                                                      244   \n",
       "stdev_submitted_chrg_amt                                                  0   \n",
       "payment_amt                                                           79.28   \n",
       "stdev_payment_amt                                                         0   \n",
       "report_year                                                            2013   \n",
       "zip_base                                                              98664   \n",
       "\n",
       "                                                                       1150  \\\n",
       "npi                                                              1003008913   \n",
       "last_org_name                                                        WALKER   \n",
       "first_name                                                           SANDRA   \n",
       "mi                                                                        K   \n",
       "credentials                                                            ARNP   \n",
       "gender                                                                    F   \n",
       "street1                                                         325 9TH AVE   \n",
       "street2                                                                       \n",
       "city                                                                SEATTLE   \n",
       "zip                                                             981042420.0   \n",
       "state                                                                    WA   \n",
       "country                                                                  US   \n",
       "type                                                     Nurse Practitioner   \n",
       "place_of_service                                                          F   \n",
       "hcpcs_code                                                            99282   \n",
       "hcpcs_description         Emergency department visit, low to moderately ...   \n",
       "hcpcs_drug_indicator                                                      N   \n",
       "line_srvc_cnt                                                            11   \n",
       "bene_unique_cnt                                                          11   \n",
       "bene_day_srvc_cnt                                                        11   \n",
       "allowed_amt                                                           35.48   \n",
       "stdev_allowed_amt                                                         0   \n",
       "submitted_chrg_amt                                                     95.6   \n",
       "stdev_submitted_chrg_amt                                             16.122   \n",
       "payment_amt                                                         25.3245   \n",
       "stdev_payment_amt                                                   8.02245   \n",
       "report_year                                                            2013   \n",
       "zip_base                                                              98104   \n",
       "\n",
       "                                                                       1151  \\\n",
       "npi                                                              1003008913   \n",
       "last_org_name                                                        WALKER   \n",
       "first_name                                                           SANDRA   \n",
       "mi                                                                        K   \n",
       "credentials                                                            ARNP   \n",
       "gender                                                                    F   \n",
       "street1                                                         325 9TH AVE   \n",
       "street2                                                                       \n",
       "city                                                                SEATTLE   \n",
       "zip                                                             981042420.0   \n",
       "state                                                                    WA   \n",
       "country                                                                  US   \n",
       "type                                                     Nurse Practitioner   \n",
       "place_of_service                                                          F   \n",
       "hcpcs_code                                                            99283   \n",
       "hcpcs_description         Emergency department visit, moderately severe ...   \n",
       "hcpcs_drug_indicator                                                      N   \n",
       "line_srvc_cnt                                                            41   \n",
       "bene_unique_cnt                                                          37   \n",
       "bene_day_srvc_cnt                                                        41   \n",
       "allowed_amt                                                           52.85   \n",
       "stdev_allowed_amt                                                         0   \n",
       "submitted_chrg_amt                                                  199.195   \n",
       "stdev_submitted_chrg_amt                                            3.17782   \n",
       "payment_amt                                                         31.2995   \n",
       "stdev_payment_amt                                                   17.4331   \n",
       "report_year                                                            2013   \n",
       "zip_base                                                              98104   \n",
       "\n",
       "                                                                       1152  \\\n",
       "npi                                                              1003008913   \n",
       "last_org_name                                                        WALKER   \n",
       "first_name                                                           SANDRA   \n",
       "mi                                                                        K   \n",
       "credentials                                                            ARNP   \n",
       "gender                                                                    F   \n",
       "street1                                                         325 9TH AVE   \n",
       "street2                                                                       \n",
       "city                                                                SEATTLE   \n",
       "zip                                                             981042420.0   \n",
       "state                                                                    WA   \n",
       "country                                                                  US   \n",
       "type                                                     Nurse Practitioner   \n",
       "place_of_service                                                          F   \n",
       "hcpcs_code                                                            99284   \n",
       "hcpcs_description         Emergency department visit, problem of high se...   \n",
       "hcpcs_drug_indicator                                                      N   \n",
       "line_srvc_cnt                                                            36   \n",
       "bene_unique_cnt                                                          35   \n",
       "bene_day_srvc_cnt                                                        36   \n",
       "allowed_amt                                                          101.01   \n",
       "stdev_allowed_amt                                                         0   \n",
       "submitted_chrg_amt                                                  340.247   \n",
       "stdev_submitted_chrg_amt                                            28.8054   \n",
       "payment_amt                                                         75.3756   \n",
       "stdev_payment_amt                                                   18.2973   \n",
       "report_year                                                            2013   \n",
       "zip_base                                                              98104   \n",
       "\n",
       "                                                                       1153  \\\n",
       "npi                                                              1003008913   \n",
       "last_org_name                                                        WALKER   \n",
       "first_name                                                           SANDRA   \n",
       "mi                                                                        K   \n",
       "credentials                                                            ARNP   \n",
       "gender                                                                    F   \n",
       "street1                                                         325 9TH AVE   \n",
       "street2                                                                       \n",
       "city                                                                SEATTLE   \n",
       "zip                                                             981042420.0   \n",
       "state                                                                    WA   \n",
       "country                                                                  US   \n",
       "type                                                     Nurse Practitioner   \n",
       "place_of_service                                                          F   \n",
       "hcpcs_code                                                            99285   \n",
       "hcpcs_description         Emergency department visit, problem with signi...   \n",
       "hcpcs_drug_indicator                                                      N   \n",
       "line_srvc_cnt                                                            15   \n",
       "bene_unique_cnt                                                          15   \n",
       "bene_day_srvc_cnt                                                        15   \n",
       "allowed_amt                                                          147.75   \n",
       "stdev_allowed_amt                                                         0   \n",
       "submitted_chrg_amt                                                  507.433   \n",
       "stdev_submitted_chrg_amt                                            24.6545   \n",
       "payment_amt                                                         116.941   \n",
       "stdev_payment_amt                                                   1.17737   \n",
       "report_year                                                            2013   \n",
       "zip_base                                                              98104   \n",
       "\n",
       "                                                                       1176  \\\n",
       "npi                                                              1003009135   \n",
       "last_org_name                                                   MARINKOVICH   \n",
       "first_name                                                             RITA   \n",
       "mi                                                                        A   \n",
       "credentials                                                            ARNP   \n",
       "gender                                                                    F   \n",
       "street1                                             11821 NE 128TH ST STE D   \n",
       "street2                                                                       \n",
       "city                                                               KIRKLAND   \n",
       "zip                                                             980347210.0   \n",
       "state                                                                    WA   \n",
       "country                                                                  US   \n",
       "type                                                     Nurse Practitioner   \n",
       "place_of_service                                                          O   \n",
       "hcpcs_code                                                            99213   \n",
       "hcpcs_description         Established patient office or other outpatient...   \n",
       "hcpcs_drug_indicator                                                      N   \n",
       "line_srvc_cnt                                                            69   \n",
       "bene_unique_cnt                                                          27   \n",
       "bene_day_srvc_cnt                                                        69   \n",
       "allowed_amt                                                           66.93   \n",
       "stdev_allowed_amt                                                         0   \n",
       "submitted_chrg_amt                                                      125   \n",
       "stdev_submitted_chrg_amt                                                  0   \n",
       "payment_amt                                                         51.3894   \n",
       "stdev_payment_amt                                                   7.00424   \n",
       "report_year                                                            2013   \n",
       "zip_base                                                              98034   \n",
       "\n",
       "                                                                       1177  \\\n",
       "npi                                                              1003009135   \n",
       "last_org_name                                                   MARINKOVICH   \n",
       "first_name                                                             RITA   \n",
       "mi                                                                        A   \n",
       "credentials                                                            ARNP   \n",
       "gender                                                                    F   \n",
       "street1                                             11821 NE 128TH ST STE D   \n",
       "street2                                                                       \n",
       "city                                                               KIRKLAND   \n",
       "zip                                                             980347210.0   \n",
       "state                                                                    WA   \n",
       "country                                                                  US   \n",
       "type                                                     Nurse Practitioner   \n",
       "place_of_service                                                          O   \n",
       "hcpcs_code                                                            99214   \n",
       "hcpcs_description         Established patient office or other outpatient...   \n",
       "hcpcs_drug_indicator                                                      N   \n",
       "line_srvc_cnt                                                            72   \n",
       "bene_unique_cnt                                                          27   \n",
       "bene_day_srvc_cnt                                                        72   \n",
       "allowed_amt                                                           97.96   \n",
       "stdev_allowed_amt                                                         0   \n",
       "submitted_chrg_amt                                                      175   \n",
       "stdev_submitted_chrg_amt                                                  0   \n",
       "payment_amt                                                         75.4804   \n",
       "stdev_payment_amt                                                   9.68069   \n",
       "report_year                                                            2013   \n",
       "zip_base                                                              98034   \n",
       "\n",
       "                                                                       1185  \\\n",
       "npi                                                              1003009283   \n",
       "last_org_name                                               SOLBERG-SHANKLE   \n",
       "first_name                                                            HEIDI   \n",
       "mi                                                                        M   \n",
       "credentials                                                              MD   \n",
       "gender                                                                    F   \n",
       "street1                                                    1615 DELAWARE ST   \n",
       "street2                                       ST. JOHN EMERGENCY DEPARTMENT   \n",
       "city                                                               LONGVIEW   \n",
       "zip                                                             986322367.0   \n",
       "state                                                                    WA   \n",
       "country                                                                  US   \n",
       "type                                                     Emergency Medicine   \n",
       "place_of_service                                                          F   \n",
       "hcpcs_code                                                            93010   \n",
       "hcpcs_description         Routine electrocardiogram (EKG) using at least...   \n",
       "hcpcs_drug_indicator                                                      N   \n",
       "line_srvc_cnt                                                           307   \n",
       "bene_unique_cnt                                                         265   \n",
       "bene_day_srvc_cnt                                                       280   \n",
       "allowed_amt                                                            8.14   \n",
       "stdev_allowed_amt                                                         0   \n",
       "submitted_chrg_amt                                                       27   \n",
       "stdev_submitted_chrg_amt                                                  0   \n",
       "payment_amt                                                         6.39691   \n",
       "stdev_payment_amt                                                  0.371012   \n",
       "report_year                                                            2013   \n",
       "zip_base                                                              98632   \n",
       "\n",
       "                                                                       1186  \\\n",
       "npi                                                              1003009283   \n",
       "last_org_name                                               SOLBERG-SHANKLE   \n",
       "first_name                                                            HEIDI   \n",
       "mi                                                                        M   \n",
       "credentials                                                              MD   \n",
       "gender                                                                    F   \n",
       "street1                                                    1615 DELAWARE ST   \n",
       "street2                                       ST. JOHN EMERGENCY DEPARTMENT   \n",
       "city                                                               LONGVIEW   \n",
       "zip                                                             986322367.0   \n",
       "state                                                                    WA   \n",
       "country                                                                  US   \n",
       "type                                                     Emergency Medicine   \n",
       "place_of_service                                                          F   \n",
       "hcpcs_code                                                            99283   \n",
       "hcpcs_description         Emergency department visit, moderately severe ...   \n",
       "hcpcs_drug_indicator                                                      N   \n",
       "line_srvc_cnt                                                            72   \n",
       "bene_unique_cnt                                                          72   \n",
       "bene_day_srvc_cnt                                                        72   \n",
       "allowed_amt                                                           59.54   \n",
       "stdev_allowed_amt                                                         0   \n",
       "submitted_chrg_amt                                                      193   \n",
       "stdev_submitted_chrg_amt                                                  0   \n",
       "payment_amt                                                         42.6944   \n",
       "stdev_payment_amt                                                   12.9872   \n",
       "report_year                                                            2013   \n",
       "zip_base                                                              98632   \n",
       "\n",
       "                                                                       1187  \\\n",
       "npi                                                              1003009283   \n",
       "last_org_name                                               SOLBERG-SHANKLE   \n",
       "first_name                                                            HEIDI   \n",
       "mi                                                                        M   \n",
       "credentials                                                              MD   \n",
       "gender                                                                    F   \n",
       "street1                                                    1615 DELAWARE ST   \n",
       "street2                                       ST. JOHN EMERGENCY DEPARTMENT   \n",
       "city                                                               LONGVIEW   \n",
       "zip                                                             986322367.0   \n",
       "state                                                                    WA   \n",
       "country                                                                  US   \n",
       "type                                                     Emergency Medicine   \n",
       "place_of_service                                                          F   \n",
       "hcpcs_code                                                            99284   \n",
       "hcpcs_description         Emergency department visit, problem of high se...   \n",
       "hcpcs_drug_indicator                                                      N   \n",
       "line_srvc_cnt                                                           114   \n",
       "bene_unique_cnt                                                         112   \n",
       "bene_day_srvc_cnt                                                       114   \n",
       "allowed_amt                                                          113.86   \n",
       "stdev_allowed_amt                                                         0   \n",
       "submitted_chrg_amt                                                      353   \n",
       "stdev_submitted_chrg_amt                                                  0   \n",
       "payment_amt                                                         88.1812   \n",
       "stdev_payment_amt                                                    10.726   \n",
       "report_year                                                            2013   \n",
       "zip_base                                                              98632   \n",
       "\n",
       "                                                                       1188  \\\n",
       "npi                                                              1003009283   \n",
       "last_org_name                                               SOLBERG-SHANKLE   \n",
       "first_name                                                            HEIDI   \n",
       "mi                                                                        M   \n",
       "credentials                                                              MD   \n",
       "gender                                                                    F   \n",
       "street1                                                    1615 DELAWARE ST   \n",
       "street2                                       ST. JOHN EMERGENCY DEPARTMENT   \n",
       "city                                                               LONGVIEW   \n",
       "zip                                                             986322367.0   \n",
       "state                                                                    WA   \n",
       "country                                                                  US   \n",
       "type                                                     Emergency Medicine   \n",
       "place_of_service                                                          F   \n",
       "hcpcs_code                                                            99285   \n",
       "hcpcs_description         Emergency department visit, problem with signi...   \n",
       "hcpcs_drug_indicator                                                      N   \n",
       "line_srvc_cnt                                                           343   \n",
       "bene_unique_cnt                                                         319   \n",
       "bene_day_srvc_cnt                                                       343   \n",
       "allowed_amt                                                          166.65   \n",
       "stdev_allowed_amt                                                         0   \n",
       "submitted_chrg_amt                                                      528   \n",
       "stdev_submitted_chrg_amt                                                  0   \n",
       "payment_amt                                                         127.342   \n",
       "stdev_payment_amt                                                   19.3714   \n",
       "report_year                                                            2013   \n",
       "zip_base                                                              98632   \n",
       "\n",
       "                                                                       1189  \\\n",
       "npi                                                              1003009283   \n",
       "last_org_name                                               SOLBERG-SHANKLE   \n",
       "first_name                                                            HEIDI   \n",
       "mi                                                                        M   \n",
       "credentials                                                              MD   \n",
       "gender                                                                    F   \n",
       "street1                                                    1615 DELAWARE ST   \n",
       "street2                                       ST. JOHN EMERGENCY DEPARTMENT   \n",
       "city                                                               LONGVIEW   \n",
       "zip                                                             986322367.0   \n",
       "state                                                                    WA   \n",
       "country                                                                  US   \n",
       "type                                                     Emergency Medicine   \n",
       "place_of_service                                                          F   \n",
       "hcpcs_code                                                            99291   \n",
       "hcpcs_description         Critical care delivery critically ill or injur...   \n",
       "hcpcs_drug_indicator                                                      N   \n",
       "line_srvc_cnt                                                            18   \n",
       "bene_unique_cnt                                                          18   \n",
       "bene_day_srvc_cnt                                                        18   \n",
       "allowed_amt                                                          216.78   \n",
       "stdev_allowed_amt                                                         0   \n",
       "submitted_chrg_amt                                                      803   \n",
       "stdev_submitted_chrg_amt                                                  0   \n",
       "payment_amt                                                         170.528   \n",
       "stdev_payment_amt                                                   1.29319   \n",
       "report_year                                                            2013   \n",
       "zip_base                                                              98632   \n",
       "\n",
       "                                                                       1571  \\\n",
       "npi                                                              1003011917   \n",
       "last_org_name                                                         CHONG   \n",
       "first_name                                                             NYEN   \n",
       "mi                                                                        V   \n",
       "credentials                                                            M.D.   \n",
       "gender                                                                    M   \n",
       "street1                                                       1802 S YAKIMA   \n",
       "street2                                                             STE 102   \n",
       "city                                                                 TACOMA   \n",
       "zip                                                             984055303.0   \n",
       "state                                                                    WA   \n",
       "country                                                                  US   \n",
       "type                                                       Thoracic Surgery   \n",
       "place_of_service                                                          O   \n",
       "hcpcs_code                                                            99205   \n",
       "hcpcs_description         New patient office or other outpatient visit, ...   \n",
       "hcpcs_drug_indicator                                                      N   \n",
       "line_srvc_cnt                                                            34   \n",
       "bene_unique_cnt                                                          34   \n",
       "bene_day_srvc_cnt                                                        34   \n",
       "allowed_amt                                                         205.114   \n",
       "stdev_allowed_amt                                                   7.44645   \n",
       "submitted_chrg_amt                                                      509   \n",
       "stdev_submitted_chrg_amt                                                  0   \n",
       "payment_amt                                                         153.921   \n",
       "stdev_payment_amt                                                   31.3219   \n",
       "report_year                                                            2013   \n",
       "zip_base                                                              98405   \n",
       "\n",
       "                                                                       1572  \\\n",
       "npi                                                              1003011917   \n",
       "last_org_name                                                         CHONG   \n",
       "first_name                                                             NYEN   \n",
       "mi                                                                        V   \n",
       "credentials                                                            M.D.   \n",
       "gender                                                                    M   \n",
       "street1                                                       1802 S YAKIMA   \n",
       "street2                                                             STE 102   \n",
       "city                                                                 TACOMA   \n",
       "zip                                                             984055303.0   \n",
       "state                                                                    WA   \n",
       "country                                                                  US   \n",
       "type                                                       Thoracic Surgery   \n",
       "place_of_service                                                          O   \n",
       "hcpcs_code                                                            99213   \n",
       "hcpcs_description         Established patient office or other outpatient...   \n",
       "hcpcs_drug_indicator                                                      N   \n",
       "line_srvc_cnt                                                            32   \n",
       "bene_unique_cnt                                                          27   \n",
       "bene_day_srvc_cnt                                                        32   \n",
       "allowed_amt                                                         72.9419   \n",
       "stdev_allowed_amt                                                   1.41304   \n",
       "submitted_chrg_amt                                                      181   \n",
       "stdev_submitted_chrg_amt                                                  0   \n",
       "payment_amt                                                         54.6706   \n",
       "stdev_payment_amt                                                     11.34   \n",
       "report_year                                                            2013   \n",
       "zip_base                                                              98405   \n",
       "\n",
       "                                                                       1573  \\\n",
       "npi                                                              1003011917   \n",
       "last_org_name                                                         CHONG   \n",
       "first_name                                                             NYEN   \n",
       "mi                                                                        V   \n",
       "credentials                                                            M.D.   \n",
       "gender                                                                    M   \n",
       "street1                                                       1802 S YAKIMA   \n",
       "street2                                                             STE 102   \n",
       "city                                                                 TACOMA   \n",
       "zip                                                             984055303.0   \n",
       "state                                                                    WA   \n",
       "country                                                                  US   \n",
       "type                                                       Thoracic Surgery   \n",
       "place_of_service                                                          O   \n",
       "hcpcs_code                                                            99214   \n",
       "hcpcs_description         Established patient office or other outpatient...   \n",
       "hcpcs_drug_indicator                                                      N   \n",
       "line_srvc_cnt                                                            16   \n",
       "bene_unique_cnt                                                          13   \n",
       "bene_day_srvc_cnt                                                        16   \n",
       "allowed_amt                                                         105.987   \n",
       "stdev_allowed_amt                                                   2.08817   \n",
       "submitted_chrg_amt                                                      266   \n",
       "stdev_submitted_chrg_amt                                                  0   \n",
       "payment_amt                                                         75.4887   \n",
       "stdev_payment_amt                                                   21.3704   \n",
       "report_year                                                            2013   \n",
       "zip_base                                                              98405   \n",
       "\n",
       "                                                                       1574  \\\n",
       "npi                                                              1003011917   \n",
       "last_org_name                                                         CHONG   \n",
       "first_name                                                             NYEN   \n",
       "mi                                                                        V   \n",
       "credentials                                                            M.D.   \n",
       "gender                                                                    M   \n",
       "street1                                                       1802 S YAKIMA   \n",
       "street2                                                             STE 102   \n",
       "city                                                                 TACOMA   \n",
       "zip                                                             984055303.0   \n",
       "state                                                                    WA   \n",
       "country                                                                  US   \n",
       "type                                                       Thoracic Surgery   \n",
       "place_of_service                                                          F   \n",
       "hcpcs_code                                                            99223   \n",
       "hcpcs_description         Initial hospital inpatient care, typically 70 ...   \n",
       "hcpcs_drug_indicator                                                      N   \n",
       "line_srvc_cnt                                                            12   \n",
       "bene_unique_cnt                                                          12   \n",
       "bene_day_srvc_cnt                                                        12   \n",
       "allowed_amt                                                         194.852   \n",
       "stdev_allowed_amt                                                   4.27384   \n",
       "submitted_chrg_amt                                                      494   \n",
       "stdev_submitted_chrg_amt                                                  0   \n",
       "payment_amt                                                         153.818   \n",
       "stdev_payment_amt                                                   4.18666   \n",
       "report_year                                                            2013   \n",
       "zip_base                                                              98405   \n",
       "\n",
       "                                                                   2659  \\\n",
       "npi                                                          1003015553   \n",
       "last_org_name                                                   FISHMAN   \n",
       "first_name                                                      MICHAEL   \n",
       "mi                                                                    S   \n",
       "credentials                                                        M.D.   \n",
       "gender                                                                M   \n",
       "street1                                                 939 CAROLINE ST   \n",
       "street2                                                                   \n",
       "city                                                       PORT ANGELES   \n",
       "zip                                                         983623909.0   \n",
       "state                                                                WA   \n",
       "country                                                              US   \n",
       "type                                               Diagnostic Radiology   \n",
       "place_of_service                                                      F   \n",
       "hcpcs_code                                                        10022   \n",
       "hcpcs_description         Fine needle aspiration using imaging guidance   \n",
       "hcpcs_drug_indicator                                                  N   \n",
       "line_srvc_cnt                                                        15   \n",
       "bene_unique_cnt                                                      14   \n",
       "bene_day_srvc_cnt                                                    14   \n",
       "allowed_amt                                                       64.18   \n",
       "stdev_allowed_amt                                                     0   \n",
       "submitted_chrg_amt                                               246.19   \n",
       "stdev_submitted_chrg_amt                                              0   \n",
       "payment_amt                                                     50.5847   \n",
       "stdev_payment_amt                                              0.455483   \n",
       "report_year                                                        2013   \n",
       "zip_base                                                          98362   \n",
       "\n",
       "                                                                       2660  \\\n",
       "npi                                                              1003015553   \n",
       "last_org_name                                                       FISHMAN   \n",
       "first_name                                                          MICHAEL   \n",
       "mi                                                                        S   \n",
       "credentials                                                            M.D.   \n",
       "gender                                                                    M   \n",
       "street1                                                     939 CAROLINE ST   \n",
       "street2                                                                       \n",
       "city                                                           PORT ANGELES   \n",
       "zip                                                             983623909.0   \n",
       "state                                                                    WA   \n",
       "country                                                                  US   \n",
       "type                                                   Diagnostic Radiology   \n",
       "place_of_service                                                          F   \n",
       "hcpcs_code                                                            20610   \n",
       "hcpcs_description         Aspiration or injection of large joint or join...   \n",
       "hcpcs_drug_indicator                                                      N   \n",
       "line_srvc_cnt                                                            79   \n",
       "bene_unique_cnt                                                          66   \n",
       "bene_day_srvc_cnt                                                        78   \n",
       "allowed_amt                                                         46.4047   \n",
       "stdev_allowed_amt                                                   5.66278   \n",
       "submitted_chrg_amt                                                    144.1   \n",
       "stdev_submitted_chrg_amt                                                  0   \n",
       "payment_amt                                                         36.3046   \n",
       "stdev_payment_amt                                                   4.72477   \n",
       "report_year                                                            2013   \n",
       "zip_base                                                              98362   \n",
       "\n",
       "                                                           2661  \\\n",
       "npi                                                  1003015553   \n",
       "last_org_name                                           FISHMAN   \n",
       "first_name                                              MICHAEL   \n",
       "mi                                                            S   \n",
       "credentials                                                M.D.   \n",
       "gender                                                        M   \n",
       "street1                                         939 CAROLINE ST   \n",
       "street2                                                           \n",
       "city                                               PORT ANGELES   \n",
       "zip                                                 983623909.0   \n",
       "state                                                        WA   \n",
       "country                                                      US   \n",
       "type                                       Diagnostic Radiology   \n",
       "place_of_service                                              F   \n",
       "hcpcs_code                                                32405   \n",
       "hcpcs_description         Needle biopsy of lung or chest tissue   \n",
       "hcpcs_drug_indicator                                          N   \n",
       "line_srvc_cnt                                                31   \n",
       "bene_unique_cnt                                              30   \n",
       "bene_day_srvc_cnt                                            31   \n",
       "allowed_amt                                              102.61   \n",
       "stdev_allowed_amt                                             0   \n",
       "submitted_chrg_amt                                          336   \n",
       "stdev_submitted_chrg_amt                                      0   \n",
       "payment_amt                                             80.8203   \n",
       "stdev_payment_amt                                      0.685704   \n",
       "report_year                                                2013   \n",
       "zip_base                                                  98362   \n",
       "\n",
       "                                                                       2662  \n",
       "npi                                                              1003015553  \n",
       "last_org_name                                                       FISHMAN  \n",
       "first_name                                                          MICHAEL  \n",
       "mi                                                                        S  \n",
       "credentials                                                            M.D.  \n",
       "gender                                                                    M  \n",
       "street1                                                     939 CAROLINE ST  \n",
       "street2                                                                      \n",
       "city                                                           PORT ANGELES  \n",
       "zip                                                             983623909.0  \n",
       "state                                                                    WA  \n",
       "country                                                                  US  \n",
       "type                                                   Diagnostic Radiology  \n",
       "place_of_service                                                          F  \n",
       "hcpcs_code                                                            32555  \n",
       "hcpcs_description         Removal of fluid from chest cavity with imagin...  \n",
       "hcpcs_drug_indicator                                                      N  \n",
       "line_srvc_cnt                                                            58  \n",
       "bene_unique_cnt                                                          39  \n",
       "bene_day_srvc_cnt                                                        58  \n",
       "allowed_amt                                                         110.549  \n",
       "stdev_allowed_amt                                                   7.25695  \n",
       "submitted_chrg_amt                                                   351.57  \n",
       "stdev_submitted_chrg_amt                                                  0  \n",
       "payment_amt                                                         86.9986  \n",
       "stdev_payment_amt                                                   5.65448  \n",
       "report_year                                                            2013  \n",
       "zip_base                                                              98362  "
      ]
     },
     "execution_count": 124,
     "metadata": {},
     "output_type": "execute_result"
    }
   ],
   "source": [
    "data_2013.head(20).T"
   ]
  },
  {
   "cell_type": "code",
   "execution_count": 27,
   "metadata": {
    "collapsed": false
   },
   "outputs": [
    {
     "name": "stdout",
     "output_type": "stream",
     "text": [
      "<class 'pandas.core.frame.DataFrame'>\n",
      "Int64Index: 172517 entries, 1059 to 9153266\n",
      "Data columns (total 28 columns):\n",
      "npi                         172517 non-null int64\n",
      "last_org_name               172517 non-null object\n",
      "first_name                  172517 non-null object\n",
      "mi                          172517 non-null object\n",
      "credentials                 172517 non-null object\n",
      "gender                      172517 non-null object\n",
      "street1                     172517 non-null object\n",
      "street2                     172517 non-null object\n",
      "city                        172517 non-null object\n",
      "zip                         172517 non-null object\n",
      "state                       172517 non-null object\n",
      "country                     172517 non-null object\n",
      "type                        172517 non-null object\n",
      "place_of_service            172517 non-null object\n",
      "hcpcs_code                  172517 non-null object\n",
      "hcpcs_description           172517 non-null object\n",
      "hcpcs_drug_indicator        172517 non-null object\n",
      "line_srvc_cnt               172517 non-null float64\n",
      "bene_unique_cnt             172517 non-null float64\n",
      "bene_day_srvc_cnt           172517 non-null float64\n",
      "allowed_amt                 172517 non-null float64\n",
      "stdev_allowed_amt           172517 non-null float64\n",
      "submitted_chrg_amt          172517 non-null float64\n",
      "stdev_submitted_chrg_amt    172517 non-null float64\n",
      "payment_amt                 172517 non-null float64\n",
      "stdev_payment_amt           172517 non-null float64\n",
      "report_year                 172517 non-null object\n",
      "zip_base                    172517 non-null object\n",
      "dtypes: float64(9), int64(1), object(18)\n",
      "memory usage: 38.2+ MB\n"
     ]
    }
   ],
   "source": [
    "data_provider_wa.info()"
   ]
  },
  {
   "cell_type": "code",
   "execution_count": null,
   "metadata": {
    "collapsed": true
   },
   "outputs": [],
   "source": [
    "#keep=['npi','nppes_provider_last_org_name', 'nppes_provider_first_name','nppes_provider_zip']"
   ]
  },
  {
   "cell_type": "code",
   "execution_count": null,
   "metadata": {
    "collapsed": true
   },
   "outputs": [],
   "source": [
    "#data_all=data_all[keep]"
   ]
  },
  {
   "cell_type": "code",
   "execution_count": null,
   "metadata": {
    "collapsed": false
   },
   "outputs": [],
   "source": [
    "#data_all.head(3)"
   ]
  },
  {
   "cell_type": "code",
   "execution_count": null,
   "metadata": {
    "collapsed": false
   },
   "outputs": [],
   "source": [
    "#data_all.info()"
   ]
  },
  {
   "cell_type": "code",
   "execution_count": null,
   "metadata": {
    "collapsed": false
   },
   "outputs": [],
   "source": [
    "#data_all.count()"
   ]
  },
  {
   "cell_type": "code",
   "execution_count": null,
   "metadata": {
    "collapsed": false
   },
   "outputs": [],
   "source": [
    "#data_all.dropna().count()"
   ]
  },
  {
   "cell_type": "code",
   "execution_count": null,
   "metadata": {
    "collapsed": true
   },
   "outputs": [],
   "source": [
    "#data_all=data_all.dropna()"
   ]
  },
  {
   "cell_type": "code",
   "execution_count": null,
   "metadata": {
    "collapsed": false
   },
   "outputs": [],
   "source": [
    "#data_all.head(3)"
   ]
  },
  {
   "cell_type": "code",
   "execution_count": null,
   "metadata": {
    "collapsed": false
   },
   "outputs": [],
   "source": [
    "#data_all.info()"
   ]
  },
  {
   "cell_type": "code",
   "execution_count": null,
   "metadata": {
    "collapsed": false
   },
   "outputs": [],
   "source": [
    "#data_all['nppes_provider_zip']=data_all['nppes_provider_zip'].astype(str)"
   ]
  },
  {
   "cell_type": "code",
   "execution_count": null,
   "metadata": {
    "collapsed": false
   },
   "outputs": [],
   "source": [
    "#data_all.head(3)"
   ]
  },
  {
   "cell_type": "code",
   "execution_count": null,
   "metadata": {
    "collapsed": false
   },
   "outputs": [],
   "source": [
    "#data_all['nppes_provider_zip']=data_all['nppes_provider_zip'].str.slice(0,5)"
   ]
  },
  {
   "cell_type": "code",
   "execution_count": null,
   "metadata": {
    "collapsed": false
   },
   "outputs": [],
   "source": [
    "#data_all.head(15)"
   ]
  },
  {
   "cell_type": "code",
   "execution_count": null,
   "metadata": {
    "collapsed": false
   },
   "outputs": [],
   "source": [
    "#data_all.info()"
   ]
  },
  {
   "cell_type": "code",
   "execution_count": null,
   "metadata": {
    "collapsed": false
   },
   "outputs": [],
   "source": [
    "#data_all['nppes_provider_zip']=data_all['nppes_provider_zip'].astype(int)"
   ]
  },
  {
   "cell_type": "code",
   "execution_count": null,
   "metadata": {
    "collapsed": false
   },
   "outputs": [],
   "source": [
    "#data_all"
   ]
  },
  {
   "cell_type": "code",
   "execution_count": null,
   "metadata": {
    "collapsed": true
   },
   "outputs": [],
   "source": [
    "#def add_names(x, y):\n",
    "#    return x + ' ' + y"
   ]
  },
  {
   "cell_type": "code",
   "execution_count": null,
   "metadata": {
    "collapsed": false
   },
   "outputs": [],
   "source": [
    "#data_all.groupby('nppes_provider_zip').count()"
   ]
  },
  {
   "cell_type": "code",
   "execution_count": null,
   "metadata": {
    "collapsed": true
   },
   "outputs": [],
   "source": [
    "#data_all.to_csv('providers_names_and_zips.csv')"
   ]
  },
  {
   "cell_type": "code",
   "execution_count": null,
   "metadata": {
    "collapsed": true
   },
   "outputs": [],
   "source": [
    "# def find_names(a):\n",
    "#     df = pd.read_csv('7_move_javascript/providers_names_and_zips.csv')\n",
    "#     for zipcode in df['nppes_provider_zip']:\n",
    "#         if zipcode == a:\n",
    "#             firs_nm = df['nppes_provider_first_name'].values()\n",
    "#             last_nm = df['nppes_provider_last_org_name'].values()\n",
    "#             break\n",
    "#     return firs_nm, last_nm\n"
   ]
  },
  {
   "cell_type": "code",
   "execution_count": null,
   "metadata": {
    "collapsed": false
   },
   "outputs": [],
   "source": [
    "#df2=df1[df1['nppes_provider_zip']==98101]"
   ]
  },
  {
   "cell_type": "code",
   "execution_count": null,
   "metadata": {
    "collapsed": false
   },
   "outputs": [],
   "source": [
    "#df2['nppes_provider_last_org_name'].values[0]"
   ]
  },
  {
   "cell_type": "code",
   "execution_count": null,
   "metadata": {
    "collapsed": false
   },
   "outputs": [],
   "source": [
    "#last_nm = df2['nppes_provider_last_org_name'].values[0]\n",
    "#first_nm = df2['nppes_provider_first_name'].values[0]"
   ]
  },
  {
   "cell_type": "code",
   "execution_count": null,
   "metadata": {
    "collapsed": false
   },
   "outputs": [],
   "source": [
    "#print last_nm"
   ]
  },
  {
   "cell_type": "code",
   "execution_count": null,
   "metadata": {
    "collapsed": false
   },
   "outputs": [],
   "source": [
    "#print first_nm"
   ]
  },
  {
   "cell_type": "code",
   "execution_count": null,
   "metadata": {
    "collapsed": true
   },
   "outputs": [],
   "source": []
  }
 ],
 "metadata": {
  "anaconda-cloud": {},
  "kernelspec": {
   "display_name": "Python [conda root]",
   "language": "python",
   "name": "conda-root-py"
  },
  "language_info": {
   "codemirror_mode": {
    "name": "ipython",
    "version": 2
   },
   "file_extension": ".py",
   "mimetype": "text/x-python",
   "name": "python",
   "nbconvert_exporter": "python",
   "pygments_lexer": "ipython2",
   "version": "2.7.13"
  }
 },
 "nbformat": 4,
 "nbformat_minor": 1
}
