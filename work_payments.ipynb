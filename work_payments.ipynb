{
 "cells": [
  {
   "cell_type": "code",
   "execution_count": 1,
   "metadata": {
    "collapsed": true
   },
   "outputs": [],
   "source": [
    "import pandas as pd\n",
    "import numpy as np"
   ]
  },
  {
   "cell_type": "code",
   "execution_count": 2,
   "metadata": {
    "collapsed": false,
    "scrolled": true
   },
   "outputs": [
    {
     "name": "stderr",
     "output_type": "stream",
     "text": [
      "/Users/aurelperianu/anaconda/lib/python2.7/site-packages/IPython/core/interactiveshell.py:2717: DtypeWarning: Columns (10) have mixed types. Specify dtype option on import or set low_memory=False.\n",
      "  interactivity=interactivity, compiler=compiler, result=result)\n"
     ]
    }
   ],
   "source": [
    "#import 2014\n",
    "data_all_2014=pd.read_csv('Medicare_Data/2014MedicareProviderPayment.txt', delimiter='\\t')"
   ]
  },
  {
   "cell_type": "code",
   "execution_count": 3,
   "metadata": {
    "collapsed": true
   },
   "outputs": [],
   "source": [
    "#fct rename columns lower letters; remove spaces\n",
    "def lower_columns(pdx):\n",
    "    cols = pdx.columns.tolist()\n",
    "    cols = [col.lower() for col in cols]\n",
    "    pdx.columns = cols\n",
    "    pdx.rename(columns=lambda x: x.strip().replace(\" \", \"_\"), inplace=True)\n",
    "    return pdx\n",
    "data_all_2014=lower_columns(data_all_2014)"
   ]
  },
  {
   "cell_type": "code",
   "execution_count": 4,
   "metadata": {
    "collapsed": false
   },
   "outputs": [],
   "source": [
    "\n",
    "#cleaup first row\n",
    "data_all_2014= data_all_2014[data_all_2014.npi != 1]\n",
    "#add report year\n",
    "data_all_2014['report_year']='2014'\n",
    "\n",
    "#add zip code\n",
    "data_all_2014['nppes_provider_zip']=data_all_2014['nppes_provider_zip'].astype(str)\n",
    "data_all_2014['nppes_provider_zip_base']=data_all_2014['nppes_provider_zip'].str.slice(0,5)\n",
    "#data_all['nppes_provider_zip_base'].unique()"
   ]
  },
  {
   "cell_type": "code",
   "execution_count": 5,
   "metadata": {
    "collapsed": false
   },
   "outputs": [],
   "source": [
    "#data_all_2014.columns"
   ]
  },
  {
   "cell_type": "code",
   "execution_count": 6,
   "metadata": {
    "collapsed": false
   },
   "outputs": [],
   "source": [
    "#select WA state providers\n",
    "data_all_2014['nppes_provider_state']=data_all_2014['nppes_provider_state'].astype(str)\n",
    "wa_data_provider_14=data_all_2014[data_all_2014['nppes_provider_state']=='WA']"
   ]
  },
  {
   "cell_type": "code",
   "execution_count": 7,
   "metadata": {
    "collapsed": false
   },
   "outputs": [
    {
     "data": {
      "text/plain": [
       "(186239, 28)"
      ]
     },
     "execution_count": 7,
     "metadata": {},
     "output_type": "execute_result"
    }
   ],
   "source": [
    "#exploratory\n",
    "wa_data_provider_14.shape\n",
    "#data_provider_wa.info()"
   ]
  },
  {
   "cell_type": "code",
   "execution_count": 8,
   "metadata": {
    "collapsed": false
   },
   "outputs": [],
   "source": [
    "#remove all non-individual provider from data\n",
    "wa_data_provider_14=wa_data_provider_14[wa_data_provider_14.nppes_provider_first_name.notnull()]"
   ]
  },
  {
   "cell_type": "code",
   "execution_count": 9,
   "metadata": {
    "collapsed": true
   },
   "outputs": [],
   "source": [
    "#remove all non-medicare providers and the payments for drugs only\n",
    "wa_data_provider_14=wa_data_provider_14[wa_data_provider_14['medicare_participation_indicator']=='Y']\n",
    "wa_data_provider_14=wa_data_provider_14[wa_data_provider_14.hcpcs_drug_indicator !='Y']"
   ]
  },
  {
   "cell_type": "code",
   "execution_count": 10,
   "metadata": {
    "collapsed": false,
    "scrolled": true
   },
   "outputs": [],
   "source": [
    "#function to drop columns\n",
    "drop_col=['nppes_entity_code','medicare_participation_indicator', 'hcpcs_drug_indicator']\n",
    "def drop_columns(col_remove,pdx):\n",
    "    columns=list(pdx.columns.values)\n",
    "    for col in col_remove:\n",
    "        if col in columns:\n",
    "            pdx.drop(col, axis=1, inplace=True)\n",
    "    return pdx\n",
    "#drop_columns(drop_col,data_provider_wa)       "
   ]
  },
  {
   "cell_type": "code",
   "execution_count": 11,
   "metadata": {
    "collapsed": true
   },
   "outputs": [],
   "source": [
    "# data_provider_wa_2014['test_x']='100'\n",
    "# data_provider_wa_2014['test_y']='100'\n",
    "# drop_col=['test_x','test_y']"
   ]
  },
  {
   "cell_type": "code",
   "execution_count": 12,
   "metadata": {
    "collapsed": false
   },
   "outputs": [],
   "source": [
    "wa_data_provider_14=drop_columns(drop_col,wa_data_provider_14)   "
   ]
  },
  {
   "cell_type": "code",
   "execution_count": 13,
   "metadata": {
    "collapsed": false
   },
   "outputs": [],
   "source": [
    "#data2=data1[data1.nppes_provider_first_name.isnull()]\n",
    "#data_provider_wa_2014['participation_indicator'].unique()\n",
    "#data_provider_wa_2014['bene_day_srvc_cnt'].value_counts()"
   ]
  },
  {
   "cell_type": "code",
   "execution_count": 14,
   "metadata": {
    "collapsed": true
   },
   "outputs": [],
   "source": [
    "#fct remane columns\n",
    "def name_columns(value_old,value_new,pdx):\n",
    "    cols = pdx.columns.tolist()\n",
    "    cols = [col.replace(value_old,value_new) for col in cols]\n",
    "    pdx.columns = cols\n",
    "    return pdx\n",
    "\n"
   ]
  },
  {
   "cell_type": "code",
   "execution_count": 15,
   "metadata": {
    "collapsed": true
   },
   "outputs": [],
   "source": [
    "wa_data_provider_14=name_columns(\"nppes_\",\"\", wa_data_provider_14)\n",
    "wa_data_provider_14=name_columns(\"provider_\",\"\", wa_data_provider_14)\n",
    "wa_data_provider_14=name_columns(\"medicare_\",\"\", wa_data_provider_14)\n",
    "#data_provider_wa_2014=name_columns(\"medicare_\",\"\", data_provider_wa_2014)\n",
    "wa_data_provider_14=name_columns(\"average_\",\"\", wa_data_provider_14)\n",
    "\n",
    "#replace NaN with '' for all columns\n",
    "wa_data_provider_14.fillna('',inplace=True)\n"
   ]
  },
  {
   "cell_type": "code",
   "execution_count": 16,
   "metadata": {
    "collapsed": false
   },
   "outputs": [],
   "source": [
    "#Calculate delta for payments\n",
    "wa_data_provider_14['submitted_delta']=wa_data_provider_14['submitted_chrg_amt']-wa_data_provider_14['payment_amt']\n",
    "wa_data_provider_14['allowed_delta']=wa_data_provider_14['allowed_amt']-wa_data_provider_14['payment_amt']\n"
   ]
  },
  {
   "cell_type": "code",
   "execution_count": 17,
   "metadata": {
    "collapsed": false
   },
   "outputs": [],
   "source": [
    "#wa_data_provider_14.info()"
   ]
  },
  {
   "cell_type": "code",
   "execution_count": 18,
   "metadata": {
    "collapsed": true
   },
   "outputs": [],
   "source": [
    "#wa_data_provider_14.to_pickle('wa_data_provider_14_pickle.pkl') "
   ]
  },
  {
   "cell_type": "code",
   "execution_count": 19,
   "metadata": {
    "collapsed": true
   },
   "outputs": [],
   "source": [
    "#wa_data_provider_14= pd.read_pickle('wa_data_provider_14_pickle.pkl')"
   ]
  },
  {
   "cell_type": "code",
   "execution_count": 20,
   "metadata": {
    "collapsed": false,
    "scrolled": false
   },
   "outputs": [],
   "source": [
    "#wa_data_provider_14.head().T"
   ]
  },
  {
   "cell_type": "code",
   "execution_count": 21,
   "metadata": {
    "collapsed": true
   },
   "outputs": [],
   "source": [
    "#hcpcs_drug_indicator=N\n",
    "# REMOVE line_srvc_cnt, standard_amt\n",
    "#difference between submitted_chrg_amt;payment_amt\n",
    "#difference between allowed_amt;payment_amt"
   ]
  },
  {
   "cell_type": "code",
   "execution_count": 22,
   "metadata": {
    "collapsed": false
   },
   "outputs": [],
   "source": [
    "# hosp_rating_gr=hosp_all.groupby(['provider_id','hospital_name','city','state','zip_code','county_name'])[['row_rating']].sum()\n",
    "# hosp_rating_gr=hosp_rating_gr.reset_index()"
   ]
  },
  {
   "cell_type": "code",
   "execution_count": 23,
   "metadata": {
    "collapsed": false
   },
   "outputs": [],
   "source": [
    "#group by numeric values\n",
    "# exclude ,'place_of_service' field\n",
    "col_groupby=['npi','last_org_name','first_name','mi','credentials','gender','street1','street2','city','zip','state',\n",
    " 'country','type','report_year','zip_base']\n",
    "col_sum=['line_srvc_cnt','bene_unique_cnt','bene_day_srvc_cnt','allowed_amt','submitted_chrg_amt','payment_amt',\n",
    " 'standard_amt','submitted_delta','allowed_delta']\n",
    "#wa_data_provider_14_gr=wa_data_provider_14.groupby(col_groupby)[col_sum].sum()\n",
    "wa_data_provider_14_gr=wa_data_provider_14.groupby(col_groupby)[col_sum].sum()\n",
    "wa_data_provider_14_gr=wa_data_provider_14_gr.reset_index()"
   ]
  },
  {
   "cell_type": "code",
   "execution_count": null,
   "metadata": {
    "collapsed": true
   },
   "outputs": [],
   "source": []
  },
  {
   "cell_type": "code",
   "execution_count": 24,
   "metadata": {
    "collapsed": false
   },
   "outputs": [],
   "source": [
    "#wa_data_provider_14_gr.columns.tolist()"
   ]
  },
  {
   "cell_type": "code",
   "execution_count": 25,
   "metadata": {
    "collapsed": false
   },
   "outputs": [],
   "source": [
    "#wa_data_provider_14_gr.head()"
   ]
  },
  {
   "cell_type": "code",
   "execution_count": 26,
   "metadata": {
    "collapsed": false
   },
   "outputs": [],
   "source": [
    "#check duplicates - no duplicates\n",
    "#wa_data_provider_14_gr[wa_data_provider_14_gr.duplicated(['npi'],keep=False)]"
   ]
  },
  {
   "cell_type": "code",
   "execution_count": 27,
   "metadata": {
    "collapsed": false
   },
   "outputs": [],
   "source": [
    "wa_data_provider_14_gr['submitted_delta_perc']=wa_data_provider_14_gr['submitted_delta']/wa_data_provider_14_gr['payment_amt']\n",
    "wa_data_provider_14_gr['allowed_delta_perc']=wa_data_provider_14_gr['allowed_delta']/wa_data_provider_14_gr['payment_amt']\n",
    "#x[x['npi']==1992980213].T"
   ]
  },
  {
   "cell_type": "code",
   "execution_count": 28,
   "metadata": {
    "collapsed": false
   },
   "outputs": [],
   "source": [
    "#wa_data_provider_14_gr.head().T"
   ]
  },
  {
   "cell_type": "code",
   "execution_count": null,
   "metadata": {
    "collapsed": true
   },
   "outputs": [],
   "source": []
  },
  {
   "cell_type": "code",
   "execution_count": 29,
   "metadata": {
    "collapsed": true
   },
   "outputs": [],
   "source": [
    "wa_data_provider_14_gr.to_pickle('wa_data_provider_14_gr_pickle.pkl') "
   ]
  },
  {
   "cell_type": "code",
   "execution_count": 30,
   "metadata": {
    "collapsed": true
   },
   "outputs": [],
   "source": [
    "wa_data_provider_14_gr= pd.read_pickle('wa_data_provider_14_gr_pickle.pkl')"
   ]
  },
  {
   "cell_type": "code",
   "execution_count": null,
   "metadata": {
    "collapsed": true
   },
   "outputs": [],
   "source": []
  },
  {
   "cell_type": "code",
   "execution_count": null,
   "metadata": {
    "collapsed": true
   },
   "outputs": [],
   "source": []
  },
  {
   "cell_type": "code",
   "execution_count": null,
   "metadata": {
    "collapsed": true
   },
   "outputs": [],
   "source": []
  },
  {
   "cell_type": "code",
   "execution_count": 31,
   "metadata": {
    "collapsed": false
   },
   "outputs": [],
   "source": [
    "#data_2014.columns.tolist()"
   ]
  },
  {
   "cell_type": "code",
   "execution_count": 32,
   "metadata": {
    "collapsed": false
   },
   "outputs": [],
   "source": [
    "# #remove all columns that are not common in all files\n",
    "\n",
    "\n",
    "# #set columns as sets to compare them\n",
    "# # these can be put in a function\n",
    "# set_col_2012=set(data_2012.columns)\n",
    "# set_col_2013=set(data_2013.columns)\n",
    "# set_col_2014=set(data_2014.columns)\n",
    "# #print set_col_2014\n",
    "# results_intersection = set.intersection(set_col_2012,set_col_2013,set_col_2014)\n",
    "\n",
    "# #print results_intersection\n",
    "# diff_2012=set_col_2012-results_intersection\n",
    "# diff_2013=set_col_2013-results_intersection\n",
    "# diff_2014=set_col_2014-results_intersection\n",
    "\n",
    "# #print diff_2014\n",
    "\n",
    "# results_union = list(set().union(diff_2012,diff_2013,diff_2014))\n",
    "\n",
    "# # #print results_union\n",
    "\n",
    "# data_2012=drop_columns(results_union,data_2012)  \n",
    "# data_2013=drop_columns(results_union,data_2013)  \n",
    "# data_2014=drop_columns(results_union,data_2014) "
   ]
  }
 ],
 "metadata": {
  "anaconda-cloud": {},
  "kernelspec": {
   "display_name": "Python [conda root]",
   "language": "python",
   "name": "conda-root-py"
  },
  "language_info": {
   "codemirror_mode": {
    "name": "ipython",
    "version": 2
   },
   "file_extension": ".py",
   "mimetype": "text/x-python",
   "name": "python",
   "nbconvert_exporter": "python",
   "pygments_lexer": "ipython2",
   "version": "2.7.13"
  }
 },
 "nbformat": 4,
 "nbformat_minor": 1
}
