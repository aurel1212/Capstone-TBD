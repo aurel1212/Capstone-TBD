{
 "cells": [
  {
   "cell_type": "code",
   "execution_count": 1,
   "metadata": {
    "collapsed": true
   },
   "outputs": [],
   "source": [
    "import pandas as pd\n",
    "import numpy as np"
   ]
  },
  {
   "cell_type": "code",
   "execution_count": 2,
   "metadata": {
    "collapsed": false
   },
   "outputs": [
    {
     "name": "stderr",
     "output_type": "stream",
     "text": [
      "/Users/aurelperianu/anaconda/lib/python2.7/site-packages/IPython/core/interactiveshell.py:2717: DtypeWarning: Columns (10) have mixed types. Specify dtype option on import or set low_memory=False.\n",
      "  interactivity=interactivity, compiler=compiler, result=result)\n"
     ]
    }
   ],
   "source": [
    "#1\n",
    "data_all_2012=pd.read_csv('Medicare_Data/2012MedicareProviderPayment.txt', delimiter='\\t')"
   ]
  },
  {
   "cell_type": "code",
   "execution_count": 3,
   "metadata": {
    "collapsed": true
   },
   "outputs": [],
   "source": [
    "#fct rename columns lower letters; remove spaces\n",
    "def lower_columns(pdx):\n",
    "    cols = pdx.columns.tolist()\n",
    "    cols = [col.lower() for col in cols]\n",
    "    pdx.columns = cols\n",
    "    pdx.rename(columns=lambda x: x.strip().replace(\" \", \"_\"), inplace=True)\n",
    "    return pdx\n",
    "data_all_2012=lower_columns(data_all_2012)"
   ]
  },
  {
   "cell_type": "code",
   "execution_count": 4,
   "metadata": {
    "collapsed": false
   },
   "outputs": [],
   "source": [
    "\n",
    "#cleaup first row\n",
    "data_all_2012= data_all_2012[data_all_2012.npi != 1]\n",
    "#add report year\n",
    "data_all_2012['report_year']='2012'\n",
    "\n",
    "#add zip code\n",
    "data_all_2012['nppes_provider_zip']=data_all_2012['nppes_provider_zip'].astype(str)\n",
    "data_all_2012['nppes_provider_zip_base']=data_all_2012['nppes_provider_zip'].str.slice(0,5)\n",
    "#data_all['nppes_provider_zip_base'].unique()"
   ]
  },
  {
   "cell_type": "code",
   "execution_count": 5,
   "metadata": {
    "collapsed": false
   },
   "outputs": [
    {
     "data": {
      "text/plain": [
       "Index([u'npi', u'nppes_provider_last_org_name', u'nppes_provider_first_name',\n",
       "       u'nppes_provider_mi', u'nppes_credentials', u'nppes_provider_gender',\n",
       "       u'nppes_entity_code', u'nppes_provider_street1',\n",
       "       u'nppes_provider_street2', u'nppes_provider_city',\n",
       "       u'nppes_provider_zip', u'nppes_provider_state',\n",
       "       u'nppes_provider_country', u'provider_type',\n",
       "       u'medicare_participation_indicator', u'place_of_service', u'hcpcs_code',\n",
       "       u'hcpcs_description', u'hcpcs_drug_indicator', u'line_srvc_cnt',\n",
       "       u'bene_unique_cnt', u'bene_day_srvc_cnt',\n",
       "       u'average_medicare_allowed_amt', u'stdev_medicare_allowed_amt',\n",
       "       u'average_submitted_chrg_amt', u'stdev_submitted_chrg_amt',\n",
       "       u'average_medicare_payment_amt', u'stdev_medicare_payment_amt',\n",
       "       u'report_year', u'nppes_provider_zip_base'],\n",
       "      dtype='object')"
      ]
     },
     "execution_count": 5,
     "metadata": {},
     "output_type": "execute_result"
    }
   ],
   "source": [
    "data_all_2012.columns"
   ]
  },
  {
   "cell_type": "code",
   "execution_count": 6,
   "metadata": {
    "collapsed": false
   },
   "outputs": [],
   "source": [
    "#select WA state providers\n",
    "data_all_2012['nppes_provider_state']=data_all_2012['nppes_provider_state'].astype(str)\n",
    "wa_data_provider_12=data_all_2012[data_all_2012['nppes_provider_state']=='WA']"
   ]
  },
  {
   "cell_type": "code",
   "execution_count": 7,
   "metadata": {
    "collapsed": false
   },
   "outputs": [
    {
     "data": {
      "text/plain": [
       "(180661, 30)"
      ]
     },
     "execution_count": 7,
     "metadata": {},
     "output_type": "execute_result"
    }
   ],
   "source": [
    "#exploratory\n",
    "wa_data_provider_12.shape\n",
    "#data_provider_wa.info()"
   ]
  },
  {
   "cell_type": "code",
   "execution_count": 8,
   "metadata": {
    "collapsed": false
   },
   "outputs": [],
   "source": [
    "#remove all non-individual provider from data\n",
    "wa_data_provider_12=wa_data_provider_12[wa_data_provider_12.nppes_provider_first_name.notnull()]"
   ]
  },
  {
   "cell_type": "code",
   "execution_count": 9,
   "metadata": {
    "collapsed": true
   },
   "outputs": [],
   "source": [
    "#remove all non-medicare providers\n",
    "wa_data_provider_12=wa_data_provider_12[wa_data_provider_12['medicare_participation_indicator']=='Y']"
   ]
  },
  {
   "cell_type": "code",
   "execution_count": 10,
   "metadata": {
    "collapsed": false,
    "scrolled": true
   },
   "outputs": [],
   "source": [
    "#function to drop columns\n",
    "drop_col=['nppes_entity_code','medicare_participation_indicator']\n",
    "def drop_columns(col_remove,pdx):\n",
    "    columns=list(pdx.columns.values)\n",
    "    for col in col_remove:\n",
    "        if col in columns:\n",
    "            pdx.drop(col, axis=1, inplace=True)\n",
    "    return pdx\n",
    "#drop_columns(drop_col,data_provider_wa)       "
   ]
  },
  {
   "cell_type": "code",
   "execution_count": 11,
   "metadata": {
    "collapsed": true
   },
   "outputs": [],
   "source": [
    "# data_provider_wa_2014['test_x']='100'\n",
    "# data_provider_wa_2014['test_y']='100'\n",
    "# drop_col=['test_x','test_y']"
   ]
  },
  {
   "cell_type": "code",
   "execution_count": 12,
   "metadata": {
    "collapsed": false
   },
   "outputs": [],
   "source": [
    "wa_data_provider_12=drop_columns(drop_col,wa_data_provider_12)   "
   ]
  },
  {
   "cell_type": "code",
   "execution_count": 13,
   "metadata": {
    "collapsed": false
   },
   "outputs": [],
   "source": [
    "#data2=data1[data1.nppes_provider_first_name.isnull()]\n",
    "#data_provider_wa_2014['participation_indicator'].unique()\n",
    "#data_provider_wa_2014['bene_day_srvc_cnt'].value_counts()"
   ]
  },
  {
   "cell_type": "code",
   "execution_count": 14,
   "metadata": {
    "collapsed": true
   },
   "outputs": [],
   "source": [
    "#fct remane columns\n",
    "def name_columns(value_old,value_new,pdx):\n",
    "    cols = pdx.columns.tolist()\n",
    "    cols = [col.replace(value_old,value_new) for col in cols]\n",
    "    pdx.columns = cols\n",
    "    return pdx\n",
    "\n"
   ]
  },
  {
   "cell_type": "code",
   "execution_count": 15,
   "metadata": {
    "collapsed": true
   },
   "outputs": [],
   "source": [
    "wa_data_provider_12=name_columns(\"nppes_\",\"\", wa_data_provider_12)\n",
    "wa_data_provider_12=name_columns(\"provider_\",\"\", wa_data_provider_12)\n",
    "wa_data_provider_12=name_columns(\"medicare_\",\"\", wa_data_provider_12)\n",
    "#data_provider_wa_2014=name_columns(\"medicare_\",\"\", data_provider_wa_2014)\n",
    "wa_data_provider_12=name_columns(\"average_\",\"\", wa_data_provider_12)\n",
    "\n",
    "#replace NaN with '' for all columns\n",
    "wa_data_provider_12.fillna('',inplace=True)\n"
   ]
  },
  {
   "cell_type": "code",
   "execution_count": 16,
   "metadata": {
    "collapsed": true
   },
   "outputs": [],
   "source": [
    "#fct remane columns\n",
    "# def nan_replace(value,pdx):\n",
    "#     cols = pdx.columns.tolist()\n",
    "#     cols = [col.replace(value_old,value_new) for col in cols]\n",
    "#     pdx.columns = cols\n",
    "#     return pdx\n",
    "# # str_cols = ['Name','City']\n",
    "# str_cols = df.columns[df.dtypes==object]\n",
    "# df[str_cols] = df[str_cols].fillna('.')"
   ]
  },
  {
   "cell_type": "code",
   "execution_count": 17,
   "metadata": {
    "collapsed": false
   },
   "outputs": [],
   "source": [
    "# data_2013=wa_data_provider_12.copy()\n",
    "# data_2013.shape"
   ]
  },
  {
   "cell_type": "code",
   "execution_count": 18,
   "metadata": {
    "collapsed": false
   },
   "outputs": [
    {
     "data": {
      "text/plain": [
       "(172517, 28)"
      ]
     },
     "execution_count": 18,
     "metadata": {},
     "output_type": "execute_result"
    }
   ],
   "source": [
    "data_2012=wa_data_provider_12.copy()\n",
    "data_2012.shape"
   ]
  },
  {
   "cell_type": "code",
   "execution_count": 19,
   "metadata": {
    "collapsed": false
   },
   "outputs": [],
   "source": [
    "# data_2014=data_provider_wa.copy()\n",
    "# data_2014.shape"
   ]
  },
  {
   "cell_type": "code",
   "execution_count": 20,
   "metadata": {
    "collapsed": false
   },
   "outputs": [
    {
     "data": {
      "text/plain": [
       "['npi',\n",
       " 'last_org_name',\n",
       " 'first_name',\n",
       " 'mi',\n",
       " 'credentials',\n",
       " 'gender',\n",
       " 'street1',\n",
       " 'street2',\n",
       " 'city',\n",
       " 'zip',\n",
       " 'state',\n",
       " 'country',\n",
       " 'type',\n",
       " 'place_of_service',\n",
       " 'hcpcs_code',\n",
       " 'hcpcs_description',\n",
       " 'hcpcs_drug_indicator',\n",
       " 'line_srvc_cnt',\n",
       " 'bene_unique_cnt',\n",
       " 'bene_day_srvc_cnt',\n",
       " 'allowed_amt',\n",
       " 'stdev_allowed_amt',\n",
       " 'submitted_chrg_amt',\n",
       " 'stdev_submitted_chrg_amt',\n",
       " 'payment_amt',\n",
       " 'stdev_payment_amt',\n",
       " 'report_year',\n",
       " 'zip_base']"
      ]
     },
     "execution_count": 20,
     "metadata": {},
     "output_type": "execute_result"
    }
   ],
   "source": [
    "data_2012.columns.tolist()"
   ]
  },
  {
   "cell_type": "code",
   "execution_count": 21,
   "metadata": {
    "collapsed": false
   },
   "outputs": [],
   "source": [
    "# #remove all columns that are not common in all files\n",
    "\n",
    "\n",
    "# #set columns as sets to compare them\n",
    "# # these can be put in a function\n",
    "# set_col_2012=set(data_2012.columns)\n",
    "# set_col_2013=set(data_2013.columns)\n",
    "# set_col_2014=set(data_2014.columns)\n",
    "# #print set_col_2014\n",
    "# results_intersection = set.intersection(set_col_2012,set_col_2013,set_col_2014)\n",
    "\n",
    "# #print results_intersection\n",
    "# diff_2012=set_col_2012-results_intersection\n",
    "# diff_2013=set_col_2013-results_intersection\n",
    "# diff_2014=set_col_2014-results_intersection\n",
    "\n",
    "# #print diff_2014\n",
    "\n",
    "# results_union = list(set().union(diff_2012,diff_2013,diff_2014))\n",
    "\n",
    "# # #print results_union\n",
    "\n",
    "# data_2012=drop_columns(results_union,data_2012)  \n",
    "# data_2013=drop_columns(results_union,data_2013)  \n",
    "# data_2014=drop_columns(results_union,data_2014) "
   ]
  },
  {
   "cell_type": "code",
   "execution_count": 22,
   "metadata": {
    "collapsed": true
   },
   "outputs": [],
   "source": [
    "#frames = [data_2012, data_2013, data_2014]\n",
    "\n",
    "# data_payments_wa = pd.concat([data_2012, data_2013, data_2014])\n"
   ]
  },
  {
   "cell_type": "code",
   "execution_count": 23,
   "metadata": {
    "collapsed": false
   },
   "outputs": [],
   "source": [
    "#data_payments_wa.columns"
   ]
  },
  {
   "cell_type": "code",
   "execution_count": 24,
   "metadata": {
    "collapsed": false
   },
   "outputs": [],
   "source": [
    "# #save database\n",
    "# import cPickle as pickle\n",
    "# data_payments_wa.to_pickle('wa_payments_pickle.pkl')  "
   ]
  },
  {
   "cell_type": "code",
   "execution_count": 25,
   "metadata": {
    "collapsed": true
   },
   "outputs": [],
   "source": [
    "#load database\n",
    "#data_payments_wa= pd.read_pickle('wa_payments_pickle.pkl')"
   ]
  },
  {
   "cell_type": "code",
   "execution_count": 26,
   "metadata": {
    "collapsed": false
   },
   "outputs": [],
   "source": [
    "#data_payments_wa.shape"
   ]
  },
  {
   "cell_type": "code",
   "execution_count": 27,
   "metadata": {
    "collapsed": false
   },
   "outputs": [],
   "source": [
    "#data_payments_wa_pickle.columns"
   ]
  },
  {
   "cell_type": "code",
   "execution_count": null,
   "metadata": {
    "collapsed": true
   },
   "outputs": [],
   "source": []
  },
  {
   "cell_type": "code",
   "execution_count": null,
   "metadata": {
    "collapsed": true
   },
   "outputs": [],
   "source": [
    "\n"
   ]
  },
  {
   "cell_type": "code",
   "execution_count": null,
   "metadata": {
    "collapsed": true
   },
   "outputs": [],
   "source": []
  },
  {
   "cell_type": "code",
   "execution_count": 28,
   "metadata": {
    "collapsed": false,
    "scrolled": true
   },
   "outputs": [],
   "source": [
    "#import 2013\n",
    "data_all_2013=pd.read_csv('Medicare_Data/2013MedicareProviderPayment.txt', delimiter='\\t')"
   ]
  },
  {
   "cell_type": "code",
   "execution_count": 29,
   "metadata": {
    "collapsed": true
   },
   "outputs": [],
   "source": [
    "#fct rename columns lower letters; remove spaces\n",
    "def lower_columns(pdx):\n",
    "    cols = pdx.columns.tolist()\n",
    "    cols = [col.lower() for col in cols]\n",
    "    pdx.columns = cols\n",
    "    pdx.rename(columns=lambda x: x.strip().replace(\" \", \"_\"), inplace=True)\n",
    "    return pdx\n",
    "data_all_2013=lower_columns(data_all_2013)"
   ]
  },
  {
   "cell_type": "code",
   "execution_count": 30,
   "metadata": {
    "collapsed": false
   },
   "outputs": [],
   "source": [
    "\n",
    "#cleaup first row\n",
    "data_all_2013= data_all_2013[data_all_2013.npi != 1]\n",
    "#add report year\n",
    "data_all_2013['report_year']='2013'\n",
    "\n",
    "#add zip code\n",
    "data_all_2013['nppes_provider_zip']=data_all_2013['nppes_provider_zip'].astype(str)\n",
    "data_all_2013['nppes_provider_zip_base']=data_all_2013['nppes_provider_zip'].str.slice(0,5)\n",
    "#data_all['nppes_provider_zip_base'].unique()"
   ]
  },
  {
   "cell_type": "code",
   "execution_count": 31,
   "metadata": {
    "collapsed": false
   },
   "outputs": [
    {
     "data": {
      "text/plain": [
       "Index([u'npi', u'nppes_provider_last_org_name', u'nppes_provider_first_name',\n",
       "       u'nppes_provider_mi', u'nppes_credentials', u'nppes_provider_gender',\n",
       "       u'nppes_entity_code', u'nppes_provider_street1',\n",
       "       u'nppes_provider_street2', u'nppes_provider_city',\n",
       "       u'nppes_provider_zip', u'nppes_provider_state',\n",
       "       u'nppes_provider_country', u'provider_type',\n",
       "       u'medicare_participation_indicator', u'place_of_service', u'hcpcs_code',\n",
       "       u'hcpcs_description', u'hcpcs_drug_indicator', u'line_srvc_cnt',\n",
       "       u'bene_unique_cnt', u'bene_day_srvc_cnt',\n",
       "       u'average_medicare_allowed_amt', u'stdev_medicare_allowed_amt',\n",
       "       u'average_submitted_chrg_amt', u'stdev_submitted_chrg_amt',\n",
       "       u'average_medicare_payment_amt', u'stdev_medicare_payment_amt',\n",
       "       u'report_year', u'nppes_provider_zip_base'],\n",
       "      dtype='object')"
      ]
     },
     "execution_count": 31,
     "metadata": {},
     "output_type": "execute_result"
    }
   ],
   "source": [
    "data_all_2013.columns"
   ]
  },
  {
   "cell_type": "code",
   "execution_count": 32,
   "metadata": {
    "collapsed": false
   },
   "outputs": [],
   "source": [
    "#select WA state providers\n",
    "data_all_2013['nppes_provider_state']=data_all_2013['nppes_provider_state'].astype(str)\n",
    "wa_data_provider_13=data_all_2013[data_all_2013['nppes_provider_state']=='WA']"
   ]
  },
  {
   "cell_type": "code",
   "execution_count": 33,
   "metadata": {
    "collapsed": false
   },
   "outputs": [
    {
     "data": {
      "text/plain": [
       "(183348, 30)"
      ]
     },
     "execution_count": 33,
     "metadata": {},
     "output_type": "execute_result"
    }
   ],
   "source": [
    "#exploratory\n",
    "wa_data_provider_13.shape\n",
    "#data_provider_wa.info()"
   ]
  },
  {
   "cell_type": "code",
   "execution_count": 34,
   "metadata": {
    "collapsed": false
   },
   "outputs": [],
   "source": [
    "#remove all non-individual provider from data\n",
    "wa_data_provider_13=wa_data_provider_13[wa_data_provider_13.nppes_provider_first_name.notnull()]"
   ]
  },
  {
   "cell_type": "code",
   "execution_count": 35,
   "metadata": {
    "collapsed": true
   },
   "outputs": [],
   "source": [
    "#remove all non-medicare providers\n",
    "wa_data_provider_13=wa_data_provider_13[wa_data_provider_13['medicare_participation_indicator']=='Y']"
   ]
  },
  {
   "cell_type": "code",
   "execution_count": 36,
   "metadata": {
    "collapsed": false,
    "scrolled": true
   },
   "outputs": [],
   "source": [
    "#function to drop columns\n",
    "drop_col=['nppes_entity_code','medicare_participation_indicator']\n",
    "def drop_columns(col_remove,pdx):\n",
    "    columns=list(pdx.columns.values)\n",
    "    for col in col_remove:\n",
    "        if col in columns:\n",
    "            pdx.drop(col, axis=1, inplace=True)\n",
    "    return pdx\n",
    "#drop_columns(drop_col,data_provider_wa)       "
   ]
  },
  {
   "cell_type": "code",
   "execution_count": 37,
   "metadata": {
    "collapsed": true
   },
   "outputs": [],
   "source": [
    "# data_provider_wa_2014['test_x']='100'\n",
    "# data_provider_wa_2014['test_y']='100'\n",
    "# drop_col=['test_x','test_y']"
   ]
  },
  {
   "cell_type": "code",
   "execution_count": 38,
   "metadata": {
    "collapsed": false
   },
   "outputs": [],
   "source": [
    "wa_data_provider_13=drop_columns(drop_col,wa_data_provider_13)   "
   ]
  },
  {
   "cell_type": "code",
   "execution_count": 39,
   "metadata": {
    "collapsed": false
   },
   "outputs": [],
   "source": [
    "#data2=data1[data1.nppes_provider_first_name.isnull()]\n",
    "#data_provider_wa_2014['participation_indicator'].unique()\n",
    "#data_provider_wa_2014['bene_day_srvc_cnt'].value_counts()"
   ]
  },
  {
   "cell_type": "code",
   "execution_count": 40,
   "metadata": {
    "collapsed": true
   },
   "outputs": [],
   "source": [
    "#fct remane columns\n",
    "def name_columns(value_old,value_new,pdx):\n",
    "    cols = pdx.columns.tolist()\n",
    "    cols = [col.replace(value_old,value_new) for col in cols]\n",
    "    pdx.columns = cols\n",
    "    return pdx\n",
    "\n"
   ]
  },
  {
   "cell_type": "code",
   "execution_count": 41,
   "metadata": {
    "collapsed": true
   },
   "outputs": [],
   "source": [
    "wa_data_provider_13=name_columns(\"nppes_\",\"\", wa_data_provider_13)\n",
    "wa_data_provider_13=name_columns(\"provider_\",\"\", wa_data_provider_13)\n",
    "wa_data_provider_13=name_columns(\"medicare_\",\"\", wa_data_provider_13)\n",
    "#data_provider_wa_2014=name_columns(\"medicare_\",\"\", data_provider_wa_2014)\n",
    "wa_data_provider_13=name_columns(\"average_\",\"\", wa_data_provider_13)\n",
    "\n",
    "#replace NaN with '' for all columns\n",
    "wa_data_provider_13.fillna('',inplace=True)\n"
   ]
  },
  {
   "cell_type": "code",
   "execution_count": 42,
   "metadata": {
    "collapsed": true
   },
   "outputs": [],
   "source": [
    "#fct remane columns\n",
    "# def nan_replace(value,pdx):\n",
    "#     cols = pdx.columns.tolist()\n",
    "#     cols = [col.replace(value_old,value_new) for col in cols]\n",
    "#     pdx.columns = cols\n",
    "#     return pdx\n",
    "# # str_cols = ['Name','City']\n",
    "# str_cols = df.columns[df.dtypes==object]\n",
    "# df[str_cols] = df[str_cols].fillna('.')"
   ]
  },
  {
   "cell_type": "code",
   "execution_count": 43,
   "metadata": {
    "collapsed": false
   },
   "outputs": [],
   "source": [
    "# data_2013=wa_data_provider_12.copy()\n",
    "# data_2013.shape"
   ]
  },
  {
   "cell_type": "code",
   "execution_count": 44,
   "metadata": {
    "collapsed": false
   },
   "outputs": [
    {
     "data": {
      "text/plain": [
       "(174582, 28)"
      ]
     },
     "execution_count": 44,
     "metadata": {},
     "output_type": "execute_result"
    }
   ],
   "source": [
    "data_2013=wa_data_provider_13.copy()\n",
    "data_2013.shape"
   ]
  },
  {
   "cell_type": "code",
   "execution_count": 45,
   "metadata": {
    "collapsed": false
   },
   "outputs": [],
   "source": [
    "# data_2014=data_provider_wa.copy()\n",
    "# data_2014.shape"
   ]
  },
  {
   "cell_type": "code",
   "execution_count": 46,
   "metadata": {
    "collapsed": false
   },
   "outputs": [
    {
     "data": {
      "text/plain": [
       "['npi',\n",
       " 'last_org_name',\n",
       " 'first_name',\n",
       " 'mi',\n",
       " 'credentials',\n",
       " 'gender',\n",
       " 'street1',\n",
       " 'street2',\n",
       " 'city',\n",
       " 'zip',\n",
       " 'state',\n",
       " 'country',\n",
       " 'type',\n",
       " 'place_of_service',\n",
       " 'hcpcs_code',\n",
       " 'hcpcs_description',\n",
       " 'hcpcs_drug_indicator',\n",
       " 'line_srvc_cnt',\n",
       " 'bene_unique_cnt',\n",
       " 'bene_day_srvc_cnt',\n",
       " 'allowed_amt',\n",
       " 'stdev_allowed_amt',\n",
       " 'submitted_chrg_amt',\n",
       " 'stdev_submitted_chrg_amt',\n",
       " 'payment_amt',\n",
       " 'stdev_payment_amt',\n",
       " 'report_year',\n",
       " 'zip_base']"
      ]
     },
     "execution_count": 46,
     "metadata": {},
     "output_type": "execute_result"
    }
   ],
   "source": [
    "data_2013.columns.tolist()"
   ]
  },
  {
   "cell_type": "code",
   "execution_count": 47,
   "metadata": {
    "collapsed": false
   },
   "outputs": [],
   "source": [
    "# #remove all columns that are not common in all files\n",
    "\n",
    "\n",
    "# #set columns as sets to compare them\n",
    "# # these can be put in a function\n",
    "# set_col_2012=set(data_2012.columns)\n",
    "# set_col_2013=set(data_2013.columns)\n",
    "# set_col_2014=set(data_2014.columns)\n",
    "# #print set_col_2014\n",
    "# results_intersection = set.intersection(set_col_2012,set_col_2013,set_col_2014)\n",
    "\n",
    "# #print results_intersection\n",
    "# diff_2012=set_col_2012-results_intersection\n",
    "# diff_2013=set_col_2013-results_intersection\n",
    "# diff_2014=set_col_2014-results_intersection\n",
    "\n",
    "# #print diff_2014\n",
    "\n",
    "# results_union = list(set().union(diff_2012,diff_2013,diff_2014))\n",
    "\n",
    "# # #print results_union\n",
    "\n",
    "# data_2012=drop_columns(results_union,data_2012)  \n",
    "# data_2013=drop_columns(results_union,data_2013)  \n",
    "# data_2014=drop_columns(results_union,data_2014) "
   ]
  },
  {
   "cell_type": "code",
   "execution_count": 48,
   "metadata": {
    "collapsed": true
   },
   "outputs": [],
   "source": [
    "#frames = [data_2012, data_2013, data_2014]\n",
    "\n",
    "#data_payments_wa = pd.concat([data_2012, data_2013, data_2014])\n"
   ]
  },
  {
   "cell_type": "code",
   "execution_count": 49,
   "metadata": {
    "collapsed": false
   },
   "outputs": [],
   "source": [
    "#data_payments_wa.columns"
   ]
  },
  {
   "cell_type": "code",
   "execution_count": 50,
   "metadata": {
    "collapsed": false
   },
   "outputs": [],
   "source": [
    "# #save database\n",
    "# import cPickle as pickle\n",
    "# data_payments_wa.to_pickle('wa_payments_pickle.pkl')  "
   ]
  },
  {
   "cell_type": "code",
   "execution_count": 51,
   "metadata": {
    "collapsed": true
   },
   "outputs": [],
   "source": [
    "#load database\n",
    "#data_payments_wa= pd.read_pickle('wa_payments_pickle.pkl')"
   ]
  },
  {
   "cell_type": "code",
   "execution_count": 52,
   "metadata": {
    "collapsed": false
   },
   "outputs": [],
   "source": [
    "#data_payments_wa.shape"
   ]
  },
  {
   "cell_type": "code",
   "execution_count": 53,
   "metadata": {
    "collapsed": false
   },
   "outputs": [],
   "source": [
    "#data_payments_wa_pickle.columns"
   ]
  },
  {
   "cell_type": "code",
   "execution_count": null,
   "metadata": {
    "collapsed": true
   },
   "outputs": [],
   "source": []
  },
  {
   "cell_type": "code",
   "execution_count": 54,
   "metadata": {
    "collapsed": false,
    "scrolled": true
   },
   "outputs": [],
   "source": [
    "#import 2014\n",
    "data_all_2014=pd.read_csv('Medicare_Data/2014MedicareProviderPayment.txt', delimiter='\\t')"
   ]
  },
  {
   "cell_type": "code",
   "execution_count": 55,
   "metadata": {
    "collapsed": true
   },
   "outputs": [],
   "source": [
    "#fct rename columns lower letters; remove spaces\n",
    "def lower_columns(pdx):\n",
    "    cols = pdx.columns.tolist()\n",
    "    cols = [col.lower() for col in cols]\n",
    "    pdx.columns = cols\n",
    "    pdx.rename(columns=lambda x: x.strip().replace(\" \", \"_\"), inplace=True)\n",
    "    return pdx\n",
    "data_all_2014=lower_columns(data_all_2014)"
   ]
  },
  {
   "cell_type": "code",
   "execution_count": 56,
   "metadata": {
    "collapsed": false
   },
   "outputs": [],
   "source": [
    "\n",
    "#cleaup first row\n",
    "data_all_2014= data_all_2014[data_all_2014.npi != 1]\n",
    "#add report year\n",
    "data_all_2014['report_year']='2014'\n",
    "\n",
    "#add zip code\n",
    "data_all_2014['nppes_provider_zip']=data_all_2014['nppes_provider_zip'].astype(str)\n",
    "data_all_2014['nppes_provider_zip_base']=data_all_2014['nppes_provider_zip'].str.slice(0,5)\n",
    "#data_all['nppes_provider_zip_base'].unique()"
   ]
  },
  {
   "cell_type": "code",
   "execution_count": 57,
   "metadata": {
    "collapsed": false
   },
   "outputs": [
    {
     "data": {
      "text/plain": [
       "Index([u'npi', u'nppes_provider_last_org_name', u'nppes_provider_first_name',\n",
       "       u'nppes_provider_mi', u'nppes_credentials', u'nppes_provider_gender',\n",
       "       u'nppes_entity_code', u'nppes_provider_street1',\n",
       "       u'nppes_provider_street2', u'nppes_provider_city',\n",
       "       u'nppes_provider_zip', u'nppes_provider_state',\n",
       "       u'nppes_provider_country', u'provider_type',\n",
       "       u'medicare_participation_indicator', u'place_of_service', u'hcpcs_code',\n",
       "       u'hcpcs_description', u'hcpcs_drug_indicator', u'line_srvc_cnt',\n",
       "       u'bene_unique_cnt', u'bene_day_srvc_cnt',\n",
       "       u'average_medicare_allowed_amt', u'average_submitted_chrg_amt',\n",
       "       u'average_medicare_payment_amt', u'average_medicare_standard_amt',\n",
       "       u'report_year', u'nppes_provider_zip_base'],\n",
       "      dtype='object')"
      ]
     },
     "execution_count": 57,
     "metadata": {},
     "output_type": "execute_result"
    }
   ],
   "source": [
    "data_all_2014.columns"
   ]
  },
  {
   "cell_type": "code",
   "execution_count": 58,
   "metadata": {
    "collapsed": false
   },
   "outputs": [],
   "source": [
    "#select WA state providers\n",
    "data_all_2014['nppes_provider_state']=data_all_2014['nppes_provider_state'].astype(str)\n",
    "wa_data_provider_14=data_all_2014[data_all_2014['nppes_provider_state']=='WA']"
   ]
  },
  {
   "cell_type": "code",
   "execution_count": 59,
   "metadata": {
    "collapsed": false
   },
   "outputs": [
    {
     "data": {
      "text/plain": [
       "(186239, 28)"
      ]
     },
     "execution_count": 59,
     "metadata": {},
     "output_type": "execute_result"
    }
   ],
   "source": [
    "#exploratory\n",
    "wa_data_provider_14.shape\n",
    "#data_provider_wa.info()"
   ]
  },
  {
   "cell_type": "code",
   "execution_count": 60,
   "metadata": {
    "collapsed": false
   },
   "outputs": [],
   "source": [
    "#remove all non-individual provider from data\n",
    "wa_data_provider_14=wa_data_provider_14[wa_data_provider_14.nppes_provider_first_name.notnull()]"
   ]
  },
  {
   "cell_type": "code",
   "execution_count": 61,
   "metadata": {
    "collapsed": true
   },
   "outputs": [],
   "source": [
    "#remove all non-medicare providers\n",
    "wa_data_provider_14=wa_data_provider_14[wa_data_provider_14['medicare_participation_indicator']=='Y']"
   ]
  },
  {
   "cell_type": "code",
   "execution_count": 62,
   "metadata": {
    "collapsed": false,
    "scrolled": true
   },
   "outputs": [],
   "source": [
    "#function to drop columns\n",
    "drop_col=['nppes_entity_code','medicare_participation_indicator']\n",
    "def drop_columns(col_remove,pdx):\n",
    "    columns=list(pdx.columns.values)\n",
    "    for col in col_remove:\n",
    "        if col in columns:\n",
    "            pdx.drop(col, axis=1, inplace=True)\n",
    "    return pdx\n",
    "#drop_columns(drop_col,data_provider_wa)       "
   ]
  },
  {
   "cell_type": "code",
   "execution_count": 63,
   "metadata": {
    "collapsed": true
   },
   "outputs": [],
   "source": [
    "# data_provider_wa_2014['test_x']='100'\n",
    "# data_provider_wa_2014['test_y']='100'\n",
    "# drop_col=['test_x','test_y']"
   ]
  },
  {
   "cell_type": "code",
   "execution_count": 64,
   "metadata": {
    "collapsed": false
   },
   "outputs": [],
   "source": [
    "wa_data_provider_14=drop_columns(drop_col,wa_data_provider_14)   "
   ]
  },
  {
   "cell_type": "code",
   "execution_count": 65,
   "metadata": {
    "collapsed": false
   },
   "outputs": [],
   "source": [
    "#data2=data1[data1.nppes_provider_first_name.isnull()]\n",
    "#data_provider_wa_2014['participation_indicator'].unique()\n",
    "#data_provider_wa_2014['bene_day_srvc_cnt'].value_counts()"
   ]
  },
  {
   "cell_type": "code",
   "execution_count": 66,
   "metadata": {
    "collapsed": true
   },
   "outputs": [],
   "source": [
    "#fct remane columns\n",
    "def name_columns(value_old,value_new,pdx):\n",
    "    cols = pdx.columns.tolist()\n",
    "    cols = [col.replace(value_old,value_new) for col in cols]\n",
    "    pdx.columns = cols\n",
    "    return pdx\n",
    "\n"
   ]
  },
  {
   "cell_type": "code",
   "execution_count": 67,
   "metadata": {
    "collapsed": true
   },
   "outputs": [],
   "source": [
    "wa_data_provider_14=name_columns(\"nppes_\",\"\", wa_data_provider_14)\n",
    "wa_data_provider_14=name_columns(\"provider_\",\"\", wa_data_provider_14)\n",
    "wa_data_provider_14=name_columns(\"medicare_\",\"\", wa_data_provider_14)\n",
    "#data_provider_wa_2014=name_columns(\"medicare_\",\"\", data_provider_wa_2014)\n",
    "wa_data_provider_14=name_columns(\"average_\",\"\", wa_data_provider_14)\n",
    "\n",
    "#replace NaN with '' for all columns\n",
    "wa_data_provider_14.fillna('',inplace=True)\n"
   ]
  },
  {
   "cell_type": "code",
   "execution_count": 68,
   "metadata": {
    "collapsed": true
   },
   "outputs": [],
   "source": [
    "#fct remane columns\n",
    "# def nan_replace(value,pdx):\n",
    "#     cols = pdx.columns.tolist()\n",
    "#     cols = [col.replace(value_old,value_new) for col in cols]\n",
    "#     pdx.columns = cols\n",
    "#     return pdx\n",
    "# # str_cols = ['Name','City']\n",
    "# str_cols = df.columns[df.dtypes==object]\n",
    "# df[str_cols] = df[str_cols].fillna('.')"
   ]
  },
  {
   "cell_type": "code",
   "execution_count": 69,
   "metadata": {
    "collapsed": false
   },
   "outputs": [],
   "source": [
    "# data_2013=wa_data_provider_12.copy()\n",
    "# data_2013.shape"
   ]
  },
  {
   "cell_type": "code",
   "execution_count": 70,
   "metadata": {
    "collapsed": false
   },
   "outputs": [
    {
     "data": {
      "text/plain": [
       "(177510, 26)"
      ]
     },
     "execution_count": 70,
     "metadata": {},
     "output_type": "execute_result"
    }
   ],
   "source": [
    "data_2014=wa_data_provider_14.copy()\n",
    "data_2014.shape"
   ]
  },
  {
   "cell_type": "code",
   "execution_count": 71,
   "metadata": {
    "collapsed": false
   },
   "outputs": [],
   "source": [
    "# data_2014=data_provider_wa.copy()\n",
    "# data_2014.shape"
   ]
  },
  {
   "cell_type": "code",
   "execution_count": 72,
   "metadata": {
    "collapsed": false
   },
   "outputs": [],
   "source": [
    "#data_2014.columns.tolist()"
   ]
  },
  {
   "cell_type": "code",
   "execution_count": 106,
   "metadata": {
    "collapsed": false
   },
   "outputs": [],
   "source": [
    "#remove all columns that are not common in all files\n",
    "\n",
    "\n",
    "#set columns as sets to compare them\n",
    "# these can be put in a function\n",
    "set_col_2012=set(data_2012.columns)\n",
    "set_col_2013=set(data_2013.columns)\n",
    "set_col_2014=set(data_2014.columns)\n",
    "#print set_col_2014\n",
    "results_intersection = set.intersection(set_col_2012,set_col_2013,set_col_2014)\n",
    "\n",
    "#print results_intersection\n",
    "diff_2012=set_col_2012-results_intersection\n",
    "diff_2013=set_col_2013-results_intersection\n",
    "diff_2014=set_col_2014-results_intersection\n",
    "\n",
    "#print diff_2014\n",
    "\n",
    "results_union = list(set().union(diff_2012,diff_2013,diff_2014))\n",
    "\n",
    "# #print results_union\n",
    "\n",
    "data_2012=drop_columns(results_union,data_2012)  \n",
    "data_2013=drop_columns(results_union,data_2013)  \n",
    "data_2014=drop_columns(results_union,data_2014) "
   ]
  },
  {
   "cell_type": "code",
   "execution_count": 74,
   "metadata": {
    "collapsed": true
   },
   "outputs": [],
   "source": [
    "#frames = [data_2012, data_2013, data_2014]\n",
    "\n",
    "#data_payments_wa = pd.concat([data_2012, data_2013, data_2014])\n"
   ]
  },
  {
   "cell_type": "code",
   "execution_count": 75,
   "metadata": {
    "collapsed": false
   },
   "outputs": [],
   "source": [
    "#data_payments_wa.columns"
   ]
  },
  {
   "cell_type": "code",
   "execution_count": 76,
   "metadata": {
    "collapsed": false
   },
   "outputs": [],
   "source": [
    "#save database\n",
    "# import cPickle as pickle\n",
    "# data_payments_wa.to_pickle('wa_payments_pickle.pkl')  "
   ]
  },
  {
   "cell_type": "code",
   "execution_count": 77,
   "metadata": {
    "collapsed": true
   },
   "outputs": [],
   "source": [
    "#load database\n",
    "#data_payments_wa= pd.read_pickle('wa_payments_pickle.pkl')"
   ]
  },
  {
   "cell_type": "code",
   "execution_count": 78,
   "metadata": {
    "collapsed": false
   },
   "outputs": [],
   "source": [
    "# data_payments_wa.shape"
   ]
  },
  {
   "cell_type": "code",
   "execution_count": null,
   "metadata": {
    "collapsed": true
   },
   "outputs": [],
   "source": [
    "\n"
   ]
  },
  {
   "cell_type": "code",
   "execution_count": null,
   "metadata": {
    "collapsed": true
   },
   "outputs": [],
   "source": []
  },
  {
   "cell_type": "code",
   "execution_count": null,
   "metadata": {
    "collapsed": true
   },
   "outputs": [],
   "source": []
  },
  {
   "cell_type": "code",
   "execution_count": null,
   "metadata": {
    "collapsed": true
   },
   "outputs": [],
   "source": []
  },
  {
   "cell_type": "code",
   "execution_count": null,
   "metadata": {
    "collapsed": true
   },
   "outputs": [],
   "source": []
  },
  {
   "cell_type": "code",
   "execution_count": null,
   "metadata": {
    "collapsed": true
   },
   "outputs": [],
   "source": []
  },
  {
   "cell_type": "code",
   "execution_count": null,
   "metadata": {
    "collapsed": true
   },
   "outputs": [],
   "source": []
  },
  {
   "cell_type": "code",
   "execution_count": null,
   "metadata": {
    "collapsed": true
   },
   "outputs": [],
   "source": []
  },
  {
   "cell_type": "code",
   "execution_count": null,
   "metadata": {
    "collapsed": true
   },
   "outputs": [],
   "source": []
  },
  {
   "cell_type": "code",
   "execution_count": null,
   "metadata": {
    "collapsed": true
   },
   "outputs": [],
   "source": []
  },
  {
   "cell_type": "code",
   "execution_count": 79,
   "metadata": {
    "collapsed": false
   },
   "outputs": [],
   "source": [
    "#data_2013.head(20).T"
   ]
  },
  {
   "cell_type": "code",
   "execution_count": 80,
   "metadata": {
    "collapsed": false
   },
   "outputs": [],
   "source": [
    "#data_provider_wa.info()"
   ]
  },
  {
   "cell_type": "code",
   "execution_count": 81,
   "metadata": {
    "collapsed": true
   },
   "outputs": [],
   "source": [
    "#keep=['npi','nppes_provider_last_org_name', 'nppes_provider_first_name','nppes_provider_zip']"
   ]
  },
  {
   "cell_type": "code",
   "execution_count": 82,
   "metadata": {
    "collapsed": true
   },
   "outputs": [],
   "source": [
    "#data_all=data_all[keep]"
   ]
  },
  {
   "cell_type": "code",
   "execution_count": 83,
   "metadata": {
    "collapsed": false
   },
   "outputs": [],
   "source": [
    "#data_all.head(3)"
   ]
  },
  {
   "cell_type": "code",
   "execution_count": 84,
   "metadata": {
    "collapsed": false
   },
   "outputs": [],
   "source": [
    "#data_all.info()"
   ]
  },
  {
   "cell_type": "code",
   "execution_count": 85,
   "metadata": {
    "collapsed": false
   },
   "outputs": [],
   "source": [
    "#data_all.count()"
   ]
  },
  {
   "cell_type": "code",
   "execution_count": 86,
   "metadata": {
    "collapsed": false
   },
   "outputs": [],
   "source": [
    "#data_all.dropna().count()"
   ]
  },
  {
   "cell_type": "code",
   "execution_count": 87,
   "metadata": {
    "collapsed": true
   },
   "outputs": [],
   "source": [
    "#data_all=data_all.dropna()"
   ]
  },
  {
   "cell_type": "code",
   "execution_count": 88,
   "metadata": {
    "collapsed": false
   },
   "outputs": [],
   "source": [
    "#data_all.head(3)"
   ]
  },
  {
   "cell_type": "code",
   "execution_count": 89,
   "metadata": {
    "collapsed": false
   },
   "outputs": [],
   "source": [
    "#data_all.info()"
   ]
  },
  {
   "cell_type": "code",
   "execution_count": 90,
   "metadata": {
    "collapsed": false
   },
   "outputs": [],
   "source": [
    "#data_all['nppes_provider_zip']=data_all['nppes_provider_zip'].astype(str)"
   ]
  },
  {
   "cell_type": "code",
   "execution_count": 91,
   "metadata": {
    "collapsed": false
   },
   "outputs": [],
   "source": [
    "#data_all.head(3)"
   ]
  },
  {
   "cell_type": "code",
   "execution_count": 92,
   "metadata": {
    "collapsed": false
   },
   "outputs": [],
   "source": [
    "#data_all['nppes_provider_zip']=data_all['nppes_provider_zip'].str.slice(0,5)"
   ]
  },
  {
   "cell_type": "code",
   "execution_count": 93,
   "metadata": {
    "collapsed": false
   },
   "outputs": [],
   "source": [
    "#data_all.head(15)"
   ]
  },
  {
   "cell_type": "code",
   "execution_count": 94,
   "metadata": {
    "collapsed": false
   },
   "outputs": [],
   "source": [
    "#data_all.info()"
   ]
  },
  {
   "cell_type": "code",
   "execution_count": 95,
   "metadata": {
    "collapsed": false
   },
   "outputs": [],
   "source": [
    "#data_all['nppes_provider_zip']=data_all['nppes_provider_zip'].astype(int)"
   ]
  },
  {
   "cell_type": "code",
   "execution_count": 96,
   "metadata": {
    "collapsed": false
   },
   "outputs": [],
   "source": [
    "#data_all"
   ]
  },
  {
   "cell_type": "code",
   "execution_count": 97,
   "metadata": {
    "collapsed": true
   },
   "outputs": [],
   "source": [
    "#def add_names(x, y):\n",
    "#    return x + ' ' + y"
   ]
  },
  {
   "cell_type": "code",
   "execution_count": 98,
   "metadata": {
    "collapsed": false
   },
   "outputs": [],
   "source": [
    "#data_all.groupby('nppes_provider_zip').count()"
   ]
  },
  {
   "cell_type": "code",
   "execution_count": 99,
   "metadata": {
    "collapsed": true
   },
   "outputs": [],
   "source": [
    "#data_all.to_csv('providers_names_and_zips.csv')"
   ]
  },
  {
   "cell_type": "code",
   "execution_count": 100,
   "metadata": {
    "collapsed": true
   },
   "outputs": [],
   "source": [
    "# def find_names(a):\n",
    "#     df = pd.read_csv('7_move_javascript/providers_names_and_zips.csv')\n",
    "#     for zipcode in df['nppes_provider_zip']:\n",
    "#         if zipcode == a:\n",
    "#             firs_nm = df['nppes_provider_first_name'].values()\n",
    "#             last_nm = df['nppes_provider_last_org_name'].values()\n",
    "#             break\n",
    "#     return firs_nm, last_nm\n"
   ]
  },
  {
   "cell_type": "code",
   "execution_count": 101,
   "metadata": {
    "collapsed": false
   },
   "outputs": [],
   "source": [
    "#df2=df1[df1['nppes_provider_zip']==98101]"
   ]
  },
  {
   "cell_type": "code",
   "execution_count": 102,
   "metadata": {
    "collapsed": false
   },
   "outputs": [],
   "source": [
    "#df2['nppes_provider_last_org_name'].values[0]"
   ]
  },
  {
   "cell_type": "code",
   "execution_count": 103,
   "metadata": {
    "collapsed": false
   },
   "outputs": [],
   "source": [
    "#last_nm = df2['nppes_provider_last_org_name'].values[0]\n",
    "#first_nm = df2['nppes_provider_first_name'].values[0]"
   ]
  },
  {
   "cell_type": "code",
   "execution_count": 104,
   "metadata": {
    "collapsed": false
   },
   "outputs": [],
   "source": [
    "#print last_nm"
   ]
  },
  {
   "cell_type": "code",
   "execution_count": 105,
   "metadata": {
    "collapsed": false
   },
   "outputs": [],
   "source": [
    "#print first_nm"
   ]
  },
  {
   "cell_type": "code",
   "execution_count": null,
   "metadata": {
    "collapsed": true
   },
   "outputs": [],
   "source": []
  }
 ],
 "metadata": {
  "anaconda-cloud": {},
  "kernelspec": {
   "display_name": "Python [conda root]",
   "language": "python",
   "name": "conda-root-py"
  },
  "language_info": {
   "codemirror_mode": {
    "name": "ipython",
    "version": 2
   },
   "file_extension": ".py",
   "mimetype": "text/x-python",
   "name": "python",
   "nbconvert_exporter": "python",
   "pygments_lexer": "ipython2",
   "version": "2.7.13"
  }
 },
 "nbformat": 4,
 "nbformat_minor": 1
}
