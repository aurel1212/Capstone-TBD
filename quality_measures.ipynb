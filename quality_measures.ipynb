{
 "cells": [
  {
   "cell_type": "code",
   "execution_count": 1,
   "metadata": {
    "collapsed": true
   },
   "outputs": [],
   "source": [
    "import pandas as pd"
   ]
  },
  {
   "cell_type": "code",
   "execution_count": 2,
   "metadata": {
    "collapsed": true
   },
   "outputs": [],
   "source": [
    "provider_quality=pd.read_csv('Medicare_Data/Physician_Compare_2014/2014_Individual_EP_Public_Reporting_-_Clinical_Quality_Of_Care.csv')"
   ]
  },
  {
   "cell_type": "code",
   "execution_count": 3,
   "metadata": {
    "collapsed": false
   },
   "outputs": [],
   "source": [
    "#provider_quality.info()"
   ]
  },
  {
   "cell_type": "code",
   "execution_count": 4,
   "metadata": {
    "collapsed": false
   },
   "outputs": [],
   "source": [
    "#provider_quality['NPI'].value_counts()"
   ]
  },
  {
   "cell_type": "code",
   "execution_count": 5,
   "metadata": {
    "collapsed": false
   },
   "outputs": [
    {
     "data": {
      "text/html": [
       "<div>\n",
       "<table border=\"1\" class=\"dataframe\">\n",
       "  <thead>\n",
       "    <tr style=\"text-align: right;\">\n",
       "      <th></th>\n",
       "      <th>NPI</th>\n",
       "      <th>PAC ID</th>\n",
       "      <th>Last Name</th>\n",
       "      <th>First Name</th>\n",
       "      <th>Screening for depression and developing a follow-up plan.</th>\n",
       "      <th>Screening for tobacco use and providing help quitting when needed.</th>\n",
       "      <th>Screening for an unhealthy body weight and developing a follow-up plan.</th>\n",
       "      <th>Screening for high blood pressure and developing a follow-up plan.</th>\n",
       "      <th>Comparing new and old medications.</th>\n",
       "      <th>Using aspirin or prescription medicines to reduce heart attacks and strokes.</th>\n",
       "    </tr>\n",
       "  </thead>\n",
       "  <tbody>\n",
       "    <tr>\n",
       "      <th>0</th>\n",
       "      <td>1578594750</td>\n",
       "      <td>42100612</td>\n",
       "      <td>FERUCCI</td>\n",
       "      <td>PAUL</td>\n",
       "      <td>NaN</td>\n",
       "      <td>86.0</td>\n",
       "      <td>NaN</td>\n",
       "      <td>NaN</td>\n",
       "      <td>NaN</td>\n",
       "      <td>NaN</td>\n",
       "    </tr>\n",
       "    <tr>\n",
       "      <th>1</th>\n",
       "      <td>1508863630</td>\n",
       "      <td>42100760</td>\n",
       "      <td>CHIARO</td>\n",
       "      <td>JOHN</td>\n",
       "      <td>NaN</td>\n",
       "      <td>100.0</td>\n",
       "      <td>96.0</td>\n",
       "      <td>NaN</td>\n",
       "      <td>NaN</td>\n",
       "      <td>NaN</td>\n",
       "    </tr>\n",
       "    <tr>\n",
       "      <th>2</th>\n",
       "      <td>1417040411</td>\n",
       "      <td>42101214</td>\n",
       "      <td>TANTRA</td>\n",
       "      <td>ZUBIN</td>\n",
       "      <td>NaN</td>\n",
       "      <td>NaN</td>\n",
       "      <td>12.0</td>\n",
       "      <td>NaN</td>\n",
       "      <td>NaN</td>\n",
       "      <td>NaN</td>\n",
       "    </tr>\n",
       "    <tr>\n",
       "      <th>3</th>\n",
       "      <td>1265464077</td>\n",
       "      <td>42102154</td>\n",
       "      <td>SIMENTAL</td>\n",
       "      <td>ALFRED</td>\n",
       "      <td>NaN</td>\n",
       "      <td>94.0</td>\n",
       "      <td>45.0</td>\n",
       "      <td>NaN</td>\n",
       "      <td>NaN</td>\n",
       "      <td>NaN</td>\n",
       "    </tr>\n",
       "    <tr>\n",
       "      <th>4</th>\n",
       "      <td>1992762215</td>\n",
       "      <td>42102246</td>\n",
       "      <td>SEIFF</td>\n",
       "      <td>MICHAEL</td>\n",
       "      <td>NaN</td>\n",
       "      <td>100.0</td>\n",
       "      <td>100.0</td>\n",
       "      <td>NaN</td>\n",
       "      <td>NaN</td>\n",
       "      <td>NaN</td>\n",
       "    </tr>\n",
       "  </tbody>\n",
       "</table>\n",
       "</div>"
      ],
      "text/plain": [
       "          NPI    PAC ID Last Name First Name  \\\n",
       "0  1578594750  42100612   FERUCCI       PAUL   \n",
       "1  1508863630  42100760    CHIARO       JOHN   \n",
       "2  1417040411  42101214    TANTRA      ZUBIN   \n",
       "3  1265464077  42102154  SIMENTAL     ALFRED   \n",
       "4  1992762215  42102246     SEIFF    MICHAEL   \n",
       "\n",
       "   Screening for depression and developing a follow-up plan.  \\\n",
       "0                                                NaN           \n",
       "1                                                NaN           \n",
       "2                                                NaN           \n",
       "3                                                NaN           \n",
       "4                                                NaN           \n",
       "\n",
       "   Screening for tobacco use and providing help quitting when needed.  \\\n",
       "0                                               86.0                    \n",
       "1                                              100.0                    \n",
       "2                                                NaN                    \n",
       "3                                               94.0                    \n",
       "4                                              100.0                    \n",
       "\n",
       "   Screening for an unhealthy body weight and developing a follow-up plan.  \\\n",
       "0                                                NaN                         \n",
       "1                                               96.0                         \n",
       "2                                               12.0                         \n",
       "3                                               45.0                         \n",
       "4                                              100.0                         \n",
       "\n",
       "   Screening for high blood pressure and developing a follow-up plan.  \\\n",
       "0                                                NaN                    \n",
       "1                                                NaN                    \n",
       "2                                                NaN                    \n",
       "3                                                NaN                    \n",
       "4                                                NaN                    \n",
       "\n",
       "   Comparing new and old medications.  \\\n",
       "0                                 NaN   \n",
       "1                                 NaN   \n",
       "2                                 NaN   \n",
       "3                                 NaN   \n",
       "4                                 NaN   \n",
       "\n",
       "   Using aspirin or prescription medicines to reduce heart attacks and strokes.  \n",
       "0                                                NaN                             \n",
       "1                                                NaN                             \n",
       "2                                                NaN                             \n",
       "3                                                NaN                             \n",
       "4                                                NaN                             "
      ]
     },
     "execution_count": 5,
     "metadata": {},
     "output_type": "execute_result"
    }
   ],
   "source": [
    "provider_quality.head()"
   ]
  },
  {
   "cell_type": "code",
   "execution_count": 6,
   "metadata": {
    "collapsed": false
   },
   "outputs": [],
   "source": [
    "#fct rename columns lower letters; remove spaces\n",
    "def lower_columns(pdx):\n",
    "    cols = pdx.columns.tolist()\n",
    "    cols = [col.lower() for col in cols]\n",
    "    pdx.columns = cols\n",
    "    pdx.rename(columns=lambda x: x.strip().replace(\" \", \"_\"), inplace=True)\n",
    "    return pdx\n",
    "provider_quality=lower_columns(provider_quality)"
   ]
  },
  {
   "cell_type": "code",
   "execution_count": 7,
   "metadata": {
    "collapsed": false
   },
   "outputs": [
    {
     "name": "stdout",
     "output_type": "stream",
     "text": [
      "<class 'pandas.core.frame.DataFrame'>\n",
      "RangeIndex: 37464 entries, 0 to 37463\n",
      "Data columns (total 10 columns):\n",
      "npi                                                                             37464 non-null int64\n",
      "pac_id                                                                          37464 non-null int64\n",
      "last_name                                                                       37462 non-null object\n",
      "first_name                                                                      37464 non-null object\n",
      "screening_for_depression_and_developing_a_follow-up_plan.                       2062 non-null float64\n",
      "screening_for_tobacco_use_and_providing_help_quitting_when_needed.              25670 non-null float64\n",
      "screening_for_an_unhealthy_body_weight_and_developing_a_follow-up_plan.         18627 non-null float64\n",
      "screening_for_high_blood_pressure_and_developing_a_follow-up_plan.              5439 non-null float64\n",
      "comparing_new_and_old_medications.                                              628 non-null float64\n",
      "using_aspirin_or_prescription_medicines_to_reduce_heart_attacks_and_strokes.    1443 non-null float64\n",
      "dtypes: float64(6), int64(2), object(2)\n",
      "memory usage: 2.9+ MB\n"
     ]
    }
   ],
   "source": [
    "provider_quality.info()"
   ]
  },
  {
   "cell_type": "code",
   "execution_count": 8,
   "metadata": {
    "collapsed": true
   },
   "outputs": [],
   "source": [
    "#rename columns\n",
    "#fct remane columns\n",
    "def name_columns(value_old,value_new,pdx):\n",
    "    cols = pdx.columns.tolist()\n",
    "    cols = [col.replace(value_old,value_new) for col in cols]\n",
    "    pdx.columns = cols\n",
    "    return pdx\n",
    "provider_quality=name_columns('screening_for_depression_and_developing_a_follow-up_plan.', 'depression', provider_quality)\n",
    "provider_quality=name_columns('screening_for_tobacco_use_and_providing_help_quitting_when_needed.', 'tobacco', provider_quality)\n",
    "provider_quality=name_columns('screening_for_an_unhealthy_body_weight_and_developing_a_follow-up_plan.', 'weight_control', provider_quality)\n",
    "provider_quality=name_columns('screening_for_high_blood_pressure_and_developing_a_follow-up_plan.', 'blood_pressure', provider_quality)\n",
    "provider_quality=name_columns('comparing_new_and_old_medications.', 'new_medication', provider_quality)\n",
    "provider_quality=name_columns('using_aspirin_or_prescription_medicines_to_reduce_heart_attacks_and_strokes.', 'heart_attack', provider_quality)\n"
   ]
  },
  {
   "cell_type": "code",
   "execution_count": 9,
   "metadata": {
    "collapsed": false
   },
   "outputs": [
    {
     "name": "stdout",
     "output_type": "stream",
     "text": [
      "<class 'pandas.core.frame.DataFrame'>\n",
      "RangeIndex: 37464 entries, 0 to 37463\n",
      "Data columns (total 10 columns):\n",
      "npi               37464 non-null int64\n",
      "pac_id            37464 non-null int64\n",
      "last_name         37462 non-null object\n",
      "first_name        37464 non-null object\n",
      "depression        2062 non-null float64\n",
      "tobacco           25670 non-null float64\n",
      "weight_control    18627 non-null float64\n",
      "blood_pressure    5439 non-null float64\n",
      "new_medication    628 non-null float64\n",
      "heart_attack      1443 non-null float64\n",
      "dtypes: float64(6), int64(2), object(2)\n",
      "memory usage: 2.9+ MB\n"
     ]
    }
   ],
   "source": [
    "provider_quality.info()"
   ]
  },
  {
   "cell_type": "code",
   "execution_count": 10,
   "metadata": {
    "collapsed": true
   },
   "outputs": [],
   "source": [
    "#convert columns to numeric\n",
    "#provider_all=provider_all.apply(lambda x: pd.to_numeric(x, errors='ignore'))\n",
    "\n",
    "numeric=['depression','tobacco','weight_control','blood_pressure','new_medication','heart_attack']\n",
    "\n",
    "provider_quality[numeric] = provider_quality[numeric].apply(pd.to_numeric, errors='coerce')\n",
    "\n"
   ]
  },
  {
   "cell_type": "code",
   "execution_count": 11,
   "metadata": {
    "collapsed": true
   },
   "outputs": [],
   "source": [
    "#set an index\n",
    "provider_quality=provider_quality.set_index(provider_quality.npi)"
   ]
  },
  {
   "cell_type": "code",
   "execution_count": 12,
   "metadata": {
    "collapsed": true
   },
   "outputs": [],
   "source": [
    "#fill all NAN\n",
    "provider_quality=provider_quality.replace(['nan','NaN'], ['.','0'])\n",
    "provider_quality.fillna(0,inplace=True)"
   ]
  },
  {
   "cell_type": "code",
   "execution_count": 13,
   "metadata": {
    "collapsed": false
   },
   "outputs": [],
   "source": [
    "def percentage_change(lst, pdx):\n",
    "    for i in xrange(len(lst)):\n",
    "        #print lst[i]\n",
    "        pdx[lst[i]]=pdx[lst[i]]/float(100)\n",
    "    return pdx\n",
    "provider_quality=percentage_change(numeric,provider_quality)    "
   ]
  },
  {
   "cell_type": "code",
   "execution_count": 14,
   "metadata": {
    "collapsed": false
   },
   "outputs": [
    {
     "name": "stdout",
     "output_type": "stream",
     "text": [
      "<class 'pandas.core.frame.DataFrame'>\n",
      "Int64Index: 37464 entries, 1578594750 to 1922428002\n",
      "Data columns (total 10 columns):\n",
      "npi               37464 non-null int64\n",
      "pac_id            37464 non-null int64\n",
      "last_name         37464 non-null object\n",
      "first_name        37464 non-null object\n",
      "depression        37464 non-null float64\n",
      "tobacco           37464 non-null float64\n",
      "weight_control    37464 non-null float64\n",
      "blood_pressure    37464 non-null float64\n",
      "new_medication    37464 non-null float64\n",
      "heart_attack      37464 non-null float64\n",
      "dtypes: float64(6), int64(2), object(2)\n",
      "memory usage: 3.1+ MB\n"
     ]
    }
   ],
   "source": [
    "provider_quality.info()\n"
   ]
  },
  {
   "cell_type": "code",
   "execution_count": 15,
   "metadata": {
    "collapsed": true
   },
   "outputs": [],
   "source": [
    "provider_measures=['depression','tobacco','weight_control','blood_pressure','new_medication','heart_attack']"
   ]
  },
  {
   "cell_type": "code",
   "execution_count": 16,
   "metadata": {
    "collapsed": true
   },
   "outputs": [],
   "source": [
    "provider_quality['prov_qual_indic']= provider_quality[provider_measures].sum(axis=1)"
   ]
  },
  {
   "cell_type": "code",
   "execution_count": 17,
   "metadata": {
    "collapsed": false
   },
   "outputs": [],
   "source": [
    "provider_quality['prov_qual_indic']=provider_quality['prov_qual_indic']/float(6)"
   ]
  },
  {
   "cell_type": "code",
   "execution_count": 18,
   "metadata": {
    "collapsed": true
   },
   "outputs": [],
   "source": [
    "#save as pickle\n",
    "provider_quality.to_pickle('provider_quality_pickle.pkl') "
   ]
  },
  {
   "cell_type": "code",
   "execution_count": null,
   "metadata": {
    "collapsed": true
   },
   "outputs": [],
   "source": []
  },
  {
   "cell_type": "code",
   "execution_count": 19,
   "metadata": {
    "collapsed": false
   },
   "outputs": [
    {
     "name": "stdout",
     "output_type": "stream",
     "text": [
      "Aurel_MVP.pptx               wa_group_quality_pickle.pkl\r\n",
      "\u001b[34mData\u001b[m\u001b[m                         wa_hosp_rating_gr_pickle.pkl\r\n",
      "\u001b[34mMedicare_Data\u001b[m\u001b[m                wa_org_pickle.pkl\r\n",
      "Quality_measures.ipynb       wa_payments_pickle.pkl\r\n",
      "README.md                    wa_provider_pickle.pkl\r\n",
      "\u001b[34mSRC\u001b[m\u001b[m                          work_2012.ipynb\r\n",
      "hospital_measures1.ipynb     work_2013.ipynb\r\n",
      "provider_quality_care.ipynb  work_2014.ipynb\r\n",
      "provider_quality_pickle.pkl  work_payments.ipynb\r\n"
     ]
    }
   ],
   "source": [
    "!ls"
   ]
  },
  {
   "cell_type": "code",
   "execution_count": 20,
   "metadata": {
    "collapsed": true
   },
   "outputs": [],
   "source": [
    "group_quality=pd.read_csv('Medicare_Data/Physician_Compare_2014/2014_Group_Practice_Public_Reporting_-_Clinical_Quality_Of_Care.csv')"
   ]
  },
  {
   "cell_type": "code",
   "execution_count": 21,
   "metadata": {
    "collapsed": false
   },
   "outputs": [
    {
     "data": {
      "text/plain": [
       "(6637, 32)"
      ]
     },
     "execution_count": 21,
     "metadata": {},
     "output_type": "execute_result"
    }
   ],
   "source": [
    "group_quality=lower_columns(group_quality)\n",
    "group_quality.shape"
   ]
  },
  {
   "cell_type": "code",
   "execution_count": 22,
   "metadata": {
    "collapsed": false
   },
   "outputs": [],
   "source": [
    "#group_quality.info"
   ]
  },
  {
   "cell_type": "code",
   "execution_count": 23,
   "metadata": {
    "collapsed": true
   },
   "outputs": [],
   "source": [
    "group_quality=name_columns('prescribing_medicine_to_improve_the_pumping_action_of_the_heart_in_patients_who_have_both_heart_disease_and_certain_other_conditions.', 'med_heart_4', group_quality)\n",
    "group_quality=name_columns('patients_with_heart_failure_and_a_weakened_pumping_chamber_of_the_heart_who_got_a_beta_blocker.', 'med_heart_3', group_quality)\n",
    "group_quality=name_columns('using_aspirin_or_prescription_medicines_to_reduce_heart_attacks_and_strokes.', 'med_heart_2', group_quality)\n",
    "group_quality=name_columns('using_aspirin_or_prescription_medicines_to_reduce_heart_attacks_and_strokes_in_patients_with_diabetes.', 'med_heart_1', group_quality)\n",
    "group_quality=name_columns('comparing_new_and_old_medications.', 'new_medication', group_quality)\n",
    "\n",
    "group_quality=name_columns('screening_for_depression_and_developing_a_follow-up_plan.', 'depression', group_quality)\n",
    "group_quality=name_columns('screening_for_tobacco_use_and_providing_help_quitting_when_needed.', 'tobacco', group_quality)\n",
    "group_quality=name_columns('screening_for_an_unhealthy_body_weight_and_developing_a_follow-up_plan.', 'weight_control', group_quality)\n",
    "group_quality=name_columns('screening_for_high_blood_pressure_and_developing_a_follow-up_plan.', 'blood_pressure', group_quality)\n",
    "group_quality=name_columns('comparing_new_and_old_medications.', 'new_medication', group_quality)\n",
    "group_quality=name_columns('controlling_blood_pressure_in_patients_with_diabetes.', 'blood_pressure_2', group_quality)\n",
    "group_quality=name_columns('screening_for_breast_cancer.', 'cancer_2', group_quality)\n",
    "group_quality=name_columns('screening_for_colorectal_(colon_or_rectum)_cancer.', 'cancer_1', group_quality)\n",
    "group_quality=name_columns('making_sure_older_adults_have_gotten_a_pneumonia_vaccine.', 'vaccine', group_quality)\n",
    "group_quality=name_columns('getting_a_flu_shot_during_flu_season.', 'flu_shot', group_quality)\n",
    "group_quality=name_columns('participating_in_pqrs', 'pqrs', group_quality)\n",
    "group_quality=name_columns('group_practice_pac_id', 'pac_id', group_quality)\n",
    "group_quality=name_columns(\"\"\"organization_legal_name_or_'doing_business_as'_name\"\"\", 'name', group_quality)\n",
    "\n",
    "\n"
   ]
  },
  {
   "cell_type": "code",
   "execution_count": 24,
   "metadata": {
    "collapsed": true
   },
   "outputs": [],
   "source": [
    "#remove footnote columns\n",
    "footnote=group_quality.columns[group_quality.columns.str.contains('ootnote')]"
   ]
  },
  {
   "cell_type": "code",
   "execution_count": 25,
   "metadata": {
    "collapsed": false
   },
   "outputs": [],
   "source": [
    "#print footnote"
   ]
  },
  {
   "cell_type": "code",
   "execution_count": 26,
   "metadata": {
    "collapsed": true
   },
   "outputs": [],
   "source": [
    "def drop_columns(col_remove,pdx):\n",
    "    columns=list(pdx.columns.values)\n",
    "    for col in col_remove:\n",
    "        if col in columns:\n",
    "            pdx.drop(col, axis=1, inplace=True)\n",
    "    return pdx"
   ]
  },
  {
   "cell_type": "code",
   "execution_count": 27,
   "metadata": {
    "collapsed": true
   },
   "outputs": [],
   "source": [
    "group_quality=drop_columns(footnote, group_quality)"
   ]
  },
  {
   "cell_type": "code",
   "execution_count": 28,
   "metadata": {
    "collapsed": true
   },
   "outputs": [],
   "source": [
    "group_quality.fillna(0,inplace=True)"
   ]
  },
  {
   "cell_type": "code",
   "execution_count": 29,
   "metadata": {
    "collapsed": false
   },
   "outputs": [
    {
     "data": {
      "text/html": [
       "<div>\n",
       "<table border=\"1\" class=\"dataframe\">\n",
       "  <thead>\n",
       "    <tr style=\"text-align: right;\">\n",
       "      <th></th>\n",
       "      <th>name</th>\n",
       "      <th>pac_id</th>\n",
       "      <th>state</th>\n",
       "      <th>pqrs</th>\n",
       "      <th>flu_shot</th>\n",
       "      <th>vaccine</th>\n",
       "      <th>depression</th>\n",
       "      <th>tobacco</th>\n",
       "      <th>weight_control</th>\n",
       "      <th>blood_pressure</th>\n",
       "      <th>cancer_2</th>\n",
       "      <th>cancer_1</th>\n",
       "      <th>new_medication</th>\n",
       "      <th>blood_pressure_2</th>\n",
       "      <th>med_heart_1</th>\n",
       "      <th>med_heart_2</th>\n",
       "      <th>med_heart_3</th>\n",
       "      <th>med_heart_4</th>\n",
       "    </tr>\n",
       "  </thead>\n",
       "  <tbody>\n",
       "    <tr>\n",
       "      <th>0</th>\n",
       "      <td>DERMATOLOGY and SURGERY ASSOCIATES, LLP</td>\n",
       "      <td>42101818</td>\n",
       "      <td>NY</td>\n",
       "      <td>Y</td>\n",
       "      <td>0.0</td>\n",
       "      <td>0.0</td>\n",
       "      <td>0.0</td>\n",
       "      <td>0.0</td>\n",
       "      <td>0.0</td>\n",
       "      <td>0.0</td>\n",
       "      <td>0.0</td>\n",
       "      <td>0.0</td>\n",
       "      <td>0.0</td>\n",
       "      <td>0.0</td>\n",
       "      <td>0.0</td>\n",
       "      <td>0.0</td>\n",
       "      <td>0.0</td>\n",
       "      <td>0.0</td>\n",
       "    </tr>\n",
       "    <tr>\n",
       "      <th>1</th>\n",
       "      <td>COUNTY OF CLAY</td>\n",
       "      <td>42101982</td>\n",
       "      <td>IL</td>\n",
       "      <td>Y</td>\n",
       "      <td>0.0</td>\n",
       "      <td>0.0</td>\n",
       "      <td>0.0</td>\n",
       "      <td>0.0</td>\n",
       "      <td>0.0</td>\n",
       "      <td>0.0</td>\n",
       "      <td>0.0</td>\n",
       "      <td>0.0</td>\n",
       "      <td>0.0</td>\n",
       "      <td>0.0</td>\n",
       "      <td>0.0</td>\n",
       "      <td>0.0</td>\n",
       "      <td>0.0</td>\n",
       "      <td>0.0</td>\n",
       "    </tr>\n",
       "    <tr>\n",
       "      <th>2</th>\n",
       "      <td>NORTHWEST FAMILY PHYSICIANS PA</td>\n",
       "      <td>42102956</td>\n",
       "      <td>MN</td>\n",
       "      <td>Y</td>\n",
       "      <td>0.0</td>\n",
       "      <td>0.0</td>\n",
       "      <td>0.0</td>\n",
       "      <td>0.0</td>\n",
       "      <td>0.0</td>\n",
       "      <td>0.0</td>\n",
       "      <td>0.0</td>\n",
       "      <td>0.0</td>\n",
       "      <td>0.0</td>\n",
       "      <td>0.0</td>\n",
       "      <td>0.0</td>\n",
       "      <td>0.0</td>\n",
       "      <td>0.0</td>\n",
       "      <td>0.0</td>\n",
       "    </tr>\n",
       "    <tr>\n",
       "      <th>3</th>\n",
       "      <td>HERITAGE VALLEY MEDICAL GROUP INC</td>\n",
       "      <td>42105678</td>\n",
       "      <td>PA</td>\n",
       "      <td>Y</td>\n",
       "      <td>59.0</td>\n",
       "      <td>59.0</td>\n",
       "      <td>1.0</td>\n",
       "      <td>61.0</td>\n",
       "      <td>40.0</td>\n",
       "      <td>26.0</td>\n",
       "      <td>50.0</td>\n",
       "      <td>27.0</td>\n",
       "      <td>84.0</td>\n",
       "      <td>65.0</td>\n",
       "      <td>82.0</td>\n",
       "      <td>78.0</td>\n",
       "      <td>0.0</td>\n",
       "      <td>78.0</td>\n",
       "    </tr>\n",
       "    <tr>\n",
       "      <th>4</th>\n",
       "      <td>ST MARYS REGIONAL MEDICAL CENTER</td>\n",
       "      <td>42107120</td>\n",
       "      <td>ME</td>\n",
       "      <td>Y</td>\n",
       "      <td>0.0</td>\n",
       "      <td>0.0</td>\n",
       "      <td>0.0</td>\n",
       "      <td>0.0</td>\n",
       "      <td>0.0</td>\n",
       "      <td>0.0</td>\n",
       "      <td>0.0</td>\n",
       "      <td>0.0</td>\n",
       "      <td>0.0</td>\n",
       "      <td>0.0</td>\n",
       "      <td>0.0</td>\n",
       "      <td>0.0</td>\n",
       "      <td>0.0</td>\n",
       "      <td>0.0</td>\n",
       "    </tr>\n",
       "    <tr>\n",
       "      <th>5</th>\n",
       "      <td>EDWARD HOSPITAL</td>\n",
       "      <td>42108110</td>\n",
       "      <td>IL</td>\n",
       "      <td>Y</td>\n",
       "      <td>0.0</td>\n",
       "      <td>0.0</td>\n",
       "      <td>0.0</td>\n",
       "      <td>0.0</td>\n",
       "      <td>0.0</td>\n",
       "      <td>0.0</td>\n",
       "      <td>0.0</td>\n",
       "      <td>0.0</td>\n",
       "      <td>0.0</td>\n",
       "      <td>0.0</td>\n",
       "      <td>0.0</td>\n",
       "      <td>0.0</td>\n",
       "      <td>0.0</td>\n",
       "      <td>0.0</td>\n",
       "    </tr>\n",
       "    <tr>\n",
       "      <th>6</th>\n",
       "      <td>UNIVERSITY OF MARYLAND ORTHOPAEDIC ASSOCIATES,...</td>\n",
       "      <td>42108722</td>\n",
       "      <td>MD</td>\n",
       "      <td>Y</td>\n",
       "      <td>0.0</td>\n",
       "      <td>0.0</td>\n",
       "      <td>0.0</td>\n",
       "      <td>0.0</td>\n",
       "      <td>0.0</td>\n",
       "      <td>0.0</td>\n",
       "      <td>0.0</td>\n",
       "      <td>0.0</td>\n",
       "      <td>0.0</td>\n",
       "      <td>0.0</td>\n",
       "      <td>0.0</td>\n",
       "      <td>0.0</td>\n",
       "      <td>0.0</td>\n",
       "      <td>0.0</td>\n",
       "    </tr>\n",
       "    <tr>\n",
       "      <th>7</th>\n",
       "      <td>HR PHYSICIAN SERVICES</td>\n",
       "      <td>42109902</td>\n",
       "      <td>PA</td>\n",
       "      <td>Y</td>\n",
       "      <td>0.0</td>\n",
       "      <td>0.0</td>\n",
       "      <td>0.0</td>\n",
       "      <td>0.0</td>\n",
       "      <td>0.0</td>\n",
       "      <td>0.0</td>\n",
       "      <td>0.0</td>\n",
       "      <td>0.0</td>\n",
       "      <td>0.0</td>\n",
       "      <td>0.0</td>\n",
       "      <td>0.0</td>\n",
       "      <td>0.0</td>\n",
       "      <td>0.0</td>\n",
       "      <td>0.0</td>\n",
       "    </tr>\n",
       "    <tr>\n",
       "      <th>8</th>\n",
       "      <td>MAYO CLINIC HEALTH SYSTEM-OWATONNA</td>\n",
       "      <td>42111981</td>\n",
       "      <td>MN</td>\n",
       "      <td>Y</td>\n",
       "      <td>83.0</td>\n",
       "      <td>92.0</td>\n",
       "      <td>10.0</td>\n",
       "      <td>97.0</td>\n",
       "      <td>46.0</td>\n",
       "      <td>58.0</td>\n",
       "      <td>79.0</td>\n",
       "      <td>80.0</td>\n",
       "      <td>90.0</td>\n",
       "      <td>90.0</td>\n",
       "      <td>100.0</td>\n",
       "      <td>96.0</td>\n",
       "      <td>87.0</td>\n",
       "      <td>88.0</td>\n",
       "    </tr>\n",
       "    <tr>\n",
       "      <th>9</th>\n",
       "      <td>FLORIDA INSTITUTE FOR CARDIOVASCULAR CARE PA</td>\n",
       "      <td>42112278</td>\n",
       "      <td>FL</td>\n",
       "      <td>Y</td>\n",
       "      <td>0.0</td>\n",
       "      <td>0.0</td>\n",
       "      <td>0.0</td>\n",
       "      <td>0.0</td>\n",
       "      <td>0.0</td>\n",
       "      <td>0.0</td>\n",
       "      <td>0.0</td>\n",
       "      <td>0.0</td>\n",
       "      <td>0.0</td>\n",
       "      <td>0.0</td>\n",
       "      <td>0.0</td>\n",
       "      <td>0.0</td>\n",
       "      <td>0.0</td>\n",
       "      <td>0.0</td>\n",
       "    </tr>\n",
       "    <tr>\n",
       "      <th>10</th>\n",
       "      <td>EYE SPECIALISTS OF ILLINOIS, S.C,</td>\n",
       "      <td>42118804</td>\n",
       "      <td>IL</td>\n",
       "      <td>Y</td>\n",
       "      <td>0.0</td>\n",
       "      <td>0.0</td>\n",
       "      <td>0.0</td>\n",
       "      <td>0.0</td>\n",
       "      <td>0.0</td>\n",
       "      <td>0.0</td>\n",
       "      <td>0.0</td>\n",
       "      <td>0.0</td>\n",
       "      <td>0.0</td>\n",
       "      <td>0.0</td>\n",
       "      <td>0.0</td>\n",
       "      <td>0.0</td>\n",
       "      <td>0.0</td>\n",
       "      <td>0.0</td>\n",
       "    </tr>\n",
       "    <tr>\n",
       "      <th>11</th>\n",
       "      <td>LOUDOUN MEDICAL GROUP PC</td>\n",
       "      <td>42119661</td>\n",
       "      <td>VA</td>\n",
       "      <td>Y</td>\n",
       "      <td>0.0</td>\n",
       "      <td>0.0</td>\n",
       "      <td>0.0</td>\n",
       "      <td>0.0</td>\n",
       "      <td>0.0</td>\n",
       "      <td>0.0</td>\n",
       "      <td>0.0</td>\n",
       "      <td>0.0</td>\n",
       "      <td>0.0</td>\n",
       "      <td>0.0</td>\n",
       "      <td>0.0</td>\n",
       "      <td>0.0</td>\n",
       "      <td>0.0</td>\n",
       "      <td>0.0</td>\n",
       "    </tr>\n",
       "    <tr>\n",
       "      <th>12</th>\n",
       "      <td>NORTH MEMORIAL HEALTH CARE</td>\n",
       "      <td>42123028</td>\n",
       "      <td>MN</td>\n",
       "      <td>Y</td>\n",
       "      <td>0.0</td>\n",
       "      <td>0.0</td>\n",
       "      <td>0.0</td>\n",
       "      <td>0.0</td>\n",
       "      <td>0.0</td>\n",
       "      <td>0.0</td>\n",
       "      <td>0.0</td>\n",
       "      <td>0.0</td>\n",
       "      <td>0.0</td>\n",
       "      <td>0.0</td>\n",
       "      <td>0.0</td>\n",
       "      <td>0.0</td>\n",
       "      <td>0.0</td>\n",
       "      <td>0.0</td>\n",
       "    </tr>\n",
       "    <tr>\n",
       "      <th>13</th>\n",
       "      <td>MARY IMMACULATE HOSPITAL</td>\n",
       "      <td>42124042</td>\n",
       "      <td>VA</td>\n",
       "      <td>Y</td>\n",
       "      <td>0.0</td>\n",
       "      <td>0.0</td>\n",
       "      <td>0.0</td>\n",
       "      <td>0.0</td>\n",
       "      <td>0.0</td>\n",
       "      <td>0.0</td>\n",
       "      <td>0.0</td>\n",
       "      <td>0.0</td>\n",
       "      <td>0.0</td>\n",
       "      <td>0.0</td>\n",
       "      <td>0.0</td>\n",
       "      <td>0.0</td>\n",
       "      <td>0.0</td>\n",
       "      <td>0.0</td>\n",
       "    </tr>\n",
       "    <tr>\n",
       "      <th>14</th>\n",
       "      <td>UNIVERSITY OF TEXAS HEALTH SCIENCE CENTER AT S...</td>\n",
       "      <td>42128548</td>\n",
       "      <td>TX</td>\n",
       "      <td>Y</td>\n",
       "      <td>46.0</td>\n",
       "      <td>75.0</td>\n",
       "      <td>55.0</td>\n",
       "      <td>96.0</td>\n",
       "      <td>73.0</td>\n",
       "      <td>49.0</td>\n",
       "      <td>65.0</td>\n",
       "      <td>59.0</td>\n",
       "      <td>54.0</td>\n",
       "      <td>66.0</td>\n",
       "      <td>85.0</td>\n",
       "      <td>86.0</td>\n",
       "      <td>98.0</td>\n",
       "      <td>83.0</td>\n",
       "    </tr>\n",
       "    <tr>\n",
       "      <th>15</th>\n",
       "      <td>UNIVERSITY DERMATOLOGY INC</td>\n",
       "      <td>42204059</td>\n",
       "      <td>IN</td>\n",
       "      <td>Y</td>\n",
       "      <td>0.0</td>\n",
       "      <td>0.0</td>\n",
       "      <td>0.0</td>\n",
       "      <td>0.0</td>\n",
       "      <td>0.0</td>\n",
       "      <td>0.0</td>\n",
       "      <td>0.0</td>\n",
       "      <td>0.0</td>\n",
       "      <td>0.0</td>\n",
       "      <td>0.0</td>\n",
       "      <td>0.0</td>\n",
       "      <td>0.0</td>\n",
       "      <td>0.0</td>\n",
       "      <td>0.0</td>\n",
       "    </tr>\n",
       "    <tr>\n",
       "      <th>16</th>\n",
       "      <td>PACIFIC MEDICAL GROUP, PC</td>\n",
       "      <td>42204638</td>\n",
       "      <td>OR</td>\n",
       "      <td>Y</td>\n",
       "      <td>0.0</td>\n",
       "      <td>0.0</td>\n",
       "      <td>0.0</td>\n",
       "      <td>0.0</td>\n",
       "      <td>0.0</td>\n",
       "      <td>0.0</td>\n",
       "      <td>0.0</td>\n",
       "      <td>0.0</td>\n",
       "      <td>0.0</td>\n",
       "      <td>0.0</td>\n",
       "      <td>0.0</td>\n",
       "      <td>0.0</td>\n",
       "      <td>0.0</td>\n",
       "      <td>0.0</td>\n",
       "    </tr>\n",
       "    <tr>\n",
       "      <th>17</th>\n",
       "      <td>UPPER BUCKS ORTHOPAEDIC ASSOCIATION</td>\n",
       "      <td>42205536</td>\n",
       "      <td>PA</td>\n",
       "      <td>Y</td>\n",
       "      <td>0.0</td>\n",
       "      <td>0.0</td>\n",
       "      <td>0.0</td>\n",
       "      <td>0.0</td>\n",
       "      <td>0.0</td>\n",
       "      <td>0.0</td>\n",
       "      <td>0.0</td>\n",
       "      <td>0.0</td>\n",
       "      <td>0.0</td>\n",
       "      <td>0.0</td>\n",
       "      <td>0.0</td>\n",
       "      <td>0.0</td>\n",
       "      <td>0.0</td>\n",
       "      <td>0.0</td>\n",
       "    </tr>\n",
       "    <tr>\n",
       "      <th>18</th>\n",
       "      <td>FAMILY MEDICINE SPECIALISTS, INCORPORATED</td>\n",
       "      <td>42206252</td>\n",
       "      <td>IL</td>\n",
       "      <td>Y</td>\n",
       "      <td>0.0</td>\n",
       "      <td>0.0</td>\n",
       "      <td>0.0</td>\n",
       "      <td>0.0</td>\n",
       "      <td>0.0</td>\n",
       "      <td>0.0</td>\n",
       "      <td>0.0</td>\n",
       "      <td>0.0</td>\n",
       "      <td>0.0</td>\n",
       "      <td>0.0</td>\n",
       "      <td>0.0</td>\n",
       "      <td>0.0</td>\n",
       "      <td>0.0</td>\n",
       "      <td>0.0</td>\n",
       "    </tr>\n",
       "    <tr>\n",
       "      <th>19</th>\n",
       "      <td>THE HEALTH GROUP OF MCMINNVILLE, P.C.</td>\n",
       "      <td>42209686</td>\n",
       "      <td>TN</td>\n",
       "      <td>Y</td>\n",
       "      <td>0.0</td>\n",
       "      <td>0.0</td>\n",
       "      <td>0.0</td>\n",
       "      <td>0.0</td>\n",
       "      <td>0.0</td>\n",
       "      <td>0.0</td>\n",
       "      <td>0.0</td>\n",
       "      <td>0.0</td>\n",
       "      <td>0.0</td>\n",
       "      <td>0.0</td>\n",
       "      <td>0.0</td>\n",
       "      <td>0.0</td>\n",
       "      <td>0.0</td>\n",
       "      <td>0.0</td>\n",
       "    </tr>\n",
       "  </tbody>\n",
       "</table>\n",
       "</div>"
      ],
      "text/plain": [
       "                                                 name    pac_id state pqrs  \\\n",
       "0             DERMATOLOGY and SURGERY ASSOCIATES, LLP  42101818    NY    Y   \n",
       "1                                      COUNTY OF CLAY  42101982    IL    Y   \n",
       "2                      NORTHWEST FAMILY PHYSICIANS PA  42102956    MN    Y   \n",
       "3                   HERITAGE VALLEY MEDICAL GROUP INC  42105678    PA    Y   \n",
       "4                    ST MARYS REGIONAL MEDICAL CENTER  42107120    ME    Y   \n",
       "5                                     EDWARD HOSPITAL  42108110    IL    Y   \n",
       "6   UNIVERSITY OF MARYLAND ORTHOPAEDIC ASSOCIATES,...  42108722    MD    Y   \n",
       "7                               HR PHYSICIAN SERVICES  42109902    PA    Y   \n",
       "8                  MAYO CLINIC HEALTH SYSTEM-OWATONNA  42111981    MN    Y   \n",
       "9        FLORIDA INSTITUTE FOR CARDIOVASCULAR CARE PA  42112278    FL    Y   \n",
       "10                  EYE SPECIALISTS OF ILLINOIS, S.C,  42118804    IL    Y   \n",
       "11                           LOUDOUN MEDICAL GROUP PC  42119661    VA    Y   \n",
       "12                         NORTH MEMORIAL HEALTH CARE  42123028    MN    Y   \n",
       "13                           MARY IMMACULATE HOSPITAL  42124042    VA    Y   \n",
       "14  UNIVERSITY OF TEXAS HEALTH SCIENCE CENTER AT S...  42128548    TX    Y   \n",
       "15                         UNIVERSITY DERMATOLOGY INC  42204059    IN    Y   \n",
       "16                          PACIFIC MEDICAL GROUP, PC  42204638    OR    Y   \n",
       "17                UPPER BUCKS ORTHOPAEDIC ASSOCIATION  42205536    PA    Y   \n",
       "18          FAMILY MEDICINE SPECIALISTS, INCORPORATED  42206252    IL    Y   \n",
       "19              THE HEALTH GROUP OF MCMINNVILLE, P.C.  42209686    TN    Y   \n",
       "\n",
       "    flu_shot  vaccine  depression  tobacco  weight_control  blood_pressure  \\\n",
       "0        0.0      0.0         0.0      0.0             0.0             0.0   \n",
       "1        0.0      0.0         0.0      0.0             0.0             0.0   \n",
       "2        0.0      0.0         0.0      0.0             0.0             0.0   \n",
       "3       59.0     59.0         1.0     61.0            40.0            26.0   \n",
       "4        0.0      0.0         0.0      0.0             0.0             0.0   \n",
       "5        0.0      0.0         0.0      0.0             0.0             0.0   \n",
       "6        0.0      0.0         0.0      0.0             0.0             0.0   \n",
       "7        0.0      0.0         0.0      0.0             0.0             0.0   \n",
       "8       83.0     92.0        10.0     97.0            46.0            58.0   \n",
       "9        0.0      0.0         0.0      0.0             0.0             0.0   \n",
       "10       0.0      0.0         0.0      0.0             0.0             0.0   \n",
       "11       0.0      0.0         0.0      0.0             0.0             0.0   \n",
       "12       0.0      0.0         0.0      0.0             0.0             0.0   \n",
       "13       0.0      0.0         0.0      0.0             0.0             0.0   \n",
       "14      46.0     75.0        55.0     96.0            73.0            49.0   \n",
       "15       0.0      0.0         0.0      0.0             0.0             0.0   \n",
       "16       0.0      0.0         0.0      0.0             0.0             0.0   \n",
       "17       0.0      0.0         0.0      0.0             0.0             0.0   \n",
       "18       0.0      0.0         0.0      0.0             0.0             0.0   \n",
       "19       0.0      0.0         0.0      0.0             0.0             0.0   \n",
       "\n",
       "    cancer_2  cancer_1  new_medication  blood_pressure_2  med_heart_1  \\\n",
       "0        0.0       0.0             0.0               0.0          0.0   \n",
       "1        0.0       0.0             0.0               0.0          0.0   \n",
       "2        0.0       0.0             0.0               0.0          0.0   \n",
       "3       50.0      27.0            84.0              65.0         82.0   \n",
       "4        0.0       0.0             0.0               0.0          0.0   \n",
       "5        0.0       0.0             0.0               0.0          0.0   \n",
       "6        0.0       0.0             0.0               0.0          0.0   \n",
       "7        0.0       0.0             0.0               0.0          0.0   \n",
       "8       79.0      80.0            90.0              90.0        100.0   \n",
       "9        0.0       0.0             0.0               0.0          0.0   \n",
       "10       0.0       0.0             0.0               0.0          0.0   \n",
       "11       0.0       0.0             0.0               0.0          0.0   \n",
       "12       0.0       0.0             0.0               0.0          0.0   \n",
       "13       0.0       0.0             0.0               0.0          0.0   \n",
       "14      65.0      59.0            54.0              66.0         85.0   \n",
       "15       0.0       0.0             0.0               0.0          0.0   \n",
       "16       0.0       0.0             0.0               0.0          0.0   \n",
       "17       0.0       0.0             0.0               0.0          0.0   \n",
       "18       0.0       0.0             0.0               0.0          0.0   \n",
       "19       0.0       0.0             0.0               0.0          0.0   \n",
       "\n",
       "    med_heart_2  med_heart_3  med_heart_4  \n",
       "0           0.0          0.0          0.0  \n",
       "1           0.0          0.0          0.0  \n",
       "2           0.0          0.0          0.0  \n",
       "3          78.0          0.0         78.0  \n",
       "4           0.0          0.0          0.0  \n",
       "5           0.0          0.0          0.0  \n",
       "6           0.0          0.0          0.0  \n",
       "7           0.0          0.0          0.0  \n",
       "8          96.0         87.0         88.0  \n",
       "9           0.0          0.0          0.0  \n",
       "10          0.0          0.0          0.0  \n",
       "11          0.0          0.0          0.0  \n",
       "12          0.0          0.0          0.0  \n",
       "13          0.0          0.0          0.0  \n",
       "14         86.0         98.0         83.0  \n",
       "15          0.0          0.0          0.0  \n",
       "16          0.0          0.0          0.0  \n",
       "17          0.0          0.0          0.0  \n",
       "18          0.0          0.0          0.0  \n",
       "19          0.0          0.0          0.0  "
      ]
     },
     "execution_count": 29,
     "metadata": {},
     "output_type": "execute_result"
    }
   ],
   "source": [
    "group_quality.head(20)"
   ]
  },
  {
   "cell_type": "code",
   "execution_count": 30,
   "metadata": {
    "collapsed": true
   },
   "outputs": [],
   "source": [
    "quality_measures=['flu_shot','vaccine','depression','tobacco','weight_control','blood_pressure','cancer_2','cancer_1',\n",
    "                 'new_medication','blood_pressure_2','med_heart_1','med_heart_2','med_heart_3','med_heart_4']"
   ]
  },
  {
   "cell_type": "code",
   "execution_count": 31,
   "metadata": {
    "collapsed": true
   },
   "outputs": [],
   "source": [
    "group_quality['group_qual_indic']= group_quality[quality_measures].sum(axis=1)"
   ]
  },
  {
   "cell_type": "code",
   "execution_count": 32,
   "metadata": {
    "collapsed": true
   },
   "outputs": [],
   "source": [
    "group_quality['group_qual_indic']=group_quality['group_qual_indic']/float(14)"
   ]
  },
  {
   "cell_type": "code",
   "execution_count": null,
   "metadata": {
    "collapsed": true
   },
   "outputs": [],
   "source": []
  },
  {
   "cell_type": "code",
   "execution_count": 33,
   "metadata": {
    "collapsed": true
   },
   "outputs": [],
   "source": [
    "wa_group_quality=group_quality[group_quality['state']=='WA']\n",
    "wa_group_quality.to_pickle('wa_group_quality_pickle.pkl')\n",
    "wa_group_quality= pd.read_pickle('wa_group_quality_pickle.pkl')"
   ]
  },
  {
   "cell_type": "code",
   "execution_count": 34,
   "metadata": {
    "collapsed": false
   },
   "outputs": [
    {
     "name": "stdout",
     "output_type": "stream",
     "text": [
      "<class 'pandas.core.frame.DataFrame'>\n",
      "RangeIndex: 6637 entries, 0 to 6636\n",
      "Data columns (total 19 columns):\n",
      "name                6637 non-null object\n",
      "pac_id              6637 non-null int64\n",
      "state               6637 non-null object\n",
      "pqrs                6637 non-null object\n",
      "flu_shot            6637 non-null float64\n",
      "vaccine             6637 non-null float64\n",
      "depression          6637 non-null float64\n",
      "tobacco             6637 non-null float64\n",
      "weight_control      6637 non-null float64\n",
      "blood_pressure      6637 non-null float64\n",
      "cancer_2            6637 non-null float64\n",
      "cancer_1            6637 non-null float64\n",
      "new_medication      6637 non-null float64\n",
      "blood_pressure_2    6637 non-null float64\n",
      "med_heart_1         6637 non-null float64\n",
      "med_heart_2         6637 non-null float64\n",
      "med_heart_3         6637 non-null float64\n",
      "med_heart_4         6637 non-null float64\n",
      "group_qual_indic    6637 non-null float64\n",
      "dtypes: float64(15), int64(1), object(3)\n",
      "memory usage: 985.2+ KB\n"
     ]
    }
   ],
   "source": [
    "group_quality.info()"
   ]
  },
  {
   "cell_type": "code",
   "execution_count": 35,
   "metadata": {
    "collapsed": false
   },
   "outputs": [
    {
     "data": {
      "text/plain": [
       "(88, 19)"
      ]
     },
     "execution_count": 35,
     "metadata": {},
     "output_type": "execute_result"
    }
   ],
   "source": [
    "wa_group_quality.shape"
   ]
  },
  {
   "cell_type": "code",
   "execution_count": 36,
   "metadata": {
    "collapsed": false
   },
   "outputs": [
    {
     "name": "stdout",
     "output_type": "stream",
     "text": [
      "<class 'pandas.core.frame.DataFrame'>\n",
      "Int64Index: 37464 entries, 1578594750 to 1922428002\n",
      "Data columns (total 11 columns):\n",
      "npi                37464 non-null int64\n",
      "pac_id             37464 non-null int64\n",
      "last_name          37464 non-null object\n",
      "first_name         37464 non-null object\n",
      "depression         37464 non-null float64\n",
      "tobacco            37464 non-null float64\n",
      "weight_control     37464 non-null float64\n",
      "blood_pressure     37464 non-null float64\n",
      "new_medication     37464 non-null float64\n",
      "heart_attack       37464 non-null float64\n",
      "prov_qual_indic    37464 non-null float64\n",
      "dtypes: float64(7), int64(2), object(2)\n",
      "memory usage: 3.4+ MB\n"
     ]
    }
   ],
   "source": [
    "provider_quality.info()"
   ]
  },
  {
   "cell_type": "code",
   "execution_count": null,
   "metadata": {
    "collapsed": true
   },
   "outputs": [],
   "source": []
  }
 ],
 "metadata": {
  "kernelspec": {
   "display_name": "Python [conda root]",
   "language": "python",
   "name": "conda-root-py"
  },
  "language_info": {
   "codemirror_mode": {
    "name": "ipython",
    "version": 2
   },
   "file_extension": ".py",
   "mimetype": "text/x-python",
   "name": "python",
   "nbconvert_exporter": "python",
   "pygments_lexer": "ipython2",
   "version": "2.7.13"
  }
 },
 "nbformat": 4,
 "nbformat_minor": 1
}
