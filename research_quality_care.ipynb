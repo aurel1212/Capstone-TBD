{
 "cells": [
  {
   "cell_type": "code",
   "execution_count": 1,
   "metadata": {
    "collapsed": true
   },
   "outputs": [],
   "source": [
    "import pandas as pd\n",
    "import datetime"
   ]
  },
  {
   "cell_type": "code",
   "execution_count": 2,
   "metadata": {
    "collapsed": false
   },
   "outputs": [
    {
     "data": {
      "text/plain": [
       "u'/Users/aurelperianu/Documents/Medicare_payments_classifier'"
      ]
     },
     "execution_count": 2,
     "metadata": {},
     "output_type": "execute_result"
    }
   ],
   "source": [
    "pwd"
   ]
  },
  {
   "cell_type": "code",
   "execution_count": 3,
   "metadata": {
    "collapsed": false
   },
   "outputs": [
    {
     "name": "stderr",
     "output_type": "stream",
     "text": [
      "/Users/aurelperianu/anaconda/lib/python2.7/site-packages/IPython/core/interactiveshell.py:2717: DtypeWarning: Columns (15,25,26,28,29,30,31,32,33,34,36,41) have mixed types. Specify dtype option on import or set low_memory=False.\n",
      "  interactivity=interactivity, compiler=compiler, result=result)\n"
     ]
    }
   ],
   "source": [
    "#data_all=pd.read_csv('Medicare_Data/2012MedicareProviderPayment.txt', delimiter='\\t')\n",
    "provider_all=pd.read_csv('Medicare_Data/Physician_Compare_2014/National_Downloadable_File.csv')"
   ]
  },
  {
   "cell_type": "code",
   "execution_count": 4,
   "metadata": {
    "collapsed": true
   },
   "outputs": [],
   "source": [
    "#fct rename columns lower letters; remove spaces\n",
    "def lower_columns(pdx):\n",
    "    cols = pdx.columns.tolist()\n",
    "    cols = [col.lower() for col in cols]\n",
    "    pdx.columns = cols\n",
    "    pdx.rename(columns=lambda x: x.strip().replace(\" \", \"_\"), inplace=True)\n",
    "    return pdx\n",
    "provider_all=lower_columns(provider_all)"
   ]
  },
  {
   "cell_type": "code",
   "execution_count": 5,
   "metadata": {
    "collapsed": true
   },
   "outputs": [],
   "source": [
    "#add zip code\n",
    "provider_all['zip_code']=provider_all['zip_code'].astype(str)\n",
    "provider_all['zip_base']=provider_all['zip_code'].str.slice(0,5)\n",
    "\n",
    "#data_all['nppes_provider_zip_base'].unique()"
   ]
  },
  {
   "cell_type": "code",
   "execution_count": 6,
   "metadata": {
    "collapsed": true
   },
   "outputs": [],
   "source": [
    "#provider_all['professional_accepts_medicare_assignment']=provider_all['professional_accepts_medicare_assignment'].astype(str)\n",
    "#provider_all['state']=provider_all['state'].astype(str)"
   ]
  },
  {
   "cell_type": "code",
   "execution_count": 7,
   "metadata": {
    "collapsed": false,
    "scrolled": true
   },
   "outputs": [],
   "source": [
    "#select WA state providers\n",
    "#provider_wa['professional_accepts_medicare_assignment'=='M']\n",
    "#provider_wa=provider_all[provider_all['state']=='WA']\n",
    "#provider_wa.info()"
   ]
  },
  {
   "cell_type": "code",
   "execution_count": 8,
   "metadata": {
    "collapsed": false
   },
   "outputs": [],
   "source": [
    "#provider_all['professional_accepts_medicare_assignment'].unique()"
   ]
  },
  {
   "cell_type": "code",
   "execution_count": 9,
   "metadata": {
    "collapsed": false,
    "scrolled": false
   },
   "outputs": [
    {
     "data": {
      "text/html": [
       "<div>\n",
       "<table border=\"1\" class=\"dataframe\">\n",
       "  <thead>\n",
       "    <tr style=\"text-align: right;\">\n",
       "      <th></th>\n",
       "      <th>0</th>\n",
       "      <th>1</th>\n",
       "      <th>2</th>\n",
       "      <th>3</th>\n",
       "      <th>4</th>\n",
       "    </tr>\n",
       "  </thead>\n",
       "  <tbody>\n",
       "    <tr>\n",
       "      <th>npi</th>\n",
       "      <td>1821199704</td>\n",
       "      <td>1487927612</td>\n",
       "      <td>1235146762</td>\n",
       "      <td>1285727842</td>\n",
       "      <td>1770581647</td>\n",
       "    </tr>\n",
       "    <tr>\n",
       "      <th>pac_id</th>\n",
       "      <td>9739343922</td>\n",
       "      <td>4880850486</td>\n",
       "      <td>2365435336</td>\n",
       "      <td>5799762829</td>\n",
       "      <td>6608976915</td>\n",
       "    </tr>\n",
       "    <tr>\n",
       "      <th>professional_enrollment_id</th>\n",
       "      <td>I20120620000327</td>\n",
       "      <td>I20120726000331</td>\n",
       "      <td>I20040406000367</td>\n",
       "      <td>I20040707000479</td>\n",
       "      <td>I20070714000216</td>\n",
       "    </tr>\n",
       "    <tr>\n",
       "      <th>last_name</th>\n",
       "      <td>SMITH</td>\n",
       "      <td>HALL</td>\n",
       "      <td>WHITE</td>\n",
       "      <td>CASHA</td>\n",
       "      <td>FACCA</td>\n",
       "    </tr>\n",
       "    <tr>\n",
       "      <th>first_name</th>\n",
       "      <td>WILLIAM</td>\n",
       "      <td>ESTHER</td>\n",
       "      <td>BARBARA</td>\n",
       "      <td>MARK</td>\n",
       "      <td>ROBERT</td>\n",
       "    </tr>\n",
       "    <tr>\n",
       "      <th>middle_name</th>\n",
       "      <td>A</td>\n",
       "      <td>S</td>\n",
       "      <td>L</td>\n",
       "      <td>S</td>\n",
       "      <td>R</td>\n",
       "    </tr>\n",
       "    <tr>\n",
       "      <th>suffix</th>\n",
       "      <td>NaN</td>\n",
       "      <td>NaN</td>\n",
       "      <td>NaN</td>\n",
       "      <td>NaN</td>\n",
       "      <td>NaN</td>\n",
       "    </tr>\n",
       "    <tr>\n",
       "      <th>gender</th>\n",
       "      <td>M</td>\n",
       "      <td>F</td>\n",
       "      <td>F</td>\n",
       "      <td>M</td>\n",
       "      <td>M</td>\n",
       "    </tr>\n",
       "    <tr>\n",
       "      <th>credential</th>\n",
       "      <td>NaN</td>\n",
       "      <td>NaN</td>\n",
       "      <td>CSW</td>\n",
       "      <td>DC</td>\n",
       "      <td>NaN</td>\n",
       "    </tr>\n",
       "    <tr>\n",
       "      <th>medical_school_name</th>\n",
       "      <td>PALMER COLLEGE CHIROPRACTIC -  WEST SUNNYVALE</td>\n",
       "      <td>LIFE CHIROPRACTIC COLLEGE - WEST</td>\n",
       "      <td>OTHER</td>\n",
       "      <td>OTHER</td>\n",
       "      <td>LIFE CHIROPRACTIC COLLEGE - WEST</td>\n",
       "    </tr>\n",
       "    <tr>\n",
       "      <th>graduation_year</th>\n",
       "      <td>1980</td>\n",
       "      <td>2010</td>\n",
       "      <td>1992</td>\n",
       "      <td>1981</td>\n",
       "      <td>1982</td>\n",
       "    </tr>\n",
       "    <tr>\n",
       "      <th>primary_specialty</th>\n",
       "      <td>CHIROPRACTIC</td>\n",
       "      <td>CHIROPRACTIC</td>\n",
       "      <td>CLINICAL SOCIAL WORKER</td>\n",
       "      <td>CHIROPRACTIC</td>\n",
       "      <td>CHIROPRACTIC</td>\n",
       "    </tr>\n",
       "    <tr>\n",
       "      <th>secondary_specialty_1</th>\n",
       "      <td>NaN</td>\n",
       "      <td>NaN</td>\n",
       "      <td>NaN</td>\n",
       "      <td>NaN</td>\n",
       "      <td>NaN</td>\n",
       "    </tr>\n",
       "    <tr>\n",
       "      <th>secondary_specialty_2</th>\n",
       "      <td>NaN</td>\n",
       "      <td>NaN</td>\n",
       "      <td>NaN</td>\n",
       "      <td>NaN</td>\n",
       "      <td>NaN</td>\n",
       "    </tr>\n",
       "    <tr>\n",
       "      <th>secondary_specialty_3</th>\n",
       "      <td>NaN</td>\n",
       "      <td>NaN</td>\n",
       "      <td>NaN</td>\n",
       "      <td>NaN</td>\n",
       "      <td>NaN</td>\n",
       "    </tr>\n",
       "    <tr>\n",
       "      <th>secondary_specialty_4</th>\n",
       "      <td>NaN</td>\n",
       "      <td>NaN</td>\n",
       "      <td>NaN</td>\n",
       "      <td>NaN</td>\n",
       "      <td>NaN</td>\n",
       "    </tr>\n",
       "    <tr>\n",
       "      <th>all_secondary_specialties</th>\n",
       "      <td>NaN</td>\n",
       "      <td>NaN</td>\n",
       "      <td>NaN</td>\n",
       "      <td>NaN</td>\n",
       "      <td>NaN</td>\n",
       "    </tr>\n",
       "    <tr>\n",
       "      <th>organization_legal_name</th>\n",
       "      <td>NaN</td>\n",
       "      <td>NaN</td>\n",
       "      <td>NaN</td>\n",
       "      <td>CASHA-CROSS CHIROPRACTIC, INC</td>\n",
       "      <td>FACCA CHIROPRACTIC CLINIC</td>\n",
       "    </tr>\n",
       "    <tr>\n",
       "      <th>group_practice_pac_id</th>\n",
       "      <td>NaN</td>\n",
       "      <td>NaN</td>\n",
       "      <td>NaN</td>\n",
       "      <td>1.95139e+09</td>\n",
       "      <td>9.33525e+09</td>\n",
       "    </tr>\n",
       "    <tr>\n",
       "      <th>number_of_group_practice_members</th>\n",
       "      <td>NaN</td>\n",
       "      <td>NaN</td>\n",
       "      <td>NaN</td>\n",
       "      <td>2</td>\n",
       "      <td>1</td>\n",
       "    </tr>\n",
       "    <tr>\n",
       "      <th>line_1_street_address</th>\n",
       "      <td>3904 TUSCARAWAS ST W</td>\n",
       "      <td>183 PLACERVILLE DR</td>\n",
       "      <td>163 ENGLE ST</td>\n",
       "      <td>5330 PRIMROSE DR</td>\n",
       "      <td>2715 W WEBSTER</td>\n",
       "    </tr>\n",
       "    <tr>\n",
       "      <th>line_2_street_address</th>\n",
       "      <td>MELLETT PLAZA</td>\n",
       "      <td>SUITE A</td>\n",
       "      <td>NaN</td>\n",
       "      <td>NaN</td>\n",
       "      <td>NaN</td>\n",
       "    </tr>\n",
       "    <tr>\n",
       "      <th>marker_of_address_line_2_suppression</th>\n",
       "      <td>NaN</td>\n",
       "      <td>NaN</td>\n",
       "      <td>NaN</td>\n",
       "      <td>NaN</td>\n",
       "      <td>NaN</td>\n",
       "    </tr>\n",
       "    <tr>\n",
       "      <th>city</th>\n",
       "      <td>CANTON</td>\n",
       "      <td>PLACERVILLE</td>\n",
       "      <td>ENGLEWOOD</td>\n",
       "      <td>FAIR OAKS</td>\n",
       "      <td>ROYAL OAK</td>\n",
       "    </tr>\n",
       "    <tr>\n",
       "      <th>state</th>\n",
       "      <td>OH</td>\n",
       "      <td>CA</td>\n",
       "      <td>NJ</td>\n",
       "      <td>CA</td>\n",
       "      <td>MI</td>\n",
       "    </tr>\n",
       "    <tr>\n",
       "      <th>zip_code</th>\n",
       "      <td>447085549</td>\n",
       "      <td>956673933</td>\n",
       "      <td>076312530</td>\n",
       "      <td>956283541</td>\n",
       "      <td>480733700</td>\n",
       "    </tr>\n",
       "    <tr>\n",
       "      <th>phone_number</th>\n",
       "      <td>3.30477e+09</td>\n",
       "      <td>5.30623e+09</td>\n",
       "      <td>2.0141e+09</td>\n",
       "      <td>9.16968e+09</td>\n",
       "      <td>2.48545e+09</td>\n",
       "    </tr>\n",
       "    <tr>\n",
       "      <th>hospital_affiliation_ccn_1</th>\n",
       "      <td>NaN</td>\n",
       "      <td>NaN</td>\n",
       "      <td>NaN</td>\n",
       "      <td>NaN</td>\n",
       "      <td>NaN</td>\n",
       "    </tr>\n",
       "    <tr>\n",
       "      <th>hospital_affiliation_lbn_1</th>\n",
       "      <td>NaN</td>\n",
       "      <td>NaN</td>\n",
       "      <td>NaN</td>\n",
       "      <td>NaN</td>\n",
       "      <td>NaN</td>\n",
       "    </tr>\n",
       "    <tr>\n",
       "      <th>hospital_affiliation_ccn_2</th>\n",
       "      <td>NaN</td>\n",
       "      <td>NaN</td>\n",
       "      <td>NaN</td>\n",
       "      <td>NaN</td>\n",
       "      <td>NaN</td>\n",
       "    </tr>\n",
       "    <tr>\n",
       "      <th>hospital_affiliation_lbn_2</th>\n",
       "      <td>NaN</td>\n",
       "      <td>NaN</td>\n",
       "      <td>NaN</td>\n",
       "      <td>NaN</td>\n",
       "      <td>NaN</td>\n",
       "    </tr>\n",
       "    <tr>\n",
       "      <th>hospital_affiliation_ccn_3</th>\n",
       "      <td>NaN</td>\n",
       "      <td>NaN</td>\n",
       "      <td>NaN</td>\n",
       "      <td>NaN</td>\n",
       "      <td>NaN</td>\n",
       "    </tr>\n",
       "    <tr>\n",
       "      <th>hospital_affiliation_lbn_3</th>\n",
       "      <td>NaN</td>\n",
       "      <td>NaN</td>\n",
       "      <td>NaN</td>\n",
       "      <td>NaN</td>\n",
       "      <td>NaN</td>\n",
       "    </tr>\n",
       "    <tr>\n",
       "      <th>hospital_affiliation_ccn_4</th>\n",
       "      <td>NaN</td>\n",
       "      <td>NaN</td>\n",
       "      <td>NaN</td>\n",
       "      <td>NaN</td>\n",
       "      <td>NaN</td>\n",
       "    </tr>\n",
       "    <tr>\n",
       "      <th>hospital_affiliation_lbn_4</th>\n",
       "      <td>NaN</td>\n",
       "      <td>NaN</td>\n",
       "      <td>NaN</td>\n",
       "      <td>NaN</td>\n",
       "      <td>NaN</td>\n",
       "    </tr>\n",
       "    <tr>\n",
       "      <th>hospital_affiliation_ccn_5</th>\n",
       "      <td>NaN</td>\n",
       "      <td>NaN</td>\n",
       "      <td>NaN</td>\n",
       "      <td>NaN</td>\n",
       "      <td>NaN</td>\n",
       "    </tr>\n",
       "    <tr>\n",
       "      <th>hospital_affiliation_lbn_5</th>\n",
       "      <td>NaN</td>\n",
       "      <td>NaN</td>\n",
       "      <td>NaN</td>\n",
       "      <td>NaN</td>\n",
       "      <td>NaN</td>\n",
       "    </tr>\n",
       "    <tr>\n",
       "      <th>professional_accepts_medicare_assignment</th>\n",
       "      <td>M</td>\n",
       "      <td>Y</td>\n",
       "      <td>Y</td>\n",
       "      <td>M</td>\n",
       "      <td>Y</td>\n",
       "    </tr>\n",
       "    <tr>\n",
       "      <th>reported_quality_measures</th>\n",
       "      <td>NaN</td>\n",
       "      <td>NaN</td>\n",
       "      <td>NaN</td>\n",
       "      <td>NaN</td>\n",
       "      <td>NaN</td>\n",
       "    </tr>\n",
       "    <tr>\n",
       "      <th>used_electronic_health_records</th>\n",
       "      <td>NaN</td>\n",
       "      <td>NaN</td>\n",
       "      <td>NaN</td>\n",
       "      <td>NaN</td>\n",
       "      <td>NaN</td>\n",
       "    </tr>\n",
       "    <tr>\n",
       "      <th>participated_in_the_medicare_maintenance_of_certification_program.</th>\n",
       "      <td>NaN</td>\n",
       "      <td>NaN</td>\n",
       "      <td>NaN</td>\n",
       "      <td>NaN</td>\n",
       "      <td>NaN</td>\n",
       "    </tr>\n",
       "    <tr>\n",
       "      <th>committed_to_heart_health_through_the_million_hearts®_initiative.</th>\n",
       "      <td>NaN</td>\n",
       "      <td>NaN</td>\n",
       "      <td>NaN</td>\n",
       "      <td>NaN</td>\n",
       "      <td>NaN</td>\n",
       "    </tr>\n",
       "    <tr>\n",
       "      <th>zip_base</th>\n",
       "      <td>44708</td>\n",
       "      <td>95667</td>\n",
       "      <td>07631</td>\n",
       "      <td>95628</td>\n",
       "      <td>48073</td>\n",
       "    </tr>\n",
       "  </tbody>\n",
       "</table>\n",
       "</div>"
      ],
      "text/plain": [
       "                                                                                                0  \\\n",
       "npi                                                                                    1821199704   \n",
       "pac_id                                                                                 9739343922   \n",
       "professional_enrollment_id                                                        I20120620000327   \n",
       "last_name                                                                                   SMITH   \n",
       "first_name                                                                                WILLIAM   \n",
       "middle_name                                                                                     A   \n",
       "suffix                                                                                        NaN   \n",
       "gender                                                                                          M   \n",
       "credential                                                                                    NaN   \n",
       "medical_school_name                                 PALMER COLLEGE CHIROPRACTIC -  WEST SUNNYVALE   \n",
       "graduation_year                                                                              1980   \n",
       "primary_specialty                                                                    CHIROPRACTIC   \n",
       "secondary_specialty_1                                                                         NaN   \n",
       "secondary_specialty_2                                                                         NaN   \n",
       "secondary_specialty_3                                                                         NaN   \n",
       "secondary_specialty_4                                                                         NaN   \n",
       "all_secondary_specialties                                                                     NaN   \n",
       "organization_legal_name                                                                       NaN   \n",
       "group_practice_pac_id                                                                         NaN   \n",
       "number_of_group_practice_members                                                              NaN   \n",
       "line_1_street_address                                                        3904 TUSCARAWAS ST W   \n",
       "line_2_street_address                                                               MELLETT PLAZA   \n",
       "marker_of_address_line_2_suppression                                                          NaN   \n",
       "city                                                                                       CANTON   \n",
       "state                                                                                          OH   \n",
       "zip_code                                                                                447085549   \n",
       "phone_number                                                                          3.30477e+09   \n",
       "hospital_affiliation_ccn_1                                                                    NaN   \n",
       "hospital_affiliation_lbn_1                                                                    NaN   \n",
       "hospital_affiliation_ccn_2                                                                    NaN   \n",
       "hospital_affiliation_lbn_2                                                                    NaN   \n",
       "hospital_affiliation_ccn_3                                                                    NaN   \n",
       "hospital_affiliation_lbn_3                                                                    NaN   \n",
       "hospital_affiliation_ccn_4                                                                    NaN   \n",
       "hospital_affiliation_lbn_4                                                                    NaN   \n",
       "hospital_affiliation_ccn_5                                                                    NaN   \n",
       "hospital_affiliation_lbn_5                                                                    NaN   \n",
       "professional_accepts_medicare_assignment                                                        M   \n",
       "reported_quality_measures                                                                     NaN   \n",
       "used_electronic_health_records                                                                NaN   \n",
       "participated_in_the_medicare_maintenance_of_cer...                                            NaN   \n",
       "committed_to_heart_health_through_the_million_h...                                            NaN   \n",
       "zip_base                                                                                    44708   \n",
       "\n",
       "                                                                                   1  \\\n",
       "npi                                                                       1487927612   \n",
       "pac_id                                                                    4880850486   \n",
       "professional_enrollment_id                                           I20120726000331   \n",
       "last_name                                                                       HALL   \n",
       "first_name                                                                    ESTHER   \n",
       "middle_name                                                                        S   \n",
       "suffix                                                                           NaN   \n",
       "gender                                                                             F   \n",
       "credential                                                                       NaN   \n",
       "medical_school_name                                 LIFE CHIROPRACTIC COLLEGE - WEST   \n",
       "graduation_year                                                                 2010   \n",
       "primary_specialty                                                       CHIROPRACTIC   \n",
       "secondary_specialty_1                                                            NaN   \n",
       "secondary_specialty_2                                                            NaN   \n",
       "secondary_specialty_3                                                            NaN   \n",
       "secondary_specialty_4                                                            NaN   \n",
       "all_secondary_specialties                                                        NaN   \n",
       "organization_legal_name                                                          NaN   \n",
       "group_practice_pac_id                                                            NaN   \n",
       "number_of_group_practice_members                                                 NaN   \n",
       "line_1_street_address                                             183 PLACERVILLE DR   \n",
       "line_2_street_address                                                        SUITE A   \n",
       "marker_of_address_line_2_suppression                                             NaN   \n",
       "city                                                                     PLACERVILLE   \n",
       "state                                                                             CA   \n",
       "zip_code                                                                   956673933   \n",
       "phone_number                                                             5.30623e+09   \n",
       "hospital_affiliation_ccn_1                                                       NaN   \n",
       "hospital_affiliation_lbn_1                                                       NaN   \n",
       "hospital_affiliation_ccn_2                                                       NaN   \n",
       "hospital_affiliation_lbn_2                                                       NaN   \n",
       "hospital_affiliation_ccn_3                                                       NaN   \n",
       "hospital_affiliation_lbn_3                                                       NaN   \n",
       "hospital_affiliation_ccn_4                                                       NaN   \n",
       "hospital_affiliation_lbn_4                                                       NaN   \n",
       "hospital_affiliation_ccn_5                                                       NaN   \n",
       "hospital_affiliation_lbn_5                                                       NaN   \n",
       "professional_accepts_medicare_assignment                                           Y   \n",
       "reported_quality_measures                                                        NaN   \n",
       "used_electronic_health_records                                                   NaN   \n",
       "participated_in_the_medicare_maintenance_of_cer...                               NaN   \n",
       "committed_to_heart_health_through_the_million_h...                               NaN   \n",
       "zip_base                                                                       95667   \n",
       "\n",
       "                                                                         2  \\\n",
       "npi                                                             1235146762   \n",
       "pac_id                                                          2365435336   \n",
       "professional_enrollment_id                                 I20040406000367   \n",
       "last_name                                                            WHITE   \n",
       "first_name                                                         BARBARA   \n",
       "middle_name                                                              L   \n",
       "suffix                                                                 NaN   \n",
       "gender                                                                   F   \n",
       "credential                                                             CSW   \n",
       "medical_school_name                                                  OTHER   \n",
       "graduation_year                                                       1992   \n",
       "primary_specialty                                   CLINICAL SOCIAL WORKER   \n",
       "secondary_specialty_1                                                  NaN   \n",
       "secondary_specialty_2                                                  NaN   \n",
       "secondary_specialty_3                                                  NaN   \n",
       "secondary_specialty_4                                                  NaN   \n",
       "all_secondary_specialties                                              NaN   \n",
       "organization_legal_name                                                NaN   \n",
       "group_practice_pac_id                                                  NaN   \n",
       "number_of_group_practice_members                                       NaN   \n",
       "line_1_street_address                                         163 ENGLE ST   \n",
       "line_2_street_address                                                  NaN   \n",
       "marker_of_address_line_2_suppression                                   NaN   \n",
       "city                                                             ENGLEWOOD   \n",
       "state                                                                   NJ   \n",
       "zip_code                                                         076312530   \n",
       "phone_number                                                    2.0141e+09   \n",
       "hospital_affiliation_ccn_1                                             NaN   \n",
       "hospital_affiliation_lbn_1                                             NaN   \n",
       "hospital_affiliation_ccn_2                                             NaN   \n",
       "hospital_affiliation_lbn_2                                             NaN   \n",
       "hospital_affiliation_ccn_3                                             NaN   \n",
       "hospital_affiliation_lbn_3                                             NaN   \n",
       "hospital_affiliation_ccn_4                                             NaN   \n",
       "hospital_affiliation_lbn_4                                             NaN   \n",
       "hospital_affiliation_ccn_5                                             NaN   \n",
       "hospital_affiliation_lbn_5                                             NaN   \n",
       "professional_accepts_medicare_assignment                                 Y   \n",
       "reported_quality_measures                                              NaN   \n",
       "used_electronic_health_records                                         NaN   \n",
       "participated_in_the_medicare_maintenance_of_cer...                     NaN   \n",
       "committed_to_heart_health_through_the_million_h...                     NaN   \n",
       "zip_base                                                             07631   \n",
       "\n",
       "                                                                                3  \\\n",
       "npi                                                                    1285727842   \n",
       "pac_id                                                                 5799762829   \n",
       "professional_enrollment_id                                        I20040707000479   \n",
       "last_name                                                                   CASHA   \n",
       "first_name                                                                   MARK   \n",
       "middle_name                                                                     S   \n",
       "suffix                                                                        NaN   \n",
       "gender                                                                          M   \n",
       "credential                                                                     DC   \n",
       "medical_school_name                                                         OTHER   \n",
       "graduation_year                                                              1981   \n",
       "primary_specialty                                                    CHIROPRACTIC   \n",
       "secondary_specialty_1                                                         NaN   \n",
       "secondary_specialty_2                                                         NaN   \n",
       "secondary_specialty_3                                                         NaN   \n",
       "secondary_specialty_4                                                         NaN   \n",
       "all_secondary_specialties                                                     NaN   \n",
       "organization_legal_name                             CASHA-CROSS CHIROPRACTIC, INC   \n",
       "group_practice_pac_id                                                 1.95139e+09   \n",
       "number_of_group_practice_members                                                2   \n",
       "line_1_street_address                                            5330 PRIMROSE DR   \n",
       "line_2_street_address                                                         NaN   \n",
       "marker_of_address_line_2_suppression                                          NaN   \n",
       "city                                                                    FAIR OAKS   \n",
       "state                                                                          CA   \n",
       "zip_code                                                                956283541   \n",
       "phone_number                                                          9.16968e+09   \n",
       "hospital_affiliation_ccn_1                                                    NaN   \n",
       "hospital_affiliation_lbn_1                                                    NaN   \n",
       "hospital_affiliation_ccn_2                                                    NaN   \n",
       "hospital_affiliation_lbn_2                                                    NaN   \n",
       "hospital_affiliation_ccn_3                                                    NaN   \n",
       "hospital_affiliation_lbn_3                                                    NaN   \n",
       "hospital_affiliation_ccn_4                                                    NaN   \n",
       "hospital_affiliation_lbn_4                                                    NaN   \n",
       "hospital_affiliation_ccn_5                                                    NaN   \n",
       "hospital_affiliation_lbn_5                                                    NaN   \n",
       "professional_accepts_medicare_assignment                                        M   \n",
       "reported_quality_measures                                                     NaN   \n",
       "used_electronic_health_records                                                NaN   \n",
       "participated_in_the_medicare_maintenance_of_cer...                            NaN   \n",
       "committed_to_heart_health_through_the_million_h...                            NaN   \n",
       "zip_base                                                                    95628   \n",
       "\n",
       "                                                                                   4  \n",
       "npi                                                                       1770581647  \n",
       "pac_id                                                                    6608976915  \n",
       "professional_enrollment_id                                           I20070714000216  \n",
       "last_name                                                                      FACCA  \n",
       "first_name                                                                    ROBERT  \n",
       "middle_name                                                                        R  \n",
       "suffix                                                                           NaN  \n",
       "gender                                                                             M  \n",
       "credential                                                                       NaN  \n",
       "medical_school_name                                 LIFE CHIROPRACTIC COLLEGE - WEST  \n",
       "graduation_year                                                                 1982  \n",
       "primary_specialty                                                       CHIROPRACTIC  \n",
       "secondary_specialty_1                                                            NaN  \n",
       "secondary_specialty_2                                                            NaN  \n",
       "secondary_specialty_3                                                            NaN  \n",
       "secondary_specialty_4                                                            NaN  \n",
       "all_secondary_specialties                                                        NaN  \n",
       "organization_legal_name                                    FACCA CHIROPRACTIC CLINIC  \n",
       "group_practice_pac_id                                                    9.33525e+09  \n",
       "number_of_group_practice_members                                                   1  \n",
       "line_1_street_address                                                 2715 W WEBSTER  \n",
       "line_2_street_address                                                            NaN  \n",
       "marker_of_address_line_2_suppression                                             NaN  \n",
       "city                                                                       ROYAL OAK  \n",
       "state                                                                             MI  \n",
       "zip_code                                                                   480733700  \n",
       "phone_number                                                             2.48545e+09  \n",
       "hospital_affiliation_ccn_1                                                       NaN  \n",
       "hospital_affiliation_lbn_1                                                       NaN  \n",
       "hospital_affiliation_ccn_2                                                       NaN  \n",
       "hospital_affiliation_lbn_2                                                       NaN  \n",
       "hospital_affiliation_ccn_3                                                       NaN  \n",
       "hospital_affiliation_lbn_3                                                       NaN  \n",
       "hospital_affiliation_ccn_4                                                       NaN  \n",
       "hospital_affiliation_lbn_4                                                       NaN  \n",
       "hospital_affiliation_ccn_5                                                       NaN  \n",
       "hospital_affiliation_lbn_5                                                       NaN  \n",
       "professional_accepts_medicare_assignment                                           Y  \n",
       "reported_quality_measures                                                        NaN  \n",
       "used_electronic_health_records                                                   NaN  \n",
       "participated_in_the_medicare_maintenance_of_cer...                               NaN  \n",
       "committed_to_heart_health_through_the_million_h...                               NaN  \n",
       "zip_base                                                                       48073  "
      ]
     },
     "execution_count": 9,
     "metadata": {},
     "output_type": "execute_result"
    }
   ],
   "source": [
    "provider_all.head().T"
   ]
  },
  {
   "cell_type": "code",
   "execution_count": 10,
   "metadata": {
    "collapsed": false
   },
   "outputs": [],
   "source": [
    "#drop columns\n",
    "drop_col=['professional_accepts_medicare_assignment','marker_of_address_line_2_suppression',\\\n",
    "         'participated_in_the_medicare_maintenance_of_certification_program.']\n",
    "def drop_columns(col_remove,pdx):\n",
    "    columns=list(pdx.columns.values)\n",
    "    for col in col_remove:\n",
    "        if col in columns:\n",
    "            pdx.drop(col, axis=1, inplace=True)\n",
    "    return pdx"
   ]
  },
  {
   "cell_type": "code",
   "execution_count": 11,
   "metadata": {
    "collapsed": true
   },
   "outputs": [],
   "source": [
    "provider_all=drop_columns(drop_col, provider_all)"
   ]
  },
  {
   "cell_type": "code",
   "execution_count": 12,
   "metadata": {
    "collapsed": false,
    "scrolled": true
   },
   "outputs": [
    {
     "name": "stdout",
     "output_type": "stream",
     "text": [
      "<class 'pandas.core.frame.DataFrame'>\n",
      "RangeIndex: 2247118 entries, 0 to 2247117\n",
      "Data columns (total 40 columns):\n",
      "npi                                                                  int64\n",
      "pac_id                                                               int64\n",
      "professional_enrollment_id                                           object\n",
      "last_name                                                            object\n",
      "first_name                                                           object\n",
      "middle_name                                                          object\n",
      "suffix                                                               object\n",
      "gender                                                               object\n",
      "credential                                                           object\n",
      "medical_school_name                                                  object\n",
      "graduation_year                                                      float64\n",
      "primary_specialty                                                    object\n",
      "secondary_specialty_1                                                object\n",
      "secondary_specialty_2                                                object\n",
      "secondary_specialty_3                                                object\n",
      "secondary_specialty_4                                                object\n",
      "all_secondary_specialties                                            object\n",
      "organization_legal_name                                              object\n",
      "group_practice_pac_id                                                float64\n",
      "number_of_group_practice_members                                     float64\n",
      "line_1_street_address                                                object\n",
      "line_2_street_address                                                object\n",
      "city                                                                 object\n",
      "state                                                                object\n",
      "zip_code                                                             object\n",
      "phone_number                                                         object\n",
      "hospital_affiliation_ccn_1                                           float64\n",
      "hospital_affiliation_lbn_1                                           object\n",
      "hospital_affiliation_ccn_2                                           object\n",
      "hospital_affiliation_lbn_2                                           object\n",
      "hospital_affiliation_ccn_3                                           object\n",
      "hospital_affiliation_lbn_3                                           object\n",
      "hospital_affiliation_ccn_4                                           object\n",
      "hospital_affiliation_lbn_4                                           object\n",
      "hospital_affiliation_ccn_5                                           float64\n",
      "hospital_affiliation_lbn_5                                           object\n",
      "reported_quality_measures                                            object\n",
      "used_electronic_health_records                                       object\n",
      "committed_to_heart_health_through_the_million_hearts®_initiative.    object\n",
      "zip_base                                                             object\n",
      "dtypes: float64(5), int64(2), object(33)\n",
      "memory usage: 685.8+ MB\n"
     ]
    }
   ],
   "source": [
    "provider_all.info()"
   ]
  },
  {
   "cell_type": "code",
   "execution_count": 13,
   "metadata": {
    "collapsed": false
   },
   "outputs": [],
   "source": [
    "#change column names\n",
    "#col_to_rename={'participated_in_the_medicare_maintenance_of_certification_program.':'medicare_certified'\\\n",
    "#               ,'committed_to_heart_health_through_the_million_hearts®_initiative.':'hearth_initiative'}\n",
    "#provider_all.rename(columns=col_to_rename, inplace=True)"
   ]
  },
  {
   "cell_type": "code",
   "execution_count": 14,
   "metadata": {
    "collapsed": true
   },
   "outputs": [],
   "source": [
    "#rename columns\n",
    "#fct remane columns\n",
    "def name_columns(value_old,value_new,pdx):\n",
    "    cols = pdx.columns.tolist()\n",
    "    cols = [col.replace(value_old,value_new) for col in cols]\n",
    "    pdx.columns = cols\n",
    "    return pdx\n",
    "provider_all=name_columns('professional_enrollment_id', 'prof_id', provider_all)\n",
    "provider_all=name_columns('hospital_affiliation', 'related_org', provider_all)\n",
    "provider_all=name_columns('secondary_specialty', 'specialty', provider_all)\n",
    "#provider_all=name_columns('participated_in_the_medicare_maintenance_of_certification_program.', 'medicare_certified', provider_all)\n",
    "provider_all=name_columns('committed_to_heart_health_through_the_million_hearts®_initiative.', 'hearth_initiative', provider_all)\n"
   ]
  },
  {
   "cell_type": "code",
   "execution_count": 15,
   "metadata": {
    "collapsed": true
   },
   "outputs": [],
   "source": [
    "provider_all=name_columns('number_of_group_practice_members', 'practice_size', provider_all)\n",
    "provider_all=name_columns('all_secondary_specialties', 'secondary_spec', provider_all)\n",
    "provider_all=name_columns('reported_quality_measures', 'quality_measures', provider_all)\n",
    "provider_all=name_columns('used_electronic_health_records', 'electronic_measures', provider_all)\n",
    "provider_all=name_columns('organization_legal_name', 'org_name', provider_all)\n",
    "provider_all=name_columns('line_1_street_address', 'address', provider_all)\n",
    "provider_all=name_columns('line_2_street_address', 'address_extra', provider_all)\n",
    "provider_all=name_columns('group_practice_pac_id', 'group_pac_id', provider_all)\n",
    "provider_all=name_columns('medical_school_name', 'medical_school', provider_all)\n"
   ]
  },
  {
   "cell_type": "code",
   "execution_count": 16,
   "metadata": {
    "collapsed": true
   },
   "outputs": [],
   "source": [
    "#str_cols = provider_all.columns[provider_all.dtypes==object]\n",
    "#provider_all[str_cols] = provider_all[str_cols].fillna('.')\n",
    "\n",
    "\n",
    "#provider_all.fillna(0,inplace=True)"
   ]
  },
  {
   "cell_type": "code",
   "execution_count": 17,
   "metadata": {
    "collapsed": false
   },
   "outputs": [],
   "source": [
    "#convert columns to numeric\n",
    "#provider_all=provider_all.apply(lambda x: pd.to_numeric(x, errors='ignore'))\n",
    "\n",
    "numeric=['npi','pac_id','graduation_year','group_pac_id','practice_size','related_org_ccn_1','related_org_ccn_2','related_org_ccn_3',\\\n",
    "        'related_org_ccn_4','related_org_ccn_5','zip_base']\n",
    "\n",
    "provider_all[numeric] = provider_all[numeric].apply(pd.to_numeric, errors='coerce')\n",
    "\n",
    "#pd.to_numeric(s, errors='coerce')"
   ]
  },
  {
   "cell_type": "code",
   "execution_count": 18,
   "metadata": {
    "collapsed": false
   },
   "outputs": [],
   "source": [
    "#fill all NAN\n",
    "provider_all=provider_all.replace(['nan','NaN'], ['.','0'])\n",
    "provider_all.fillna(0,inplace=True)\n",
    "\n",
    "#convert columns to string\n",
    "# non_numeric=['prof_id','last_name','first_name','middle_name','suffix','gender','credential','medical_school','primary_specialty',\\\n",
    "#              'specialty_1','specialty_2','specialty_3','specialty_4','secondary_spec','org_name','address','address_extra','city',\\\n",
    "#              'state','zip_code','phone_number','related_org_lbn_1','related_org_lbn_2','related_org_lbn_3','related_org_lbn_4',\\\n",
    "#              'related_org_lbn_5','quality_measures','electronic_measures','hearth_initiative']\n",
    "non_numeric= provider_all.columns[provider_all.dtypes==object]\n",
    "provider_all[non_numeric] = provider_all[non_numeric].astype(str)\n",
    "provider_all['group_pac_id'] = provider_all['group_pac_id'].astype(int)\n",
    "#provider_all=provider_all.replace('nan', '.')"
   ]
  },
  {
   "cell_type": "code",
   "execution_count": 19,
   "metadata": {
    "collapsed": false
   },
   "outputs": [],
   "source": [
    "#provider_all.info()"
   ]
  },
  {
   "cell_type": "code",
   "execution_count": 20,
   "metadata": {
    "collapsed": false,
    "scrolled": false
   },
   "outputs": [],
   "source": [
    "#provider_all.head(200).T"
   ]
  },
  {
   "cell_type": "code",
   "execution_count": 21,
   "metadata": {
    "collapsed": false
   },
   "outputs": [],
   "source": [
    "#set an index\n",
    "provider_all=provider_all.set_index(provider_all.npi)"
   ]
  },
  {
   "cell_type": "code",
   "execution_count": 22,
   "metadata": {
    "collapsed": false
   },
   "outputs": [],
   "source": [
    "#graduation year-convert to years of experience\n",
    "\n",
    "def f(row):\n",
    "    now = datetime.datetime.now()\n",
    "    curr_year=now.year\n",
    "    if row == 0:\n",
    "        val = 0\n",
    "    else: \n",
    "        val=curr_year-row\n",
    "    return val\n",
    "provider_all['years_experience'] = provider_all['graduation_year'].apply(f)\n"
   ]
  },
  {
   "cell_type": "code",
   "execution_count": 23,
   "metadata": {
    "collapsed": false
   },
   "outputs": [
    {
     "name": "stderr",
     "output_type": "stream",
     "text": [
      "/Users/aurelperianu/anaconda/lib/python2.7/site-packages/ipykernel/__main__.py:7: SettingWithCopyWarning: \n",
      "A value is trying to be set on a copy of a slice from a DataFrame\n",
      "\n",
      "See the caveats in the documentation: http://pandas.pydata.org/pandas-docs/stable/indexing.html#indexing-view-versus-copy\n"
     ]
    }
   ],
   "source": [
    "org_cols=['prof_id',\n",
    " 'org_name',\n",
    " 'group_pac_id',\n",
    " 'practice_size',\n",
    " 'address',\n",
    " 'address_extra',\n",
    " 'city',\n",
    " 'state',\n",
    " 'zip_code',\n",
    " 'phone_number',\n",
    " 'related_org_ccn_1',\n",
    " 'related_org_lbn_1',\n",
    " 'related_org_ccn_2',\n",
    " 'related_org_lbn_2',\n",
    " 'related_org_ccn_3',\n",
    " 'related_org_lbn_3',\n",
    " 'related_org_ccn_4',\n",
    " 'related_org_lbn_4',\n",
    " 'related_org_ccn_5',\n",
    " 'related_org_lbn_5',\n",
    " 'zip_base']\n",
    "#drop group columns\n",
    "org_all=provider_all[org_cols]\n",
    "\n",
    "#provider_all.info()\n",
    "\n",
    "# second columns drop for group\n",
    "org_cols2=[\n",
    " 'prof_id',\n",
    " 'address',\n",
    " 'address_extra',\n",
    " 'city',\n",
    " 'zip_code',\n",
    " 'phone_number',\n",
    " 'related_org_ccn_1',\n",
    " 'related_org_lbn_1',\n",
    " 'related_org_ccn_2',\n",
    " 'related_org_lbn_2',\n",
    " 'related_org_ccn_3',\n",
    " 'related_org_lbn_3',\n",
    " 'related_org_ccn_4',\n",
    " 'related_org_lbn_4',\n",
    " 'related_org_ccn_5',\n",
    " 'related_org_lbn_5',\n",
    " 'zip_base']\n",
    "\n",
    "org_all=drop_columns(org_cols2, org_all)\n",
    "\n"
   ]
  },
  {
   "cell_type": "code",
   "execution_count": 24,
   "metadata": {
    "collapsed": false
   },
   "outputs": [
    {
     "name": "stdout",
     "output_type": "stream",
     "text": [
      "['prof_id', 'org_name', 'group_pac_id', 'practice_size', 'address', 'address_extra', 'city', 'state', 'zip_code', 'phone_number', 'related_org_ccn_1', 'related_org_lbn_1', 'related_org_ccn_2', 'related_org_lbn_2', 'related_org_ccn_3', 'related_org_lbn_3', 'related_org_ccn_4', 'related_org_lbn_4', 'related_org_ccn_5', 'related_org_lbn_5', 'zip_base']\n"
     ]
    }
   ],
   "source": [
    "print org_cols"
   ]
  },
  {
   "cell_type": "code",
   "execution_count": 25,
   "metadata": {
    "collapsed": false
   },
   "outputs": [],
   "source": [
    "provider_drop = [x for x in org_cols if x != 'state']\n",
    "# provider_drop=org_cols.remove('state')\n",
    "#print provider_drop\n",
    "provider_all=drop_columns(provider_drop, provider_all)\n",
    "specialty_cols=[\n",
    "    'specialty_1',\n",
    "    'specialty_2',\n",
    "    'specialty_3',\n",
    "    'specialty_4']\n",
    "provider_all=drop_columns(specialty_cols, provider_all)"
   ]
  },
  {
   "cell_type": "code",
   "execution_count": 26,
   "metadata": {
    "collapsed": false
   },
   "outputs": [
    {
     "data": {
      "text/plain": [
       "(2247118, 4)"
      ]
     },
     "execution_count": 26,
     "metadata": {},
     "output_type": "execute_result"
    }
   ],
   "source": [
    "org_all.shape"
   ]
  },
  {
   "cell_type": "code",
   "execution_count": 27,
   "metadata": {
    "collapsed": false
   },
   "outputs": [
    {
     "data": {
      "text/plain": [
       "(2247118, 17)"
      ]
     },
     "execution_count": 27,
     "metadata": {},
     "output_type": "execute_result"
    }
   ],
   "source": [
    "provider_all.shape"
   ]
  },
  {
   "cell_type": "code",
   "execution_count": 28,
   "metadata": {
    "collapsed": false
   },
   "outputs": [],
   "source": [
    "#remove duplicates for provider and group files\n",
    "org_all=org_all.drop_duplicates()\n",
    "provider_all=provider_all.drop_duplicates()\n",
    "#org_all['org_name'].value_counts()"
   ]
  },
  {
   "cell_type": "code",
   "execution_count": 29,
   "metadata": {
    "collapsed": false
   },
   "outputs": [
    {
     "data": {
      "text/plain": [
       "(183975, 4)"
      ]
     },
     "execution_count": 29,
     "metadata": {},
     "output_type": "execute_result"
    }
   ],
   "source": [
    "org_all.shape"
   ]
  },
  {
   "cell_type": "code",
   "execution_count": 30,
   "metadata": {
    "collapsed": false
   },
   "outputs": [
    {
     "data": {
      "text/plain": [
       "(1060454, 17)"
      ]
     },
     "execution_count": 30,
     "metadata": {},
     "output_type": "execute_result"
    }
   ],
   "source": [
    "provider_all.shape"
   ]
  },
  {
   "cell_type": "code",
   "execution_count": 31,
   "metadata": {
    "collapsed": false
   },
   "outputs": [],
   "source": [
    "#DO NOT DELETE - REFERENCE DUPLICATES SPECIALITIES\n",
    "#provider_all[provider_all['npi']==1073536074].head().T"
   ]
  },
  {
   "cell_type": "code",
   "execution_count": 46,
   "metadata": {
    "collapsed": false,
    "scrolled": true
   },
   "outputs": [],
   "source": [
    "#select WA data\n",
    "wa_provider=provider_all[provider_all['state']=='WA']\n",
    "wa_org=org_all[org_all['state']=='WA']"
   ]
  },
  {
   "cell_type": "code",
   "execution_count": 47,
   "metadata": {
    "collapsed": false,
    "scrolled": true
   },
   "outputs": [],
   "source": [
    "#save WA data\n",
    "wa_provider.to_pickle('wa_provider_pickle.pkl') \n",
    "wa_org.to_pickle('wa_org_pickle.pkl') "
   ]
  },
  {
   "cell_type": "code",
   "execution_count": 48,
   "metadata": {
    "collapsed": true
   },
   "outputs": [],
   "source": [
    "#load from pickle\n",
    "#wa_provider= pd.read_pickle('wa_provider_pickle.pkl')\n",
    "#wa_org= pd.read_pickle('wa_org_pickle.pkl')"
   ]
  },
  {
   "cell_type": "code",
   "execution_count": 49,
   "metadata": {
    "collapsed": false
   },
   "outputs": [
    {
     "data": {
      "text/html": [
       "<div>\n",
       "<table border=\"1\" class=\"dataframe\">\n",
       "  <thead>\n",
       "    <tr style=\"text-align: right;\">\n",
       "      <th></th>\n",
       "      <th>npi</th>\n",
       "      <th>pac_id</th>\n",
       "      <th>last_name</th>\n",
       "      <th>first_name</th>\n",
       "      <th>middle_name</th>\n",
       "      <th>suffix</th>\n",
       "      <th>gender</th>\n",
       "      <th>credential</th>\n",
       "      <th>medical_school</th>\n",
       "      <th>graduation_year</th>\n",
       "      <th>primary_specialty</th>\n",
       "      <th>secondary_spec</th>\n",
       "      <th>state</th>\n",
       "      <th>quality_measures</th>\n",
       "      <th>electronic_measures</th>\n",
       "      <th>hearth_initiative</th>\n",
       "      <th>years_experience</th>\n",
       "    </tr>\n",
       "    <tr>\n",
       "      <th>npi</th>\n",
       "      <th></th>\n",
       "      <th></th>\n",
       "      <th></th>\n",
       "      <th></th>\n",
       "      <th></th>\n",
       "      <th></th>\n",
       "      <th></th>\n",
       "      <th></th>\n",
       "      <th></th>\n",
       "      <th></th>\n",
       "      <th></th>\n",
       "      <th></th>\n",
       "      <th></th>\n",
       "      <th></th>\n",
       "      <th></th>\n",
       "      <th></th>\n",
       "      <th></th>\n",
       "    </tr>\n",
       "  </thead>\n",
       "  <tbody>\n",
       "    <tr>\n",
       "      <th>1023030962</th>\n",
       "      <td>1023030962</td>\n",
       "      <td>345315404</td>\n",
       "      <td>BASTRON</td>\n",
       "      <td>MICHAEL</td>\n",
       "      <td>K</td>\n",
       "      <td>0</td>\n",
       "      <td>M</td>\n",
       "      <td>0</td>\n",
       "      <td>PALMER COLLEGE CHIROPRACTIC -  WEST SUNNYVALE</td>\n",
       "      <td>1990.0</td>\n",
       "      <td>CHIROPRACTIC</td>\n",
       "      <td>0</td>\n",
       "      <td>WA</td>\n",
       "      <td>0</td>\n",
       "      <td>0</td>\n",
       "      <td>0</td>\n",
       "      <td>27.0</td>\n",
       "    </tr>\n",
       "    <tr>\n",
       "      <th>1720088685</th>\n",
       "      <td>1720088685</td>\n",
       "      <td>8921040635</td>\n",
       "      <td>LITTMAN</td>\n",
       "      <td>THOMAS</td>\n",
       "      <td>A</td>\n",
       "      <td>0</td>\n",
       "      <td>M</td>\n",
       "      <td>AU</td>\n",
       "      <td>OTHER</td>\n",
       "      <td>1990.0</td>\n",
       "      <td>AUDIOLOGIST</td>\n",
       "      <td>0</td>\n",
       "      <td>WA</td>\n",
       "      <td>0</td>\n",
       "      <td>0</td>\n",
       "      <td>0</td>\n",
       "      <td>27.0</td>\n",
       "    </tr>\n",
       "    <tr>\n",
       "      <th>1295989689</th>\n",
       "      <td>1295989689</td>\n",
       "      <td>2466513460</td>\n",
       "      <td>JOHNSON</td>\n",
       "      <td>ERIKA</td>\n",
       "      <td>L</td>\n",
       "      <td>0</td>\n",
       "      <td>F</td>\n",
       "      <td>0</td>\n",
       "      <td>OTHER</td>\n",
       "      <td>2008.0</td>\n",
       "      <td>PHYSICAL THERAPY</td>\n",
       "      <td>0</td>\n",
       "      <td>WA</td>\n",
       "      <td>0</td>\n",
       "      <td>0</td>\n",
       "      <td>0</td>\n",
       "      <td>9.0</td>\n",
       "    </tr>\n",
       "    <tr>\n",
       "      <th>1922016203</th>\n",
       "      <td>1922016203</td>\n",
       "      <td>648178822</td>\n",
       "      <td>ULLMAN</td>\n",
       "      <td>RONALD</td>\n",
       "      <td>H</td>\n",
       "      <td>0</td>\n",
       "      <td>M</td>\n",
       "      <td>MD</td>\n",
       "      <td>WASHINGTON UNIVERSITY SCHOOL OF MEDICINE</td>\n",
       "      <td>1967.0</td>\n",
       "      <td>OPHTHALMOLOGY</td>\n",
       "      <td>0</td>\n",
       "      <td>WA</td>\n",
       "      <td>0</td>\n",
       "      <td>0</td>\n",
       "      <td>0</td>\n",
       "      <td>50.0</td>\n",
       "    </tr>\n",
       "    <tr>\n",
       "      <th>1841608809</th>\n",
       "      <td>1841608809</td>\n",
       "      <td>244540201</td>\n",
       "      <td>MAHER</td>\n",
       "      <td>ANITA</td>\n",
       "      <td>D</td>\n",
       "      <td>0</td>\n",
       "      <td>F</td>\n",
       "      <td>0</td>\n",
       "      <td>OTHER</td>\n",
       "      <td>2014.0</td>\n",
       "      <td>OPTOMETRY</td>\n",
       "      <td>0</td>\n",
       "      <td>WA</td>\n",
       "      <td>0</td>\n",
       "      <td>0</td>\n",
       "      <td>0</td>\n",
       "      <td>3.0</td>\n",
       "    </tr>\n",
       "  </tbody>\n",
       "</table>\n",
       "</div>"
      ],
      "text/plain": [
       "                   npi      pac_id last_name first_name middle_name suffix  \\\n",
       "npi                                                                          \n",
       "1023030962  1023030962   345315404   BASTRON    MICHAEL           K      0   \n",
       "1720088685  1720088685  8921040635   LITTMAN     THOMAS           A      0   \n",
       "1295989689  1295989689  2466513460   JOHNSON      ERIKA           L      0   \n",
       "1922016203  1922016203   648178822    ULLMAN     RONALD           H      0   \n",
       "1841608809  1841608809   244540201     MAHER      ANITA           D      0   \n",
       "\n",
       "           gender credential                                 medical_school  \\\n",
       "npi                                                                           \n",
       "1023030962      M          0  PALMER COLLEGE CHIROPRACTIC -  WEST SUNNYVALE   \n",
       "1720088685      M         AU                                          OTHER   \n",
       "1295989689      F          0                                          OTHER   \n",
       "1922016203      M         MD       WASHINGTON UNIVERSITY SCHOOL OF MEDICINE   \n",
       "1841608809      F          0                                          OTHER   \n",
       "\n",
       "            graduation_year primary_specialty secondary_spec state  \\\n",
       "npi                                                                  \n",
       "1023030962           1990.0      CHIROPRACTIC              0    WA   \n",
       "1720088685           1990.0       AUDIOLOGIST              0    WA   \n",
       "1295989689           2008.0  PHYSICAL THERAPY              0    WA   \n",
       "1922016203           1967.0     OPHTHALMOLOGY              0    WA   \n",
       "1841608809           2014.0         OPTOMETRY              0    WA   \n",
       "\n",
       "           quality_measures electronic_measures hearth_initiative  \\\n",
       "npi                                                                 \n",
       "1023030962                0                   0                 0   \n",
       "1720088685                0                   0                 0   \n",
       "1295989689                0                   0                 0   \n",
       "1922016203                0                   0                 0   \n",
       "1841608809                0                   0                 0   \n",
       "\n",
       "            years_experience  \n",
       "npi                           \n",
       "1023030962              27.0  \n",
       "1720088685              27.0  \n",
       "1295989689               9.0  \n",
       "1922016203              50.0  \n",
       "1841608809               3.0  "
      ]
     },
     "execution_count": 49,
     "metadata": {},
     "output_type": "execute_result"
    }
   ],
   "source": [
    "wa_provider.head()"
   ]
  },
  {
   "cell_type": "code",
   "execution_count": null,
   "metadata": {
    "collapsed": true
   },
   "outputs": [],
   "source": []
  },
  {
   "cell_type": "code",
   "execution_count": 37,
   "metadata": {
    "collapsed": false
   },
   "outputs": [],
   "source": [
    "#org_all = org_all.sort(org_all.columns[1],ascending=False)\n",
    "#org_all.head(10)"
   ]
  },
  {
   "cell_type": "code",
   "execution_count": null,
   "metadata": {
    "collapsed": true
   },
   "outputs": [],
   "source": []
  },
  {
   "cell_type": "code",
   "execution_count": null,
   "metadata": {
    "collapsed": true
   },
   "outputs": [],
   "source": []
  },
  {
   "cell_type": "code",
   "execution_count": null,
   "metadata": {
    "collapsed": true
   },
   "outputs": [],
   "source": []
  },
  {
   "cell_type": "code",
   "execution_count": null,
   "metadata": {
    "collapsed": true
   },
   "outputs": [],
   "source": []
  },
  {
   "cell_type": "code",
   "execution_count": null,
   "metadata": {
    "collapsed": true
   },
   "outputs": [],
   "source": []
  },
  {
   "cell_type": "code",
   "execution_count": 38,
   "metadata": {
    "collapsed": true
   },
   "outputs": [],
   "source": [
    "#Build summary variables - in-work\n",
    "\n",
    "# secondary_spec\n",
    "# import pandas as pd\n",
    "\n",
    "# def alert(c):\n",
    "#   if c['used'] == 1.0:\n",
    "#     return 'Full'\n",
    "#   elif c['used'] == 0.0:\n",
    "#     return 'Empty'\n",
    "#   elif 0.0 < c['used'] < 1.0:\n",
    "#     return 'Partial'\n",
    "#   else:\n",
    "#     return 'Undefined'\n",
    "\n",
    "# df = pd.DataFrame(data={'portion':[1, 2, 3, 4], 'used':[1.0, 0.3, 0.0, 0.8]})\n",
    "\n",
    "# df['alert'] = df.apply(alert, axis=1)\n",
    "\n",
    "######combine specialities\n",
    "# def split_spec(df):\n",
    "#     var=set()\n",
    "#     words=df['secondary_spec'].split(',')\n",
    "#     var.update(words)\n",
    "#     var.add(df['primary_specialty'])\n",
    "#     var.add(df['specialty_1'])\n",
    "#     var.add(df['specialty_2'])\n",
    "#     var.add(df['specialty_3'])\n",
    "#     #var.add(df['specialty_4'])\n",
    "#     return var\n",
    "# provider_all['years_experience'] = provider_all.apply(f, axis=1)\n",
    "\n"
   ]
  },
  {
   "cell_type": "code",
   "execution_count": 39,
   "metadata": {
    "collapsed": false
   },
   "outputs": [],
   "source": [
    "#provider_all.duplicated().value_counts()\n",
    "#provider_all=provider_all.drop_duplicates()\n",
    "#provider_all.drop_duplicates(*args, **kwargs)\n",
    "#provider_all['npi'].value_counts()"
   ]
  },
  {
   "cell_type": "code",
   "execution_count": null,
   "metadata": {
    "collapsed": false
   },
   "outputs": [],
   "source": []
  },
  {
   "cell_type": "code",
   "execution_count": null,
   "metadata": {
    "collapsed": true
   },
   "outputs": [],
   "source": []
  },
  {
   "cell_type": "code",
   "execution_count": 40,
   "metadata": {
    "collapsed": false
   },
   "outputs": [],
   "source": [
    "#provider_wa=provider_all[provider_all['state']=='WA']\n",
    "#provider_wa.info()"
   ]
  },
  {
   "cell_type": "code",
   "execution_count": null,
   "metadata": {
    "collapsed": true
   },
   "outputs": [],
   "source": []
  },
  {
   "cell_type": "code",
   "execution_count": null,
   "metadata": {
    "collapsed": true
   },
   "outputs": [],
   "source": []
  },
  {
   "cell_type": "code",
   "execution_count": 41,
   "metadata": {
    "collapsed": false
   },
   "outputs": [],
   "source": [
    "#fill all NaN with 0\n",
    "#provider_wa.update(provider_wa.fillna(0))"
   ]
  },
  {
   "cell_type": "code",
   "execution_count": null,
   "metadata": {
    "collapsed": true
   },
   "outputs": [],
   "source": []
  },
  {
   "cell_type": "code",
   "execution_count": 42,
   "metadata": {
    "collapsed": true
   },
   "outputs": [],
   "source": [
    "#transform secondary speciality in counts\n",
    "#transform hospital_affiliation in counts\n",
    "#change col names"
   ]
  },
  {
   "cell_type": "code",
   "execution_count": null,
   "metadata": {
    "collapsed": true
   },
   "outputs": [],
   "source": []
  },
  {
   "cell_type": "code",
   "execution_count": 43,
   "metadata": {
    "collapsed": false
   },
   "outputs": [],
   "source": [
    "#provider_wa=provider_all[provider_all['state']=='WA']\n",
    "#provider_wa.info()"
   ]
  },
  {
   "cell_type": "code",
   "execution_count": 44,
   "metadata": {
    "collapsed": false
   },
   "outputs": [],
   "source": [
    "#provider_wa['professional_accepts_medicare_assignment'=='M']\n",
    "#x=provider_wa[provider_wa['professional_accepts_medicare_assignment']=='M']"
   ]
  },
  {
   "cell_type": "code",
   "execution_count": 45,
   "metadata": {
    "collapsed": false
   },
   "outputs": [],
   "source": [
    "#provider_wa['hospital_affiliation_lbn_5'].value_counts()"
   ]
  },
  {
   "cell_type": "code",
   "execution_count": null,
   "metadata": {
    "collapsed": true
   },
   "outputs": [],
   "source": []
  }
 ],
 "metadata": {
  "anaconda-cloud": {},
  "kernelspec": {
   "display_name": "Python [conda root]",
   "language": "python",
   "name": "conda-root-py"
  },
  "language_info": {
   "codemirror_mode": {
    "name": "ipython",
    "version": 2
   },
   "file_extension": ".py",
   "mimetype": "text/x-python",
   "name": "python",
   "nbconvert_exporter": "python",
   "pygments_lexer": "ipython2",
   "version": "2.7.13"
  }
 },
 "nbformat": 4,
 "nbformat_minor": 1
}
