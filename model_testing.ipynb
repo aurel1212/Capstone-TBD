{
 "cells": [
  {
   "cell_type": "code",
   "execution_count": 1,
   "metadata": {
    "collapsed": true
   },
   "outputs": [],
   "source": [
    "import pandas as pd"
   ]
  },
  {
   "cell_type": "code",
   "execution_count": 2,
   "metadata": {
    "collapsed": true
   },
   "outputs": [],
   "source": [
    "work_tbl= pd.read_pickle('work_tbl_pickle.pkl')"
   ]
  },
  {
   "cell_type": "code",
   "execution_count": 3,
   "metadata": {
    "collapsed": true
   },
   "outputs": [],
   "source": [
    "#work_tbl=work_tbl[work_tbl[\"type\"]=='Family Practice']"
   ]
  },
  {
   "cell_type": "code",
   "execution_count": 4,
   "metadata": {
    "collapsed": false
   },
   "outputs": [
    {
     "data": {
      "text/html": [
       "<div>\n",
       "<table border=\"1\" class=\"dataframe\">\n",
       "  <thead>\n",
       "    <tr style=\"text-align: right;\">\n",
       "      <th>npi_l</th>\n",
       "      <th>1003002379</th>\n",
       "      <th>1003003153</th>\n",
       "      <th>1003008913</th>\n",
       "      <th>1003009135</th>\n",
       "      <th>1003009283</th>\n",
       "    </tr>\n",
       "  </thead>\n",
       "  <tbody>\n",
       "    <tr>\n",
       "      <th>gender_l</th>\n",
       "      <td>F</td>\n",
       "      <td>F</td>\n",
       "      <td>F</td>\n",
       "      <td>F</td>\n",
       "      <td>F</td>\n",
       "    </tr>\n",
       "    <tr>\n",
       "      <th>state_l</th>\n",
       "      <td>WA</td>\n",
       "      <td>WA</td>\n",
       "      <td>WA</td>\n",
       "      <td>WA</td>\n",
       "      <td>WA</td>\n",
       "    </tr>\n",
       "    <tr>\n",
       "      <th>type</th>\n",
       "      <td>Internal Medicine</td>\n",
       "      <td>Dermatology</td>\n",
       "      <td>Nurse Practitioner</td>\n",
       "      <td>Nurse Practitioner</td>\n",
       "      <td>Emergency Medicine</td>\n",
       "    </tr>\n",
       "    <tr>\n",
       "      <th>report_year</th>\n",
       "      <td>2014</td>\n",
       "      <td>2014</td>\n",
       "      <td>2014</td>\n",
       "      <td>2014</td>\n",
       "      <td>2014</td>\n",
       "    </tr>\n",
       "    <tr>\n",
       "      <th>zip_base</th>\n",
       "      <td>98664</td>\n",
       "      <td>98104</td>\n",
       "      <td>98104</td>\n",
       "      <td>98034</td>\n",
       "      <td>98632</td>\n",
       "    </tr>\n",
       "    <tr>\n",
       "      <th>bene_day_srvc_cnt</th>\n",
       "      <td>939</td>\n",
       "      <td>354</td>\n",
       "      <td>67</td>\n",
       "      <td>73</td>\n",
       "      <td>659</td>\n",
       "    </tr>\n",
       "    <tr>\n",
       "      <th>submitted_delta_perc</th>\n",
       "      <td>2.68326</td>\n",
       "      <td>2.5793</td>\n",
       "      <td>3.96826</td>\n",
       "      <td>2.15745</td>\n",
       "      <td>3.38032</td>\n",
       "    </tr>\n",
       "    <tr>\n",
       "      <th>allowed_delta_perc</th>\n",
       "      <td>0.288198</td>\n",
       "      <td>0.326124</td>\n",
       "      <td>0.409126</td>\n",
       "      <td>0.737124</td>\n",
       "      <td>0.327943</td>\n",
       "    </tr>\n",
       "    <tr>\n",
       "      <th>quality_measures</th>\n",
       "      <td>N</td>\n",
       "      <td>Y</td>\n",
       "      <td>N</td>\n",
       "      <td>N</td>\n",
       "      <td>N</td>\n",
       "    </tr>\n",
       "    <tr>\n",
       "      <th>electronic_measures</th>\n",
       "      <td>N</td>\n",
       "      <td>Y</td>\n",
       "      <td>N</td>\n",
       "      <td>N</td>\n",
       "      <td>N</td>\n",
       "    </tr>\n",
       "    <tr>\n",
       "      <th>years_experience</th>\n",
       "      <td>0</td>\n",
       "      <td>11</td>\n",
       "      <td>0</td>\n",
       "      <td>0</td>\n",
       "      <td>0</td>\n",
       "    </tr>\n",
       "    <tr>\n",
       "      <th>prov_qual_indic</th>\n",
       "      <td>0</td>\n",
       "      <td>0</td>\n",
       "      <td>0</td>\n",
       "      <td>0</td>\n",
       "      <td>0</td>\n",
       "    </tr>\n",
       "    <tr>\n",
       "      <th>hmaxscore</th>\n",
       "      <td>0</td>\n",
       "      <td>37.95</td>\n",
       "      <td>0</td>\n",
       "      <td>0</td>\n",
       "      <td>0</td>\n",
       "    </tr>\n",
       "  </tbody>\n",
       "</table>\n",
       "</div>"
      ],
      "text/plain": [
       "npi_l                        1003002379   1003003153          1003008913  \\\n",
       "gender_l                              F            F                   F   \n",
       "state_l                              WA           WA                  WA   \n",
       "type                  Internal Medicine  Dermatology  Nurse Practitioner   \n",
       "report_year                        2014         2014                2014   \n",
       "zip_base                          98664        98104               98104   \n",
       "bene_day_srvc_cnt                   939          354                  67   \n",
       "submitted_delta_perc            2.68326       2.5793             3.96826   \n",
       "allowed_delta_perc             0.288198     0.326124            0.409126   \n",
       "quality_measures                      N            Y                   N   \n",
       "electronic_measures                   N            Y                   N   \n",
       "years_experience                      0           11                   0   \n",
       "prov_qual_indic                       0            0                   0   \n",
       "hmaxscore                             0        37.95                   0   \n",
       "\n",
       "npi_l                         1003009135          1003009283  \n",
       "gender_l                               F                   F  \n",
       "state_l                               WA                  WA  \n",
       "type                  Nurse Practitioner  Emergency Medicine  \n",
       "report_year                         2014                2014  \n",
       "zip_base                           98034               98632  \n",
       "bene_day_srvc_cnt                     73                 659  \n",
       "submitted_delta_perc             2.15745             3.38032  \n",
       "allowed_delta_perc              0.737124            0.327943  \n",
       "quality_measures                       N                   N  \n",
       "electronic_measures                    N                   N  \n",
       "years_experience                       0                   0  \n",
       "prov_qual_indic                        0                   0  \n",
       "hmaxscore                              0                   0  "
      ]
     },
     "execution_count": 4,
     "metadata": {},
     "output_type": "execute_result"
    }
   ],
   "source": [
    "work_tbl.head().T"
   ]
  },
  {
   "cell_type": "code",
   "execution_count": 5,
   "metadata": {
    "collapsed": false
   },
   "outputs": [],
   "source": [
    "#work_tbl.info()"
   ]
  },
  {
   "cell_type": "code",
   "execution_count": 6,
   "metadata": {
    "collapsed": false
   },
   "outputs": [],
   "source": [
    "# work_tbl['bene_day_srvc_cnt_p'] = work_tbl['bene_day_srvc_cnt']*float(100)/work_tbl['bene_day_srvc_cnt'].mean()\n",
    "# work_tbl['prov_qual_indic_p'] = work_tbl['prov_qual_indic']*float(100)/work_tbl['prov_qual_indic'].mean()\n",
    "# work_tbl['years_experience_p'] = work_tbl['years_experience']*float(100)/work_tbl['years_experience'].mean()\n",
    "# work_tbl['hmaxscore_p'] = work_tbl['hmaxscore']*float(100)/work_tbl['hmaxscore'].mean()\n",
    "\n",
    "work_tbl['bene_day_srvc_cnt_p'] = (work_tbl['bene_day_srvc_cnt'].max()-work_tbl['bene_day_srvc_cnt'])*float(100)/\\\n",
    "        (work_tbl['bene_day_srvc_cnt'].max()-work_tbl['bene_day_srvc_cnt'].min())\n",
    "    \n",
    "work_tbl['prov_qual_indic_p'] = (work_tbl['prov_qual_indic'].max()-work_tbl['prov_qual_indic'])*float(100)/\\\n",
    "        (work_tbl['prov_qual_indic'].max()-work_tbl['prov_qual_indic'].min())\n",
    "    \n",
    "# work_tbl['prov_qual_indic_p'] = work_tbl['prov_qual_indic']*float(100)/work_tbl['prov_qual_indic'].mean()\n",
    "\n",
    "work_tbl['years_experience_p'] = (work_tbl['years_experience'].max()-work_tbl['years_experience'])*float(100)/\\\n",
    "        (work_tbl['years_experience'].max()-work_tbl['years_experience'].min())\n",
    "\n",
    "\n",
    "# work_tbl['years_experience_p'] = work_tbl['years_experience']*float(100)/work_tbl['years_experience'].mean()\n",
    "work_tbl['hmaxscore_p'] = (work_tbl['hmaxscore'].max()-work_tbl['hmaxscore'])*float(100)/\\\n",
    "        (work_tbl['hmaxscore'].max()-work_tbl['hmaxscore'].min())\n",
    "\n",
    "# work_tbl['hmaxscore_p'] = work_tbl['hmaxscore']*float(100)/work_tbl['hmaxscore'].mean()\n",
    "\n",
    "work_tbl['submitted_delta_perc'] = (work_tbl['submitted_delta_perc'].max()-work_tbl['submitted_delta_perc'])*float(100)/\\\n",
    "        (work_tbl['submitted_delta_perc'].max()-work_tbl['submitted_delta_perc'].min())\n",
    "    \n",
    "work_tbl['allowed_delta_perc'] = (work_tbl['allowed_delta_perc'].max()-work_tbl['allowed_delta_perc'])*float(100)/\\\n",
    "        (work_tbl['allowed_delta_perc'].max()-work_tbl['allowed_delta_perc'].min())\n"
   ]
  },
  {
   "cell_type": "code",
   "execution_count": 7,
   "metadata": {
    "collapsed": false
   },
   "outputs": [],
   "source": [
    "#work_tbl['bene_day_srvc_cnt_p'].max()"
   ]
  },
  {
   "cell_type": "code",
   "execution_count": 8,
   "metadata": {
    "collapsed": false
   },
   "outputs": [],
   "source": [
    "#Select only providers linked with a hospital \n",
    "work_tbl=work_tbl[work_tbl['hmaxscore']>0]\n",
    "#work_tbl.drop('prov_qual_indic', axis=1, inplace=True)\n",
    "#work_tbl.drop('gender_l', axis=1, inplace=True)\n",
    "work_tbl.drop('bene_day_srvc_cnt', axis=1, inplace=True)\n",
    "work_tbl.drop('prov_qual_indic', axis=1, inplace=True)\n",
    "work_tbl.drop('years_experience', axis=1, inplace=True)\n",
    "work_tbl.drop('hmaxscore', axis=1, inplace=True)\n",
    "work_tbl.drop('report_year', axis=1, inplace=True)\n",
    "work_tbl.drop('zip_base', axis=1, inplace=True)\n",
    "\n",
    "#work_tblx.head()"
   ]
  },
  {
   "cell_type": "code",
   "execution_count": 9,
   "metadata": {
    "collapsed": false
   },
   "outputs": [
    {
     "data": {
      "text/html": [
       "<div>\n",
       "<table border=\"1\" class=\"dataframe\">\n",
       "  <thead>\n",
       "    <tr style=\"text-align: right;\">\n",
       "      <th>npi_l</th>\n",
       "      <th>1003003153</th>\n",
       "      <th>1003015553</th>\n",
       "      <th>1003016163</th>\n",
       "      <th>1003037037</th>\n",
       "      <th>1003038977</th>\n",
       "    </tr>\n",
       "  </thead>\n",
       "  <tbody>\n",
       "    <tr>\n",
       "      <th>gender_l</th>\n",
       "      <td>F</td>\n",
       "      <td>M</td>\n",
       "      <td>F</td>\n",
       "      <td>M</td>\n",
       "      <td>M</td>\n",
       "    </tr>\n",
       "    <tr>\n",
       "      <th>state_l</th>\n",
       "      <td>WA</td>\n",
       "      <td>WA</td>\n",
       "      <td>WA</td>\n",
       "      <td>WA</td>\n",
       "      <td>WA</td>\n",
       "    </tr>\n",
       "    <tr>\n",
       "      <th>type</th>\n",
       "      <td>Dermatology</td>\n",
       "      <td>Diagnostic Radiology</td>\n",
       "      <td>General Surgery</td>\n",
       "      <td>Family Practice</td>\n",
       "      <td>Chiropractic</td>\n",
       "    </tr>\n",
       "    <tr>\n",
       "      <th>submitted_delta_perc</th>\n",
       "      <td>93.7861</td>\n",
       "      <td>87.2688</td>\n",
       "      <td>96.511</td>\n",
       "      <td>94.5842</td>\n",
       "      <td>97.6025</td>\n",
       "    </tr>\n",
       "    <tr>\n",
       "      <th>allowed_delta_perc</th>\n",
       "      <td>98.4826</td>\n",
       "      <td>98.2723</td>\n",
       "      <td>98.7336</td>\n",
       "      <td>97.7492</td>\n",
       "      <td>97.944</td>\n",
       "    </tr>\n",
       "    <tr>\n",
       "      <th>quality_measures</th>\n",
       "      <td>Y</td>\n",
       "      <td>Y</td>\n",
       "      <td>Y</td>\n",
       "      <td>Y</td>\n",
       "      <td>N</td>\n",
       "    </tr>\n",
       "    <tr>\n",
       "      <th>electronic_measures</th>\n",
       "      <td>Y</td>\n",
       "      <td>N</td>\n",
       "      <td>N</td>\n",
       "      <td>N</td>\n",
       "      <td>N</td>\n",
       "    </tr>\n",
       "    <tr>\n",
       "      <th>bene_day_srvc_cnt_p</th>\n",
       "      <td>98.1515</td>\n",
       "      <td>62.0985</td>\n",
       "      <td>99.9461</td>\n",
       "      <td>99.7467</td>\n",
       "      <td>99.1162</td>\n",
       "    </tr>\n",
       "    <tr>\n",
       "      <th>prov_qual_indic_p</th>\n",
       "      <td>100</td>\n",
       "      <td>100</td>\n",
       "      <td>100</td>\n",
       "      <td>100</td>\n",
       "      <td>100</td>\n",
       "    </tr>\n",
       "    <tr>\n",
       "      <th>years_experience_p</th>\n",
       "      <td>83.8235</td>\n",
       "      <td>55.8824</td>\n",
       "      <td>85.2941</td>\n",
       "      <td>83.8235</td>\n",
       "      <td>73.5294</td>\n",
       "    </tr>\n",
       "    <tr>\n",
       "      <th>hmaxscore_p</th>\n",
       "      <td>8.88355</td>\n",
       "      <td>15.006</td>\n",
       "      <td>16.5666</td>\n",
       "      <td>15.3661</td>\n",
       "      <td>18.2473</td>\n",
       "    </tr>\n",
       "  </tbody>\n",
       "</table>\n",
       "</div>"
      ],
      "text/plain": [
       "npi_l                  1003003153            1003015553       1003016163  \\\n",
       "gender_l                        F                     M                F   \n",
       "state_l                        WA                    WA               WA   \n",
       "type                  Dermatology  Diagnostic Radiology  General Surgery   \n",
       "submitted_delta_perc      93.7861               87.2688           96.511   \n",
       "allowed_delta_perc        98.4826               98.2723          98.7336   \n",
       "quality_measures                Y                     Y                Y   \n",
       "electronic_measures             Y                     N                N   \n",
       "bene_day_srvc_cnt_p       98.1515               62.0985          99.9461   \n",
       "prov_qual_indic_p             100                   100              100   \n",
       "years_experience_p        83.8235               55.8824          85.2941   \n",
       "hmaxscore_p               8.88355                15.006          16.5666   \n",
       "\n",
       "npi_l                      1003037037    1003038977  \n",
       "gender_l                            M             M  \n",
       "state_l                            WA            WA  \n",
       "type                  Family Practice  Chiropractic  \n",
       "submitted_delta_perc          94.5842       97.6025  \n",
       "allowed_delta_perc            97.7492        97.944  \n",
       "quality_measures                    Y             N  \n",
       "electronic_measures                 N             N  \n",
       "bene_day_srvc_cnt_p           99.7467       99.1162  \n",
       "prov_qual_indic_p                 100           100  \n",
       "years_experience_p            83.8235       73.5294  \n",
       "hmaxscore_p                   15.3661       18.2473  "
      ]
     },
     "execution_count": 9,
     "metadata": {},
     "output_type": "execute_result"
    }
   ],
   "source": [
    "work_tbl.head().T"
   ]
  },
  {
   "cell_type": "code",
   "execution_count": 10,
   "metadata": {
    "collapsed": false
   },
   "outputs": [
    {
     "name": "stdout",
     "output_type": "stream",
     "text": [
      "<class 'pandas.core.frame.DataFrame'>\n",
      "Int64Index: 9059 entries, 1003003153 to 1992992655\n",
      "Data columns (total 11 columns):\n",
      "gender_l                9059 non-null object\n",
      "state_l                 9059 non-null object\n",
      "type                    9059 non-null object\n",
      "submitted_delta_perc    9059 non-null float64\n",
      "allowed_delta_perc      9059 non-null float64\n",
      "quality_measures        9059 non-null object\n",
      "electronic_measures     9059 non-null object\n",
      "bene_day_srvc_cnt_p     9059 non-null float64\n",
      "prov_qual_indic_p       9059 non-null float64\n",
      "years_experience_p      9059 non-null float64\n",
      "hmaxscore_p             9059 non-null float64\n",
      "dtypes: float64(6), object(5)\n",
      "memory usage: 849.3+ KB\n"
     ]
    }
   ],
   "source": [
    "work_tbl.info()"
   ]
  },
  {
   "cell_type": "code",
   "execution_count": 11,
   "metadata": {
    "collapsed": false
   },
   "outputs": [],
   "source": [
    "#pd.show_versions()"
   ]
  },
  {
   "cell_type": "code",
   "execution_count": 12,
   "metadata": {
    "collapsed": false
   },
   "outputs": [],
   "source": [
    "#df.ix[df.my_channel > 20000, 'my_channel'] = 0\n",
    "#work_tbl.ix[work_tbl['quality_measures'] =='0','quality_measures']='N'\n",
    "#rows_to_change = work_tbl['quality_measures'] == '0'\n",
    "#df.loc[rows_to_change, 'status'] = 'DUP'\n",
    "\n",
    "#work_tbl.quality_measures[work_tbl['quality_measures' ==0]] = 'N'\n",
    "#[work_tbl['quality_measures'] ==0 , 'quality_measures'] = 'N'"
   ]
  },
  {
   "cell_type": "code",
   "execution_count": 13,
   "metadata": {
    "collapsed": false
   },
   "outputs": [],
   "source": [
    "#create dummy columns for 'gender_l',\n",
    "cols_to_transform = [ 'gender_l', 'quality_measures', 'electronic_measures', 'state_l']\n",
    "#df = pd.get_dummies(df, columns=['type'])\n",
    "#http://stackoverflow.com/questions/36285155/pandas-get-dummies\n",
    "df = pd.get_dummies(work_tbl, columns = cols_to_transform )\n",
    "#df.columns.tolist()"
   ]
  },
  {
   "cell_type": "code",
   "execution_count": 14,
   "metadata": {
    "collapsed": false
   },
   "outputs": [
    {
     "name": "stderr",
     "output_type": "stream",
     "text": [
      "/Users/aurelperianu/anaconda/lib/python2.7/site-packages/sklearn/cross_validation.py:44: DeprecationWarning: This module was deprecated in version 0.18 in favor of the model_selection module into which all the refactored classes and functions are moved. Also note that the interface of the new CV iterators are different from that of this module. This module will be removed in 0.20.\n",
      "  \"This module will be removed in 0.20.\", DeprecationWarning)\n"
     ]
    }
   ],
   "source": [
    "from sklearn.ensemble import RandomForestClassifier\n",
    "import pandas as pd\n",
    "import numpy as np\n",
    "import matplotlib.pyplot as plt\n",
    "from sklearn.cross_validation import train_test_split\n",
    "from sklearn.metrics import confusion_matrix, precision_score, recall_score\n",
    "from sklearn.linear_model import LogisticRegression\n",
    "from sklearn.tree import DecisionTreeClassifier\n",
    "from sklearn.svm import SVC\n",
    "from sklearn.naive_bayes import MultinomialNB\n",
    "from sklearn.metrics import roc_auc_score\n",
    "%matplotlib inline\n",
    "#from roc import plot_roc"
   ]
  },
  {
   "cell_type": "code",
   "execution_count": 15,
   "metadata": {
    "collapsed": false
   },
   "outputs": [],
   "source": [
    "#df['gender_l_F'].value_counts()\n",
    "#df[\"quality_measures\"] = df[\"quality_measures\"] == 'Y'\n",
    "#df[\"electronic_measures\"] = df[\"electronic_measures\"] == 'Y'\n",
    "#df['Churn?'] = df['Churn?'] == 'True."
   ]
  },
  {
   "cell_type": "code",
   "execution_count": 16,
   "metadata": {
    "collapsed": false
   },
   "outputs": [
    {
     "data": {
      "text/plain": [
       "(9059, 14)"
      ]
     },
     "execution_count": 16,
     "metadata": {},
     "output_type": "execute_result"
    }
   ],
   "source": [
    "df.shape"
   ]
  },
  {
   "cell_type": "code",
   "execution_count": 17,
   "metadata": {
    "collapsed": false
   },
   "outputs": [
    {
     "data": {
      "text/plain": [
       "['type',\n",
       " 'submitted_delta_perc',\n",
       " 'allowed_delta_perc',\n",
       " 'bene_day_srvc_cnt_p',\n",
       " 'prov_qual_indic_p',\n",
       " 'years_experience_p',\n",
       " 'hmaxscore_p',\n",
       " 'gender_l_F',\n",
       " 'gender_l_M',\n",
       " 'quality_measures_N',\n",
       " 'quality_measures_Y',\n",
       " 'electronic_measures_N',\n",
       " 'electronic_measures_Y',\n",
       " 'state_l_WA']"
      ]
     },
     "execution_count": 17,
     "metadata": {},
     "output_type": "execute_result"
    }
   ],
   "source": [
    "df.columns.tolist()"
   ]
  },
  {
   "cell_type": "code",
   "execution_count": 18,
   "metadata": {
    "collapsed": false
   },
   "outputs": [
    {
     "data": {
      "text/plain": [
       "RandomForestClassifier(bootstrap=True, class_weight=None, criterion='gini',\n",
       "            max_depth=None, max_features='auto', max_leaf_nodes=None,\n",
       "            min_impurity_split=1e-07, min_samples_leaf=1,\n",
       "            min_samples_split=2, min_weight_fraction_leaf=0.0,\n",
       "            n_estimators=10, n_jobs=1, oob_score=False, random_state=None,\n",
       "            verbose=0, warm_start=False)"
      ]
     },
     "execution_count": 18,
     "metadata": {},
     "output_type": "execute_result"
    }
   ],
   "source": [
    "y = df.pop('type').values\n",
    "X = df.values\n",
    "# 6. Use sklearn's train_test_split to split into train and test set\n",
    "X_train, X_test, y_train, y_test = train_test_split(X, y, test_size=.4, random_state=5)\n",
    "# 7. Use sklearn's RandomForestClassifier to build a model of your data\n",
    "rf = RandomForestClassifier()\n",
    "rf.fit(X_train, y_train)"
   ]
  },
  {
   "cell_type": "code",
   "execution_count": 19,
   "metadata": {
    "collapsed": false
   },
   "outputs": [
    {
     "data": {
      "text/plain": [
       "['submitted_delta_perc',\n",
       " 'allowed_delta_perc',\n",
       " 'bene_day_srvc_cnt_p',\n",
       " 'prov_qual_indic_p',\n",
       " 'years_experience_p',\n",
       " 'hmaxscore_p',\n",
       " 'gender_l_F',\n",
       " 'gender_l_M',\n",
       " 'quality_measures_N',\n",
       " 'quality_measures_Y',\n",
       " 'electronic_measures_N',\n",
       " 'electronic_measures_Y',\n",
       " 'state_l_WA']"
      ]
     },
     "execution_count": 19,
     "metadata": {},
     "output_type": "execute_result"
    }
   ],
   "source": [
    "df.columns.tolist()"
   ]
  },
  {
   "cell_type": "code",
   "execution_count": 109,
   "metadata": {
    "collapsed": true
   },
   "outputs": [],
   "source": [
    "def feature_importance(rf, col_labels=None, importances=None, err=True):\n",
    "    if isinstance(importances, type(None)):\n",
    "        importances = rf.feature_importances_\n",
    "        std = np.std([tree.feature_importances_ for tree in rf.estimators_], axis=0)\n",
    "    idxs = np.argsort(importances)[::-1]\n",
    "\n",
    "    if isinstance(col_labels, type(None)):\n",
    "        col_labels = {}\n",
    "    else:\n",
    "        col_labels = {idx: label for idx, label in enumerate(col_labels)}\n",
    "\n",
    "    # Print the ranking\n",
    "    print('Feature ranking:')\n",
    "    for feat in range(importances.shape[0]):\n",
    "        print(\"{}. {} ({})\".format(feat+1, col_labels.get(idxs[feat], idxs[feat]), importances[idxs[feat]]))\n",
    "\n",
    "    plt.figure(figsize=(10, 8))\n",
    "    plt.title('Feature Importances - Random Forest')\n",
    "    if err:\n",
    "        plt.bar(range(importances.shape[0]), importances[idxs], yerr=std[idxs], align='center')\n",
    "    else:\n",
    "        plt.bar(range(importances.shape[0]), importances[idxs], align='center')\n",
    "    xticks = [col_labels.get(idx, idx) for idx in idxs]\n",
    "    plt.xticks(range(importances.shape[0]), xticks, rotation=-45)\n",
    "    plt.xlim([-1, importances.shape[0]])\n",
    "    plt.tight_layout()"
   ]
  },
  {
   "cell_type": "code",
   "execution_count": 21,
   "metadata": {
    "collapsed": false
   },
   "outputs": [
    {
     "name": "stdout",
     "output_type": "stream",
     "text": [
      "Feature ranking:\n",
      "1. submitted_delta_perc (0.22509201866)\n",
      "2. bene_day_srvc_cnt_p (0.20858866128)\n",
      "3. allowed_delta_perc (0.195769236136)\n",
      "4. years_experience_p (0.147844288208)\n",
      "5. hmaxscore_p (0.137857428472)\n",
      "6. electronic_measures_N (0.020494690169)\n",
      "7. electronic_measures_Y (0.0156598552472)\n",
      "8. gender_l_F (0.0131740952)\n",
      "9. quality_measures_Y (0.0114987867295)\n",
      "10. quality_measures_N (0.0106485921778)\n",
      "11. prov_qual_indic_p (0.00681811136147)\n",
      "12. gender_l_M (0.00655423635808)\n",
      "13. state_l_WA (0.0)\n"
     ]
    },
    {
     "data": {
      "image/png": "[encoded data removed]",
      "text/plain": [
       "<matplotlib.figure.Figure at 0x10ad26950>"
      ]
     },
     "metadata": {},
     "output_type": "display_data"
    }
   ],
   "source": [
    "#features grapt\n",
    "feature_importance(rf, df.columns.tolist())"
   ]
  },
  {
   "cell_type": "code",
   "execution_count": 22,
   "metadata": {
    "collapsed": false
   },
   "outputs": [],
   "source": [
    "from sklearn.metrics import mean_squared_error\n",
    "def leave_one_out_feature_import(X, y, model,n=14, norm=True):\n",
    "    ''' Drop each feature out and observe the effect on the specified criterion\n",
    "    INPUT:\n",
    "        X: numpy array\n",
    "            Numpy array holding all features\n",
    "        y: numpy array\n",
    "            Numpy array of targets\n",
    "        model: Model implementing .fit() and .predict()\n",
    "        criterion: function evaluating a particular metric\n",
    "            This function should be called like so: criterion(y_true, y_pred)\n",
    "    OUTPUT:\n",
    "        importances: numpy array\n",
    "     '''\n",
    "#     model.fit(X, y)\n",
    "#     base = criterion(y, model.predict(X))\n",
    "#     importances = []\n",
    "\n",
    "#     for feat in range(X.shape[1]):\n",
    "#         X_sub = X[:, np.array([col != feat for col in range(X.shape[1])])]\n",
    "#         model.fit(X_sub, y)\n",
    "#         importances.append(abs(base - criterion(y, model.predict(X_sub))))\n",
    "\n",
    "#     importances = np.array(importances)\n",
    "    importances = rf.feature_importances_[:n]\n",
    "    if norm:\n",
    "        importances = importances / np.sum(importances)\n",
    "    return importances"
   ]
  },
  {
   "cell_type": "code",
   "execution_count": 110,
   "metadata": {
    "collapsed": false,
    "scrolled": false
   },
   "outputs": [
    {
     "name": "stdout",
     "output_type": "stream",
     "text": [
      "Feature ranking:\n",
      "1. submitted_delta_perc (0.220035099104)\n",
      "2. bene_day_srvc_cnt_p (0.213354182965)\n",
      "3. allowed_delta_perc (0.197626998961)\n",
      "4. years_experience_p (0.146450573882)\n",
      "5. hmaxscore_p (0.137648180001)\n",
      "6. electronic_measures_N (0.0159319872649)\n",
      "7. electronic_measures_Y (0.015224741406)\n",
      "8. gender_l_M (0.0133106226573)\n",
      "9. gender_l_F (0.0131332602991)\n",
      "10. quality_measures_N (0.0102505285848)\n",
      "11. quality_measures_Y (0.0102323296472)\n",
      "12. prov_qual_indic_p (0.00680149522739)\n"
     ]
    },
    {
     "data": {
      "image/png": "[encoded data removed]",
      "text/plain": [
       "<matplotlib.figure.Figure at 0x165723f90>"
      ]
     },
     "metadata": {},
     "output_type": "display_data"
    }
   ],
   "source": [
    "#selected features graph\n",
    "loo_importance = leave_one_out_feature_import(X, y, rf, 12)\n",
    "feature_importance(rf, df.columns.tolist(), importances=loo_importance, err=False)"
   ]
  },
  {
   "cell_type": "code",
   "execution_count": 24,
   "metadata": {
    "collapsed": false
   },
   "outputs": [
    {
     "name": "stdout",
     "output_type": "stream",
     "text": [
      "8. score: 0.470750551876\n"
     ]
    }
   ],
   "source": [
    "# 8. What is the accuracy score on the test data?\n",
    "print \"8. score:\", rf.score(X_test, y_test)"
   ]
  },
  {
   "cell_type": "code",
   "execution_count": 25,
   "metadata": {
    "collapsed": false
   },
   "outputs": [],
   "source": [
    "# y_predict = rf.predict(X_test)\n",
    "# print \"9. confusion matrix:\"\n",
    "# print confusion_matrix(y_test, y_predict)\n",
    "# # print \"10. precision:\", precision_score(y_test, y_predict)\n",
    "# # print \"    recall:\", recall_score(y_test, y_predict)"
   ]
  },
  {
   "cell_type": "code",
   "execution_count": 26,
   "metadata": {
    "collapsed": false
   },
   "outputs": [
    {
     "name": "stdout",
     "output_type": "stream",
     "text": [
      "11: accuracy score: 0.503863134658\n",
      "    out of bag score: 0.503587856486\n"
     ]
    }
   ],
   "source": [
    "#Change nr estimators\n",
    "rf = RandomForestClassifier(n_estimators=1000, oob_score=True)\n",
    "rf.fit(X_train, y_train)\n",
    "print \"11: accuracy score:\", rf.score(X_test, y_test)\n",
    "print \"    out of bag score:\", rf.oob_score_"
   ]
  },
  {
   "cell_type": "code",
   "execution_count": 27,
   "metadata": {
    "collapsed": false
   },
   "outputs": [
    {
     "name": "stdout",
     "output_type": "stream",
     "text": [
      "['Dermatology' 'Diagnostic Radiology' 'General Surgery' 'Family Practice'\n",
      " 'Chiropractic' 'Physician Assistant' 'Internal Medicine'\n",
      " 'Orthopedic Surgery' 'Emergency Medicine' 'Nurse Practitioner' 'Podiatry'\n",
      " 'Obstetrics/Gynecology' 'Pathology' 'Psychiatry' 'Cardiology'\n",
      " 'Gastroenterology' 'Anesthesiology' 'Neurology' 'Ophthalmology' 'CRNA'\n",
      " 'Optometry' 'Clinical Psychologist' 'Physical Therapist']\n"
     ]
    }
   ],
   "source": [
    "print pd.unique(y)"
   ]
  },
  {
   "cell_type": "code",
   "execution_count": 28,
   "metadata": {
    "collapsed": false
   },
   "outputs": [
    {
     "data": {
      "text/plain": [
       "(9059,)"
      ]
     },
     "execution_count": 28,
     "metadata": {},
     "output_type": "execute_result"
    }
   ],
   "source": [
    "y.shape"
   ]
  },
  {
   "cell_type": "code",
   "execution_count": 29,
   "metadata": {
    "collapsed": false
   },
   "outputs": [],
   "source": [
    "#build a dataframe with labels and feature importances - same order as work_tbl\n",
    "coeff_rd= zip(df.columns[:12], rf.feature_importances_)"
   ]
  },
  {
   "cell_type": "code",
   "execution_count": 30,
   "metadata": {
    "collapsed": false
   },
   "outputs": [
    {
     "data": {
      "text/html": [
       "<div>\n",
       "<table border=\"1\" class=\"dataframe\">\n",
       "  <thead>\n",
       "    <tr style=\"text-align: right;\">\n",
       "      <th></th>\n",
       "      <th>1</th>\n",
       "    </tr>\n",
       "    <tr>\n",
       "      <th>0</th>\n",
       "      <th></th>\n",
       "    </tr>\n",
       "  </thead>\n",
       "  <tbody>\n",
       "    <tr>\n",
       "      <th>submitted_delta_perc</th>\n",
       "      <td>0.220035</td>\n",
       "    </tr>\n",
       "    <tr>\n",
       "      <th>allowed_delta_perc</th>\n",
       "      <td>0.197627</td>\n",
       "    </tr>\n",
       "    <tr>\n",
       "      <th>bene_day_srvc_cnt_p</th>\n",
       "      <td>0.213354</td>\n",
       "    </tr>\n",
       "    <tr>\n",
       "      <th>prov_qual_indic_p</th>\n",
       "      <td>0.006801</td>\n",
       "    </tr>\n",
       "    <tr>\n",
       "      <th>years_experience_p</th>\n",
       "      <td>0.146451</td>\n",
       "    </tr>\n",
       "    <tr>\n",
       "      <th>hmaxscore_p</th>\n",
       "      <td>0.137648</td>\n",
       "    </tr>\n",
       "    <tr>\n",
       "      <th>gender_l_F</th>\n",
       "      <td>0.013133</td>\n",
       "    </tr>\n",
       "    <tr>\n",
       "      <th>gender_l_M</th>\n",
       "      <td>0.013311</td>\n",
       "    </tr>\n",
       "    <tr>\n",
       "      <th>quality_measures_N</th>\n",
       "      <td>0.010251</td>\n",
       "    </tr>\n",
       "    <tr>\n",
       "      <th>quality_measures_Y</th>\n",
       "      <td>0.010232</td>\n",
       "    </tr>\n",
       "    <tr>\n",
       "      <th>electronic_measures_N</th>\n",
       "      <td>0.015932</td>\n",
       "    </tr>\n",
       "    <tr>\n",
       "      <th>electronic_measures_Y</th>\n",
       "      <td>0.015225</td>\n",
       "    </tr>\n",
       "  </tbody>\n",
       "</table>\n",
       "</div>"
      ],
      "text/plain": [
       "                              1\n",
       "0                              \n",
       "submitted_delta_perc   0.220035\n",
       "allowed_delta_perc     0.197627\n",
       "bene_day_srvc_cnt_p    0.213354\n",
       "prov_qual_indic_p      0.006801\n",
       "years_experience_p     0.146451\n",
       "hmaxscore_p            0.137648\n",
       "gender_l_F             0.013133\n",
       "gender_l_M             0.013311\n",
       "quality_measures_N     0.010251\n",
       "quality_measures_Y     0.010232\n",
       "electronic_measures_N  0.015932\n",
       "electronic_measures_Y  0.015225"
      ]
     },
     "execution_count": 30,
     "metadata": {},
     "output_type": "execute_result"
    }
   ],
   "source": [
    "ratios = pd.DataFrame(coeff_rd)\n",
    "keep_col_rf=ratios[0].tolist()\n",
    "ratios.set_index([0])"
   ]
  },
  {
   "cell_type": "code",
   "execution_count": 31,
   "metadata": {
    "collapsed": false
   },
   "outputs": [
    {
     "name": "stdout",
     "output_type": "stream",
     "text": [
      "12: top five: ['submitted_delta_perc', 'bene_day_srvc_cnt_p', 'allowed_delta_perc', 'years_experience_p', 'hmaxscore_p']\n"
     ]
    }
   ],
   "source": [
    "# print top5 feature importances\n",
    "feature_importances = np.argsort(rf.feature_importances_)\n",
    "print \"12: top five:\", list(df.columns[feature_importances[-1:-6:-1]])"
   ]
  },
  {
   "cell_type": "code",
   "execution_count": 32,
   "metadata": {
    "collapsed": false
   },
   "outputs": [],
   "source": [
    "n = 10 # top 10 features\n",
    "\n",
    "importances = rf.feature_importances_[:n]\n",
    "std = np.std([tree.feature_importances_ for tree in rf.estimators_],\n",
    "             axis=0)\n",
    "indices = np.argsort(importances)[::-1]"
   ]
  },
  {
   "cell_type": "code",
   "execution_count": 33,
   "metadata": {
    "collapsed": false
   },
   "outputs": [],
   "source": [
    "# # Print the feature ranking\n",
    "# print(\"Feature ranking:\")\n",
    "\n",
    "# for f in range(n):\n",
    "#     print(\"%d. %s (%f)\" % (f + 1, features[f], importances[indices[f]]))\n",
    "\n",
    "# # Plot the feature importances of the forest\n",
    "# plt.figure()\n",
    "# plt.title(\"Feature importances\")\n",
    "# plt.bar(range(10), importances[indices], yerr=std[indices], color=\"r\", align=\"center\")\n",
    "# plt.xticks(range(10), indices)\n",
    "# plt.xlim([-1, 10])\n",
    "# plt.show()"
   ]
  },
  {
   "cell_type": "code",
   "execution_count": 34,
   "metadata": {
    "collapsed": false
   },
   "outputs": [],
   "source": [
    "# 14. Try modifying the number of trees\n",
    "# num_trees = range(5, 50, 5)\n",
    "# accuracies = []\n",
    "# for n in num_trees:\n",
    "#     tot = 0\n",
    "#     for i in xrange(5):\n",
    "#         rf = RandomForestClassifier(n_estimators=n)\n",
    "#         rf.fit(X_train, y_train)\n",
    "#         tot += rf.score(X_test, y_test)\n",
    "#     accuracies.append(tot / 5)\n",
    "# plt.plot(num_trees, accuracies)\n",
    "# plt.title('Trees and Accuracy')\n",
    "# plt.xlabel('Number of trees')\n",
    "# plt.ylabel('Accuracy')\n",
    "# plt.show()"
   ]
  },
  {
   "cell_type": "code",
   "execution_count": 35,
   "metadata": {
    "collapsed": false
   },
   "outputs": [
    {
     "name": "stdout",
     "output_type": "stream",
     "text": [
      "16. Model, Accuracy, Precision, Recall\n",
      "    Random Forest: (0.49006622516556292,)\n",
      "    Logistic Regression: (0.37113686534216334,)\n",
      "    Decision Tree: (0.37224061810154524,)\n",
      "    SVM: (0.38686534216335539,)\n",
      "    Naive Bayes: (0.28007726269315675,)\n"
     ]
    }
   ],
   "source": [
    "def get_scores(classifier, X_train, X_test, y_train, y_test, **kwargs):\n",
    "    model = classifier(**kwargs)\n",
    "    model.fit(X_train, y_train)\n",
    "    y_predict = model.predict(X_test)\n",
    "    return model.score(X_test, y_test), \\\n",
    "           #precision_score(y_test, y_predict), \\\n",
    "           #recall_score(y_test, y_predict)\n",
    "\n",
    "print \"16. Model, Accuracy, Precision, Recall\"\n",
    "print \"    Random Forest:\", get_scores(RandomForestClassifier, X_train, X_test, y_train, y_test, n_estimators=25, max_features=5)\n",
    "print \"    Logistic Regression:\", get_scores(LogisticRegression, X_train, X_test, y_train, y_test)\n",
    "print \"    Decision Tree:\", get_scores(DecisionTreeClassifier, X_train, X_test, y_train, y_test)\n",
    "print \"    SVM:\", get_scores(SVC, X_train, X_test, y_train, y_test)\n",
    "print \"    Naive Bayes:\", get_scores(MultinomialNB, X_train, X_test, y_train, y_test)"
   ]
  },
  {
   "cell_type": "code",
   "execution_count": 36,
   "metadata": {
    "collapsed": false
   },
   "outputs": [],
   "source": [
    "from sklearn.decomposition import PCA\n",
    "import matplotlib.pyplot as plt\n",
    "from mpl_toolkits.mplot3d import Axes3D\n",
    "%matplotlib inline\n",
    "from sklearn.preprocessing import StandardScaler\n",
    "#import plotly.tools as tls"
   ]
  },
  {
   "cell_type": "code",
   "execution_count": 37,
   "metadata": {
    "collapsed": true
   },
   "outputs": [],
   "source": [
    "scale = StandardScaler()\n",
    "#y = work_tbl.pop('type').values\n",
    "#work_tbl.drop('zip_base', axis=1, inplace=True)\n",
    "cols_to_transform = [ 'gender_l','state_l', 'quality_measures', 'electronic_measures' ]\n",
    "#df = pd.get_dummies(df, columns=['type'])\n",
    "#http://stackoverflow.com/questions/36285155/pandas-get-dummies\n",
    "df1 = pd.get_dummies(work_tbl, columns = cols_to_transform )\n",
    "y = df1.pop('type').values\n",
    "X_pca = scale.fit_transform(df1)\n",
    "pca = PCA(n_components=6)"
   ]
  },
  {
   "cell_type": "code",
   "execution_count": 38,
   "metadata": {
    "collapsed": false
   },
   "outputs": [
    {
     "data": {
      "text/plain": [
       "array([ 2.61270371,  2.21751992,  1.64053955,  1.08846063,  1.0229077 ,\n",
       "        0.97290916])"
      ]
     },
     "execution_count": 38,
     "metadata": {},
     "output_type": "execute_result"
    }
   ],
   "source": [
    "pca.fit(X_pca)\n",
    "pca.explained_variance_"
   ]
  },
  {
   "cell_type": "code",
   "execution_count": 39,
   "metadata": {
    "collapsed": false
   },
   "outputs": [
    {
     "data": {
      "text/plain": [
       "0.79625338840157645"
      ]
     },
     "execution_count": 39,
     "metadata": {},
     "output_type": "execute_result"
    }
   ],
   "source": [
    "sum(pca.explained_variance_ratio_)"
   ]
  },
  {
   "cell_type": "code",
   "execution_count": 40,
   "metadata": {
    "collapsed": false
   },
   "outputs": [
    {
     "data": {
      "text/plain": [
       "(9059, 6)"
      ]
     },
     "execution_count": 40,
     "metadata": {},
     "output_type": "execute_result"
    }
   ],
   "source": [
    "#new matrix\n",
    "X_pca_transformed = pca.fit_transform(X_pca)\n",
    "X_pca_transformed.shape"
   ]
  },
  {
   "cell_type": "code",
   "execution_count": 41,
   "metadata": {
    "collapsed": false
   },
   "outputs": [],
   "source": [
    "#df.head()"
   ]
  },
  {
   "cell_type": "code",
   "execution_count": 42,
   "metadata": {
    "collapsed": false
   },
   "outputs": [],
   "source": [
    "df_score=df[keep_col_rf]"
   ]
  },
  {
   "cell_type": "code",
   "execution_count": 43,
   "metadata": {
    "collapsed": false
   },
   "outputs": [],
   "source": [
    "#df_score.head()"
   ]
  },
  {
   "cell_type": "code",
   "execution_count": 44,
   "metadata": {
    "collapsed": false
   },
   "outputs": [],
   "source": [
    "adjustments=ratios.copy(deep=True)\n",
    "ratios_orig=ratios.copy(deep=True)\n"
   ]
  },
  {
   "cell_type": "code",
   "execution_count": 45,
   "metadata": {
    "collapsed": false
   },
   "outputs": [],
   "source": [
    "# adjustments[1][0]=-5*adjustments[1][0]\n",
    "# adjustments[1][1]=-5*adjustments[1][1]\n",
    "# adjustments[1][2]=-5*adjustments[1][2]\n",
    "# adjustments[1][3]=10*adjustments[1][3]\n",
    "# adjustments[1][4]=5*adjustments[1][4]\n",
    "# adjustments[1][5]=10*adjustments[1][5]\n",
    "# adjustments[1][6]=10*adjustments[1][6]\n",
    "# adjustments[1][7]=10*adjustments[1][7]\n",
    "# adjustments[1][8]=10*adjustments[1][8]\n",
    "# adjustments[1][9]=10*adjustments[1][9]\n",
    "# adjustments[1][10]=10*adjustments[1][10]\n",
    "# adjustments[1][11]=10*adjustments[1][11]\n",
    "# adjustments[1][0]=-7*adjustments[1][0]\n",
    "# adjustments[1][1]=-7*adjustments[1][1]\n",
    "# adjustments[1][2]=-7*adjustments[1][2]\n",
    "# adjustments[1][3]=10*adjustments[1][3]\n",
    "# adjustments[1][4]=5*adjustments[1][4]\n",
    "# adjustments[1][5]=10*adjustments[1][5]\n",
    "# adjustments[1][6]=10*adjustments[1][6]\n",
    "# adjustments[1][7]=10*adjustments[1][7]\n",
    "# adjustments[1][8]=10*adjustments[1][8]\n",
    "# adjustments[1][9]=10*adjustments[1][9]\n",
    "# adjustments[1][10]=10*adjustments[1][10]\n",
    "# adjustments[1][11]=10*adjustments[1][11]\n",
    "\n",
    "#df_score.shape"
   ]
  },
  {
   "cell_type": "code",
   "execution_count": 46,
   "metadata": {
    "collapsed": false
   },
   "outputs": [],
   "source": [
    "#Multiply features scores with data matrix - create backup\n",
    "#ret.dot(df3.set_index('Symbol'))\n",
    "scores=df_score.dot(ratios.set_index([0]))\n",
    "scores_orig=df_score.dot(ratios_orig.set_index([0]))\n",
    "scores_adj=df_score.dot(adjustments.set_index([0]))\n"
   ]
  },
  {
   "cell_type": "code",
   "execution_count": 47,
   "metadata": {
    "collapsed": false
   },
   "outputs": [
    {
     "data": {
      "text/plain": [
       "array([1003003153, 1003015553, 1003016163, ..., 1992984934, 1992989693,\n",
       "       1992992655])"
      ]
     },
     "execution_count": 47,
     "metadata": {},
     "output_type": "execute_result"
    }
   ],
   "source": [
    "scores.index.values"
   ]
  },
  {
   "cell_type": "code",
   "execution_count": 48,
   "metadata": {
    "collapsed": true
   },
   "outputs": [],
   "source": [
    "wa_data_provider_14_gr= pd.read_pickle('wa_data_provider_14_gr_pickle.pkl')"
   ]
  },
  {
   "cell_type": "code",
   "execution_count": 49,
   "metadata": {
    "collapsed": false
   },
   "outputs": [
    {
     "data": {
      "text/html": [
       "<div>\n",
       "<table border=\"1\" class=\"dataframe\">\n",
       "  <thead>\n",
       "    <tr style=\"text-align: right;\">\n",
       "      <th></th>\n",
       "      <th>0</th>\n",
       "      <th>1</th>\n",
       "      <th>2</th>\n",
       "      <th>3</th>\n",
       "      <th>4</th>\n",
       "    </tr>\n",
       "  </thead>\n",
       "  <tbody>\n",
       "    <tr>\n",
       "      <th>npi</th>\n",
       "      <td>1003002379</td>\n",
       "      <td>1003003153</td>\n",
       "      <td>1003008913</td>\n",
       "      <td>1003009135</td>\n",
       "      <td>1003009283</td>\n",
       "    </tr>\n",
       "    <tr>\n",
       "      <th>last_org_name</th>\n",
       "      <td>SHRESTHA</td>\n",
       "      <td>MORRISON</td>\n",
       "      <td>WALKER</td>\n",
       "      <td>MARINKOVICH</td>\n",
       "      <td>SOLBERG-SHANKLE</td>\n",
       "    </tr>\n",
       "    <tr>\n",
       "      <th>first_name</th>\n",
       "      <td>SALONA</td>\n",
       "      <td>LAURA</td>\n",
       "      <td>SANDRA</td>\n",
       "      <td>RITA</td>\n",
       "      <td>HEIDI</td>\n",
       "    </tr>\n",
       "    <tr>\n",
       "      <th>mi</th>\n",
       "      <td></td>\n",
       "      <td></td>\n",
       "      <td>K</td>\n",
       "      <td>A</td>\n",
       "      <td>M</td>\n",
       "    </tr>\n",
       "    <tr>\n",
       "      <th>credentials</th>\n",
       "      <td>MD</td>\n",
       "      <td>MD</td>\n",
       "      <td>ARNP</td>\n",
       "      <td>ARNP</td>\n",
       "      <td>MD</td>\n",
       "    </tr>\n",
       "    <tr>\n",
       "      <th>gender</th>\n",
       "      <td>F</td>\n",
       "      <td>F</td>\n",
       "      <td>F</td>\n",
       "      <td>F</td>\n",
       "      <td>F</td>\n",
       "    </tr>\n",
       "    <tr>\n",
       "      <th>street1</th>\n",
       "      <td>400 NE MOTHER JOSEPH PL</td>\n",
       "      <td>904 7TH AVE</td>\n",
       "      <td>325 9TH AVE</td>\n",
       "      <td>11821 NE 128TH ST STE D</td>\n",
       "      <td>1615 DELAWARE ST</td>\n",
       "    </tr>\n",
       "    <tr>\n",
       "      <th>street2</th>\n",
       "      <td></td>\n",
       "      <td></td>\n",
       "      <td></td>\n",
       "      <td></td>\n",
       "      <td>ST. JOHN EMERGENCY DEPARTMENT</td>\n",
       "    </tr>\n",
       "    <tr>\n",
       "      <th>city</th>\n",
       "      <td>VANCOUVER</td>\n",
       "      <td>SEATTLE</td>\n",
       "      <td>SEATTLE</td>\n",
       "      <td>KIRKLAND</td>\n",
       "      <td>LONGVIEW</td>\n",
       "    </tr>\n",
       "    <tr>\n",
       "      <th>zip</th>\n",
       "      <td>986643200.0</td>\n",
       "      <td>981041132.0</td>\n",
       "      <td>981042420.0</td>\n",
       "      <td>980347210.0</td>\n",
       "      <td>986322367.0</td>\n",
       "    </tr>\n",
       "    <tr>\n",
       "      <th>state</th>\n",
       "      <td>WA</td>\n",
       "      <td>WA</td>\n",
       "      <td>WA</td>\n",
       "      <td>WA</td>\n",
       "      <td>WA</td>\n",
       "    </tr>\n",
       "    <tr>\n",
       "      <th>country</th>\n",
       "      <td>US</td>\n",
       "      <td>US</td>\n",
       "      <td>US</td>\n",
       "      <td>US</td>\n",
       "      <td>US</td>\n",
       "    </tr>\n",
       "    <tr>\n",
       "      <th>type</th>\n",
       "      <td>Internal Medicine</td>\n",
       "      <td>Dermatology</td>\n",
       "      <td>Nurse Practitioner</td>\n",
       "      <td>Nurse Practitioner</td>\n",
       "      <td>Emergency Medicine</td>\n",
       "    </tr>\n",
       "    <tr>\n",
       "      <th>report_year</th>\n",
       "      <td>2014</td>\n",
       "      <td>2014</td>\n",
       "      <td>2014</td>\n",
       "      <td>2014</td>\n",
       "      <td>2014</td>\n",
       "    </tr>\n",
       "    <tr>\n",
       "      <th>zip_base</th>\n",
       "      <td>98664</td>\n",
       "      <td>98104</td>\n",
       "      <td>98104</td>\n",
       "      <td>98034</td>\n",
       "      <td>98632</td>\n",
       "    </tr>\n",
       "    <tr>\n",
       "      <th>line_srvc_cnt</th>\n",
       "      <td>939</td>\n",
       "      <td>468</td>\n",
       "      <td>67</td>\n",
       "      <td>73</td>\n",
       "      <td>670</td>\n",
       "    </tr>\n",
       "    <tr>\n",
       "      <th>bene_unique_cnt</th>\n",
       "      <td>271</td>\n",
       "      <td>341</td>\n",
       "      <td>66</td>\n",
       "      <td>39</td>\n",
       "      <td>633</td>\n",
       "    </tr>\n",
       "    <tr>\n",
       "      <th>bene_day_srvc_cnt</th>\n",
       "      <td>939</td>\n",
       "      <td>354</td>\n",
       "      <td>67</td>\n",
       "      <td>73</td>\n",
       "      <td>659</td>\n",
       "    </tr>\n",
       "    <tr>\n",
       "      <th>allowed_amt</th>\n",
       "      <td>489.323</td>\n",
       "      <td>931.196</td>\n",
       "      <td>156.93</td>\n",
       "      <td>165.05</td>\n",
       "      <td>577.5</td>\n",
       "    </tr>\n",
       "    <tr>\n",
       "      <th>submitted_chrg_amt</th>\n",
       "      <td>1399.09</td>\n",
       "      <td>2513.37</td>\n",
       "      <td>553.3</td>\n",
       "      <td>300</td>\n",
       "      <td>1904.93</td>\n",
       "    </tr>\n",
       "    <tr>\n",
       "      <th>payment_amt</th>\n",
       "      <td>379.851</td>\n",
       "      <td>702.194</td>\n",
       "      <td>111.367</td>\n",
       "      <td>95.0133</td>\n",
       "      <td>434.883</td>\n",
       "    </tr>\n",
       "    <tr>\n",
       "      <th>standard_amt</th>\n",
       "      <td>384.536</td>\n",
       "      <td>665.037</td>\n",
       "      <td>129.703</td>\n",
       "      <td>108.086</td>\n",
       "      <td>446.565</td>\n",
       "    </tr>\n",
       "    <tr>\n",
       "      <th>submitted_delta</th>\n",
       "      <td>1019.24</td>\n",
       "      <td>1811.17</td>\n",
       "      <td>441.933</td>\n",
       "      <td>204.987</td>\n",
       "      <td>1470.04</td>\n",
       "    </tr>\n",
       "    <tr>\n",
       "      <th>allowed_delta</th>\n",
       "      <td>109.472</td>\n",
       "      <td>229.002</td>\n",
       "      <td>45.5631</td>\n",
       "      <td>70.0367</td>\n",
       "      <td>142.617</td>\n",
       "    </tr>\n",
       "    <tr>\n",
       "      <th>submitted_delta_perc</th>\n",
       "      <td>2.68326</td>\n",
       "      <td>2.5793</td>\n",
       "      <td>3.96826</td>\n",
       "      <td>2.15745</td>\n",
       "      <td>3.38032</td>\n",
       "    </tr>\n",
       "    <tr>\n",
       "      <th>allowed_delta_perc</th>\n",
       "      <td>0.288198</td>\n",
       "      <td>0.326124</td>\n",
       "      <td>0.409126</td>\n",
       "      <td>0.737124</td>\n",
       "      <td>0.327943</td>\n",
       "    </tr>\n",
       "  </tbody>\n",
       "</table>\n",
       "</div>"
      ],
      "text/plain": [
       "                                            0            1  \\\n",
       "npi                                1003002379   1003003153   \n",
       "last_org_name                        SHRESTHA     MORRISON   \n",
       "first_name                             SALONA        LAURA   \n",
       "mi                                                           \n",
       "credentials                                MD           MD   \n",
       "gender                                      F            F   \n",
       "street1               400 NE MOTHER JOSEPH PL  904 7TH AVE   \n",
       "street2                                                      \n",
       "city                                VANCOUVER      SEATTLE   \n",
       "zip                               986643200.0  981041132.0   \n",
       "state                                      WA           WA   \n",
       "country                                    US           US   \n",
       "type                        Internal Medicine  Dermatology   \n",
       "report_year                              2014         2014   \n",
       "zip_base                                98664        98104   \n",
       "line_srvc_cnt                             939          468   \n",
       "bene_unique_cnt                           271          341   \n",
       "bene_day_srvc_cnt                         939          354   \n",
       "allowed_amt                           489.323      931.196   \n",
       "submitted_chrg_amt                    1399.09      2513.37   \n",
       "payment_amt                           379.851      702.194   \n",
       "standard_amt                          384.536      665.037   \n",
       "submitted_delta                       1019.24      1811.17   \n",
       "allowed_delta                         109.472      229.002   \n",
       "submitted_delta_perc                  2.68326       2.5793   \n",
       "allowed_delta_perc                   0.288198     0.326124   \n",
       "\n",
       "                                       2                        3  \\\n",
       "npi                           1003008913               1003009135   \n",
       "last_org_name                     WALKER              MARINKOVICH   \n",
       "first_name                        SANDRA                     RITA   \n",
       "mi                                     K                        A   \n",
       "credentials                         ARNP                     ARNP   \n",
       "gender                                 F                        F   \n",
       "street1                      325 9TH AVE  11821 NE 128TH ST STE D   \n",
       "street2                                                             \n",
       "city                             SEATTLE                 KIRKLAND   \n",
       "zip                          981042420.0              980347210.0   \n",
       "state                                 WA                       WA   \n",
       "country                               US                       US   \n",
       "type                  Nurse Practitioner       Nurse Practitioner   \n",
       "report_year                         2014                     2014   \n",
       "zip_base                           98104                    98034   \n",
       "line_srvc_cnt                         67                       73   \n",
       "bene_unique_cnt                       66                       39   \n",
       "bene_day_srvc_cnt                     67                       73   \n",
       "allowed_amt                       156.93                   165.05   \n",
       "submitted_chrg_amt                 553.3                      300   \n",
       "payment_amt                      111.367                  95.0133   \n",
       "standard_amt                     129.703                  108.086   \n",
       "submitted_delta                  441.933                  204.987   \n",
       "allowed_delta                    45.5631                  70.0367   \n",
       "submitted_delta_perc             3.96826                  2.15745   \n",
       "allowed_delta_perc              0.409126                 0.737124   \n",
       "\n",
       "                                                  4  \n",
       "npi                                      1003009283  \n",
       "last_org_name                       SOLBERG-SHANKLE  \n",
       "first_name                                    HEIDI  \n",
       "mi                                                M  \n",
       "credentials                                      MD  \n",
       "gender                                            F  \n",
       "street1                            1615 DELAWARE ST  \n",
       "street2               ST. JOHN EMERGENCY DEPARTMENT  \n",
       "city                                       LONGVIEW  \n",
       "zip                                     986322367.0  \n",
       "state                                            WA  \n",
       "country                                          US  \n",
       "type                             Emergency Medicine  \n",
       "report_year                                    2014  \n",
       "zip_base                                      98632  \n",
       "line_srvc_cnt                                   670  \n",
       "bene_unique_cnt                                 633  \n",
       "bene_day_srvc_cnt                               659  \n",
       "allowed_amt                                   577.5  \n",
       "submitted_chrg_amt                          1904.93  \n",
       "payment_amt                                 434.883  \n",
       "standard_amt                                446.565  \n",
       "submitted_delta                             1470.04  \n",
       "allowed_delta                               142.617  \n",
       "submitted_delta_perc                        3.38032  \n",
       "allowed_delta_perc                         0.327943  "
      ]
     },
     "execution_count": 49,
     "metadata": {},
     "output_type": "execute_result"
    }
   ],
   "source": [
    "wa_data_provider_14_gr.head().T"
   ]
  },
  {
   "cell_type": "code",
   "execution_count": 50,
   "metadata": {
    "collapsed": false
   },
   "outputs": [],
   "source": [
    "wa_data_provider_14_gr.set_index(['npi'], inplace=True)\n",
    "wa_data_provider_14_adjust=wa_data_provider_14_gr.copy()"
   ]
  },
  {
   "cell_type": "code",
   "execution_count": 51,
   "metadata": {
    "collapsed": true
   },
   "outputs": [],
   "source": [
    "result = pd.concat([wa_data_provider_14_gr, scores], axis=1, join='inner')"
   ]
  },
  {
   "cell_type": "code",
   "execution_count": 52,
   "metadata": {
    "collapsed": false
   },
   "outputs": [],
   "source": [
    "\n",
    "result.rename(columns={1: 'indiv_score'}, inplace=True)\n",
    "#result.head().T\n"
   ]
  },
  {
   "cell_type": "code",
   "execution_count": 53,
   "metadata": {
    "collapsed": false
   },
   "outputs": [],
   "source": [
    "test_98036=result[(result['zip_base']=='98036') & (result['type']=='Diagnostic Radiology')].sort_values('indiv_score', ascending=False)"
   ]
  },
  {
   "cell_type": "code",
   "execution_count": 54,
   "metadata": {
    "collapsed": false
   },
   "outputs": [],
   "source": [
    "#test_98036.tail(20).T"
   ]
  },
  {
   "cell_type": "code",
   "execution_count": 55,
   "metadata": {
    "collapsed": false
   },
   "outputs": [],
   "source": [
    "#wa_data_provider_14_adjust.head()"
   ]
  },
  {
   "cell_type": "code",
   "execution_count": 56,
   "metadata": {
    "collapsed": false
   },
   "outputs": [],
   "source": [
    "#use the adjustments array\n",
    "result_adj = pd.concat([wa_data_provider_14_adjust, scores_adj], axis=1, join='inner')\n",
    "result_adj.rename(columns={1: 'indiv_score'}, inplace=True)\n",
    "#result_adj.head().T"
   ]
  },
  {
   "cell_type": "code",
   "execution_count": 57,
   "metadata": {
    "collapsed": true
   },
   "outputs": [],
   "source": [
    "test_98036_custom=result_adj[(result_adj['zip_base']=='98036') & (result_adj['type']=='Diagnostic Radiology')].sort_values('indiv_score', ascending=False)"
   ]
  },
  {
   "cell_type": "code",
   "execution_count": 58,
   "metadata": {
    "collapsed": false
   },
   "outputs": [],
   "source": [
    "#test_98036.tail(20)"
   ]
  },
  {
   "cell_type": "code",
   "execution_count": 59,
   "metadata": {
    "collapsed": false
   },
   "outputs": [],
   "source": [
    "#test_98036_custom.ix[1386818516]"
   ]
  },
  {
   "cell_type": "code",
   "execution_count": 60,
   "metadata": {
    "collapsed": false
   },
   "outputs": [],
   "source": [
    "#test_98036_custom.ix[1275589871]"
   ]
  },
  {
   "cell_type": "code",
   "execution_count": 61,
   "metadata": {
    "collapsed": false
   },
   "outputs": [],
   "source": [
    "#test_98036_custom.columns.tolist()"
   ]
  },
  {
   "cell_type": "code",
   "execution_count": 62,
   "metadata": {
    "collapsed": false
   },
   "outputs": [],
   "source": [
    "# #import plotly.plotly as py\n",
    "# vars=[\n",
    "#  'bene_day_srvc_cnt',\n",
    "#  'allowed_amt',\n",
    "#  'submitted_chrg_amt',\n",
    "#  'payment_amt',\n",
    "#  'standard_amt',\n",
    "#  'submitted_delta',\n",
    "#  'allowed_delta',\n",
    "#  'submitted_delta_perc',\n",
    "#  'allowed_delta_perc',\n",
    "#  'indiv_score']\n",
    "# ax = test_98036['indiv_score'].hist(bins=100, alpha=0.5)\n",
    "# plt.show()"
   ]
  },
  {
   "cell_type": "code",
   "execution_count": 63,
   "metadata": {
    "collapsed": false
   },
   "outputs": [],
   "source": [
    "# Scatterplot matrix\n",
    "# from pandas.tools.plotting import scatter_matrix\n",
    "# ax = scatter_matrix(result[vars], figsize=(15,12))"
   ]
  },
  {
   "cell_type": "code",
   "execution_count": 64,
   "metadata": {
    "collapsed": false
   },
   "outputs": [],
   "source": [
    "work_tbl_w= pd.read_pickle('work_tbl_pickle.pkl')\n",
    "#work_tbl.set_index(['npi_l'], inplace=True)\n",
    "#work_tbl.head()"
   ]
  },
  {
   "cell_type": "code",
   "execution_count": 65,
   "metadata": {
    "collapsed": true
   },
   "outputs": [],
   "source": [
    "result_w = pd.concat([work_tbl, scores], axis=1, join='inner')\n",
    "result_w.rename(columns={1: 'indiv_score'}, inplace=True)"
   ]
  },
  {
   "cell_type": "code",
   "execution_count": 66,
   "metadata": {
    "collapsed": false
   },
   "outputs": [
    {
     "data": {
      "text/plain": [
       "['gender_l',\n",
       " 'state_l',\n",
       " 'type',\n",
       " 'submitted_delta_perc',\n",
       " 'allowed_delta_perc',\n",
       " 'quality_measures',\n",
       " 'electronic_measures',\n",
       " 'bene_day_srvc_cnt_p',\n",
       " 'prov_qual_indic_p',\n",
       " 'years_experience_p',\n",
       " 'hmaxscore_p',\n",
       " 'indiv_score']"
      ]
     },
     "execution_count": 66,
     "metadata": {},
     "output_type": "execute_result"
    }
   ],
   "source": [
    "result_w.columns.tolist()"
   ]
  },
  {
   "cell_type": "code",
   "execution_count": 67,
   "metadata": {
    "collapsed": false
   },
   "outputs": [],
   "source": [
    "# vars_w=['submitted_delta_perc',\n",
    "#  'allowed_delta_perc',\n",
    "#  'years_experience',\n",
    "#  'prov_qual_indic',\n",
    "#  'hmaxscore',\n",
    "#  'indiv_score']\n",
    "# ax = scatter_matrix(result_w[vars_w], figsize=(15,12))"
   ]
  },
  {
   "cell_type": "code",
   "execution_count": 68,
   "metadata": {
    "collapsed": true
   },
   "outputs": [],
   "source": [
    "from sklearn.linear_model import LogisticRegression"
   ]
  },
  {
   "cell_type": "code",
   "execution_count": 69,
   "metadata": {
    "collapsed": false
   },
   "outputs": [
    {
     "data": {
      "text/plain": [
       "Index([u'gender_l', u'state_l', u'type', u'submitted_delta_perc',\n",
       "       u'allowed_delta_perc', u'quality_measures', u'electronic_measures',\n",
       "       u'bene_day_srvc_cnt_p', u'prov_qual_indic_p', u'years_experience_p',\n",
       "       u'hmaxscore_p'],\n",
       "      dtype='object')"
      ]
     },
     "execution_count": 69,
     "metadata": {},
     "output_type": "execute_result"
    }
   ],
   "source": [
    "work_tbl.columns"
   ]
  },
  {
   "cell_type": "code",
   "execution_count": 70,
   "metadata": {
    "collapsed": false
   },
   "outputs": [
    {
     "data": {
      "text/plain": [
       "(9059, 13)"
      ]
     },
     "execution_count": 70,
     "metadata": {},
     "output_type": "execute_result"
    }
   ],
   "source": [
    "X.shape"
   ]
  },
  {
   "cell_type": "code",
   "execution_count": 71,
   "metadata": {
    "collapsed": false
   },
   "outputs": [
    {
     "data": {
      "text/plain": [
       "{'C': 1.0,\n",
       " 'class_weight': None,\n",
       " 'dual': False,\n",
       " 'fit_intercept': True,\n",
       " 'intercept_scaling': 1,\n",
       " 'max_iter': 100,\n",
       " 'multi_class': 'ovr',\n",
       " 'n_jobs': 1,\n",
       " 'penalty': 'l2',\n",
       " 'random_state': None,\n",
       " 'solver': 'liblinear',\n",
       " 'tol': 0.0001,\n",
       " 'verbose': 0,\n",
       " 'warm_start': False}"
      ]
     },
     "execution_count": 71,
     "metadata": {},
     "output_type": "execute_result"
    }
   ],
   "source": [
    "model_lr = LogisticRegression()\n",
    "model_lr.get_params()"
   ]
  },
  {
   "cell_type": "code",
   "execution_count": 72,
   "metadata": {
    "collapsed": false
   },
   "outputs": [
    {
     "data": {
      "text/plain": [
       "LogisticRegression(C=1.0, class_weight=None, dual=False, fit_intercept=True,\n",
       "          intercept_scaling=1, max_iter=100, multi_class='ovr', n_jobs=1,\n",
       "          penalty='l2', random_state=None, solver='liblinear', tol=0.0001,\n",
       "          verbose=0, warm_start=False)"
      ]
     },
     "execution_count": 72,
     "metadata": {},
     "output_type": "execute_result"
    }
   ],
   "source": [
    "model_lr.fit(X, y)"
   ]
  },
  {
   "cell_type": "code",
   "execution_count": 73,
   "metadata": {
    "collapsed": false
   },
   "outputs": [
    {
     "data": {
      "text/plain": [
       "0.37222651506788829"
      ]
     },
     "execution_count": 73,
     "metadata": {},
     "output_type": "execute_result"
    }
   ],
   "source": [
    "model_lr.score(X, y)"
   ]
  },
  {
   "cell_type": "code",
   "execution_count": 74,
   "metadata": {
    "collapsed": false
   },
   "outputs": [],
   "source": [
    "#16 multinomial variable; 312 -\n",
    "cf_lr=model_lr.coef_"
   ]
  },
  {
   "cell_type": "code",
   "execution_count": 75,
   "metadata": {
    "collapsed": false
   },
   "outputs": [
    {
     "data": {
      "text/plain": [
       "(23, 13)"
      ]
     },
     "execution_count": 75,
     "metadata": {},
     "output_type": "execute_result"
    }
   ],
   "source": [
    "cf_lr.shape"
   ]
  },
  {
   "cell_type": "code",
   "execution_count": 76,
   "metadata": {
    "collapsed": false
   },
   "outputs": [
    {
     "data": {
      "text/plain": [
       "array(['Anesthesiology', 'CRNA', 'Cardiology', 'Chiropractic',\n",
       "       'Clinical Psychologist', 'Dermatology', 'Diagnostic Radiology',\n",
       "       'Emergency Medicine', 'Family Practice', 'Gastroenterology',\n",
       "       'General Surgery', 'Internal Medicine', 'Neurology',\n",
       "       'Nurse Practitioner', 'Obstetrics/Gynecology', 'Ophthalmology',\n",
       "       'Optometry', 'Orthopedic Surgery', 'Pathology',\n",
       "       'Physical Therapist', 'Physician Assistant', 'Podiatry',\n",
       "       'Psychiatry'], dtype=object)"
      ]
     },
     "execution_count": 76,
     "metadata": {},
     "output_type": "execute_result"
    }
   ],
   "source": [
    "\n",
    "model_lr.classes_"
   ]
  },
  {
   "cell_type": "code",
   "execution_count": 77,
   "metadata": {
    "collapsed": false
   },
   "outputs": [],
   "source": [
    "predicted_y = model_lr.predict(X)"
   ]
  },
  {
   "cell_type": "code",
   "execution_count": 78,
   "metadata": {
    "collapsed": false
   },
   "outputs": [
    {
     "data": {
      "text/plain": [
       "9059"
      ]
     },
     "execution_count": 78,
     "metadata": {},
     "output_type": "execute_result"
    }
   ],
   "source": [
    "len(predicted_y)"
   ]
  },
  {
   "cell_type": "code",
   "execution_count": 79,
   "metadata": {
    "collapsed": false
   },
   "outputs": [
    {
     "data": {
      "text/plain": [
       "(9059, 23)"
      ]
     },
     "execution_count": 79,
     "metadata": {},
     "output_type": "execute_result"
    }
   ],
   "source": [
    "new_proba=model_lr.predict_proba(X)\n",
    "new_proba.shape"
   ]
  },
  {
   "cell_type": "code",
   "execution_count": 80,
   "metadata": {
    "collapsed": false
   },
   "outputs": [
    {
     "data": {
      "text/plain": [
       "array([[  2.17830976e-03,   3.01953809e-03,   4.31156133e-02, ...,\n",
       "          3.90301390e-03,   1.02433918e-02,   4.96448831e-03],\n",
       "       [  3.61546143e-06,   1.08018869e-06,   7.53001746e-02, ...,\n",
       "          1.22297411e-02,   1.02400379e-03,   1.60917019e-04],\n",
       "       [  2.30870588e-02,   3.05682864e-02,   9.33895572e-04, ...,\n",
       "          1.47323009e-01,   5.33126213e-03,   1.83271096e-02],\n",
       "       ..., \n",
       "       [  3.00708712e-02,   3.76483631e-02,   3.38201803e-03, ...,\n",
       "          1.87280236e-01,   2.80373812e-03,   1.02083361e-02],\n",
       "       [  4.09533470e-02,   4.72757578e-02,   1.25121023e-03, ...,\n",
       "          2.42501970e-01,   4.31514503e-03,   4.06586193e-03],\n",
       "       [  1.37558326e-03,   4.57320083e-04,   1.16457361e-02, ...,\n",
       "          7.62504053e-04,   1.06922149e-02,   1.48841522e-02]])"
      ]
     },
     "execution_count": 80,
     "metadata": {},
     "output_type": "execute_result"
    }
   ],
   "source": [
    "new_proba"
   ]
  },
  {
   "cell_type": "code",
   "execution_count": 81,
   "metadata": {
    "collapsed": false
   },
   "outputs": [
    {
     "data": {
      "text/plain": [
       "(9059, 13)"
      ]
     },
     "execution_count": 81,
     "metadata": {},
     "output_type": "execute_result"
    }
   ],
   "source": [
    "X.shape"
   ]
  },
  {
   "cell_type": "code",
   "execution_count": 82,
   "metadata": {
    "collapsed": false
   },
   "outputs": [
    {
     "data": {
      "text/plain": [
       "(9059, 11)"
      ]
     },
     "execution_count": 82,
     "metadata": {},
     "output_type": "execute_result"
    }
   ],
   "source": [
    "#original_file\n",
    "work_tbl.shape"
   ]
  },
  {
   "cell_type": "code",
   "execution_count": 83,
   "metadata": {
    "collapsed": false
   },
   "outputs": [],
   "source": [
    "df_new=new_proba.dot(cf_lr)"
   ]
  },
  {
   "cell_type": "code",
   "execution_count": 84,
   "metadata": {
    "collapsed": false
   },
   "outputs": [
    {
     "data": {
      "text/plain": [
       "(9059, 13)"
      ]
     },
     "execution_count": 84,
     "metadata": {},
     "output_type": "execute_result"
    }
   ],
   "source": [
    "df_new.shape"
   ]
  },
  {
   "cell_type": "code",
   "execution_count": 85,
   "metadata": {
    "collapsed": false
   },
   "outputs": [],
   "source": [
    "scores_lr=np.sum(df_new, axis=1)"
   ]
  },
  {
   "cell_type": "code",
   "execution_count": 86,
   "metadata": {
    "collapsed": false
   },
   "outputs": [
    {
     "data": {
      "text/plain": [
       "(9059,)"
      ]
     },
     "execution_count": 86,
     "metadata": {},
     "output_type": "execute_result"
    }
   ],
   "source": [
    "#individual scores associated with each provider\n",
    "scores_lr.shape"
   ]
  },
  {
   "cell_type": "code",
   "execution_count": 87,
   "metadata": {
    "collapsed": false
   },
   "outputs": [
    {
     "data": {
      "text/plain": [
       "array([-0.71840456, -0.22161967, -0.84105991, ..., -0.86735725,\n",
       "       -0.93099022, -0.93797616])"
      ]
     },
     "execution_count": 87,
     "metadata": {},
     "output_type": "execute_result"
    }
   ],
   "source": [
    "scores_lr"
   ]
  },
  {
   "cell_type": "code",
   "execution_count": 88,
   "metadata": {
    "collapsed": false
   },
   "outputs": [],
   "source": [
    "#build a dataframe with labels and feature importances - same order as work_tbl\n",
    "coeff_rd= pd.DataFrame(zip(df.index.values, scores_lr))"
   ]
  },
  {
   "cell_type": "code",
   "execution_count": 89,
   "metadata": {
    "collapsed": false
   },
   "outputs": [
    {
     "data": {
      "text/html": [
       "<div>\n",
       "<table border=\"1\" class=\"dataframe\">\n",
       "  <thead>\n",
       "    <tr style=\"text-align: right;\">\n",
       "      <th></th>\n",
       "      <th>0</th>\n",
       "      <th>1</th>\n",
       "    </tr>\n",
       "  </thead>\n",
       "  <tbody>\n",
       "    <tr>\n",
       "      <th>0</th>\n",
       "      <td>1003003153</td>\n",
       "      <td>-0.718405</td>\n",
       "    </tr>\n",
       "    <tr>\n",
       "      <th>1</th>\n",
       "      <td>1003015553</td>\n",
       "      <td>-0.221620</td>\n",
       "    </tr>\n",
       "    <tr>\n",
       "      <th>2</th>\n",
       "      <td>1003016163</td>\n",
       "      <td>-0.841060</td>\n",
       "    </tr>\n",
       "    <tr>\n",
       "      <th>3</th>\n",
       "      <td>1003037037</td>\n",
       "      <td>-2.096215</td>\n",
       "    </tr>\n",
       "    <tr>\n",
       "      <th>4</th>\n",
       "      <td>1003038977</td>\n",
       "      <td>-1.225346</td>\n",
       "    </tr>\n",
       "  </tbody>\n",
       "</table>\n",
       "</div>"
      ],
      "text/plain": [
       "            0         1\n",
       "0  1003003153 -0.718405\n",
       "1  1003015553 -0.221620\n",
       "2  1003016163 -0.841060\n",
       "3  1003037037 -2.096215\n",
       "4  1003038977 -1.225346"
      ]
     },
     "execution_count": 89,
     "metadata": {},
     "output_type": "execute_result"
    }
   ],
   "source": [
    "coeff_rd.head()"
   ]
  },
  {
   "cell_type": "code",
   "execution_count": 90,
   "metadata": {
    "collapsed": true
   },
   "outputs": [],
   "source": [
    "from sklearn.ensemble import IsolationForest"
   ]
  },
  {
   "cell_type": "code",
   "execution_count": 91,
   "metadata": {
    "collapsed": false
   },
   "outputs": [],
   "source": [
    "clf = IsolationForest(max_samples=100)\n",
    "clf.fit(X_train)\n",
    "y_pred_train = clf.predict(X_train)\n",
    "y_pred_test = clf.predict(X_test)\n",
    "#y_pred_outliers = clf.predict(X_outliers)\n"
   ]
  },
  {
   "cell_type": "code",
   "execution_count": 92,
   "metadata": {
    "collapsed": false
   },
   "outputs": [
    {
     "data": {
      "text/plain": [
       "3624"
      ]
     },
     "execution_count": 92,
     "metadata": {},
     "output_type": "execute_result"
    }
   ],
   "source": [
    "y_pred_test.size"
   ]
  },
  {
   "cell_type": "code",
   "execution_count": 93,
   "metadata": {
    "collapsed": false
   },
   "outputs": [],
   "source": [
    "#clf.score(X_test, y_test)"
   ]
  },
  {
   "cell_type": "code",
   "execution_count": 94,
   "metadata": {
    "collapsed": false
   },
   "outputs": [],
   "source": [
    "#clf.estimators_"
   ]
  },
  {
   "cell_type": "code",
   "execution_count": 95,
   "metadata": {
    "collapsed": true
   },
   "outputs": [],
   "source": [
    "import matplotlib.pyplot as plt"
   ]
  },
  {
   "cell_type": "code",
   "execution_count": 96,
   "metadata": {
    "collapsed": false
   },
   "outputs": [
    {
     "data": {
      "image/png": "[encoded data removed]",
      "text/plain": [
       "<matplotlib.figure.Figure at 0x10dcf3910>"
      ]
     },
     "metadata": {},
     "output_type": "display_data"
    }
   ],
   "source": [
    "\n",
    "#plot the line, the samples, and the nearest vectors to the plane\n",
    "# xx, yy = np.meshgrid(np.linspace(0, 110, 220), np.linspace(0, 110, 220))\n",
    "# Z = clf.decision_function(np.c_[xx.ravel(), yy.ravel()])\n",
    "# Z = Z.reshape(xx.shape)\n",
    "# plt.contourf(xx, yy, Z, cmap=plt.cm.Blues_r)\n",
    "\n",
    "plt.title(\"IsolationForest\")\n",
    "\n",
    "\n",
    "b1 = plt.scatter(X_train[:, 1], X_train[:, 2], c='red')\n",
    "b2 = plt.scatter(X_test[:, 1], X_test[:, 2], c='green')\n",
    "#c = plt.scatter(X_outliers[:, 0], X_outliers[:, 1], c='red')\n",
    "plt.axis('tight')\n",
    "plt.xlabel('submitted_delta_perc')\n",
    "plt.ylabel('bene_day_srvc_cnt_p')\n",
    "#plt.xlim((0, 110))\n",
    "#plt.ylim((0, 110))\n",
    "plt.legend([b1, b2],\n",
    "           [\"training\",\n",
    "            \"test\"],\n",
    "           loc=\"lower left\")\n",
    "plt.show()"
   ]
  },
  {
   "cell_type": "code",
   "execution_count": 97,
   "metadata": {
    "collapsed": false
   },
   "outputs": [
    {
     "data": {
      "image/png": "[encoded data removed]",
      "text/plain": [
       "<matplotlib.figure.Figure at 0x10f064490>"
      ]
     },
     "metadata": {},
     "output_type": "display_data"
    }
   ],
   "source": [
    "#plot the line, the samples, and the nearest vectors to the plane\n",
    "# xx, yy = np.meshgrid(np.linspace(0, 110, 220), np.linspace(0, 110, 220))\n",
    "# Z = clf.decision_function(np.c_[xx.ravel(), yy.ravel()])\n",
    "# Z = Z.reshape(xx.shape)\n",
    "# plt.contourf(xx, yy, Z, cmap=plt.cm.Blues_r)\n",
    "\n",
    "plt.title(\"IsolationForest\")\n",
    "\n",
    "\n",
    "b1 = plt.scatter(X_train[:, 0], X_train[:, 1], c='red')\n",
    "b2 = plt.scatter(X_test[:, 0], X_test[:, 1], c='green')\n",
    "#c = plt.scatter(X_outliers[:, 0], X_outliers[:, 1], c='red')\n",
    "plt.axis('tight')\n",
    "plt.xlabel('submitted_delta_perc')\n",
    "plt.ylabel('allowed_delta_perc')\n",
    "#plt.xlim((0, 110))\n",
    "#plt.ylim((0, 110))\n",
    "plt.legend([b1, b2],\n",
    "           [\"training\",\n",
    "            \"test\"],\n",
    "           loc=\"lower left\")\n",
    "plt.show()"
   ]
  },
  {
   "cell_type": "code",
   "execution_count": 98,
   "metadata": {
    "collapsed": false
   },
   "outputs": [
    {
     "data": {
      "text/plain": [
       "5435"
      ]
     },
     "execution_count": 98,
     "metadata": {},
     "output_type": "execute_result"
    }
   ],
   "source": [
    "len(clf.estimators_samples_[0])"
   ]
  },
  {
   "cell_type": "code",
   "execution_count": 99,
   "metadata": {
    "collapsed": false
   },
   "outputs": [
    {
     "data": {
      "text/plain": [
       "['submitted_delta_perc',\n",
       " 'allowed_delta_perc',\n",
       " 'bene_day_srvc_cnt_p',\n",
       " 'prov_qual_indic_p',\n",
       " 'years_experience_p',\n",
       " 'hmaxscore_p',\n",
       " 'gender_l_F',\n",
       " 'gender_l_M',\n",
       " 'quality_measures_N',\n",
       " 'quality_measures_Y',\n",
       " 'electronic_measures_N',\n",
       " 'electronic_measures_Y',\n",
       " 'state_l_WA']"
      ]
     },
     "execution_count": 99,
     "metadata": {},
     "output_type": "execute_result"
    }
   ],
   "source": [
    "df.columns.tolist()"
   ]
  },
  {
   "cell_type": "code",
   "execution_count": 100,
   "metadata": {
    "collapsed": false
   },
   "outputs": [],
   "source": [
    "preds = np.array(clf.predict(X_test))"
   ]
  },
  {
   "cell_type": "code",
   "execution_count": 101,
   "metadata": {
    "collapsed": true
   },
   "outputs": [],
   "source": [
    "#sorted(preds, reverse=False)"
   ]
  },
  {
   "cell_type": "code",
   "execution_count": 102,
   "metadata": {
    "collapsed": false
   },
   "outputs": [
    {
     "data": {
      "text/plain": [
       "array([ 1,  1,  1, ...,  1,  1, -1])"
      ]
     },
     "execution_count": 102,
     "metadata": {},
     "output_type": "execute_result"
    }
   ],
   "source": [
    "preds"
   ]
  },
  {
   "cell_type": "code",
   "execution_count": 113,
   "metadata": {
    "collapsed": false
   },
   "outputs": [
    {
     "data": {
      "text/plain": [
       "array([[ 94.91544082,  98.48543905,  98.70661781, ...,   0.        ,\n",
       "          1.        ,   1.        ],\n",
       "       [ 91.00679969,  96.91240999,  99.07307609, ...,   1.        ,\n",
       "          0.        ,   1.        ],\n",
       "       [ 97.47193737,  98.86409595,  99.17007976, ...,   0.        ,\n",
       "          1.        ,   1.        ],\n",
       "       ..., \n",
       "       [ 80.80211672,  98.72404431,  99.6389308 , ...,   1.        ,\n",
       "          0.        ,   1.        ],\n",
       "       [ 98.78459282,  99.99495919,  98.70661781, ...,   1.        ,\n",
       "          0.        ,   1.        ],\n",
       "       [ 89.08511933,  95.89960946,  99.96227635, ...,   1.        ,\n",
       "          0.        ,   1.        ]])"
      ]
     },
     "execution_count": 113,
     "metadata": {},
     "output_type": "execute_result"
    }
   ],
   "source": [
    "X_test"
   ]
  },
  {
   "cell_type": "code",
   "execution_count": 104,
   "metadata": {
    "collapsed": true
   },
   "outputs": [],
   "source": [
    "df1 = pd.DataFrame(preds)"
   ]
  },
  {
   "cell_type": "code",
   "execution_count": 105,
   "metadata": {
    "collapsed": false
   },
   "outputs": [
    {
     "data": {
      "text/plain": [
       "numpy.ndarray"
      ]
     },
     "execution_count": 105,
     "metadata": {},
     "output_type": "execute_result"
    }
   ],
   "source": [
    "type(preds )"
   ]
  },
  {
   "cell_type": "code",
   "execution_count": 106,
   "metadata": {
    "collapsed": false
   },
   "outputs": [
    {
     "data": {
      "text/plain": [
       "0    357\n",
       "dtype: int64"
      ]
     },
     "execution_count": 106,
     "metadata": {},
     "output_type": "execute_result"
    }
   ],
   "source": [
    "df1[df1==-1].count()"
   ]
  },
  {
   "cell_type": "code",
   "execution_count": 112,
   "metadata": {
    "collapsed": false
   },
   "outputs": [
    {
     "data": {
      "text/plain": [
       "0.0"
      ]
     },
     "execution_count": 112,
     "metadata": {},
     "output_type": "execute_result"
    }
   ],
   "source": [
    "float(357/3624)"
   ]
  },
  {
   "cell_type": "code",
   "execution_count": null,
   "metadata": {
    "collapsed": true
   },
   "outputs": [],
   "source": []
  }
 ],
 "metadata": {
  "anaconda-cloud": {},
  "kernelspec": {
   "display_name": "Python [conda root]",
   "language": "python",
   "name": "conda-root-py"
  },
  "language_info": {
   "codemirror_mode": {
    "name": "ipython",
    "version": 2
   },
   "file_extension": ".py",
   "mimetype": "text/x-python",
   "name": "python",
   "nbconvert_exporter": "python",
   "pygments_lexer": "ipython2",
   "version": "2.7.13"
  }
 },
 "nbformat": 4,
 "nbformat_minor": 1
}
