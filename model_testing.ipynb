{
 "cells": [
  {
   "cell_type": "code",
   "execution_count": 1,
   "metadata": {
    "collapsed": true
   },
   "outputs": [],
   "source": [
    "import pandas as pd"
   ]
  },
  {
   "cell_type": "code",
   "execution_count": 2,
   "metadata": {
    "collapsed": true
   },
   "outputs": [],
   "source": [
    "work_tbl= pd.read_pickle('work_tbl_pickle.pkl')"
   ]
  },
  {
   "cell_type": "code",
   "execution_count": 3,
   "metadata": {
    "collapsed": false
   },
   "outputs": [
    {
     "name": "stdout",
     "output_type": "stream",
     "text": [
      "<class 'pandas.core.frame.DataFrame'>\n",
      "Int64Index: 15583 entries, 1003002379 to 1992994347\n",
      "Data columns (total 13 columns):\n",
      "gender_l                15583 non-null object\n",
      "state_l                 15583 non-null object\n",
      "type                    15583 non-null object\n",
      "report_year             15583 non-null object\n",
      "zip_base                15583 non-null object\n",
      "bene_day_srvc_cnt       15583 non-null float64\n",
      "submitted_delta_perc    15583 non-null float64\n",
      "allowed_delta_perc      15583 non-null float64\n",
      "quality_measures        15583 non-null object\n",
      "electronic_measures     15583 non-null object\n",
      "years_experience        15583 non-null float64\n",
      "prov_qual_indic         15583 non-null float64\n",
      "hmaxscore               15583 non-null float64\n",
      "dtypes: float64(6), object(7)\n",
      "memory usage: 1.7+ MB\n"
     ]
    }
   ],
   "source": [
    "work_tbl.info()"
   ]
  },
  {
   "cell_type": "code",
   "execution_count": 4,
   "metadata": {
    "collapsed": false
   },
   "outputs": [],
   "source": [
    "work_tbl=work_tbl[work_tbl['hmaxscore']>0]\n",
    "work_tbl.drop('prov_qual_indic', axis=1, inplace=True)\n",
    "work_tbl.drop('gender_l', axis=1, inplace=True)\n",
    "#work_tblx.head()"
   ]
  },
  {
   "cell_type": "code",
   "execution_count": 5,
   "metadata": {
    "collapsed": false
   },
   "outputs": [],
   "source": [
    "#df.ix[df.my_channel > 20000, 'my_channel'] = 0\n",
    "#work_tbl.ix[work_tbl['quality_measures'] =='0','quality_measures']='N'\n",
    "#rows_to_change = work_tbl['quality_measures'] == '0'\n",
    "#df.loc[rows_to_change, 'status'] = 'DUP'\n",
    "\n",
    "#work_tbl.quality_measures[work_tbl['quality_measures' ==0]] = 'N'\n",
    "#[work_tbl['quality_measures'] ==0 , 'quality_measures'] = 'N'"
   ]
  },
  {
   "cell_type": "code",
   "execution_count": 6,
   "metadata": {
    "collapsed": false
   },
   "outputs": [
    {
     "data": {
      "text/plain": [
       "['type',\n",
       " 'report_year',\n",
       " 'bene_day_srvc_cnt',\n",
       " 'submitted_delta_perc',\n",
       " 'allowed_delta_perc',\n",
       " 'years_experience',\n",
       " 'hmaxscore',\n",
       " 'state_l_WA',\n",
       " 'zip_base_92874',\n",
       " 'zip_base_97031',\n",
       " 'zip_base_98001',\n",
       " 'zip_base_98002',\n",
       " 'zip_base_98003',\n",
       " 'zip_base_98004',\n",
       " 'zip_base_98005',\n",
       " 'zip_base_98006',\n",
       " 'zip_base_98007',\n",
       " 'zip_base_98008',\n",
       " 'zip_base_98011',\n",
       " 'zip_base_98012',\n",
       " 'zip_base_98013',\n",
       " 'zip_base_98014',\n",
       " 'zip_base_98019',\n",
       " 'zip_base_98020',\n",
       " 'zip_base_98021',\n",
       " 'zip_base_98022',\n",
       " 'zip_base_98023',\n",
       " 'zip_base_98026',\n",
       " 'zip_base_98027',\n",
       " 'zip_base_98028',\n",
       " 'zip_base_98029',\n",
       " 'zip_base_98030',\n",
       " 'zip_base_98031',\n",
       " 'zip_base_98032',\n",
       " 'zip_base_98033',\n",
       " 'zip_base_98034',\n",
       " 'zip_base_98036',\n",
       " 'zip_base_98037',\n",
       " 'zip_base_98038',\n",
       " 'zip_base_98040',\n",
       " 'zip_base_98042',\n",
       " 'zip_base_98043',\n",
       " 'zip_base_98045',\n",
       " 'zip_base_98052',\n",
       " 'zip_base_98055',\n",
       " 'zip_base_98056',\n",
       " 'zip_base_98057',\n",
       " 'zip_base_98058',\n",
       " 'zip_base_98059',\n",
       " 'zip_base_98065',\n",
       " 'zip_base_98070',\n",
       " 'zip_base_98072',\n",
       " 'zip_base_98074',\n",
       " 'zip_base_98075',\n",
       " 'zip_base_98087',\n",
       " 'zip_base_98092',\n",
       " 'zip_base_98101',\n",
       " 'zip_base_98102',\n",
       " 'zip_base_98103',\n",
       " 'zip_base_98104',\n",
       " 'zip_base_98105',\n",
       " 'zip_base_98106',\n",
       " 'zip_base_98107',\n",
       " 'zip_base_98108',\n",
       " 'zip_base_98109',\n",
       " 'zip_base_98110',\n",
       " 'zip_base_98111',\n",
       " 'zip_base_98112',\n",
       " 'zip_base_98113',\n",
       " 'zip_base_98115',\n",
       " 'zip_base_98116',\n",
       " 'zip_base_98117',\n",
       " 'zip_base_98118',\n",
       " 'zip_base_98119',\n",
       " 'zip_base_98121',\n",
       " 'zip_base_98122',\n",
       " 'zip_base_98124',\n",
       " 'zip_base_98125',\n",
       " 'zip_base_98126',\n",
       " 'zip_base_98133',\n",
       " 'zip_base_98134',\n",
       " 'zip_base_98136',\n",
       " 'zip_base_98144',\n",
       " 'zip_base_98145',\n",
       " 'zip_base_98146',\n",
       " 'zip_base_98148',\n",
       " 'zip_base_98154',\n",
       " 'zip_base_98155',\n",
       " 'zip_base_98166',\n",
       " 'zip_base_98168',\n",
       " 'zip_base_98177',\n",
       " 'zip_base_98185',\n",
       " 'zip_base_98195',\n",
       " 'zip_base_98198',\n",
       " 'zip_base_98199',\n",
       " 'zip_base_98201',\n",
       " 'zip_base_98203',\n",
       " 'zip_base_98204',\n",
       " 'zip_base_98206',\n",
       " 'zip_base_98208',\n",
       " 'zip_base_98221',\n",
       " 'zip_base_98223',\n",
       " 'zip_base_98225',\n",
       " 'zip_base_98226',\n",
       " 'zip_base_98230',\n",
       " 'zip_base_98233',\n",
       " 'zip_base_98237',\n",
       " 'zip_base_98239',\n",
       " 'zip_base_98241',\n",
       " 'zip_base_98245',\n",
       " 'zip_base_98247',\n",
       " 'zip_base_98248',\n",
       " 'zip_base_98249',\n",
       " 'zip_base_98250',\n",
       " 'zip_base_98252',\n",
       " 'zip_base_98253',\n",
       " 'zip_base_98257',\n",
       " 'zip_base_98258',\n",
       " 'zip_base_98264',\n",
       " 'zip_base_98270',\n",
       " 'zip_base_98271',\n",
       " 'zip_base_98272',\n",
       " 'zip_base_98273',\n",
       " 'zip_base_98274',\n",
       " 'zip_base_98275',\n",
       " 'zip_base_98277',\n",
       " 'zip_base_98284',\n",
       " 'zip_base_98290',\n",
       " 'zip_base_98292',\n",
       " 'zip_base_98294',\n",
       " 'zip_base_98310',\n",
       " 'zip_base_98311',\n",
       " 'zip_base_98312',\n",
       " 'zip_base_98321',\n",
       " 'zip_base_98327',\n",
       " 'zip_base_98328',\n",
       " 'zip_base_98331',\n",
       " 'zip_base_98332',\n",
       " 'zip_base_98335',\n",
       " 'zip_base_98337',\n",
       " 'zip_base_98338',\n",
       " 'zip_base_98339',\n",
       " 'zip_base_98346',\n",
       " 'zip_base_98349',\n",
       " 'zip_base_98354',\n",
       " 'zip_base_98356',\n",
       " 'zip_base_98360',\n",
       " 'zip_base_98362',\n",
       " 'zip_base_98365',\n",
       " 'zip_base_98366',\n",
       " 'zip_base_98367',\n",
       " 'zip_base_98368',\n",
       " 'zip_base_98370',\n",
       " 'zip_base_98371',\n",
       " 'zip_base_98372',\n",
       " 'zip_base_98373',\n",
       " 'zip_base_98374',\n",
       " 'zip_base_98375',\n",
       " 'zip_base_98382',\n",
       " 'zip_base_98383',\n",
       " 'zip_base_98387',\n",
       " 'zip_base_98390',\n",
       " 'zip_base_98391',\n",
       " 'zip_base_98401',\n",
       " 'zip_base_98402',\n",
       " 'zip_base_98404',\n",
       " 'zip_base_98405',\n",
       " 'zip_base_98406',\n",
       " 'zip_base_98407',\n",
       " 'zip_base_98408',\n",
       " 'zip_base_98409',\n",
       " 'zip_base_98415',\n",
       " 'zip_base_98418',\n",
       " 'zip_base_98421',\n",
       " 'zip_base_98422',\n",
       " 'zip_base_98424',\n",
       " 'zip_base_98431',\n",
       " 'zip_base_98444',\n",
       " 'zip_base_98465',\n",
       " 'zip_base_98466',\n",
       " 'zip_base_98467',\n",
       " 'zip_base_98493',\n",
       " 'zip_base_98498',\n",
       " 'zip_base_98499',\n",
       " 'zip_base_98501',\n",
       " 'zip_base_98502',\n",
       " 'zip_base_98503',\n",
       " 'zip_base_98506',\n",
       " 'zip_base_98507',\n",
       " 'zip_base_98512',\n",
       " 'zip_base_98513',\n",
       " 'zip_base_98516',\n",
       " 'zip_base_98520',\n",
       " 'zip_base_98528',\n",
       " 'zip_base_98531',\n",
       " 'zip_base_98532',\n",
       " 'zip_base_98541',\n",
       " 'zip_base_98550',\n",
       " 'zip_base_98556',\n",
       " 'zip_base_98557',\n",
       " 'zip_base_98563',\n",
       " 'zip_base_98568',\n",
       " 'zip_base_98569',\n",
       " 'zip_base_98579',\n",
       " 'zip_base_98584',\n",
       " 'zip_base_98586',\n",
       " 'zip_base_98589',\n",
       " 'zip_base_98595',\n",
       " 'zip_base_98596',\n",
       " 'zip_base_98597',\n",
       " 'zip_base_98604',\n",
       " 'zip_base_98606',\n",
       " 'zip_base_98607',\n",
       " 'zip_base_98611',\n",
       " 'zip_base_98620',\n",
       " 'zip_base_98624',\n",
       " 'zip_base_98626',\n",
       " 'zip_base_98632',\n",
       " 'zip_base_98642',\n",
       " 'zip_base_98661',\n",
       " 'zip_base_98662',\n",
       " 'zip_base_98663',\n",
       " 'zip_base_98664',\n",
       " 'zip_base_98665',\n",
       " 'zip_base_98668',\n",
       " 'zip_base_98672',\n",
       " 'zip_base_98674',\n",
       " 'zip_base_98682',\n",
       " 'zip_base_98683',\n",
       " 'zip_base_98684',\n",
       " 'zip_base_98685',\n",
       " 'zip_base_98686',\n",
       " 'zip_base_98801',\n",
       " 'zip_base_98802',\n",
       " 'zip_base_98807',\n",
       " 'zip_base_98812',\n",
       " 'zip_base_98815',\n",
       " 'zip_base_98816',\n",
       " 'zip_base_98826',\n",
       " 'zip_base_98830',\n",
       " 'zip_base_98837',\n",
       " 'zip_base_98840',\n",
       " 'zip_base_98841',\n",
       " 'zip_base_98844',\n",
       " 'zip_base_98855',\n",
       " 'zip_base_98862',\n",
       " 'zip_base_98901',\n",
       " 'zip_base_98902',\n",
       " 'zip_base_98903',\n",
       " 'zip_base_98908',\n",
       " 'zip_base_98922',\n",
       " 'zip_base_98926',\n",
       " 'zip_base_98930',\n",
       " 'zip_base_98937',\n",
       " 'zip_base_98938',\n",
       " 'zip_base_98942',\n",
       " 'zip_base_98944',\n",
       " 'zip_base_98948',\n",
       " 'zip_base_98953',\n",
       " 'zip_base_99004',\n",
       " 'zip_base_99006',\n",
       " 'zip_base_99019',\n",
       " 'zip_base_99022',\n",
       " 'zip_base_99026',\n",
       " 'zip_base_99040',\n",
       " 'zip_base_99109',\n",
       " 'zip_base_99111',\n",
       " 'zip_base_99114',\n",
       " 'zip_base_99122',\n",
       " 'zip_base_99133',\n",
       " 'zip_base_99139',\n",
       " 'zip_base_99141',\n",
       " 'zip_base_99155',\n",
       " 'zip_base_99156',\n",
       " 'zip_base_99159',\n",
       " 'zip_base_99161',\n",
       " 'zip_base_99163',\n",
       " 'zip_base_99166',\n",
       " 'zip_base_99169',\n",
       " 'zip_base_99201',\n",
       " 'zip_base_99202',\n",
       " 'zip_base_99203',\n",
       " 'zip_base_99204',\n",
       " 'zip_base_99205',\n",
       " 'zip_base_99206',\n",
       " 'zip_base_99207',\n",
       " 'zip_base_99208',\n",
       " 'zip_base_99216',\n",
       " 'zip_base_99218',\n",
       " 'zip_base_99223',\n",
       " 'zip_base_99224',\n",
       " 'zip_base_99301',\n",
       " 'zip_base_99326',\n",
       " 'zip_base_99328',\n",
       " 'zip_base_99336',\n",
       " 'zip_base_99337',\n",
       " 'zip_base_99338',\n",
       " 'zip_base_99344',\n",
       " 'zip_base_99347',\n",
       " 'zip_base_99350',\n",
       " 'zip_base_99352',\n",
       " 'zip_base_99353',\n",
       " 'zip_base_99354',\n",
       " 'zip_base_99360',\n",
       " 'zip_base_99361',\n",
       " 'zip_base_99362',\n",
       " 'zip_base_99403',\n",
       " 'quality_measures_N',\n",
       " 'quality_measures_Y',\n",
       " 'electronic_measures_N',\n",
       " 'electronic_measures_Y']"
      ]
     },
     "execution_count": 6,
     "metadata": {},
     "output_type": "execute_result"
    }
   ],
   "source": [
    "#create dummy columns for 'gender_l',\n",
    "cols_to_transform = [ 'state_l', 'zip_base', 'quality_measures', 'electronic_measures' ]\n",
    "#df = pd.get_dummies(df, columns=['type'])\n",
    "#http://stackoverflow.com/questions/36285155/pandas-get-dummies\n",
    "df = pd.get_dummies(work_tbl, columns = cols_to_transform )\n",
    "df.columns.tolist()"
   ]
  },
  {
   "cell_type": "code",
   "execution_count": 23,
   "metadata": {
    "collapsed": false
   },
   "outputs": [],
   "source": [
    "from sklearn.ensemble import RandomForestClassifier\n",
    "import pandas as pd\n",
    "import numpy as np\n",
    "import matplotlib.pyplot as plt\n",
    "from sklearn.cross_validation import train_test_split\n",
    "from sklearn.metrics import confusion_matrix, precision_score, recall_score\n",
    "from sklearn.linear_model import LogisticRegression\n",
    "from sklearn.tree import DecisionTreeClassifier\n",
    "from sklearn.svm import SVC\n",
    "from sklearn.naive_bayes import MultinomialNB\n",
    "from sklearn.metrics import roc_auc_score\n",
    "#from roc import plot_roc"
   ]
  },
  {
   "cell_type": "code",
   "execution_count": 8,
   "metadata": {
    "collapsed": false
   },
   "outputs": [],
   "source": [
    "#df['gender_l_F'].value_counts()\n",
    "#df[\"quality_measures\"] = df[\"quality_measures\"] == 'Y'\n",
    "#df[\"electronic_measures\"] = df[\"electronic_measures\"] == 'Y'\n",
    "#df['Churn?'] = df['Churn?'] == 'True."
   ]
  },
  {
   "cell_type": "code",
   "execution_count": 9,
   "metadata": {
    "collapsed": false
   },
   "outputs": [],
   "source": [
    "y = df.pop('type').values"
   ]
  },
  {
   "cell_type": "code",
   "execution_count": 10,
   "metadata": {
    "collapsed": true
   },
   "outputs": [],
   "source": [
    "X = df.values"
   ]
  },
  {
   "cell_type": "code",
   "execution_count": 11,
   "metadata": {
    "collapsed": true
   },
   "outputs": [],
   "source": [
    "# 6. Use sklearn's train_test_split to split into train and test set\n",
    "X_train, X_test, y_train, y_test = train_test_split(X, y)"
   ]
  },
  {
   "cell_type": "code",
   "execution_count": 12,
   "metadata": {
    "collapsed": false
   },
   "outputs": [
    {
     "data": {
      "text/plain": [
       "RandomForestClassifier(bootstrap=True, class_weight=None, criterion='gini',\n",
       "            max_depth=None, max_features='auto', max_leaf_nodes=None,\n",
       "            min_impurity_split=1e-07, min_samples_leaf=1,\n",
       "            min_samples_split=2, min_weight_fraction_leaf=0.0,\n",
       "            n_estimators=10, n_jobs=1, oob_score=False, random_state=None,\n",
       "            verbose=0, warm_start=False)"
      ]
     },
     "execution_count": 12,
     "metadata": {},
     "output_type": "execute_result"
    }
   ],
   "source": [
    "# 7. Use sklearn's RandomForestClassifier to build a model of your data\n",
    "rf = RandomForestClassifier()\n",
    "rf.fit(X_train, y_train)"
   ]
  },
  {
   "cell_type": "code",
   "execution_count": 13,
   "metadata": {
    "collapsed": false
   },
   "outputs": [
    {
     "name": "stdout",
     "output_type": "stream",
     "text": [
      "8. score: 0.558186397985\n"
     ]
    }
   ],
   "source": [
    "# 8. What is the accuracy score on the test data?\n",
    "print \"8. score:\", rf.score(X_test, y_test)"
   ]
  },
  {
   "cell_type": "code",
   "execution_count": 14,
   "metadata": {
    "collapsed": false
   },
   "outputs": [
    {
     "name": "stdout",
     "output_type": "stream",
     "text": [
      "9. confusion matrix:\n",
      "[[110   1   0   0   0   1   1   1   3   0   0   0   2   0  10   0]\n",
      " [  8  30   0   0   0   0   2   0   0   2   0   0   1   0   8   0]\n",
      " [  2   0  46   0   6   0   3   1  12   1   2   0   1   0   0   0]\n",
      " [  0   0   0   0   0   0   4   0   0   1   0   0   0   0   0   0]\n",
      " [  3   0   0   0 113   2   3   0   0   1   1   0   0   0   4   0]\n",
      " [  2   0   0   0   0  45   5   1   1   2   1   0   1   0   7   0]\n",
      " [  7   0   5   2   2   1 302   3  62  36   0   0   3   0  16   0]\n",
      " [  4   0   1   0   0   0  23  16  12   2   0   0   5   0   2   0]\n",
      " [  6   1   8   1   3   1 101   8 209  19   1   0   7   0   9   2]\n",
      " [  3   1   2   0   6   7  50   2  16 113   0   0   2   0  37   1]\n",
      " [  0   0   4   0   4   0  13   1   5   3  11   0   0   0   2   1]\n",
      " [  0   0   0   0   0   0   6   0   0   2   1   0   0   0   0   0]\n",
      " [  3   0   4   0   8   0  16  13  15   2   0   0  41   0   5   0]\n",
      " [  0   0   0   0   0   0   0   0   1   0   0   0   1   0   1   0]\n",
      " [ 17   3   0   0   4   7  30   3  14  64   0   0   4   0  68   0]\n",
      " [  0   1   0   0   0   0  13   1   7   7   0   0   3   0   1   4]]\n"
     ]
    }
   ],
   "source": [
    "y_predict = rf.predict(X_test)\n",
    "print \"9. confusion matrix:\"\n",
    "print confusion_matrix(y_test, y_predict)"
   ]
  },
  {
   "cell_type": "code",
   "execution_count": 15,
   "metadata": {
    "collapsed": false
   },
   "outputs": [],
   "source": [
    "#print \"10. precision:\", precision_score(y_test, y_predict)\n",
    "#print \"    recall:\", recall_score(y_test, y_predict)"
   ]
  },
  {
   "cell_type": "code",
   "execution_count": 16,
   "metadata": {
    "collapsed": false
   },
   "outputs": [
    {
     "name": "stdout",
     "output_type": "stream",
     "text": [
      "11: accuracy score: 0.605541561713\n",
      "    out of bag score: 0.614441645676\n"
     ]
    }
   ],
   "source": [
    "rf = RandomForestClassifier(n_estimators=1000, oob_score=True)\n",
    "rf.fit(X_train, y_train)\n",
    "print \"11: accuracy score:\", rf.score(X_test, y_test)\n",
    "print \"    out of bag score:\", rf.oob_score_"
   ]
  },
  {
   "cell_type": "code",
   "execution_count": 17,
   "metadata": {
    "collapsed": false
   },
   "outputs": [
    {
     "name": "stdout",
     "output_type": "stream",
     "text": [
      "['Diagnostic Radiology' 'General Surgery' 'Family Practice' 'Chiropractic'\n",
      " 'Physician Assistant' 'Internal Medicine' 'Orthopedic Surgery'\n",
      " 'Emergency Medicine' 'Nurse Practitioner' 'Psychiatry' 'Cardiology'\n",
      " 'Anesthesiology' 'Ophthalmology' 'CRNA' 'Optometry' 'Physical Therapist']\n"
     ]
    }
   ],
   "source": [
    "print pd.unique(y)"
   ]
  },
  {
   "cell_type": "code",
   "execution_count": 27,
   "metadata": {
    "collapsed": false
   },
   "outputs": [
    {
     "data": {
      "text/plain": [
       "[('bene_day_srvc_cnt', 0.0),\n",
       " ('submitted_delta_perc', 0.15126748103029367),\n",
       " ('allowed_delta_perc', 0.17099173777742663),\n",
       " ('years_experience', 0.14293433584144488),\n",
       " ('hmaxscore', 0.11576181358171582),\n",
       " ('state_l_WA', 0.078377978494466094),\n",
       " ('zip_base_92874', 0.0),\n",
       " ('zip_base_97031', 3.8066102076404693e-05)]"
      ]
     },
     "execution_count": 27,
     "metadata": {},
     "output_type": "execute_result"
    }
   ],
   "source": [
    "#roc_auc_score(y_test, rf.predict_proba(X_test)[:,1])\n",
    "zip(df.columns[1:9], rf.feature_importances_)"
   ]
  },
  {
   "cell_type": "code",
   "execution_count": 18,
   "metadata": {
    "collapsed": false
   },
   "outputs": [
    {
     "name": "stdout",
     "output_type": "stream",
     "text": [
      "12: top five: ['submitted_delta_perc', 'bene_day_srvc_cnt', 'allowed_delta_perc', 'years_experience', 'hmaxscore']\n"
     ]
    }
   ],
   "source": [
    "feature_importances = np.argsort(rf.feature_importances_)\n",
    "print \"12: top five:\", list(df.columns[feature_importances[-1:-6:-1]])"
   ]
  },
  {
   "cell_type": "code",
   "execution_count": 19,
   "metadata": {
    "collapsed": false
   },
   "outputs": [],
   "source": [
    "n = 10 # top 10 features\n",
    "\n",
    "importances = rf.feature_importances_[:n]\n",
    "std = np.std([tree.feature_importances_ for tree in rf.estimators_],\n",
    "             axis=0)\n",
    "indices = np.argsort(importances)[::-1]"
   ]
  },
  {
   "cell_type": "code",
   "execution_count": 20,
   "metadata": {
    "collapsed": false
   },
   "outputs": [],
   "source": [
    "# # Print the feature ranking\n",
    "# print(\"Feature ranking:\")\n",
    "\n",
    "# for f in range(n):\n",
    "#     print(\"%d. %s (%f)\" % (f + 1, features[f], importances[indices[f]]))\n",
    "\n",
    "# # Plot the feature importances of the forest\n",
    "# plt.figure()\n",
    "# plt.title(\"Feature importances\")\n",
    "# plt.bar(range(10), importances[indices], yerr=std[indices], color=\"r\", align=\"center\")\n",
    "# plt.xticks(range(10), indices)\n",
    "# plt.xlim([-1, 10])\n",
    "# plt.show()"
   ]
  },
  {
   "cell_type": "code",
   "execution_count": 21,
   "metadata": {
    "collapsed": false
   },
   "outputs": [
    {
     "data": {
      "image/png": "[encoded data removed]",
      "text/plain": [
       "<matplotlib.figure.Figure at 0x11e63a8d0>"
      ]
     },
     "metadata": {},
     "output_type": "display_data"
    }
   ],
   "source": [
    "# 14. Try modifying the number of trees\n",
    "num_trees = range(5, 50, 5)\n",
    "accuracies = []\n",
    "for n in num_trees:\n",
    "    tot = 0\n",
    "    for i in xrange(5):\n",
    "        rf = RandomForestClassifier(n_estimators=n)\n",
    "        rf.fit(X_train, y_train)\n",
    "        tot += rf.score(X_test, y_test)\n",
    "    accuracies.append(tot / 5)\n",
    "plt.plot(num_trees, accuracies)\n",
    "plt.show()"
   ]
  },
  {
   "cell_type": "code",
   "execution_count": 22,
   "metadata": {
    "collapsed": false
   },
   "outputs": [
    {
     "name": "stdout",
     "output_type": "stream",
     "text": [
      "16. Model, Accuracy, Precision, Recall\n",
      "    Random Forest: (0.5768261964735516,)\n",
      "    Logistic Regression: (0.43375314861460956,)\n",
      "    Decision Tree: (0.48816120906801008,)\n",
      "    SVM: (0.31032745591939548,)\n",
      "    Naive Bayes: (0.17682619647355163,)\n"
     ]
    }
   ],
   "source": [
    "def get_scores(classifier, X_train, X_test, y_train, y_test, **kwargs):\n",
    "    model = classifier(**kwargs)\n",
    "    model.fit(X_train, y_train)\n",
    "    y_predict = model.predict(X_test)\n",
    "    return model.score(X_test, y_test), \\\n",
    "           #precision_score(y_test, y_predict), \\\n",
    "           #recall_score(y_test, y_predict)\n",
    "\n",
    "print \"16. Model, Accuracy, Precision, Recall\"\n",
    "print \"    Random Forest:\", get_scores(RandomForestClassifier, X_train, X_test, y_train, y_test, n_estimators=25, max_features=5)\n",
    "print \"    Logistic Regression:\", get_scores(LogisticRegression, X_train, X_test, y_train, y_test)\n",
    "print \"    Decision Tree:\", get_scores(DecisionTreeClassifier, X_train, X_test, y_train, y_test)\n",
    "print \"    SVM:\", get_scores(SVC, X_train, X_test, y_train, y_test)\n",
    "print \"    Naive Bayes:\", get_scores(MultinomialNB, X_train, X_test, y_train, y_test)"
   ]
  },
  {
   "cell_type": "code",
   "execution_count": null,
   "metadata": {
    "collapsed": true
   },
   "outputs": [],
   "source": []
  }
 ],
 "metadata": {
  "anaconda-cloud": {},
  "kernelspec": {
   "display_name": "Python [conda root]",
   "language": "python",
   "name": "conda-root-py"
  },
  "language_info": {
   "codemirror_mode": {
    "name": "ipython",
    "version": 2
   },
   "file_extension": ".py",
   "mimetype": "text/x-python",
   "name": "python",
   "nbconvert_exporter": "python",
   "pygments_lexer": "ipython2",
   "version": "2.7.13"
  }
 },
 "nbformat": 4,
 "nbformat_minor": 1
}
